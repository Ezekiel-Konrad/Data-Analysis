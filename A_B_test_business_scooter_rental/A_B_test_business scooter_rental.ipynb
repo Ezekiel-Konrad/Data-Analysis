{
 "cells": [
  {
   "cell_type": "markdown",
   "id": "89dc5c0b",
   "metadata": {},
   "source": [
    "# Исследование сервиса аренды самокатов GoFast"
   ]
  },
  {
   "cell_type": "markdown",
   "id": "2f13602b",
   "metadata": {},
   "source": [
    "**Сервис аренды самокатов GoFast** передали данные о некоторых пользователях из нескольких городов, а также об их поездках. Нужно проанализировать данные и проверить некоторые гипотезы, которые могут помочь бизнесу вырасти.\n",
    "Чтобы совершать поездки по городу, пользователи сервиса GoFast пользуются мобильным приложением. \n",
    "\n",
    "Сервисом можно пользоваться:\n",
    "\n",
    "**без подписки** - абонентская плата отсутствует;\n",
    "стоимость одной минуты поездки — 8 рублей;\n",
    "стоимость старта (начала поездки) — 50 рублей;\n",
    "\n",
    "\n",
    "**с подпиской Ultra**\n",
    "абонентская плата — 199 рублей в месяц;\n",
    "стоимость одной минуты поездки — 6 рублей;\n",
    "стоимость старта — бесплатно."
   ]
  },
  {
   "cell_type": "code",
   "execution_count": 1,
   "id": "72576667",
   "metadata": {},
   "outputs": [],
   "source": [
    "import pandas as pd\n",
    "from IPython.display import display\n",
    "import matplotlib.pyplot as plt\n",
    "import numpy as np\n",
    "from datetime import datetime\n",
    "from scipy import stats as st\n",
    "from scipy.stats import binom, poisson\n",
    "from math import factorial\n",
    "from math import sqrt\n",
    "import seaborn as sns\n",
    "\n",
    "\n",
    "\n",
    "custom_datetime = lambda x: datetime.strptime(x.split('T')[0],'%Y-%m-%d')\n",
    "\n",
    "def view(data):\n",
    "    pd.set_option('display.max_columns', None)\n",
    "    display(data.head().T)\n",
    "    data.info()\n",
    "    display(data.describe())"
   ]
  },
  {
   "cell_type": "markdown",
   "id": "7990abf9",
   "metadata": {
    "toc": true
   },
   "source": [
    "<h1>Содержание<span class=\"tocSkip\"></span></h1>\n",
    "<div class=\"toc\"><ul class=\"toc-item\"><li><span><a href=\"#Загрузка-данных\" data-toc-modified-id=\"Загрузка-данных-1\"><span class=\"toc-item-num\">1&nbsp;&nbsp;</span>Загрузка данных</a></span><ul class=\"toc-item\"><li><span><a href=\"#Описание-данных\" data-toc-modified-id=\"Описание-данных-1.1\"><span class=\"toc-item-num\">1.1&nbsp;&nbsp;</span>Описание данных</a></span></li><li><span><a href=\"#Промежуточный-вывод-по-этапу\" data-toc-modified-id=\"Промежуточный-вывод-по-этапу-1.2\"><span class=\"toc-item-num\">1.2&nbsp;&nbsp;</span>Промежуточный вывод по этапу</a></span></li></ul></li><li><span><a href=\"#Предобработка-данных\" data-toc-modified-id=\"Предобработка-данных-2\"><span class=\"toc-item-num\">2&nbsp;&nbsp;</span>Предобработка данных</a></span><ul class=\"toc-item\"><li><span><a href=\"#Проверка-users_go-на-пропуски-и-дубликаты\" data-toc-modified-id=\"Проверка-users_go-на-пропуски-и-дубликаты-2.1\"><span class=\"toc-item-num\">2.1&nbsp;&nbsp;</span>Проверка users_go на пропуски и дубликаты</a></span></li><li><span><a href=\"#Проверка-riders_go-на-пропуски-и-дубликаты\" data-toc-modified-id=\"Проверка-riders_go-на-пропуски-и-дубликаты-2.2\"><span class=\"toc-item-num\">2.2&nbsp;&nbsp;</span>Проверка riders_go на пропуски и дубликаты</a></span></li><li><span><a href=\"#Проверка-subscriptions_go-на-пропуски-и-дубликаты\" data-toc-modified-id=\"Проверка-subscriptions_go-на-пропуски-и-дубликаты-2.3\"><span class=\"toc-item-num\">2.3&nbsp;&nbsp;</span>Проверка subscriptions_go на пропуски и дубликаты</a></span></li><li><span><a href=\"#Промежуточный-вывод-по-этапу\" data-toc-modified-id=\"Промежуточный-вывод-по-этапу-2.4\"><span class=\"toc-item-num\">2.4&nbsp;&nbsp;</span>Промежуточный вывод по этапу</a></span></li></ul></li><li><span><a href=\"#Исследовательский-анализ-данных\" data-toc-modified-id=\"Исследовательский-анализ-данных-3\"><span class=\"toc-item-num\">3&nbsp;&nbsp;</span>Исследовательский анализ данных</a></span><ul class=\"toc-item\"><li><span><a href=\"#Частота-встречаемости-городов\" data-toc-modified-id=\"Частота-встречаемости-городов-3.1\"><span class=\"toc-item-num\">3.1&nbsp;&nbsp;</span>Частота встречаемости городов</a></span></li><li><span><a href=\"#Cоотношение-пользователей-с-подпиской-и-без-подписки\" data-toc-modified-id=\"Cоотношение-пользователей-с-подпиской-и-без-подписки-3.2\"><span class=\"toc-item-num\">3.2&nbsp;&nbsp;</span>Cоотношение пользователей с подпиской и без подписки</a></span></li><li><span><a href=\"#Возраст-пользователей\" data-toc-modified-id=\"Возраст-пользователей-3.3\"><span class=\"toc-item-num\">3.3&nbsp;&nbsp;</span>Возраст пользователей</a></span></li><li><span><a href=\"#Расстояние,-которое-пользователь-преодолел-за-одну-поездку\" data-toc-modified-id=\"Расстояние,-которое-пользователь-преодолел-за-одну-поездку-3.4\"><span class=\"toc-item-num\">3.4&nbsp;&nbsp;</span>Расстояние, которое пользователь преодолел за одну поездку</a></span></li><li><span><a href=\"#Продолжительность-поездок\" data-toc-modified-id=\"Продолжительность-поездок-3.5\"><span class=\"toc-item-num\">3.5&nbsp;&nbsp;</span>Продолжительность поездок</a></span></li><li><span><a href=\"#Промежуточный-вывод-по-этапу\" data-toc-modified-id=\"Промежуточный-вывод-по-этапу-3.6\"><span class=\"toc-item-num\">3.6&nbsp;&nbsp;</span>Промежуточный вывод по этапу</a></span></li></ul></li><li><span><a href=\"#Объединение-данных\" data-toc-modified-id=\"Объединение-данных-4\"><span class=\"toc-item-num\">4&nbsp;&nbsp;</span>Объединение данных</a></span><ul class=\"toc-item\"><li><span><a href=\"#Объединение-данных-о-пользователях,-поездках-и-подписках-в-один-датафрейм\" data-toc-modified-id=\"Объединение-данных-о-пользователях,-поездках-и-подписках-в-один-датафрейм-4.1\"><span class=\"toc-item-num\">4.1&nbsp;&nbsp;</span>Объединение данных о пользователях, поездках и подписках в один датафрейм</a></span></li><li><span><a href=\"#Создам-ещё-два-датафрейма-дополнительных-датафрейма\" data-toc-modified-id=\"Создам-ещё-два-датафрейма-дополнительных-датафрейма-4.2\"><span class=\"toc-item-num\">4.2&nbsp;&nbsp;</span>Создам ещё два датафрейма дополнительных датафрейма</a></span></li><li><span><a href=\"#Визуализация-информации-о-расстоянии-и-времени-поездок-для-пользователей-обеих-категорий\" data-toc-modified-id=\"Визуализация-информации-о-расстоянии-и-времени-поездок-для-пользователей-обеих-категорий-4.3\"><span class=\"toc-item-num\">4.3&nbsp;&nbsp;</span>Визуализация информации о расстоянии и времени поездок для пользователей обеих категорий</a></span><ul class=\"toc-item\"><li><span><a href=\"#Категория-пользователей-с-подпиской\" data-toc-modified-id=\"Категория-пользователей-с-подпиской-4.3.1\"><span class=\"toc-item-num\">4.3.1&nbsp;&nbsp;</span>Категория пользователей с подпиской</a></span></li><li><span><a href=\"#Категория-пользователей-без-подписки\" data-toc-modified-id=\"Категория-пользователей-без-подписки-4.3.2\"><span class=\"toc-item-num\">4.3.2&nbsp;&nbsp;</span>Категория пользователей без подписки</a></span></li></ul></li><li><span><a href=\"#Гистограммы-сравнения-исследуемых-параметров\" data-toc-modified-id=\"Гистограммы-сравнения-исследуемых-параметров-4.4\"><span class=\"toc-item-num\">4.4&nbsp;&nbsp;</span>Гистограммы сравнения исследуемых параметров</a></span><ul class=\"toc-item\"><li><span><a href=\"#Гистограммы-дистанций\" data-toc-modified-id=\"Гистограммы-дистанций-4.4.1\"><span class=\"toc-item-num\">4.4.1&nbsp;&nbsp;</span>Гистограммы дистанций</a></span></li><li><span><a href=\"#Гистограммы-продолжительности-поездки\" data-toc-modified-id=\"Гистограммы-продолжительности-поездки-4.4.2\"><span class=\"toc-item-num\">4.4.2&nbsp;&nbsp;</span>Гистограммы продолжительности поездки</a></span></li></ul></li><li><span><a href=\"#Промежуточные-выводы-по-этапу\" data-toc-modified-id=\"Промежуточные-выводы-по-этапу-4.5\"><span class=\"toc-item-num\">4.5&nbsp;&nbsp;</span>Промежуточные выводы по этапу</a></span></li></ul></li><li><span><a href=\"#Подсчёт-выручки\" data-toc-modified-id=\"Подсчёт-выручки-5\"><span class=\"toc-item-num\">5&nbsp;&nbsp;</span>Подсчёт выручки</a></span><ul class=\"toc-item\"><li><span><a href=\"#Cуммарное-расстояние,-количество-поездок-и-суммарное-время-для-каждого-пользователя-за-каждый-месяц\" data-toc-modified-id=\"Cуммарное-расстояние,-количество-поездок-и-суммарное-время-для-каждого-пользователя-за-каждый-месяц-5.1\"><span class=\"toc-item-num\">5.1&nbsp;&nbsp;</span>Cуммарное расстояние, количество поездок и суммарное время для каждого пользователя за каждый месяц</a></span></li><li><span><a href=\"#Помесячная-выручка-по-каждому-пользователю\" data-toc-modified-id=\"Помесячная-выручка-по-каждому-пользователю-5.2\"><span class=\"toc-item-num\">5.2&nbsp;&nbsp;</span>Помесячная выручка по каждому пользователю</a></span></li><li><span><a href=\"#Промежуточные-выводы-по-этапу\" data-toc-modified-id=\"Промежуточные-выводы-по-этапу-5.3\"><span class=\"toc-item-num\">5.3&nbsp;&nbsp;</span>Промежуточные выводы по этапу</a></span></li></ul></li><li><span><a href=\"#Проверка-гипотез\" data-toc-modified-id=\"Проверка-гипотез-6\"><span class=\"toc-item-num\">6&nbsp;&nbsp;</span>Проверка гипотез</a></span><ul class=\"toc-item\"><li><span><a href=\"#Тратят-ли-пользователи-с-подпиской-больше-времени-на-поездки?\" data-toc-modified-id=\"Тратят-ли-пользователи-с-подпиской-больше-времени-на-поездки?-6.1\"><span class=\"toc-item-num\">6.1&nbsp;&nbsp;</span>Тратят ли пользователи с подпиской больше времени на поездки?</a></span></li><li><span><a href=\"#Превышает-ли-3130-метров-среднеее-расстояние-поездки-юзера-с-подпиской?\" data-toc-modified-id=\"Превышает-ли-3130-метров-среднеее-расстояние-поездки-юзера-с-подпиской?-6.2\"><span class=\"toc-item-num\">6.2&nbsp;&nbsp;</span>Превышает ли 3130 метров среднеее расстояние поездки юзера с подпиской?</a></span></li><li><span><a href=\"#Будет-ли-помесячная-выручка-от-пользователей-с-подпиской-по-месяцам-выше,-чем-выручка-от-пользователей-без-подписки?\" data-toc-modified-id=\"Будет-ли-помесячная-выручка-от-пользователей-с-подпиской-по-месяцам-выше,-чем-выручка-от-пользователей-без-подписки?-6.3\"><span class=\"toc-item-num\">6.3&nbsp;&nbsp;</span>Будет ли помесячная выручка от пользователей с подпиской по месяцам выше, чем выручка от пользователей без подписки?</a></span></li><li><span><a href=\"#Ответ-на-вопрос:-какой-тест-выбрать,-для-проверки-гипотез-с-количеством-обращений-в-ТП-до-и-после-обновления?\" data-toc-modified-id=\"Ответ-на-вопрос:-какой-тест-выбрать,-для-проверки-гипотез-с-количеством-обращений-в-ТП-до-и-после-обновления?-6.4\"><span class=\"toc-item-num\">6.4&nbsp;&nbsp;</span>Ответ на вопрос: какой тест выбрать, для проверки гипотез с количеством обращений в ТП до и после обновления?</a></span></li><li><span><a href=\"#Промежуточный-вывод-по-этапу\" data-toc-modified-id=\"Промежуточный-вывод-по-этапу-6.5\"><span class=\"toc-item-num\">6.5&nbsp;&nbsp;</span>Промежуточный вывод по этапу</a></span></li></ul></li><li><span><a href=\"#Распределения\" data-toc-modified-id=\"Распределения-7\"><span class=\"toc-item-num\">7&nbsp;&nbsp;</span>Распределения</a></span><ul class=\"toc-item\"><li><span><a href=\"#Какое-минимальное-кол-во-промокодов-разослать,-чтобы-вероятность-не-выполнить-план-была-~5%?\" data-toc-modified-id=\"Какое-минимальное-кол-во-промокодов-разослать,-чтобы-вероятность-не-выполнить-план-была-~5%?-7.1\"><span class=\"toc-item-num\">7.1&nbsp;&nbsp;</span>Какое минимальное кол-во промокодов разослать, чтобы вероятность не выполнить план была ~5%?</a></span></li><li><span><a href=\"#Вероятность-того,-что-push-откроют-не-более-399,5-тыс.-пользователей.\" data-toc-modified-id=\"Вероятность-того,-что-push-откроют-не-более-399,5-тыс.-пользователей.-7.2\"><span class=\"toc-item-num\">7.2&nbsp;&nbsp;</span>Вероятность того, что push откроют не более 399,5 тыс. пользователей.</a></span></li></ul></li><li><span><a href=\"#Общий-вывод\" data-toc-modified-id=\"Общий-вывод-8\"><span class=\"toc-item-num\">8&nbsp;&nbsp;</span>Общий вывод</a></span></li></ul></div>"
   ]
  },
  {
   "cell_type": "markdown",
   "id": "c42cbe00",
   "metadata": {},
   "source": [
    "## Загрузка данных"
   ]
  },
  {
   "cell_type": "code",
   "execution_count": 2,
   "id": "eff9f206",
   "metadata": {
    "scrolled": false
   },
   "outputs": [],
   "source": [
    "users_go = pd.read_csv('/datasets/users_go.csv')\n",
    "riders_go = pd.read_csv('/datasets/rides_go.csv', parse_dates=['date'], date_parser=custom_datetime) # привожу дату к виду pandas\n",
    "subscriptions_go = pd.read_csv('/datasets/subscriptions_go.csv')"
   ]
  },
  {
   "cell_type": "code",
   "execution_count": 3,
   "id": "a830c8ef",
   "metadata": {
    "scrolled": false
   },
   "outputs": [
    {
     "data": {
      "text/html": [
       "<div>\n",
       "<style scoped>\n",
       "    .dataframe tbody tr th:only-of-type {\n",
       "        vertical-align: middle;\n",
       "    }\n",
       "\n",
       "    .dataframe tbody tr th {\n",
       "        vertical-align: top;\n",
       "    }\n",
       "\n",
       "    .dataframe thead th {\n",
       "        text-align: right;\n",
       "    }\n",
       "</style>\n",
       "<table border=\"1\" class=\"dataframe\">\n",
       "  <thead>\n",
       "    <tr style=\"text-align: right;\">\n",
       "      <th></th>\n",
       "      <th>0</th>\n",
       "      <th>1</th>\n",
       "      <th>2</th>\n",
       "      <th>3</th>\n",
       "      <th>4</th>\n",
       "    </tr>\n",
       "  </thead>\n",
       "  <tbody>\n",
       "    <tr>\n",
       "      <th>user_id</th>\n",
       "      <td>1</td>\n",
       "      <td>2</td>\n",
       "      <td>3</td>\n",
       "      <td>4</td>\n",
       "      <td>5</td>\n",
       "    </tr>\n",
       "    <tr>\n",
       "      <th>name</th>\n",
       "      <td>Кира</td>\n",
       "      <td>Станислав</td>\n",
       "      <td>Алексей</td>\n",
       "      <td>Константин</td>\n",
       "      <td>Адель</td>\n",
       "    </tr>\n",
       "    <tr>\n",
       "      <th>age</th>\n",
       "      <td>22</td>\n",
       "      <td>31</td>\n",
       "      <td>20</td>\n",
       "      <td>26</td>\n",
       "      <td>28</td>\n",
       "    </tr>\n",
       "    <tr>\n",
       "      <th>city</th>\n",
       "      <td>Тюмень</td>\n",
       "      <td>Омск</td>\n",
       "      <td>Москва</td>\n",
       "      <td>Ростов-на-Дону</td>\n",
       "      <td>Омск</td>\n",
       "    </tr>\n",
       "    <tr>\n",
       "      <th>subscription_type</th>\n",
       "      <td>ultra</td>\n",
       "      <td>ultra</td>\n",
       "      <td>ultra</td>\n",
       "      <td>ultra</td>\n",
       "      <td>ultra</td>\n",
       "    </tr>\n",
       "  </tbody>\n",
       "</table>\n",
       "</div>"
      ],
      "text/plain": [
       "                        0          1        2               3      4\n",
       "user_id                 1          2        3               4      5\n",
       "name                 Кира  Станислав  Алексей      Константин  Адель\n",
       "age                    22         31       20              26     28\n",
       "city               Тюмень       Омск   Москва  Ростов-на-Дону   Омск\n",
       "subscription_type   ultra      ultra    ultra           ultra  ultra"
      ]
     },
     "metadata": {},
     "output_type": "display_data"
    },
    {
     "name": "stdout",
     "output_type": "stream",
     "text": [
      "<class 'pandas.core.frame.DataFrame'>\n",
      "RangeIndex: 1565 entries, 0 to 1564\n",
      "Data columns (total 5 columns):\n",
      " #   Column             Non-Null Count  Dtype \n",
      "---  ------             --------------  ----- \n",
      " 0   user_id            1565 non-null   int64 \n",
      " 1   name               1565 non-null   object\n",
      " 2   age                1565 non-null   int64 \n",
      " 3   city               1565 non-null   object\n",
      " 4   subscription_type  1565 non-null   object\n",
      "dtypes: int64(2), object(3)\n",
      "memory usage: 61.3+ KB\n"
     ]
    },
    {
     "data": {
      "text/html": [
       "<div>\n",
       "<style scoped>\n",
       "    .dataframe tbody tr th:only-of-type {\n",
       "        vertical-align: middle;\n",
       "    }\n",
       "\n",
       "    .dataframe tbody tr th {\n",
       "        vertical-align: top;\n",
       "    }\n",
       "\n",
       "    .dataframe thead th {\n",
       "        text-align: right;\n",
       "    }\n",
       "</style>\n",
       "<table border=\"1\" class=\"dataframe\">\n",
       "  <thead>\n",
       "    <tr style=\"text-align: right;\">\n",
       "      <th></th>\n",
       "      <th>user_id</th>\n",
       "      <th>age</th>\n",
       "    </tr>\n",
       "  </thead>\n",
       "  <tbody>\n",
       "    <tr>\n",
       "      <th>count</th>\n",
       "      <td>1565.000000</td>\n",
       "      <td>1565.000000</td>\n",
       "    </tr>\n",
       "    <tr>\n",
       "      <th>mean</th>\n",
       "      <td>762.633866</td>\n",
       "      <td>24.922045</td>\n",
       "    </tr>\n",
       "    <tr>\n",
       "      <th>std</th>\n",
       "      <td>443.260155</td>\n",
       "      <td>4.553496</td>\n",
       "    </tr>\n",
       "    <tr>\n",
       "      <th>min</th>\n",
       "      <td>1.000000</td>\n",
       "      <td>12.000000</td>\n",
       "    </tr>\n",
       "    <tr>\n",
       "      <th>25%</th>\n",
       "      <td>378.000000</td>\n",
       "      <td>22.000000</td>\n",
       "    </tr>\n",
       "    <tr>\n",
       "      <th>50%</th>\n",
       "      <td>762.000000</td>\n",
       "      <td>25.000000</td>\n",
       "    </tr>\n",
       "    <tr>\n",
       "      <th>75%</th>\n",
       "      <td>1146.000000</td>\n",
       "      <td>28.000000</td>\n",
       "    </tr>\n",
       "    <tr>\n",
       "      <th>max</th>\n",
       "      <td>1534.000000</td>\n",
       "      <td>43.000000</td>\n",
       "    </tr>\n",
       "  </tbody>\n",
       "</table>\n",
       "</div>"
      ],
      "text/plain": [
       "           user_id          age\n",
       "count  1565.000000  1565.000000\n",
       "mean    762.633866    24.922045\n",
       "std     443.260155     4.553496\n",
       "min       1.000000    12.000000\n",
       "25%     378.000000    22.000000\n",
       "50%     762.000000    25.000000\n",
       "75%    1146.000000    28.000000\n",
       "max    1534.000000    43.000000"
      ]
     },
     "metadata": {},
     "output_type": "display_data"
    }
   ],
   "source": [
    "view(users_go) # обзор данных датасета users_go"
   ]
  },
  {
   "cell_type": "code",
   "execution_count": 4,
   "id": "e37b77e4",
   "metadata": {
    "scrolled": false
   },
   "outputs": [
    {
     "data": {
      "text/html": [
       "<div>\n",
       "<style scoped>\n",
       "    .dataframe tbody tr th:only-of-type {\n",
       "        vertical-align: middle;\n",
       "    }\n",
       "\n",
       "    .dataframe tbody tr th {\n",
       "        vertical-align: top;\n",
       "    }\n",
       "\n",
       "    .dataframe thead th {\n",
       "        text-align: right;\n",
       "    }\n",
       "</style>\n",
       "<table border=\"1\" class=\"dataframe\">\n",
       "  <thead>\n",
       "    <tr style=\"text-align: right;\">\n",
       "      <th></th>\n",
       "      <th>0</th>\n",
       "      <th>1</th>\n",
       "      <th>2</th>\n",
       "      <th>3</th>\n",
       "      <th>4</th>\n",
       "    </tr>\n",
       "  </thead>\n",
       "  <tbody>\n",
       "    <tr>\n",
       "      <th>user_id</th>\n",
       "      <td>1</td>\n",
       "      <td>1</td>\n",
       "      <td>1</td>\n",
       "      <td>1</td>\n",
       "      <td>1</td>\n",
       "    </tr>\n",
       "    <tr>\n",
       "      <th>distance</th>\n",
       "      <td>4409.91914</td>\n",
       "      <td>2617.592153</td>\n",
       "      <td>754.159807</td>\n",
       "      <td>2694.783254</td>\n",
       "      <td>4028.687306</td>\n",
       "    </tr>\n",
       "    <tr>\n",
       "      <th>duration</th>\n",
       "      <td>25.599769</td>\n",
       "      <td>15.816871</td>\n",
       "      <td>6.232113</td>\n",
       "      <td>18.511</td>\n",
       "      <td>26.265803</td>\n",
       "    </tr>\n",
       "    <tr>\n",
       "      <th>date</th>\n",
       "      <td>2021-01-01 00:00:00</td>\n",
       "      <td>2021-01-18 00:00:00</td>\n",
       "      <td>2021-04-20 00:00:00</td>\n",
       "      <td>2021-08-11 00:00:00</td>\n",
       "      <td>2021-08-28 00:00:00</td>\n",
       "    </tr>\n",
       "  </tbody>\n",
       "</table>\n",
       "</div>"
      ],
      "text/plain": [
       "                            0                    1                    2  \\\n",
       "user_id                     1                    1                    1   \n",
       "distance           4409.91914          2617.592153           754.159807   \n",
       "duration            25.599769            15.816871             6.232113   \n",
       "date      2021-01-01 00:00:00  2021-01-18 00:00:00  2021-04-20 00:00:00   \n",
       "\n",
       "                            3                    4  \n",
       "user_id                     1                    1  \n",
       "distance          2694.783254          4028.687306  \n",
       "duration               18.511            26.265803  \n",
       "date      2021-08-11 00:00:00  2021-08-28 00:00:00  "
      ]
     },
     "metadata": {},
     "output_type": "display_data"
    },
    {
     "name": "stdout",
     "output_type": "stream",
     "text": [
      "<class 'pandas.core.frame.DataFrame'>\n",
      "RangeIndex: 18068 entries, 0 to 18067\n",
      "Data columns (total 4 columns):\n",
      " #   Column    Non-Null Count  Dtype         \n",
      "---  ------    --------------  -----         \n",
      " 0   user_id   18068 non-null  int64         \n",
      " 1   distance  18068 non-null  float64       \n",
      " 2   duration  18068 non-null  float64       \n",
      " 3   date      18068 non-null  datetime64[ns]\n",
      "dtypes: datetime64[ns](1), float64(2), int64(1)\n",
      "memory usage: 564.8 KB\n"
     ]
    },
    {
     "data": {
      "text/html": [
       "<div>\n",
       "<style scoped>\n",
       "    .dataframe tbody tr th:only-of-type {\n",
       "        vertical-align: middle;\n",
       "    }\n",
       "\n",
       "    .dataframe tbody tr th {\n",
       "        vertical-align: top;\n",
       "    }\n",
       "\n",
       "    .dataframe thead th {\n",
       "        text-align: right;\n",
       "    }\n",
       "</style>\n",
       "<table border=\"1\" class=\"dataframe\">\n",
       "  <thead>\n",
       "    <tr style=\"text-align: right;\">\n",
       "      <th></th>\n",
       "      <th>user_id</th>\n",
       "      <th>distance</th>\n",
       "      <th>duration</th>\n",
       "    </tr>\n",
       "  </thead>\n",
       "  <tbody>\n",
       "    <tr>\n",
       "      <th>count</th>\n",
       "      <td>18068.000000</td>\n",
       "      <td>18068.000000</td>\n",
       "      <td>18068.000000</td>\n",
       "    </tr>\n",
       "    <tr>\n",
       "      <th>mean</th>\n",
       "      <td>842.869936</td>\n",
       "      <td>3070.659976</td>\n",
       "      <td>17.805011</td>\n",
       "    </tr>\n",
       "    <tr>\n",
       "      <th>std</th>\n",
       "      <td>434.734317</td>\n",
       "      <td>1116.831209</td>\n",
       "      <td>6.091051</td>\n",
       "    </tr>\n",
       "    <tr>\n",
       "      <th>min</th>\n",
       "      <td>1.000000</td>\n",
       "      <td>0.855683</td>\n",
       "      <td>0.500000</td>\n",
       "    </tr>\n",
       "    <tr>\n",
       "      <th>25%</th>\n",
       "      <td>487.000000</td>\n",
       "      <td>2543.226360</td>\n",
       "      <td>13.597563</td>\n",
       "    </tr>\n",
       "    <tr>\n",
       "      <th>50%</th>\n",
       "      <td>889.000000</td>\n",
       "      <td>3133.609994</td>\n",
       "      <td>17.678395</td>\n",
       "    </tr>\n",
       "    <tr>\n",
       "      <th>75%</th>\n",
       "      <td>1213.250000</td>\n",
       "      <td>3776.222735</td>\n",
       "      <td>21.724800</td>\n",
       "    </tr>\n",
       "    <tr>\n",
       "      <th>max</th>\n",
       "      <td>1534.000000</td>\n",
       "      <td>7211.007745</td>\n",
       "      <td>40.823963</td>\n",
       "    </tr>\n",
       "  </tbody>\n",
       "</table>\n",
       "</div>"
      ],
      "text/plain": [
       "            user_id      distance      duration\n",
       "count  18068.000000  18068.000000  18068.000000\n",
       "mean     842.869936   3070.659976     17.805011\n",
       "std      434.734317   1116.831209      6.091051\n",
       "min        1.000000      0.855683      0.500000\n",
       "25%      487.000000   2543.226360     13.597563\n",
       "50%      889.000000   3133.609994     17.678395\n",
       "75%     1213.250000   3776.222735     21.724800\n",
       "max     1534.000000   7211.007745     40.823963"
      ]
     },
     "metadata": {},
     "output_type": "display_data"
    }
   ],
   "source": [
    "view(riders_go) # обзор данных датасета riders_go\n"
   ]
  },
  {
   "cell_type": "code",
   "execution_count": 5,
   "id": "a0f68e44",
   "metadata": {},
   "outputs": [
    {
     "data": {
      "text/html": [
       "<div>\n",
       "<style scoped>\n",
       "    .dataframe tbody tr th:only-of-type {\n",
       "        vertical-align: middle;\n",
       "    }\n",
       "\n",
       "    .dataframe tbody tr th {\n",
       "        vertical-align: top;\n",
       "    }\n",
       "\n",
       "    .dataframe thead th {\n",
       "        text-align: right;\n",
       "    }\n",
       "</style>\n",
       "<table border=\"1\" class=\"dataframe\">\n",
       "  <thead>\n",
       "    <tr style=\"text-align: right;\">\n",
       "      <th></th>\n",
       "      <th>0</th>\n",
       "      <th>1</th>\n",
       "    </tr>\n",
       "  </thead>\n",
       "  <tbody>\n",
       "    <tr>\n",
       "      <th>subscription_type</th>\n",
       "      <td>free</td>\n",
       "      <td>ultra</td>\n",
       "    </tr>\n",
       "    <tr>\n",
       "      <th>minute_price</th>\n",
       "      <td>8</td>\n",
       "      <td>6</td>\n",
       "    </tr>\n",
       "    <tr>\n",
       "      <th>start_ride_price</th>\n",
       "      <td>50</td>\n",
       "      <td>0</td>\n",
       "    </tr>\n",
       "    <tr>\n",
       "      <th>subscription_fee</th>\n",
       "      <td>0</td>\n",
       "      <td>199</td>\n",
       "    </tr>\n",
       "  </tbody>\n",
       "</table>\n",
       "</div>"
      ],
      "text/plain": [
       "                      0      1\n",
       "subscription_type  free  ultra\n",
       "minute_price          8      6\n",
       "start_ride_price     50      0\n",
       "subscription_fee      0    199"
      ]
     },
     "metadata": {},
     "output_type": "display_data"
    },
    {
     "name": "stdout",
     "output_type": "stream",
     "text": [
      "<class 'pandas.core.frame.DataFrame'>\n",
      "RangeIndex: 2 entries, 0 to 1\n",
      "Data columns (total 4 columns):\n",
      " #   Column             Non-Null Count  Dtype \n",
      "---  ------             --------------  ----- \n",
      " 0   subscription_type  2 non-null      object\n",
      " 1   minute_price       2 non-null      int64 \n",
      " 2   start_ride_price   2 non-null      int64 \n",
      " 3   subscription_fee   2 non-null      int64 \n",
      "dtypes: int64(3), object(1)\n",
      "memory usage: 192.0+ bytes\n"
     ]
    },
    {
     "data": {
      "text/html": [
       "<div>\n",
       "<style scoped>\n",
       "    .dataframe tbody tr th:only-of-type {\n",
       "        vertical-align: middle;\n",
       "    }\n",
       "\n",
       "    .dataframe tbody tr th {\n",
       "        vertical-align: top;\n",
       "    }\n",
       "\n",
       "    .dataframe thead th {\n",
       "        text-align: right;\n",
       "    }\n",
       "</style>\n",
       "<table border=\"1\" class=\"dataframe\">\n",
       "  <thead>\n",
       "    <tr style=\"text-align: right;\">\n",
       "      <th></th>\n",
       "      <th>minute_price</th>\n",
       "      <th>start_ride_price</th>\n",
       "      <th>subscription_fee</th>\n",
       "    </tr>\n",
       "  </thead>\n",
       "  <tbody>\n",
       "    <tr>\n",
       "      <th>count</th>\n",
       "      <td>2.000000</td>\n",
       "      <td>2.000000</td>\n",
       "      <td>2.000000</td>\n",
       "    </tr>\n",
       "    <tr>\n",
       "      <th>mean</th>\n",
       "      <td>7.000000</td>\n",
       "      <td>25.000000</td>\n",
       "      <td>99.500000</td>\n",
       "    </tr>\n",
       "    <tr>\n",
       "      <th>std</th>\n",
       "      <td>1.414214</td>\n",
       "      <td>35.355339</td>\n",
       "      <td>140.714249</td>\n",
       "    </tr>\n",
       "    <tr>\n",
       "      <th>min</th>\n",
       "      <td>6.000000</td>\n",
       "      <td>0.000000</td>\n",
       "      <td>0.000000</td>\n",
       "    </tr>\n",
       "    <tr>\n",
       "      <th>25%</th>\n",
       "      <td>6.500000</td>\n",
       "      <td>12.500000</td>\n",
       "      <td>49.750000</td>\n",
       "    </tr>\n",
       "    <tr>\n",
       "      <th>50%</th>\n",
       "      <td>7.000000</td>\n",
       "      <td>25.000000</td>\n",
       "      <td>99.500000</td>\n",
       "    </tr>\n",
       "    <tr>\n",
       "      <th>75%</th>\n",
       "      <td>7.500000</td>\n",
       "      <td>37.500000</td>\n",
       "      <td>149.250000</td>\n",
       "    </tr>\n",
       "    <tr>\n",
       "      <th>max</th>\n",
       "      <td>8.000000</td>\n",
       "      <td>50.000000</td>\n",
       "      <td>199.000000</td>\n",
       "    </tr>\n",
       "  </tbody>\n",
       "</table>\n",
       "</div>"
      ],
      "text/plain": [
       "       minute_price  start_ride_price  subscription_fee\n",
       "count      2.000000          2.000000          2.000000\n",
       "mean       7.000000         25.000000         99.500000\n",
       "std        1.414214         35.355339        140.714249\n",
       "min        6.000000          0.000000          0.000000\n",
       "25%        6.500000         12.500000         49.750000\n",
       "50%        7.000000         25.000000         99.500000\n",
       "75%        7.500000         37.500000        149.250000\n",
       "max        8.000000         50.000000        199.000000"
      ]
     },
     "metadata": {},
     "output_type": "display_data"
    }
   ],
   "source": [
    "view(subscriptions_go) # обзор данных датасета subscriptions_go"
   ]
  },
  {
   "cell_type": "markdown",
   "id": "890a6028",
   "metadata": {},
   "source": [
    "### Описание данных"
   ]
  },
  {
   "cell_type": "markdown",
   "id": "ded6df74",
   "metadata": {},
   "source": [
    "*------------------------------------------------------------------------------------------------------------------------------------------------------------------------------------*\n",
    "\n",
    "|     Дата сет: **users_go**   |                                        |\n",
    "|-------------------|----------------------------------------|\n",
    "| **user_id**           | уникальный идентификатор пользователя  |\n",
    "| **name**              | имя пользователя                       |\n",
    "| **age**               | возраст                                |\n",
    "| **city**              | город                                  |\n",
    "| **subscription_type** | тип подписки (free, ultra)             |\n",
    "\n",
    "\n",
    "\n",
    "\n",
    "\n",
    "\n",
    "*------------------------------------------------------------------------------------------------------------------------------------------------------------------------------------*\n",
    "\n",
    "                              \n",
    "\n",
    "|  Дата сет: **riders_go**|   |                                                                                                                              \n",
    "| ------------ | --------------------------------------------------------------------------------------------------------------------------------------------------------------------- |\n",
    "| **user_id**  | уникальный идентификатор пользователя \n",
    "| **distance** | <br>расстояние, которое пользователь проехал<br>в текущей сессии (в метрах)                                                                                               |\n",
    "| **duration** | <br>продолжительность сессии (в минутах) — время с того момента,<br>как пользователь нажал кнопку «Начать поездку» до момента,<br>как он нажал кнопку «Завершить поездку» |\n",
    "| **date**     | дата совершения поездки           \n",
    "\n",
    "*------------------------------------------------------------------------------------------------------------------------------------------------------------------------------------*\n",
    "\n",
    "\n",
    "| Датасет: **subscriptions_go** |                                                   |\n",
    "| ----------------------------- | ------------------------------------------------- |\n",
    "| **subscription_type**         | <br>тип подписки                                      |\n",
    "| **minute_price**              | стоимость одной минуты поездки по данной подписке |\n",
    "| **start_ride_price**          | стоимость начала поездки                          |\n",
    "| **subscription_fee**          | стоимость ежемесячного платежа                    |\n",
    "\n",
    "\n",
    "*------------------------------------------------------------------------------------------------------------------------------------------------------------------------------------*\n",
    "\n",
    "\n",
    "\n",
    "\n",
    "\n"
   ]
  },
  {
   "cell_type": "markdown",
   "id": "6afb7a96",
   "metadata": {},
   "source": [
    "### Промежуточный вывод по этапу"
   ]
  },
  {
   "cell_type": "markdown",
   "id": "a50be3e5",
   "metadata": {},
   "source": [
    "* Импортировал необходимые библиотеки и функции для работы.\n",
    "<br>\n",
    "* Провел обзор данных. Критичных проблем в представлении данных не выявил. \n",
    "<br>\n",
    "* В этом этапе привел дату к виду pandas.\n",
    "<br>\n",
    "* Дал описание основных столбцов в датафреймах."
   ]
  },
  {
   "cell_type": "markdown",
   "id": "e95ebca7",
   "metadata": {},
   "source": [
    "## Предобработка данных"
   ]
  },
  {
   "cell_type": "code",
   "execution_count": 6,
   "id": "af6d202c",
   "metadata": {},
   "outputs": [],
   "source": [
    "riders_go['month'] = riders_go['date'].dt.month #Создам новый столбец с номером месяца на основе столбца date"
   ]
  },
  {
   "cell_type": "code",
   "execution_count": 7,
   "id": "99b70a8b",
   "metadata": {},
   "outputs": [
    {
     "data": {
      "text/plain": [
       "array([2021])"
      ]
     },
     "execution_count": 7,
     "metadata": {},
     "output_type": "execute_result"
    }
   ],
   "source": [
    "riders_go['distance'] = riders_go['distance'].round(2) #округляю значения дистанции до двух цифр, после точки.\n",
    "check_year = riders_go['date'].dt.year.copy()\n",
    "check_year.unique()"
   ]
  },
  {
   "cell_type": "markdown",
   "id": "ba1016c9",
   "metadata": {},
   "source": [
    "### Проверка users_go на пропуски и дубликаты"
   ]
  },
  {
   "cell_type": "code",
   "execution_count": 8,
   "id": "a47ab7e1",
   "metadata": {},
   "outputs": [
    {
     "data": {
      "text/plain": [
       "user_id              0\n",
       "name                 0\n",
       "age                  0\n",
       "city                 0\n",
       "subscription_type    0\n",
       "dtype: int64"
      ]
     },
     "execution_count": 8,
     "metadata": {},
     "output_type": "execute_result"
    }
   ],
   "source": [
    "#Датасет с инофрмацией о пользователях\n",
    "\n",
    "users_go.isna().sum()"
   ]
  },
  {
   "cell_type": "markdown",
   "id": "b32f2795",
   "metadata": {},
   "source": [
    "Пропусков нет. Проверю на явные и неявные дубликаты"
   ]
  },
  {
   "cell_type": "code",
   "execution_count": 9,
   "id": "f646047e",
   "metadata": {},
   "outputs": [
    {
     "name": "stdout",
     "output_type": "stream",
     "text": [
      "31\n"
     ]
    },
    {
     "data": {
      "text/html": [
       "<div>\n",
       "<style scoped>\n",
       "    .dataframe tbody tr th:only-of-type {\n",
       "        vertical-align: middle;\n",
       "    }\n",
       "\n",
       "    .dataframe tbody tr th {\n",
       "        vertical-align: top;\n",
       "    }\n",
       "\n",
       "    .dataframe thead th {\n",
       "        text-align: right;\n",
       "    }\n",
       "</style>\n",
       "<table border=\"1\" class=\"dataframe\">\n",
       "  <thead>\n",
       "    <tr style=\"text-align: right;\">\n",
       "      <th></th>\n",
       "      <th>15</th>\n",
       "      <th>42</th>\n",
       "      <th>46</th>\n",
       "      <th>71</th>\n",
       "      <th>107</th>\n",
       "      <th>120</th>\n",
       "      <th>126</th>\n",
       "      <th>135</th>\n",
       "      <th>152</th>\n",
       "      <th>203</th>\n",
       "      <th>208</th>\n",
       "      <th>292</th>\n",
       "      <th>296</th>\n",
       "      <th>306</th>\n",
       "      <th>402</th>\n",
       "      <th>421</th>\n",
       "      <th>610</th>\n",
       "      <th>634</th>\n",
       "      <th>658</th>\n",
       "      <th>665</th>\n",
       "      <th>736</th>\n",
       "      <th>806</th>\n",
       "      <th>808</th>\n",
       "      <th>828</th>\n",
       "      <th>907</th>\n",
       "      <th>908</th>\n",
       "      <th>923</th>\n",
       "      <th>1044</th>\n",
       "      <th>1197</th>\n",
       "      <th>1236</th>\n",
       "      <th>1244</th>\n",
       "      <th>1534</th>\n",
       "      <th>1535</th>\n",
       "      <th>1536</th>\n",
       "      <th>1537</th>\n",
       "      <th>1538</th>\n",
       "      <th>1539</th>\n",
       "      <th>1540</th>\n",
       "      <th>1541</th>\n",
       "      <th>1542</th>\n",
       "      <th>1543</th>\n",
       "      <th>1544</th>\n",
       "      <th>1545</th>\n",
       "      <th>1546</th>\n",
       "      <th>1547</th>\n",
       "      <th>1548</th>\n",
       "      <th>1549</th>\n",
       "      <th>1550</th>\n",
       "      <th>1551</th>\n",
       "      <th>1552</th>\n",
       "      <th>1553</th>\n",
       "      <th>1554</th>\n",
       "      <th>1555</th>\n",
       "      <th>1556</th>\n",
       "      <th>1557</th>\n",
       "      <th>1558</th>\n",
       "      <th>1559</th>\n",
       "      <th>1560</th>\n",
       "      <th>1561</th>\n",
       "      <th>1562</th>\n",
       "      <th>1563</th>\n",
       "      <th>1564</th>\n",
       "    </tr>\n",
       "  </thead>\n",
       "  <tbody>\n",
       "    <tr>\n",
       "      <th>user_id</th>\n",
       "      <td>16</td>\n",
       "      <td>43</td>\n",
       "      <td>47</td>\n",
       "      <td>72</td>\n",
       "      <td>108</td>\n",
       "      <td>121</td>\n",
       "      <td>127</td>\n",
       "      <td>136</td>\n",
       "      <td>153</td>\n",
       "      <td>204</td>\n",
       "      <td>209</td>\n",
       "      <td>293</td>\n",
       "      <td>297</td>\n",
       "      <td>307</td>\n",
       "      <td>403</td>\n",
       "      <td>422</td>\n",
       "      <td>611</td>\n",
       "      <td>635</td>\n",
       "      <td>659</td>\n",
       "      <td>666</td>\n",
       "      <td>737</td>\n",
       "      <td>807</td>\n",
       "      <td>809</td>\n",
       "      <td>829</td>\n",
       "      <td>908</td>\n",
       "      <td>909</td>\n",
       "      <td>924</td>\n",
       "      <td>1045</td>\n",
       "      <td>1198</td>\n",
       "      <td>1237</td>\n",
       "      <td>1245</td>\n",
       "      <td>293</td>\n",
       "      <td>16</td>\n",
       "      <td>909</td>\n",
       "      <td>403</td>\n",
       "      <td>908</td>\n",
       "      <td>43</td>\n",
       "      <td>127</td>\n",
       "      <td>659</td>\n",
       "      <td>204</td>\n",
       "      <td>153</td>\n",
       "      <td>1245</td>\n",
       "      <td>807</td>\n",
       "      <td>924</td>\n",
       "      <td>635</td>\n",
       "      <td>136</td>\n",
       "      <td>108</td>\n",
       "      <td>737</td>\n",
       "      <td>666</td>\n",
       "      <td>297</td>\n",
       "      <td>121</td>\n",
       "      <td>1198</td>\n",
       "      <td>72</td>\n",
       "      <td>422</td>\n",
       "      <td>611</td>\n",
       "      <td>1237</td>\n",
       "      <td>209</td>\n",
       "      <td>829</td>\n",
       "      <td>809</td>\n",
       "      <td>307</td>\n",
       "      <td>47</td>\n",
       "      <td>1045</td>\n",
       "    </tr>\n",
       "    <tr>\n",
       "      <th>name</th>\n",
       "      <td>Амалия</td>\n",
       "      <td>Стефания</td>\n",
       "      <td>Юрий</td>\n",
       "      <td>Никита</td>\n",
       "      <td>Влада</td>\n",
       "      <td>Алина</td>\n",
       "      <td>Павел</td>\n",
       "      <td>Марсель</td>\n",
       "      <td>Герман</td>\n",
       "      <td>Руслан</td>\n",
       "      <td>Андрей</td>\n",
       "      <td>Агата</td>\n",
       "      <td>Егор</td>\n",
       "      <td>Ясмина</td>\n",
       "      <td>Полина</td>\n",
       "      <td>Кирилл</td>\n",
       "      <td>Владимир</td>\n",
       "      <td>Герман</td>\n",
       "      <td>Злата</td>\n",
       "      <td>Зарина</td>\n",
       "      <td>Мелания</td>\n",
       "      <td>Александр</td>\n",
       "      <td>Юрий</td>\n",
       "      <td>Федор</td>\n",
       "      <td>Рустам</td>\n",
       "      <td>Константин</td>\n",
       "      <td>Мария</td>\n",
       "      <td>Артемий</td>\n",
       "      <td>Демид</td>\n",
       "      <td>Евгения</td>\n",
       "      <td>Регина</td>\n",
       "      <td>Агата</td>\n",
       "      <td>Амалия</td>\n",
       "      <td>Константин</td>\n",
       "      <td>Полина</td>\n",
       "      <td>Рустам</td>\n",
       "      <td>Стефания</td>\n",
       "      <td>Павел</td>\n",
       "      <td>Злата</td>\n",
       "      <td>Руслан</td>\n",
       "      <td>Герман</td>\n",
       "      <td>Регина</td>\n",
       "      <td>Александр</td>\n",
       "      <td>Мария</td>\n",
       "      <td>Герман</td>\n",
       "      <td>Марсель</td>\n",
       "      <td>Влада</td>\n",
       "      <td>Мелания</td>\n",
       "      <td>Зарина</td>\n",
       "      <td>Егор</td>\n",
       "      <td>Алина</td>\n",
       "      <td>Демид</td>\n",
       "      <td>Никита</td>\n",
       "      <td>Кирилл</td>\n",
       "      <td>Владимир</td>\n",
       "      <td>Евгения</td>\n",
       "      <td>Андрей</td>\n",
       "      <td>Федор</td>\n",
       "      <td>Юрий</td>\n",
       "      <td>Ясмина</td>\n",
       "      <td>Юрий</td>\n",
       "      <td>Артемий</td>\n",
       "    </tr>\n",
       "    <tr>\n",
       "      <th>age</th>\n",
       "      <td>27</td>\n",
       "      <td>22</td>\n",
       "      <td>28</td>\n",
       "      <td>25</td>\n",
       "      <td>29</td>\n",
       "      <td>25</td>\n",
       "      <td>25</td>\n",
       "      <td>25</td>\n",
       "      <td>23</td>\n",
       "      <td>30</td>\n",
       "      <td>23</td>\n",
       "      <td>26</td>\n",
       "      <td>33</td>\n",
       "      <td>19</td>\n",
       "      <td>19</td>\n",
       "      <td>27</td>\n",
       "      <td>28</td>\n",
       "      <td>21</td>\n",
       "      <td>27</td>\n",
       "      <td>29</td>\n",
       "      <td>27</td>\n",
       "      <td>28</td>\n",
       "      <td>26</td>\n",
       "      <td>29</td>\n",
       "      <td>30</td>\n",
       "      <td>20</td>\n",
       "      <td>23</td>\n",
       "      <td>28</td>\n",
       "      <td>29</td>\n",
       "      <td>23</td>\n",
       "      <td>27</td>\n",
       "      <td>26</td>\n",
       "      <td>27</td>\n",
       "      <td>20</td>\n",
       "      <td>19</td>\n",
       "      <td>30</td>\n",
       "      <td>22</td>\n",
       "      <td>25</td>\n",
       "      <td>27</td>\n",
       "      <td>30</td>\n",
       "      <td>23</td>\n",
       "      <td>27</td>\n",
       "      <td>28</td>\n",
       "      <td>23</td>\n",
       "      <td>21</td>\n",
       "      <td>25</td>\n",
       "      <td>29</td>\n",
       "      <td>27</td>\n",
       "      <td>29</td>\n",
       "      <td>33</td>\n",
       "      <td>25</td>\n",
       "      <td>29</td>\n",
       "      <td>25</td>\n",
       "      <td>27</td>\n",
       "      <td>28</td>\n",
       "      <td>23</td>\n",
       "      <td>23</td>\n",
       "      <td>29</td>\n",
       "      <td>26</td>\n",
       "      <td>19</td>\n",
       "      <td>28</td>\n",
       "      <td>28</td>\n",
       "    </tr>\n",
       "    <tr>\n",
       "      <th>city</th>\n",
       "      <td>Краснодар</td>\n",
       "      <td>Омск</td>\n",
       "      <td>Тюмень</td>\n",
       "      <td>Москва</td>\n",
       "      <td>Тюмень</td>\n",
       "      <td>Пятигорск</td>\n",
       "      <td>Пятигорск</td>\n",
       "      <td>Тюмень</td>\n",
       "      <td>Москва</td>\n",
       "      <td>Пятигорск</td>\n",
       "      <td>Омск</td>\n",
       "      <td>Краснодар</td>\n",
       "      <td>Пятигорск</td>\n",
       "      <td>Краснодар</td>\n",
       "      <td>Сочи</td>\n",
       "      <td>Сочи</td>\n",
       "      <td>Омск</td>\n",
       "      <td>Москва</td>\n",
       "      <td>Ростов-на-Дону</td>\n",
       "      <td>Москва</td>\n",
       "      <td>Ростов-на-Дону</td>\n",
       "      <td>Екатеринбург</td>\n",
       "      <td>Сочи</td>\n",
       "      <td>Пятигорск</td>\n",
       "      <td>Тюмень</td>\n",
       "      <td>Екатеринбург</td>\n",
       "      <td>Пятигорск</td>\n",
       "      <td>Ростов-на-Дону</td>\n",
       "      <td>Ростов-на-Дону</td>\n",
       "      <td>Тюмень</td>\n",
       "      <td>Пятигорск</td>\n",
       "      <td>Краснодар</td>\n",
       "      <td>Краснодар</td>\n",
       "      <td>Екатеринбург</td>\n",
       "      <td>Сочи</td>\n",
       "      <td>Тюмень</td>\n",
       "      <td>Омск</td>\n",
       "      <td>Пятигорск</td>\n",
       "      <td>Ростов-на-Дону</td>\n",
       "      <td>Пятигорск</td>\n",
       "      <td>Москва</td>\n",
       "      <td>Пятигорск</td>\n",
       "      <td>Екатеринбург</td>\n",
       "      <td>Пятигорск</td>\n",
       "      <td>Москва</td>\n",
       "      <td>Тюмень</td>\n",
       "      <td>Тюмень</td>\n",
       "      <td>Ростов-на-Дону</td>\n",
       "      <td>Москва</td>\n",
       "      <td>Пятигорск</td>\n",
       "      <td>Пятигорск</td>\n",
       "      <td>Ростов-на-Дону</td>\n",
       "      <td>Москва</td>\n",
       "      <td>Сочи</td>\n",
       "      <td>Омск</td>\n",
       "      <td>Тюмень</td>\n",
       "      <td>Омск</td>\n",
       "      <td>Пятигорск</td>\n",
       "      <td>Сочи</td>\n",
       "      <td>Краснодар</td>\n",
       "      <td>Тюмень</td>\n",
       "      <td>Ростов-на-Дону</td>\n",
       "    </tr>\n",
       "    <tr>\n",
       "      <th>subscription_type</th>\n",
       "      <td>ultra</td>\n",
       "      <td>ultra</td>\n",
       "      <td>ultra</td>\n",
       "      <td>ultra</td>\n",
       "      <td>ultra</td>\n",
       "      <td>ultra</td>\n",
       "      <td>ultra</td>\n",
       "      <td>ultra</td>\n",
       "      <td>ultra</td>\n",
       "      <td>ultra</td>\n",
       "      <td>ultra</td>\n",
       "      <td>ultra</td>\n",
       "      <td>ultra</td>\n",
       "      <td>ultra</td>\n",
       "      <td>ultra</td>\n",
       "      <td>ultra</td>\n",
       "      <td>ultra</td>\n",
       "      <td>ultra</td>\n",
       "      <td>ultra</td>\n",
       "      <td>ultra</td>\n",
       "      <td>free</td>\n",
       "      <td>free</td>\n",
       "      <td>free</td>\n",
       "      <td>free</td>\n",
       "      <td>free</td>\n",
       "      <td>free</td>\n",
       "      <td>free</td>\n",
       "      <td>free</td>\n",
       "      <td>free</td>\n",
       "      <td>free</td>\n",
       "      <td>free</td>\n",
       "      <td>ultra</td>\n",
       "      <td>ultra</td>\n",
       "      <td>free</td>\n",
       "      <td>ultra</td>\n",
       "      <td>free</td>\n",
       "      <td>ultra</td>\n",
       "      <td>ultra</td>\n",
       "      <td>ultra</td>\n",
       "      <td>ultra</td>\n",
       "      <td>ultra</td>\n",
       "      <td>free</td>\n",
       "      <td>free</td>\n",
       "      <td>free</td>\n",
       "      <td>ultra</td>\n",
       "      <td>ultra</td>\n",
       "      <td>ultra</td>\n",
       "      <td>free</td>\n",
       "      <td>ultra</td>\n",
       "      <td>ultra</td>\n",
       "      <td>ultra</td>\n",
       "      <td>free</td>\n",
       "      <td>ultra</td>\n",
       "      <td>ultra</td>\n",
       "      <td>ultra</td>\n",
       "      <td>free</td>\n",
       "      <td>ultra</td>\n",
       "      <td>free</td>\n",
       "      <td>free</td>\n",
       "      <td>ultra</td>\n",
       "      <td>ultra</td>\n",
       "      <td>free</td>\n",
       "    </tr>\n",
       "  </tbody>\n",
       "</table>\n",
       "</div>"
      ],
      "text/plain": [
       "                        15        42      46      71      107        120   \\\n",
       "user_id                   16        43      47      72     108        121   \n",
       "name                  Амалия  Стефания    Юрий  Никита   Влада      Алина   \n",
       "age                       27        22      28      25      29         25   \n",
       "city               Краснодар      Омск  Тюмень  Москва  Тюмень  Пятигорск   \n",
       "subscription_type      ultra     ultra   ultra   ultra   ultra      ultra   \n",
       "\n",
       "                        126      135     152        203     208        292   \\\n",
       "user_id                  127      136     153        204     209        293   \n",
       "name                   Павел  Марсель  Герман     Руслан  Андрей      Агата   \n",
       "age                       25       25      23         30      23         26   \n",
       "city               Пятигорск   Тюмень  Москва  Пятигорск    Омск  Краснодар   \n",
       "subscription_type      ultra    ultra   ultra      ultra   ultra      ultra   \n",
       "\n",
       "                        296        306     402     421       610     634   \\\n",
       "user_id                  297        307     403     422       611     635   \n",
       "name                    Егор     Ясмина  Полина  Кирилл  Владимир  Герман   \n",
       "age                       33         19      19      27        28      21   \n",
       "city               Пятигорск  Краснодар    Сочи    Сочи      Омск  Москва   \n",
       "subscription_type      ultra      ultra   ultra   ultra     ultra   ultra   \n",
       "\n",
       "                             658     665             736           806   808   \\\n",
       "user_id                       659     666             737           807   809   \n",
       "name                        Злата  Зарина         Мелания     Александр  Юрий   \n",
       "age                            27      29              27            28    26   \n",
       "city               Ростов-на-Дону  Москва  Ростов-на-Дону  Екатеринбург  Сочи   \n",
       "subscription_type           ultra   ultra            free          free  free   \n",
       "\n",
       "                        828     907           908        923             1044  \\\n",
       "user_id                  829     908           909        924            1045   \n",
       "name                   Федор  Рустам    Константин      Мария         Артемий   \n",
       "age                       29      30            20         23              28   \n",
       "city               Пятигорск  Тюмень  Екатеринбург  Пятигорск  Ростов-на-Дону   \n",
       "subscription_type       free    free          free       free            free   \n",
       "\n",
       "                             1197     1236       1244       1534       1535  \\\n",
       "user_id                      1198     1237       1245        293         16   \n",
       "name                        Демид  Евгения     Регина      Агата     Амалия   \n",
       "age                            29       23         27         26         27   \n",
       "city               Ростов-на-Дону   Тюмень  Пятигорск  Краснодар  Краснодар   \n",
       "subscription_type            free     free       free      ultra      ultra   \n",
       "\n",
       "                           1536    1537    1538      1539       1540  \\\n",
       "user_id                     909     403     908        43        127   \n",
       "name                 Константин  Полина  Рустам  Стефания      Павел   \n",
       "age                          20      19      30        22         25   \n",
       "city               Екатеринбург    Сочи  Тюмень      Омск  Пятигорск   \n",
       "subscription_type          free   ultra    free     ultra      ultra   \n",
       "\n",
       "                             1541       1542    1543       1544          1545  \\\n",
       "user_id                       659        204     153       1245           807   \n",
       "name                        Злата     Руслан  Герман     Регина     Александр   \n",
       "age                            27         30      23         27            28   \n",
       "city               Ростов-на-Дону  Пятигорск  Москва  Пятигорск  Екатеринбург   \n",
       "subscription_type           ultra      ultra   ultra       free          free   \n",
       "\n",
       "                        1546    1547     1548    1549            1550    1551  \\\n",
       "user_id                  924     635      136     108             737     666   \n",
       "name                   Мария  Герман  Марсель   Влада         Мелания  Зарина   \n",
       "age                       23      21       25      29              27      29   \n",
       "city               Пятигорск  Москва   Тюмень  Тюмень  Ростов-на-Дону  Москва   \n",
       "subscription_type       free   ultra    ultra   ultra            free   ultra   \n",
       "\n",
       "                        1552       1553            1554    1555    1556  \\\n",
       "user_id                  297        121            1198      72     422   \n",
       "name                    Егор      Алина           Демид  Никита  Кирилл   \n",
       "age                       33         25              29      25      27   \n",
       "city               Пятигорск  Пятигорск  Ростов-на-Дону  Москва    Сочи   \n",
       "subscription_type      ultra      ultra            free   ultra   ultra   \n",
       "\n",
       "                       1557     1558    1559       1560  1561       1562  \\\n",
       "user_id                 611     1237     209        829   809        307   \n",
       "name               Владимир  Евгения  Андрей      Федор  Юрий     Ясмина   \n",
       "age                      28       23      23         29    26         19   \n",
       "city                   Омск   Тюмень    Омск  Пятигорск  Сочи  Краснодар   \n",
       "subscription_type     ultra     free   ultra       free  free      ultra   \n",
       "\n",
       "                     1563            1564  \n",
       "user_id                47            1045  \n",
       "name                 Юрий         Артемий  \n",
       "age                    28              28  \n",
       "city               Тюмень  Ростов-на-Дону  \n",
       "subscription_type   ultra            free  "
      ]
     },
     "execution_count": 9,
     "metadata": {},
     "output_type": "execute_result"
    }
   ],
   "source": [
    "print(users_go.duplicated().sum())\n",
    "duplicates_users_go = users_go[users_go.duplicated(keep=False)]\n",
    "\n",
    "pd.set_option('display.max_rows', None)\n",
    "\n",
    "duplicates_users_go.T #Вывод для оценки полных дублей. Т. к. данных мало, можно вывести всю таблицу."
   ]
  },
  {
   "cell_type": "markdown",
   "id": "4e5ab18c",
   "metadata": {},
   "source": [
    "Удаляю полные дубли в **users_go**"
   ]
  },
  {
   "cell_type": "code",
   "execution_count": 10,
   "id": "6ec82be8",
   "metadata": {
    "scrolled": true
   },
   "outputs": [
    {
     "data": {
      "text/plain": [
       "0"
      ]
     },
     "execution_count": 10,
     "metadata": {},
     "output_type": "execute_result"
    }
   ],
   "source": [
    "users_go = users_go.drop_duplicates()\n",
    "users_go.duplicated().sum() #проверяю, что дубликаты удалены."
   ]
  },
  {
   "cell_type": "code",
   "execution_count": 11,
   "id": "f2b999f8",
   "metadata": {
    "scrolled": false
   },
   "outputs": [
    {
     "data": {
      "text/html": [
       "<div>\n",
       "<style scoped>\n",
       "    .dataframe tbody tr th:only-of-type {\n",
       "        vertical-align: middle;\n",
       "    }\n",
       "\n",
       "    .dataframe tbody tr th {\n",
       "        vertical-align: top;\n",
       "    }\n",
       "\n",
       "    .dataframe thead th {\n",
       "        text-align: right;\n",
       "    }\n",
       "</style>\n",
       "<table border=\"1\" class=\"dataframe\">\n",
       "  <thead>\n",
       "    <tr style=\"text-align: right;\">\n",
       "      <th></th>\n",
       "      <th>user_id</th>\n",
       "      <th>name</th>\n",
       "      <th>age</th>\n",
       "      <th>city</th>\n",
       "      <th>subscription_type</th>\n",
       "    </tr>\n",
       "  </thead>\n",
       "  <tbody>\n",
       "  </tbody>\n",
       "</table>\n",
       "</div>"
      ],
      "text/plain": [
       "Empty DataFrame\n",
       "Columns: [user_id, name, age, city, subscription_type]\n",
       "Index: []"
      ]
     },
     "execution_count": 11,
     "metadata": {},
     "output_type": "execute_result"
    }
   ],
   "source": [
    "pd.reset_option('display.max_rows')\n",
    "\n",
    "implicit_duplicates_users_go = users_go.duplicated(subset=['user_id','name','age','city'],keep=False)\n",
    "users_go[implicit_duplicates_users_go]"
   ]
  },
  {
   "cell_type": "markdown",
   "id": "38efcd42",
   "metadata": {},
   "source": [
    "Неявных дубликатов нет в users_go, пользователи могут совпадать по всем столбцам, но если различается столбец `user_id` - значит это разные юзеры, совпавшие по остальным параметрам."
   ]
  },
  {
   "cell_type": "markdown",
   "id": "da6780e7",
   "metadata": {},
   "source": [
    "### Проверка riders_go на пропуски и дубликаты"
   ]
  },
  {
   "cell_type": "code",
   "execution_count": 12,
   "id": "60b961f7",
   "metadata": {},
   "outputs": [
    {
     "name": "stdout",
     "output_type": "stream",
     "text": [
      "user_id     0\n",
      "distance    0\n",
      "duration    0\n",
      "date        0\n",
      "month       0\n",
      "dtype: int64\n"
     ]
    },
    {
     "data": {
      "text/plain": [
       "0"
      ]
     },
     "execution_count": 12,
     "metadata": {},
     "output_type": "execute_result"
    }
   ],
   "source": [
    "print(riders_go.isna().sum()) # пропусков нет\n",
    "\n",
    "riders_go.duplicated().sum() #явных дубликатов нет\n",
    "\n",
    "#проводить проверку на неявные дубликаты нет смысла, т. к. в этом датасете каждая строчка - это новая сессия,\n",
    "#соответственно, данные могут повторяться + данные тянутся из основного датасета."
   ]
  },
  {
   "cell_type": "markdown",
   "id": "bcb34bf4",
   "metadata": {},
   "source": [
    "### Проверка subscriptions_go на пропуски и дубликаты"
   ]
  },
  {
   "cell_type": "markdown",
   "id": "5cb09b57",
   "metadata": {},
   "source": [
    "В *subscriptions_go* нечего проверять на дубликаты и пропуски, это общая информация с тарифной сеткой."
   ]
  },
  {
   "cell_type": "markdown",
   "id": "928f0f7d",
   "metadata": {},
   "source": [
    "### Промежуточный вывод по этапу"
   ]
  },
  {
   "cell_type": "markdown",
   "id": "3d34dc89",
   "metadata": {},
   "source": [
    "* Создал новый столбец с номером месяца на основе столбца date.\n",
    "<br> \n",
    "* Для удобства чтения, округлил значения дистанции до двух цифр, после точки.\n",
    "<br> \n",
    "* Устранил явные дубликаты.\n",
    "<br> \n",
    "* Удостоверился, что нет пропусков."
   ]
  },
  {
   "cell_type": "markdown",
   "id": "212593c7",
   "metadata": {},
   "source": [
    "## Исследовательский анализ данных"
   ]
  },
  {
   "cell_type": "markdown",
   "id": "1494914f",
   "metadata": {},
   "source": [
    "**Опишу и визуализирую общую информацию о пользователях и поездках**"
   ]
  },
  {
   "cell_type": "markdown",
   "id": "2fa2ac86",
   "metadata": {},
   "source": [
    "### Частота встречаемости городов"
   ]
  },
  {
   "cell_type": "code",
   "execution_count": 13,
   "id": "87e663e4",
   "metadata": {},
   "outputs": [
    {
     "data": {
      "image/png": "[encoded data removed]",
      "text/plain": [
       "<Figure size 1080x576 with 1 Axes>"
      ]
     },
     "metadata": {
      "needs_background": "light"
     },
     "output_type": "display_data"
    }
   ],
   "source": [
    "cityes_frequency = users_go['city'].value_counts(ascending=True)\n",
    "\n",
    "color = ['#808080','DarkMagenta','#DDA0DD','#66CDAA','#00FA9A','#F08080',\\\n",
    "         '#FFC0CB','#FFA500','#FFFF00','#D2B48C'] # цвета для построения графика\n",
    "\n",
    "\n",
    "\n",
    "\n",
    "ax = cityes_frequency.plot(kind='bar',\n",
    "                     figsize=(15,8),\n",
    "                     grid=True,\n",
    "                           rot=0)\n",
    "\n",
    "for p in ax.patches:\n",
    "    ax.annotate(str(p.get_height()),\n",
    "                (p.get_x() + p.get_width() / 2.,\n",
    "                 p.get_height()), \n",
    "                ha='center')   #подписываю значения над каждым столбцем\n",
    "    \n",
    "#Использую метод patches, который возвращает список всех столбиков диаграммы.\n",
    "#Итерация по этим столбцам позволяет получить высоту и позицию х каждого столбца для добавления подписей.\n",
    "#Функция annotate используется для добавления текста на график.\n",
    "#Первый аргумент – это текст (в данном случае, это высота столбца, преобразованная в строку),\n",
    "#второй – кортеж, указывающий положение текста. Множитель 1.005 используется для небольшого смещения,\n",
    "#чтобы текст появлялся немного выше столбца.\n",
    "    \n",
    "    \n",
    "plt.title('Частота встречания городов',fontsize=18)\n",
    "plt.xlabel('Город',fontsize=14)\n",
    "plt.ylabel('Частота появления в датасете',fontsize=14)\n",
    "plt.show()\n",
    "\n"
   ]
  },
  {
   "cell_type": "code",
   "execution_count": 14,
   "id": "6cf30166",
   "metadata": {},
   "outputs": [
    {
     "name": "stdout",
     "output_type": "stream",
     "text": [
      "Доля присутствия городов от общего объема данных:\n",
      "Москва            10.951760\n",
      "Тюмень            11.734029\n",
      "Омск              11.929596\n",
      "Сочи              12.320730\n",
      "Краснодар         12.581486\n",
      "Ростов-на-Дону    12.907432\n",
      "Екатеринбург      13.298566\n",
      "Пятигорск         14.276402\n",
      "Name: city, dtype: float64\n"
     ]
    }
   ],
   "source": [
    "print(f'Доля присутствия городов от общего объема данных:\\n\\\n",
    "{(cityes_frequency/cityes_frequency.sum()*100)}')"
   ]
  },
  {
   "cell_type": "markdown",
   "id": "ae72ce18",
   "metadata": {},
   "source": [
    "### Cоотношение пользователей с подпиской и без подписки"
   ]
  },
  {
   "cell_type": "code",
   "execution_count": 15,
   "id": "16637d5b",
   "metadata": {},
   "outputs": [
    {
     "data": {
      "image/png": "[encoded data removed]",
      "text/plain": [
       "<Figure size 432x288 with 1 Axes>"
      ]
     },
     "metadata": {},
     "output_type": "display_data"
    }
   ],
   "source": [
    "subs_ultra = users_go[users_go['subscription_type'] != 'free']['subscription_type'].count()\n",
    "subs_free = users_go[users_go['subscription_type'] == 'free']['subscription_type'].count()\n",
    "\n",
    "vals = [subs_ultra, subs_free]\n",
    "labels = ['ultra','free']\n",
    "difference = round(((vals[1]/(vals[0]+vals[1]))-(vals[0]/(vals[0]+vals[1])))*100,1)\n",
    "fig, ax = plt.subplots()\n",
    "\n",
    "ax.pie(vals,\n",
    "       labels = labels,\n",
    "      explode = (0.2,0.05),\n",
    "      shadow=True,\n",
    "      autopct='%1.1f%%',\n",
    "      wedgeprops={'lw':1.5, 'ls':'-','edgecolor':'k'},\n",
    "      )\n",
    "\n",
    "ax.axis('equal')\n",
    "\n",
    "ax.text(0, 0.05,\n",
    "        f\"Разница: ~{difference}%\",\n",
    "        weight='bold')\n",
    "\n",
    "ax.set_title('Доли пользователей с подпиской и без подписки',\n",
    "             fontsize=18,\n",
    "             pad=40)\n",
    "\n",
    "plt.show()\n",
    "\n"
   ]
  },
  {
   "cell_type": "markdown",
   "id": "4bdd3584",
   "metadata": {},
   "source": [
    "Доля пользователей без подписки немного больше **54%**, против доли пользователей с подпиской **46%**. Разница составила около 8.9%"
   ]
  },
  {
   "cell_type": "markdown",
   "id": "1732d5da",
   "metadata": {},
   "source": [
    "### Возраст пользователей"
   ]
  },
  {
   "cell_type": "code",
   "execution_count": 16,
   "id": "dc53296e",
   "metadata": {},
   "outputs": [
    {
     "data": {
      "image/png": "[encoded data removed]",
      "text/plain": [
       "<Figure size 720x576 with 1 Axes>"
      ]
     },
     "metadata": {
      "needs_background": "light"
     },
     "output_type": "display_data"
    }
   ],
   "source": [
    "user_age = users_go['age'].value_counts().sort_index()\n",
    "\n",
    "user_age.plot(kind='bar',\n",
    "              figsize=(10,8),\n",
    "              rot=0)\n",
    "\n",
    "plt.grid(True,alpha=0.3)\n",
    "plt.xlabel('Возвраст пользователя',fontsize=14)\n",
    "plt.ylabel('Количество юзеров определенного возраста',fontsize=14)\n",
    "plt.title('Распределение пользователей по возрастам',fontsize=18)\n",
    "plt.show()"
   ]
  },
  {
   "cell_type": "markdown",
   "id": "26528772",
   "metadata": {},
   "source": [
    "\n",
    "Больше всего встречаются пользователи в возрасте 25 лет. Чаще всего встречаются возвораст пользователя из диапазона возраста от 21 до 28 лет.\n",
    "\n",
    "Реже по количеству пользователей в возрасте от 18 до 20 лет и от 29 до 33 лет.\n",
    "\n",
    "Меньше всего пользователей младше 18 лет и старше 34 лет."
   ]
  },
  {
   "cell_type": "markdown",
   "id": "c222b24c",
   "metadata": {},
   "source": [
    "### Расстояние, которое пользователь преодолел за одну поездку"
   ]
  },
  {
   "cell_type": "code",
   "execution_count": 17,
   "id": "1732ade2",
   "metadata": {},
   "outputs": [
    {
     "data": {
      "image/png": "[encoded data removed]",
      "text/plain": [
       "<Figure size 720x432 with 1 Axes>"
      ]
     },
     "metadata": {
      "needs_background": "light"
     },
     "output_type": "display_data"
    }
   ],
   "source": [
    "plt.figure(figsize=(10, 6))\n",
    "\n",
    "riders_go['distance'].plot(kind='hist',bins=100)\n",
    "\n",
    "plt.grid(True,alpha=0.3)\n",
    "\n",
    "plt.xlabel('Диапазон дистанции, (м)',fontsize=14)\n",
    "plt.ylabel('Количество поездок',fontsize=14)\n",
    "plt.title('Количество поездок в диапазоне дистанций',fontsize=18)  \n",
    "\n",
    "plt.show()"
   ]
  },
  {
   "cell_type": "markdown",
   "id": "b726df8d",
   "metadata": {},
   "source": [
    "Построив гистограмму по данным дистанций, которые проехали пользователи, видно, что график имеет нормальное распределение с двумя \"холмами\", поэтому стоит рассматривать два отрезка графика по отдельности, как категории \"малые дистанции\", \"средние дистнации\":\n",
    "\n",
    "* На малых дистанциях, *от 0 до 1500 метров*, пользователи чаще всего берут самокат в аренду, чтобы проехать от 500-800 метров.\n",
    "\n",
    "* На средних дистанциях, от 2000 до 4500 метров, пользователи чаще берут самокты в аренду от 2500 до 3500 метров.\n",
    "\n",
    "* Поездки с более длительными дистанциями встречаеются много реже.\n"
   ]
  },
  {
   "cell_type": "markdown",
   "id": "a1d3ebb2",
   "metadata": {},
   "source": [
    "### Продолжительность поездок"
   ]
  },
  {
   "cell_type": "code",
   "execution_count": 18,
   "id": "0a12ee91",
   "metadata": {},
   "outputs": [
    {
     "data": {
      "text/plain": [
       "0        25.599769\n",
       "1        15.816871\n",
       "2         6.232113\n",
       "3        18.511000\n",
       "4        26.265803\n",
       "           ...    \n",
       "18063    19.822962\n",
       "18064    21.409799\n",
       "18065    18.435051\n",
       "18066    16.674362\n",
       "18067    15.893917\n",
       "Name: duration, Length: 18068, dtype: float64"
      ]
     },
     "execution_count": 18,
     "metadata": {},
     "output_type": "execute_result"
    }
   ],
   "source": [
    "duration_trip = riders_go['duration']\n",
    "duration_trip"
   ]
  },
  {
   "cell_type": "code",
   "execution_count": 19,
   "id": "f0c0fe09",
   "metadata": {},
   "outputs": [
    {
     "data": {
      "image/png": "[encoded data removed]",
      "text/plain": [
       "<Figure size 720x432 with 1 Axes>"
      ]
     },
     "metadata": {
      "needs_background": "light"
     },
     "output_type": "display_data"
    }
   ],
   "source": [
    "plt.figure(figsize=(10, 6))\n",
    "\n",
    "riders_go['duration'].plot(kind='hist',bins=100)\n",
    "\n",
    "plt.grid(True,alpha=0.3)\n",
    "\n",
    "plt.xlabel('Длительность поездки, (минуты)',fontsize=14)\n",
    "plt.ylabel('Количество поездок',fontsize=14)\n",
    "plt.title('Количество поездок разной продолжительности',fontsize=18) \n",
    "\n",
    "plt.show()"
   ]
  },
  {
   "cell_type": "markdown",
   "id": "898ed03a",
   "metadata": {},
   "source": [
    "Данные меньше 2.5 минут встречаются достаточно редко, а поездки менее 1 минуты выглядят как аномалии. \n",
    "уберу аномальные значения меньше 1 минуты."
   ]
  },
  {
   "cell_type": "code",
   "execution_count": 20,
   "id": "00e913e9",
   "metadata": {},
   "outputs": [
    {
     "data": {
      "image/png": "[encoded data removed]",
      "text/plain": [
       "<Figure size 720x432 with 1 Axes>"
      ]
     },
     "metadata": {
      "needs_background": "light"
     },
     "output_type": "display_data"
    }
   ],
   "source": [
    "duration_without_anomaly = riders_go.query('duration > 2.5')\n",
    "\n",
    "plt.figure(figsize=(10, 6))\n",
    "\n",
    "duration_without_anomaly['duration'].plot(kind='hist',bins=100)\n",
    "\n",
    "plt.grid(True,alpha=0.3)\n",
    "\n",
    "plt.xlabel('Длительность поездки, (минуты)',fontsize=14)\n",
    "plt.ylabel('Количество поездок',fontsize=14)\n",
    "plt.title('Количество поездок разной продолжительности без аномальных значений',fontsize=18) \n",
    "\n",
    "plt.show()"
   ]
  },
  {
   "cell_type": "markdown",
   "id": "435d25ce",
   "metadata": {},
   "source": [
    "**Больше всего** поездок совершают длительностью от 10 до 25 минут.\n",
    "\n",
    "**Реже** берут напрокат самокат длительностью 5-10 минут, 25-35 минут.\n",
    "\n",
    "**Совсем редко** на длительность до 5 минут, 35 и более минут."
   ]
  },
  {
   "cell_type": "markdown",
   "id": "d930cef1",
   "metadata": {},
   "source": [
    "### Промежуточный вывод по этапу"
   ]
  },
  {
   "cell_type": "code",
   "execution_count": 21,
   "id": "2075a4f7",
   "metadata": {},
   "outputs": [
    {
     "data": {
      "image/png": "[encoded data removed]",
      "text/plain": [
       "<Figure size 1080x360 with 3 Axes>"
      ]
     },
     "metadata": {
      "needs_background": "light"
     },
     "output_type": "display_data"
    }
   ],
   "source": [
    "fig, axs = plt.subplots(nrows=1,ncols=3,figsize=(15, 5))\n",
    "\n",
    "sns.boxplot(data=users_go['age'], ax=axs[0]).set_title('Диаграмма размаха возраста')\n",
    "axs[0].grid(True)\n",
    "axs[0].set_ylabel('Возраст',fontsize=14)\n",
    "\n",
    "max_y0 = np.ceil(users_go['age'].max() / 10) * 10 # округляем до следующего \"десятка\"\n",
    "axs[0].set_yticks(np.arange(0, max_y0 + 1, 5)) # устанавливаем деления оси Y\n",
    "\n",
    "sns.boxplot(data=riders_go['distance'], ax=axs[1]).set_title('Диаграмма размаха дистанции')\n",
    "axs[1].grid(True)\n",
    "axs[1].set_ylabel('Дистанция, (м)',fontsize=14)\n",
    "\n",
    "max_y1 = np.ceil(riders_go['distance'].max() / 100) * 100 # округляем до следующей \"сотни\"\n",
    "axs[1].set_yticks(np.arange(0, max_y1 + 1, 400)) # устанавливаем деления оси Y\n",
    "\n",
    "\n",
    "sns.boxplot(data=riders_go['duration'], ax=axs[2]).set_title('Диаграмма размаха продолжильности пути')\n",
    "axs[2].grid(True)\n",
    "axs[2].set_ylabel('Минуты',fontsize=14)\n",
    "\n",
    "max_y2 = np.ceil(riders_go['duration'].max() / 10) * 10 # округляем до следующей \"сотни\"\n",
    "axs[2].set_yticks(np.arange(0, max_y2 + 1, 2)) # устанавливаем деления оси Y\n",
    "\n",
    "plt.subplots_adjust(wspace=0.4) # отступ между графиками\n",
    "\n",
    "plt.show()"
   ]
  },
  {
   "cell_type": "markdown",
   "id": "210536de",
   "metadata": {},
   "source": [
    "На диаграмме размаха 99% значений находятся внутри интервала, который ограничивается верхним и нижним \"усами\" диаграммы.\n",
    "\n",
    "Верхний \"ус\" представляет собой границу сверху на диаграмме, где находятся самые большие значения, не являющиеся выбросами. Нижний \"ус\" - это граница снизу, где находятся наименьшие значения, не являющиеся выбросами. Выбросы, которые расположены за пределами усов, отображаются на диаграмме в виде отдельных точек или знаков. Таким образом, 99% значений находятся внутри интервала между нижним и верхним \"усами\" диаграммы размаха.\n",
    "\n",
    "\n",
    "50% центарльных данных о возрасте равны 25 годам (разброс ± 2.5 года) - основная аудитория это люди в возрасте 25 лет, стоит обратить внимание именно на неё.\n",
    "99% всех возростов сервиса находятся в пределе от 13 лет до 37 лет, остальные значений крайние редкие.\n",
    "\n",
    "В основном дистанция, которую проезжают пользователи около 3200 метров (разброс ± 500 метров) - это центральные 50% данных о пользователях. 99% дистанций пользователь можно охарактеризовать интервалом от 700 до 5600 метров.\n",
    "\n",
    "Так же, 18 минут - это среднее время центральных 50% данных о пользователях (с разбросом ± 4 минуты). 99% проведенного времени в пути покрывает интервал от 2 до 34 минут аренды самоката пользователем.\n",
    "\n",
    "**Первичные рекомендации для бизнеса, которые помогут развить сервис:** обратить внимание, что большую возрастную категорию пользователей составляют люди в возрасте 25 лет (± 2.5 года).\n",
    "<br> *Выставлять самокаты для аренды в местах скопления людей именно приведенного ранее возраста, это могут быть ТЦ, клубы, парки и т. п., здесь конечно стоит проводить дополнительное исследование, но установленнй ранее возраст уточняет критерии*\n",
    "\n",
    "Люди в большей мере передвигаются на дистанции 3200 метров (± 500 метров), а проводят время в пути 18 минут (± 4 минуты). \n",
    "<br>*например, выставлять самокаты в такой локации, где люди захотят проехать расстояние в перделах выведенных дистанциях и времени поездки, к примеру, от универститетов, до ближайших ТЦ и т. п.*\n"
   ]
  },
  {
   "cell_type": "markdown",
   "id": "00451a9e",
   "metadata": {},
   "source": [
    "Все графики имеют нормальный характер распределения, часто встречаются среднее значение и близкие к нему, а крайние значения встречаются редко.\n",
    "\n",
    "Частота встречаемости городов:\n",
    "\n",
    "<br> Различие в доле присутствия городов небольшое, составляет ~ от 1 до 3.5%. Такую разницу можно считать несущественной. Можно сказать, что данные представленны в сравнтиельно одинаковом объеме. \n",
    "\n",
    "<br>\n",
    "Подписка/без подписки:\n",
    "<br>\n",
    "* Доля пользователей без подписки немного больше 54%, против доли пользователей с подпиской 46% (разница 8.8%)\n"
   ]
  },
  {
   "cell_type": "markdown",
   "id": "4ef51331",
   "metadata": {},
   "source": [
    "## Объединение данных"
   ]
  },
  {
   "cell_type": "markdown",
   "id": "91aa28b3",
   "metadata": {},
   "source": [
    "### Объединение данных о пользователях, поездках и подписках в один датафрейм"
   ]
  },
  {
   "cell_type": "code",
   "execution_count": 22,
   "id": "1959103b",
   "metadata": {},
   "outputs": [
    {
     "name": "stdout",
     "output_type": "stream",
     "text": [
      "количество строк в riders_go до объединения: 18068\n",
      "количество пропусков до объяединения:\n",
      "user_id     0\n",
      "distance    0\n",
      "duration    0\n",
      "date        0\n",
      "month       0\n",
      "dtype: int64\n",
      "\n",
      "\n",
      "количество строк в riders_go до объединения: 1534\n",
      "количество пропусков до объяединения:\n",
      "user_id              0\n",
      "name                 0\n",
      "age                  0\n",
      "city                 0\n",
      "subscription_type    0\n",
      "dtype: int64\n"
     ]
    },
    {
     "data": {
      "text/html": [
       "<div>\n",
       "<style scoped>\n",
       "    .dataframe tbody tr th:only-of-type {\n",
       "        vertical-align: middle;\n",
       "    }\n",
       "\n",
       "    .dataframe tbody tr th {\n",
       "        vertical-align: top;\n",
       "    }\n",
       "\n",
       "    .dataframe thead th {\n",
       "        text-align: right;\n",
       "    }\n",
       "</style>\n",
       "<table border=\"1\" class=\"dataframe\">\n",
       "  <thead>\n",
       "    <tr style=\"text-align: right;\">\n",
       "      <th></th>\n",
       "      <th>user_id</th>\n",
       "      <th>distance</th>\n",
       "      <th>duration</th>\n",
       "      <th>date</th>\n",
       "      <th>month</th>\n",
       "      <th>name</th>\n",
       "      <th>age</th>\n",
       "      <th>city</th>\n",
       "      <th>subscription_type</th>\n",
       "    </tr>\n",
       "  </thead>\n",
       "  <tbody>\n",
       "    <tr>\n",
       "      <th>0</th>\n",
       "      <td>1</td>\n",
       "      <td>4409.92</td>\n",
       "      <td>25.599769</td>\n",
       "      <td>2021-01-01</td>\n",
       "      <td>1</td>\n",
       "      <td>Кира</td>\n",
       "      <td>22</td>\n",
       "      <td>Тюмень</td>\n",
       "      <td>ultra</td>\n",
       "    </tr>\n",
       "    <tr>\n",
       "      <th>1</th>\n",
       "      <td>1</td>\n",
       "      <td>2617.59</td>\n",
       "      <td>15.816871</td>\n",
       "      <td>2021-01-18</td>\n",
       "      <td>1</td>\n",
       "      <td>Кира</td>\n",
       "      <td>22</td>\n",
       "      <td>Тюмень</td>\n",
       "      <td>ultra</td>\n",
       "    </tr>\n",
       "    <tr>\n",
       "      <th>2</th>\n",
       "      <td>1</td>\n",
       "      <td>754.16</td>\n",
       "      <td>6.232113</td>\n",
       "      <td>2021-04-20</td>\n",
       "      <td>4</td>\n",
       "      <td>Кира</td>\n",
       "      <td>22</td>\n",
       "      <td>Тюмень</td>\n",
       "      <td>ultra</td>\n",
       "    </tr>\n",
       "    <tr>\n",
       "      <th>3</th>\n",
       "      <td>1</td>\n",
       "      <td>2694.78</td>\n",
       "      <td>18.511000</td>\n",
       "      <td>2021-08-11</td>\n",
       "      <td>8</td>\n",
       "      <td>Кира</td>\n",
       "      <td>22</td>\n",
       "      <td>Тюмень</td>\n",
       "      <td>ultra</td>\n",
       "    </tr>\n",
       "    <tr>\n",
       "      <th>4</th>\n",
       "      <td>1</td>\n",
       "      <td>4028.69</td>\n",
       "      <td>26.265803</td>\n",
       "      <td>2021-08-28</td>\n",
       "      <td>8</td>\n",
       "      <td>Кира</td>\n",
       "      <td>22</td>\n",
       "      <td>Тюмень</td>\n",
       "      <td>ultra</td>\n",
       "    </tr>\n",
       "    <tr>\n",
       "      <th>5</th>\n",
       "      <td>1</td>\n",
       "      <td>2770.89</td>\n",
       "      <td>16.650138</td>\n",
       "      <td>2021-10-09</td>\n",
       "      <td>10</td>\n",
       "      <td>Кира</td>\n",
       "      <td>22</td>\n",
       "      <td>Тюмень</td>\n",
       "      <td>ultra</td>\n",
       "    </tr>\n",
       "    <tr>\n",
       "      <th>6</th>\n",
       "      <td>1</td>\n",
       "      <td>3039.02</td>\n",
       "      <td>14.927879</td>\n",
       "      <td>2021-10-19</td>\n",
       "      <td>10</td>\n",
       "      <td>Кира</td>\n",
       "      <td>22</td>\n",
       "      <td>Тюмень</td>\n",
       "      <td>ultra</td>\n",
       "    </tr>\n",
       "    <tr>\n",
       "      <th>7</th>\n",
       "      <td>1</td>\n",
       "      <td>2842.12</td>\n",
       "      <td>23.117468</td>\n",
       "      <td>2021-11-06</td>\n",
       "      <td>11</td>\n",
       "      <td>Кира</td>\n",
       "      <td>22</td>\n",
       "      <td>Тюмень</td>\n",
       "      <td>ultra</td>\n",
       "    </tr>\n",
       "    <tr>\n",
       "      <th>8</th>\n",
       "      <td>1</td>\n",
       "      <td>3412.69</td>\n",
       "      <td>15.238072</td>\n",
       "      <td>2021-11-14</td>\n",
       "      <td>11</td>\n",
       "      <td>Кира</td>\n",
       "      <td>22</td>\n",
       "      <td>Тюмень</td>\n",
       "      <td>ultra</td>\n",
       "    </tr>\n",
       "    <tr>\n",
       "      <th>9</th>\n",
       "      <td>1</td>\n",
       "      <td>748.69</td>\n",
       "      <td>15.041884</td>\n",
       "      <td>2021-11-22</td>\n",
       "      <td>11</td>\n",
       "      <td>Кира</td>\n",
       "      <td>22</td>\n",
       "      <td>Тюмень</td>\n",
       "      <td>ultra</td>\n",
       "    </tr>\n",
       "    <tr>\n",
       "      <th>10</th>\n",
       "      <td>1</td>\n",
       "      <td>4031.02</td>\n",
       "      <td>17.674448</td>\n",
       "      <td>2021-12-14</td>\n",
       "      <td>12</td>\n",
       "      <td>Кира</td>\n",
       "      <td>22</td>\n",
       "      <td>Тюмень</td>\n",
       "      <td>ultra</td>\n",
       "    </tr>\n",
       "    <tr>\n",
       "      <th>11</th>\n",
       "      <td>1</td>\n",
       "      <td>2720.61</td>\n",
       "      <td>9.529463</td>\n",
       "      <td>2021-12-22</td>\n",
       "      <td>12</td>\n",
       "      <td>Кира</td>\n",
       "      <td>22</td>\n",
       "      <td>Тюмень</td>\n",
       "      <td>ultra</td>\n",
       "    </tr>\n",
       "    <tr>\n",
       "      <th>12</th>\n",
       "      <td>2</td>\n",
       "      <td>3105.09</td>\n",
       "      <td>24.307514</td>\n",
       "      <td>2021-03-15</td>\n",
       "      <td>3</td>\n",
       "      <td>Станислав</td>\n",
       "      <td>31</td>\n",
       "      <td>Омск</td>\n",
       "      <td>ultra</td>\n",
       "    </tr>\n",
       "    <tr>\n",
       "      <th>13</th>\n",
       "      <td>2</td>\n",
       "      <td>3053.52</td>\n",
       "      <td>11.543256</td>\n",
       "      <td>2021-03-18</td>\n",
       "      <td>3</td>\n",
       "      <td>Станислав</td>\n",
       "      <td>31</td>\n",
       "      <td>Омск</td>\n",
       "      <td>ultra</td>\n",
       "    </tr>\n",
       "    <tr>\n",
       "      <th>14</th>\n",
       "      <td>2</td>\n",
       "      <td>4029.12</td>\n",
       "      <td>25.109188</td>\n",
       "      <td>2021-03-23</td>\n",
       "      <td>3</td>\n",
       "      <td>Станислав</td>\n",
       "      <td>31</td>\n",
       "      <td>Омск</td>\n",
       "      <td>ultra</td>\n",
       "    </tr>\n",
       "  </tbody>\n",
       "</table>\n",
       "</div>"
      ],
      "text/plain": [
       "    user_id  distance   duration       date  month       name  age    city  \\\n",
       "0         1   4409.92  25.599769 2021-01-01      1       Кира   22  Тюмень   \n",
       "1         1   2617.59  15.816871 2021-01-18      1       Кира   22  Тюмень   \n",
       "2         1    754.16   6.232113 2021-04-20      4       Кира   22  Тюмень   \n",
       "3         1   2694.78  18.511000 2021-08-11      8       Кира   22  Тюмень   \n",
       "4         1   4028.69  26.265803 2021-08-28      8       Кира   22  Тюмень   \n",
       "5         1   2770.89  16.650138 2021-10-09     10       Кира   22  Тюмень   \n",
       "6         1   3039.02  14.927879 2021-10-19     10       Кира   22  Тюмень   \n",
       "7         1   2842.12  23.117468 2021-11-06     11       Кира   22  Тюмень   \n",
       "8         1   3412.69  15.238072 2021-11-14     11       Кира   22  Тюмень   \n",
       "9         1    748.69  15.041884 2021-11-22     11       Кира   22  Тюмень   \n",
       "10        1   4031.02  17.674448 2021-12-14     12       Кира   22  Тюмень   \n",
       "11        1   2720.61   9.529463 2021-12-22     12       Кира   22  Тюмень   \n",
       "12        2   3105.09  24.307514 2021-03-15      3  Станислав   31    Омск   \n",
       "13        2   3053.52  11.543256 2021-03-18      3  Станислав   31    Омск   \n",
       "14        2   4029.12  25.109188 2021-03-23      3  Станислав   31    Омск   \n",
       "\n",
       "   subscription_type  \n",
       "0              ultra  \n",
       "1              ultra  \n",
       "2              ultra  \n",
       "3              ultra  \n",
       "4              ultra  \n",
       "5              ultra  \n",
       "6              ultra  \n",
       "7              ultra  \n",
       "8              ultra  \n",
       "9              ultra  \n",
       "10             ultra  \n",
       "11             ultra  \n",
       "12             ultra  \n",
       "13             ultra  \n",
       "14             ultra  "
      ]
     },
     "execution_count": 22,
     "metadata": {},
     "output_type": "execute_result"
    }
   ],
   "source": [
    "print(f'количество строк в riders_go до объединения: {len(riders_go)}\\n\\\n",
    "количество пропусков до объяединения:\\n{riders_go.isna().sum()}')\n",
    "\n",
    "print()\n",
    "print()\n",
    "\n",
    "print(f'количество строк в riders_go до объединения: {len(users_go)}\\n\\\n",
    "количество пропусков до объяединения:\\n{users_go.isna().sum()}')\n",
    "\n",
    "merge_df = riders_go.merge(users_go,on='user_id',how='left')\n",
    "merge_df.head(15)\n",
    "\n",
    "\n"
   ]
  },
  {
   "cell_type": "code",
   "execution_count": 23,
   "id": "10783a8b",
   "metadata": {},
   "outputs": [
    {
     "name": "stdout",
     "output_type": "stream",
     "text": [
      "количество строк в merge_df после объединения: 18068\n",
      "количество пропусков после объяединения:\n",
      "user_id              0\n",
      "distance             0\n",
      "duration             0\n",
      "date                 0\n",
      "month                0\n",
      "name                 0\n",
      "age                  0\n",
      "city                 0\n",
      "subscription_type    0\n",
      "dtype: int64\n"
     ]
    }
   ],
   "source": [
    "print(f'количество строк в merge_df после объединения: {len(merge_df)}\\n\\\n",
    "количество пропусков после объяединения:\\n{merge_df.isna().sum()}')"
   ]
  },
  {
   "cell_type": "markdown",
   "id": "4198f04f",
   "metadata": {},
   "source": [
    "Оценил количесвто строк и пропуск в датафреймах riders_go и users_go до объединения и оценил уже теже параметры в объединенном датафрейме merge_df. После объединения строки не потеряли и пропусков не добавилось."
   ]
  },
  {
   "cell_type": "markdown",
   "id": "68dd341f",
   "metadata": {},
   "source": [
    "### Создам ещё два датафрейма дополнительных датафрейма"
   ]
  },
  {
   "cell_type": "code",
   "execution_count": 24,
   "id": "49d9d995",
   "metadata": {},
   "outputs": [
    {
     "name": "stdout",
     "output_type": "stream",
     "text": [
      "количество строк в merge_df.subscription_type до разделения: 18068\n",
      "количество пропусков до разделения:0\n",
      "\n",
      "\n",
      "Суммарное количество строк совпадает после разъединения\n",
      "Пропусков нет\n"
     ]
    }
   ],
   "source": [
    "#c данными о пользователях без подписки;\n",
    "#с данными о пользователях с подпиской.\n",
    "\n",
    "print(f'количество строк в merge_df.subscription_type до разделения: {len(merge_df.subscription_type)}\\n\\\n",
    "количество пропусков до разделения:{merge_df.subscription_type.isna().sum()}')\n",
    "\n",
    "with_subs = merge_df[merge_df['subscription_type'] != 'free']\n",
    "free_subs = merge_df[merge_df['subscription_type'] == 'free']\n",
    "\n",
    "print()\n",
    "print()\n",
    "\n",
    "\n",
    "if (len(with_subs.subscription_type) + len(free_subs.subscription_type)) == len(merge_df.subscription_type):\n",
    "    print('Суммарное количество строк совпадает после разъединения')\n",
    "else:\n",
    "    print('Не совпадает суммарное количество строк после разъединения, потеряли данные')\n",
    "    \n",
    "if (with_subs.subscription_type.isna().sum()+free_subs.subscription_type.isna().sum()) == 0:\n",
    "    print('Пропусков нет')\n",
    "else:\n",
    "    print('Появились пропуски')\n",
    "\n",
    "        "
   ]
  },
  {
   "cell_type": "markdown",
   "id": "c0406398",
   "metadata": {},
   "source": [
    "Провереки размерности строк и наличия пропусков, показала, что после разъединения датафреймов по фильтру, мы не теряем данные и не появляются пропуски."
   ]
  },
  {
   "cell_type": "markdown",
   "id": "2b4df45e",
   "metadata": {},
   "source": [
    "**Датафреймы** `with_subs` и `free_subs` содержат записи о каждой поездки. То есть, здесь все поездки пользователя с конкретным ID."
   ]
  },
  {
   "cell_type": "markdown",
   "id": "995be406",
   "metadata": {},
   "source": [
    "### Визуализация информации о расстоянии и времени поездок для пользователей обеих категорий"
   ]
  },
  {
   "cell_type": "markdown",
   "id": "c763dd9a",
   "metadata": {},
   "source": [
    "#### Категория пользователей с подпиской"
   ]
  },
  {
   "cell_type": "code",
   "execution_count": 25,
   "id": "c8decdad",
   "metadata": {},
   "outputs": [
    {
     "data": {
      "image/png": "[encoded data removed]",
      "text/plain": [
       "<Figure size 1080x576 with 1 Axes>"
      ]
     },
     "metadata": {
      "needs_background": "light"
     },
     "output_type": "display_data"
    }
   ],
   "source": [
    "with_sub_dist_trip = with_subs['distance']\n",
    "def distance_category_with_sub(x,lower,upper): # x-порядковый номер переменной с count, lower - нижний порог для фильтра,\n",
    "                                    # upper верхний порог для фильтра\n",
    "        \n",
    "    xx = with_sub_dist_trip[(with_sub_dist_trip >=lower)&(with_sub_dist_trip <=upper)].count() #фильтрую по диапазону\n",
    "    return xx.item() #переводу из np.int64, в обычный int\n",
    "    \n",
    "\n",
    "dist_lower_sub = [0,100,300,500,1000,2000,3000,4000,5000,6000]         #cписок нижних порогов\n",
    "dist_upper_sub = [100,300,500,1000,2000,3000,4000,5000,6000,8000]      # список верхних порогов\n",
    "dist_name_sub = ['0-100','100-300','300-500','500-1000','1000-2000',\n",
    "             '2000-3000','3000-4000','4000-5000','5000-6000','6000-8000'] #имена индексов\n",
    "\n",
    "\n",
    "with_sub_series_distanse = pd.Series([],dtype='int')\n",
    "\n",
    "for name,lower,upper in zip(dist_name_sub,dist_lower_sub,dist_upper_sub):\n",
    "    with_sub_series_distanse = with_sub_series_distanse.append(pd.Series([distance_category_with_sub(name,lower,upper)],\n",
    "                                                                         index=[name]))\n",
    "    \n",
    "ax = with_sub_series_distanse.plot(kind='bar',rot=0,figsize=(15,8))\n",
    "\n",
    "for p in ax.patches:\n",
    "    ax.annotate(str(p.get_height()),\n",
    "                (p.get_x() + p.get_width() / 2.,\n",
    "                 p.get_height()), \n",
    "                ha='center')\n",
    "\n",
    "plt.xlabel('Диапазон дистанции, (м)',fontsize=14)\n",
    "plt.ylabel('Количество поездок',fontsize=14)\n",
    "plt.title('Количество поездок в диапазоне дистанций, юзеры с подпиской',fontsize=18)    \n",
    "plt.grid(True,alpha=0.1)    \n",
    "plt.show()"
   ]
  },
  {
   "cell_type": "markdown",
   "id": "2dad454c",
   "metadata": {},
   "source": [
    "Пользователи с подпиской **чаще** ездят на дистанции от 2000 метров до 4000 метров.\n",
    "\n",
    "**Реже** от 4000-5000 метров.\n",
    "\n",
    "Остальные дистанции встречаются **совсем редко**."
   ]
  },
  {
   "cell_type": "code",
   "execution_count": 26,
   "id": "84aed28e",
   "metadata": {},
   "outputs": [
    {
     "data": {
      "image/png": "[encoded data removed]",
      "text/plain": [
       "<Figure size 720x576 with 1 Axes>"
      ]
     },
     "metadata": {
      "needs_background": "light"
     },
     "output_type": "display_data"
    }
   ],
   "source": [
    "with_sub_dur_trip = with_subs['duration']\n",
    "\n",
    "def duration_category_with_sub(x,lower,upper): # x-порядковый номер переменной с count, lower - нижний порог для фильтра,\n",
    "                                    # upper верхний порог для фильтра\n",
    "        \n",
    "    xx = with_sub_dur_trip[(with_sub_dur_trip >=lower)&(with_sub_dur_trip <=upper)].count() #фильтрую по диапазону\n",
    "    return xx.item() #переводу из np.int64, в обычный int\n",
    "    \n",
    "dist_lower_dur_sub = 0 # нижний порог\n",
    "dist_upper_dur_sub = 5 # верхний порог\n",
    "dist_name_dur_sub = ['0-5','5-10','10-15','15-20','20-25','25-30','30-35','35-40','40-45'] #имена индексов\n",
    "\n",
    "\n",
    "with_sub_series_duration = pd.Series([],dtype='int')\n",
    "\n",
    "for name in dist_name_dur_sub:\n",
    "    with_sub_series_duration = with_sub_series_duration.append(pd.Series([duration_category_with_sub(name,\n",
    "                                                                        dist_lower_dur_sub,\n",
    "                                                                        dist_upper_dur_sub)],\n",
    "                                                                         index=[name]))\n",
    "    if dist_lower_dur_sub < 40:\n",
    "        dist_lower_dur_sub +=5\n",
    "        dist_upper_dur_sub +=5\n",
    "\n",
    "ax = with_sub_series_duration.plot(kind='bar',\n",
    "                    rot=0,\n",
    "                    figsize=(10,8))\n",
    "for p in ax.patches:\n",
    "    ax.annotate(str(p.get_height()),\n",
    "                (p.get_x() + p.get_width() / 2.,\n",
    "                 p.get_height()), \n",
    "                ha='center')\n",
    "\n",
    "plt.xlabel('Длительность поездки, (минуты)',fontsize=14)\n",
    "plt.ylabel('Количество поездок',fontsize=14)\n",
    "plt.title('Количество поездок разной продолжительности, юзеры с подпиской',fontsize=18)    \n",
    "plt.grid(True,alpha=0.1) \n",
    "plt.show()"
   ]
  },
  {
   "cell_type": "markdown",
   "id": "69cc14bb",
   "metadata": {},
   "source": [
    "Пользователи с подпиской **чаще** проводят от 10 до 25 минут в дороге. \n",
    "\n",
    "**Реже** от 5 до 10 минут, а также от 25 до 35 минут.\n",
    "\n",
    "Остальные случаи встречаются **совсем редко**."
   ]
  },
  {
   "cell_type": "markdown",
   "id": "88fc794c",
   "metadata": {},
   "source": [
    "#### Категория пользователей без подписки"
   ]
  },
  {
   "cell_type": "code",
   "execution_count": 27,
   "id": "c446b4a3",
   "metadata": {},
   "outputs": [
    {
     "data": {
      "image/png": "[encoded data removed]",
      "text/plain": [
       "<Figure size 1080x576 with 1 Axes>"
      ]
     },
     "metadata": {
      "needs_background": "light"
     },
     "output_type": "display_data"
    }
   ],
   "source": [
    "free_sub_dist_trip = free_subs['distance']\n",
    "def distance_category_free_sub(x,lower,upper): # x-порядковый номер переменной с count, lower - нижний порог для фильтра,\n",
    "                                    # upper верхний порог для фильтра\n",
    "        \n",
    "    xx = free_sub_dist_trip[(free_sub_dist_trip >=lower)&(free_sub_dist_trip <=upper)].count() #фильтрую по диапазону\n",
    "    return xx.item() #переводу из np.int64, в обычный int\n",
    "    \n",
    "\n",
    "dist_lower_free = [0,100,300,500,1000,2000,3000,4000,5000,6000]         #cписок нижних порогов\n",
    "dist_upper_free = [100,300,500,1000,2000,3000,4000,5000,6000,8000]      # список верхних порогов\n",
    "dist_name_free = ['0-100','100-300','300-500','500-1000','1000-2000',\n",
    "             '2000-3000','3000-4000','4000-5000','5000-6000','6000-8000'] #имена индексов\n",
    "\n",
    "\n",
    "free_sub_series_distanse = pd.Series([],dtype='int')\n",
    "\n",
    "for name,lower,upper in zip(dist_name_free,dist_lower_free,dist_upper_free):\n",
    "    free_sub_series_distanse = free_sub_series_distanse.append(pd.Series([distance_category_free_sub(name,lower,upper)],\n",
    "                                                                         index=[name]))\n",
    "    \n",
    "ax = free_sub_series_distanse.plot(kind='bar',rot=0,figsize=(15,8))\n",
    "\n",
    "for p in ax.patches:\n",
    "    ax.annotate(str(p.get_height()),\n",
    "                (p.get_x() + p.get_width() / 2.,\n",
    "                 p.get_height()), \n",
    "                ha='center')\n",
    "\n",
    "plt.xlabel('Диапазон дистанции, (м)',fontsize=14)\n",
    "plt.ylabel('Количество поездок',fontsize=14)\n",
    "plt.title('Количество поездок в диапазоне дистанций, юзеры без подписки',fontsize=18)    \n",
    "plt.grid(True,alpha=0.1)    \n",
    "plt.show()"
   ]
  },
  {
   "cell_type": "markdown",
   "id": "5d973f81",
   "metadata": {},
   "source": [
    "Пользователи без подписки **чаще** ездят на дистанции от 2000 метров до 4000 метров.\n",
    "\n",
    "**Реже** от 4000-5000 метров.\n",
    "\n",
    "Остальные дистанции встречаются **совсем редко**."
   ]
  },
  {
   "cell_type": "code",
   "execution_count": 28,
   "id": "4da4547e",
   "metadata": {},
   "outputs": [
    {
     "data": {
      "image/png": "[encoded data removed]",
      "text/plain": [
       "<Figure size 720x576 with 1 Axes>"
      ]
     },
     "metadata": {
      "needs_background": "light"
     },
     "output_type": "display_data"
    }
   ],
   "source": [
    "free_sub_dur_trip = free_subs['duration']\n",
    "\n",
    "def duration_category_free_sub(x,lower,upper): # x-порядковый номер переменной с count, lower - нижний порог для фильтра,\n",
    "                                    # upper верхний порог для фильтра\n",
    "        \n",
    "    xx = free_sub_dur_trip[(free_sub_dur_trip >=lower)&(free_sub_dur_trip <=upper)].count() #фильтрую по диапазону\n",
    "    return xx.item() #переводу из np.int64, в обычный int\n",
    "    \n",
    "dist_lower_dur_free = 0 # нижний порог\n",
    "dist_upper_dur_free = 5 # верхний порог\n",
    "dist_name_dur_free = ['0-5','5-10','10-15','15-20','20-25','25-30','30-35','35-40','40-45'] #имена индексов\n",
    "\n",
    "\n",
    "free_sub_series_duration = pd.Series([],dtype='int')\n",
    "\n",
    "for name in dist_name_dur_free:\n",
    "    free_sub_series_duration = free_sub_series_duration.append(pd.Series([duration_category_free_sub(name,\n",
    "                                                                        dist_lower_dur_free,\n",
    "                                                                        dist_upper_dur_free)],\n",
    "                                                                         index=[name]))\n",
    "    if dist_lower_dur_free < 40:\n",
    "        dist_lower_dur_free +=5\n",
    "        dist_upper_dur_free +=5\n",
    "\n",
    "ax = free_sub_series_duration.plot(kind='bar',\n",
    "                    rot=0,\n",
    "                    figsize=(10,8))\n",
    "for p in ax.patches:\n",
    "    ax.annotate(str(p.get_height()),\n",
    "                (p.get_x() + p.get_width() / 2.,\n",
    "                 p.get_height()), \n",
    "                ha='center')\n",
    "\n",
    "plt.xlabel('Длительность поездки, (минуты)',fontsize=14)\n",
    "plt.ylabel('Количество поездок',fontsize=14)\n",
    "plt.title('Количество поездок разной продолжительности, юзеры без подписки',fontsize=18)    \n",
    "plt.grid(True,alpha=0.1) \n",
    "plt.show()"
   ]
  },
  {
   "cell_type": "markdown",
   "id": "65295f96",
   "metadata": {},
   "source": [
    "Пользователи без подписки **чаще** проводят от 10 до 25 минут в дороге. \n",
    "\n",
    "**Реже** от 5 до 10 минут, а также от 25 до 35 минут.\n",
    "\n",
    "Остальные случаи встречаются **совсем редко**."
   ]
  },
  {
   "cell_type": "markdown",
   "id": "00ec30d3",
   "metadata": {},
   "source": [
    "### Гистограммы сравнения исследуемых параметров"
   ]
  },
  {
   "cell_type": "markdown",
   "id": "1837204b",
   "metadata": {},
   "source": [
    "#### Гистограммы дистанций"
   ]
  },
  {
   "cell_type": "code",
   "execution_count": 29,
   "id": "0aa93edd",
   "metadata": {},
   "outputs": [
    {
     "data": {
      "image/png": "[encoded data removed]",
      "text/plain": [
       "<Figure size 1080x360 with 2 Axes>"
      ]
     },
     "metadata": {
      "needs_background": "light"
     },
     "output_type": "display_data"
    },
    {
     "name": "stdout",
     "output_type": "stream",
     "text": [
      "Статистики по \"дистанции\" с подпиской: \n",
      "\n",
      "count    6500.000000\n",
      "mean     3115.445431\n",
      "std       836.895369\n",
      "min       244.210000\n",
      "25%      2785.447500\n",
      "50%      3148.640000\n",
      "75%      3560.577500\n",
      "max      5699.770000\n",
      "Name: distance, dtype: float64\n",
      "\n",
      "Статистики по \"дистанции\" без подписки: \n",
      "\n",
      "count    11568.000000\n",
      "mean      3045.495284\n",
      "std       1246.173810\n",
      "min          0.860000\n",
      "25%       2366.560000\n",
      "50%       3114.650000\n",
      "75%       3905.695000\n",
      "max       7211.010000\n",
      "Name: distance, dtype: float64\n"
     ]
    }
   ],
   "source": [
    "fig, axs = plt.subplots(nrows=1,ncols=2,figsize=(10, 8))\n",
    "\n",
    "with_subs['distance'].plot(kind='hist',\n",
    "                           rot=0,\n",
    "                           figsize=(15,5),\n",
    "                           bins=(100),\n",
    "                           ax=axs[0]).set_title('Гист. дистанций с подпиской',fontsize=18)\n",
    "\n",
    "axs[0].grid(True)\n",
    "axs[0].set_xlabel('Дистанция',fontsize=14)\n",
    "axs[0].set_ylabel('Частота',fontsize=14)\n",
    "\n",
    "\n",
    "\n",
    "free_subs['distance'].plot(kind='hist',\n",
    "                           rot=0,\n",
    "                           figsize=(15,5),\n",
    "                           bins=(100),\n",
    "                           ax=axs[1],\n",
    "                          color = 'r').set_title('Гист. дистанций без подписки',fontsize=18)\n",
    "\n",
    "axs[1].grid(True)\n",
    "axs[1].set_xlabel('Дистанция',fontsize=14)\n",
    "axs[1].set_ylabel('Частота',fontsize=14)\n",
    "\n",
    "plt.show()\n",
    "\n",
    "print(f'Статистики по \"дистанции\" с подпиской: \\n\\n\\\n",
    "{with_subs.distance.describe()}')\n",
    "print()\n",
    "print(f'Статистики по \"дистанции\" без подписки: \\n\\n\\\n",
    "{free_subs.distance.describe()}')"
   ]
  },
  {
   "cell_type": "markdown",
   "id": "4ecce279",
   "metadata": {},
   "source": [
    "У пользователей с попдиской более частый инетрвал дистанций \"у́же\" по своему распределению, чем у пользователей без попдиски, это от 2500 до 3500 метров *(с подпиской)* и от 2000 до 4500 метров соответственно *без подписки*.\n",
    "\n",
    "Наиболее часто встречается дистанция 3500 метров у пользователей с подпиской.\n",
    "\n",
    "Без подписки у пользователей чаще встречается 2500 метров. "
   ]
  },
  {
   "cell_type": "code",
   "execution_count": 30,
   "id": "eddf2409",
   "metadata": {},
   "outputs": [
    {
     "data": {
      "image/png": "[encoded data removed]",
      "text/plain": [
       "<Figure size 1080x360 with 1 Axes>"
      ]
     },
     "metadata": {
      "needs_background": "light"
     },
     "output_type": "display_data"
    },
    {
     "name": "stdout",
     "output_type": "stream",
     "text": [
      "Статистики по \"дистанции\" с подпиской: \n",
      "\n",
      "count    6500.000000\n",
      "mean     3115.445431\n",
      "std       836.895369\n",
      "min       244.210000\n",
      "25%      2785.447500\n",
      "50%      3148.640000\n",
      "75%      3560.577500\n",
      "max      5699.770000\n",
      "Name: distance, dtype: float64\n",
      "\n",
      "Статистики по \"дистанции\" без подписки: \n",
      "\n",
      "count    11568.000000\n",
      "mean      3045.495284\n",
      "std       1246.173810\n",
      "min          0.860000\n",
      "25%       2366.560000\n",
      "50%       3114.650000\n",
      "75%       3905.695000\n",
      "max       7211.010000\n",
      "Name: distance, dtype: float64\n"
     ]
    }
   ],
   "source": [
    "fig, axs = plt.subplots(nrows=1,ncols=1,figsize=(14, 5))\n",
    "\n",
    "with_subs['distance'].plot(kind='hist',\n",
    "                           rot=0,\n",
    "                           figsize=(15,5),\n",
    "                           bins=(100),\n",
    "                           ax=axs)\n",
    "\n",
    "free_subs['distance'].plot(kind='hist',\n",
    "                           rot=0,\n",
    "                           figsize=(15,5),\n",
    "                           bins=(100),\n",
    "                           ax=axs,\n",
    "                           alpha=0.5,\n",
    "                          color = 'r')\n",
    "\n",
    "axs.grid(True)\n",
    "axs.set_xlabel('Дистанция',fontsize=14)\n",
    "axs.set_ylabel('Частота',fontsize=14)\n",
    "\n",
    "plt.show()\n",
    "\n",
    "print(f'Статистики по \"дистанции\" с подпиской: \\n\\n\\\n",
    "{with_subs.distance.describe()}')\n",
    "print()\n",
    "print(f'Статистики по \"дистанции\" без подписки: \\n\\n\\\n",
    "{free_subs.distance.describe()}')"
   ]
  },
  {
   "cell_type": "markdown",
   "id": "a251212c",
   "metadata": {},
   "source": [
    "#### Гистограммы продолжительности поездки"
   ]
  },
  {
   "cell_type": "code",
   "execution_count": 31,
   "id": "0784b0d1",
   "metadata": {},
   "outputs": [
    {
     "data": {
      "image/png": "[encoded data removed]",
      "text/plain": [
       "<Figure size 1080x360 with 2 Axes>"
      ]
     },
     "metadata": {
      "needs_background": "light"
     },
     "output_type": "display_data"
    },
    {
     "name": "stdout",
     "output_type": "stream",
     "text": [
      "Статистики по \"минутам\" с подпиской: \n",
      "\n",
      "count    6500.000000\n",
      "mean       18.541985\n",
      "std         5.572048\n",
      "min         3.760353\n",
      "25%        14.524654\n",
      "50%        18.178153\n",
      "75%        21.884129\n",
      "max        40.823963\n",
      "Name: duration, dtype: float64\n",
      "\n",
      "Статистики по \"минутам\" без подписки: \n",
      "\n",
      "count    11568.000000\n",
      "mean        17.390909\n",
      "std          6.326803\n",
      "min          0.500000\n",
      "25%         12.958437\n",
      "50%         17.326890\n",
      "75%         21.594071\n",
      "max         34.948498\n",
      "Name: duration, dtype: float64\n",
      "\n",
      "Процент аномальных значений с продолжительностью поездки = 0.5 минуты:0.82%\n"
     ]
    }
   ],
   "source": [
    "fig, axs = plt.subplots(nrows=1,ncols=2,figsize=(10, 8))\n",
    "\n",
    "with_subs['duration'].plot(kind='hist',\n",
    "                           rot=0,\n",
    "                           figsize=(15,5),\n",
    "                           bins=(100),\n",
    "                           ax=axs[0]).set_title('Гист. длина поездки (минуты) с подпиской',fontsize=18)\n",
    "\n",
    "axs[0].grid(True)\n",
    "axs[0].set_xlabel('Минуты',fontsize=14)\n",
    "axs[0].set_ylabel('Частота',fontsize=14)\n",
    "\n",
    "\n",
    "\n",
    "free_subs['duration'].plot(kind='hist',\n",
    "                           rot=0,\n",
    "                           figsize=(15,5),\n",
    "                           bins=(100),\n",
    "                           ax=axs[1],\n",
    "                          color = 'r').set_title('Гист. длина поездки (минуты) без подписки',fontsize=18)\n",
    "\n",
    "axs[1].grid(True)\n",
    "axs[1].set_xlabel('Минуты',fontsize=14)\n",
    "axs[1].set_ylabel('Частота',fontsize=14)\n",
    "\n",
    "plt.show()\n",
    "\n",
    "print(f'Статистики по \"минутам\" с подпиской: \\n\\n\\\n",
    "{with_subs.duration.describe()}')\n",
    "print()\n",
    "print(f'Статистики по \"минутам\" без подписки: \\n\\n\\\n",
    "{free_subs.duration.describe()}')\n",
    "\n",
    "checz = free_subs.query('duration <2').copy()\n",
    "\n",
    "print()\n",
    "print(f'Процент аномальных значений с продолжительностью поездки = 0.5 минуты:\\\n",
    "{round((len(checz.duration)/len(free_subs.duration))*100,2)}%')"
   ]
  },
  {
   "cell_type": "markdown",
   "id": "de46d673",
   "metadata": {},
   "source": [
    "По результатам статистик и гистограмм можно сделать выводы о том, что пользователи с подпиской всегда немного больше времени берут в аренду самокат: минимальные значения с подпиской 4 минуты, против 2 минут без подписки *(отбросив аномальные значения в 0.5 мин.)*, медианные значения минут в пути с подпиской 18, а без подписки 17 минут, и даже максимальное время в пути у пользователей с подпиской снова выше 40 минут, против 35 минут без подписки."
   ]
  },
  {
   "cell_type": "markdown",
   "id": "733cb5c5",
   "metadata": {},
   "source": [
    "В данных без подписки сущетсвует аномальный выброс с продолжительностью поездки 0.5 минуты, таких знаяений <1% от всех данных продолжительности поездки у пользователей без подписки.\n",
    "Можно обратить внимание на это и узнать, возможно была какая-то акция, когда пользователи без подписки могли поехать первые 30 секунд бесплатно, а далее начиналась тарификация. Чтобы разобраться в природе возникновения таких значений, стоит уточнить, что еще могло повлиять на получение такой длительности поездки.  \n",
    "\n",
    "Т. к. Аномальных данных <1%, медиана покроет достаточно хорошо все эти отклонения и по результам гистограммы и статистик можно делать выводы."
   ]
  },
  {
   "cell_type": "markdown",
   "id": "a0a3432e",
   "metadata": {},
   "source": [
    "### Промежуточные выводы по этапу"
   ]
  },
  {
   "cell_type": "markdown",
   "id": "5627b997",
   "metadata": {},
   "source": [
    "* Объединенил данные о пользователях, поездках и подписках в один датафрейм.\n",
    "<br>\n",
    "<br>\n",
    "* Разделил пользователей с подпиской и без подписки в два разных датафрейма, на основе датафрейма описанного выше.\n",
    "<br>\n",
    "<br>\n",
    "* Визуализировал информацию о расстоянии и времени поездок для пользователей обеих категорий, на основании этого, можно сделать следующие выводы:\n",
    "<br>\n",
    "\n",
    "Наиболее часто встречается дистанция 3500 метров у пользователей с подпиской\n",
    "<br>Без подписки у пользователей чаще встречается 2500 метров.\n",
    "\n",
    "<br>\n",
    "По результатам статистик и гистограмм можно сделать выводы о том, что пользователи с подпиской всегда немного больше времени берут в аренду самокат: минимальные значения с подпиской 4 минуты, против 2 минут без подписки (отбросив аномальные значения в 0.5 мин.), медианные значения минут в пути с подпиской 18, а без подписки 17 минут, и даже максимальное время в пути у пользователей с подпиской снова выше 40 минут, против 35 минут без подписки.\n"
   ]
  },
  {
   "cell_type": "markdown",
   "id": "402d620f",
   "metadata": {},
   "source": [
    "## Подсчёт выручки"
   ]
  },
  {
   "cell_type": "markdown",
   "id": "3760ab60",
   "metadata": {},
   "source": [
    "### Cуммарное расстояние, количество поездок и суммарное время для каждого пользователя за каждый месяц"
   ]
  },
  {
   "cell_type": "code",
   "execution_count": 32,
   "id": "7e2cc7cf",
   "metadata": {},
   "outputs": [
    {
     "data": {
      "text/html": [
       "<div>\n",
       "<style scoped>\n",
       "    .dataframe tbody tr th:only-of-type {\n",
       "        vertical-align: middle;\n",
       "    }\n",
       "\n",
       "    .dataframe tbody tr th {\n",
       "        vertical-align: top;\n",
       "    }\n",
       "\n",
       "    .dataframe thead th {\n",
       "        text-align: right;\n",
       "    }\n",
       "</style>\n",
       "<table border=\"1\" class=\"dataframe\">\n",
       "  <thead>\n",
       "    <tr style=\"text-align: right;\">\n",
       "      <th></th>\n",
       "      <th>subscription_type</th>\n",
       "      <th>minute_price</th>\n",
       "      <th>start_ride_price</th>\n",
       "      <th>subscription_fee</th>\n",
       "    </tr>\n",
       "  </thead>\n",
       "  <tbody>\n",
       "    <tr>\n",
       "      <th>0</th>\n",
       "      <td>free</td>\n",
       "      <td>8</td>\n",
       "      <td>50</td>\n",
       "      <td>0</td>\n",
       "    </tr>\n",
       "    <tr>\n",
       "      <th>1</th>\n",
       "      <td>ultra</td>\n",
       "      <td>6</td>\n",
       "      <td>0</td>\n",
       "      <td>199</td>\n",
       "    </tr>\n",
       "  </tbody>\n",
       "</table>\n",
       "</div>"
      ],
      "text/plain": [
       "  subscription_type  minute_price  start_ride_price  subscription_fee\n",
       "0              free             8                50                 0\n",
       "1             ultra             6                 0               199"
      ]
     },
     "metadata": {},
     "output_type": "display_data"
    },
    {
     "data": {
      "text/html": [
       "<div>\n",
       "<style scoped>\n",
       "    .dataframe tbody tr th:only-of-type {\n",
       "        vertical-align: middle;\n",
       "    }\n",
       "\n",
       "    .dataframe tbody tr th {\n",
       "        vertical-align: top;\n",
       "    }\n",
       "\n",
       "    .dataframe thead th {\n",
       "        text-align: right;\n",
       "    }\n",
       "</style>\n",
       "<table border=\"1\" class=\"dataframe\">\n",
       "  <thead>\n",
       "    <tr style=\"text-align: right;\">\n",
       "      <th></th>\n",
       "      <th>user_id</th>\n",
       "      <th>month</th>\n",
       "      <th>subscription_type</th>\n",
       "      <th>count_trip</th>\n",
       "      <th>distance</th>\n",
       "      <th>duration</th>\n",
       "    </tr>\n",
       "  </thead>\n",
       "  <tbody>\n",
       "    <tr>\n",
       "      <th>0</th>\n",
       "      <td>1</td>\n",
       "      <td>1</td>\n",
       "      <td>ultra</td>\n",
       "      <td>2</td>\n",
       "      <td>7027.51</td>\n",
       "      <td>42</td>\n",
       "    </tr>\n",
       "    <tr>\n",
       "      <th>1</th>\n",
       "      <td>1</td>\n",
       "      <td>4</td>\n",
       "      <td>ultra</td>\n",
       "      <td>1</td>\n",
       "      <td>754.16</td>\n",
       "      <td>7</td>\n",
       "    </tr>\n",
       "    <tr>\n",
       "      <th>2</th>\n",
       "      <td>1</td>\n",
       "      <td>8</td>\n",
       "      <td>ultra</td>\n",
       "      <td>2</td>\n",
       "      <td>6723.47</td>\n",
       "      <td>46</td>\n",
       "    </tr>\n",
       "    <tr>\n",
       "      <th>3</th>\n",
       "      <td>1</td>\n",
       "      <td>10</td>\n",
       "      <td>ultra</td>\n",
       "      <td>2</td>\n",
       "      <td>5809.91</td>\n",
       "      <td>32</td>\n",
       "    </tr>\n",
       "    <tr>\n",
       "      <th>4</th>\n",
       "      <td>1</td>\n",
       "      <td>11</td>\n",
       "      <td>ultra</td>\n",
       "      <td>3</td>\n",
       "      <td>7003.50</td>\n",
       "      <td>56</td>\n",
       "    </tr>\n",
       "  </tbody>\n",
       "</table>\n",
       "</div>"
      ],
      "text/plain": [
       "   user_id  month subscription_type  count_trip  distance  duration\n",
       "0        1      1             ultra           2   7027.51        42\n",
       "1        1      4             ultra           1    754.16         7\n",
       "2        1      8             ultra           2   6723.47        46\n",
       "3        1     10             ultra           2   5809.91        32\n",
       "4        1     11             ultra           3   7003.50        56"
      ]
     },
     "execution_count": 32,
     "metadata": {},
     "output_type": "execute_result"
    }
   ],
   "source": [
    "merge_df.duration = np.ceil(merge_df.duration).astype(int) # округляю в исх. ДФ минуты до следующего целого числа.\n",
    "\n",
    "merge_df_agg = merge_df.pivot_table(index=['user_id','month','subscription_type'],\n",
    "                                    values=['distance','duration','date'],\n",
    "                                    aggfunc={'distance':'sum','duration':'sum','date':'count'})\n",
    "\n",
    "\n",
    "merge_df_agg = merge_df_agg.rename(columns={'date':'count_trip'})\n",
    "\n",
    "display(subscriptions_go)\n",
    "\n",
    "merge_df_agg.reset_index(inplace=True) #сбрасываю индексы, чтобы проще обращаться к столбцам было\n",
    "\n",
    "merge_df_agg.head()"
   ]
  },
  {
   "cell_type": "code",
   "execution_count": 33,
   "id": "737105dc",
   "metadata": {},
   "outputs": [
    {
     "name": "stdout",
     "output_type": "stream",
     "text": [
      "Пропусков в агрегированных данных:\n",
      "user_id              0\n",
      "month                0\n",
      "subscription_type    0\n",
      "count_trip           0\n",
      "distance             0\n",
      "duration             0\n",
      "dtype: int64\n"
     ]
    }
   ],
   "source": [
    "print(f'Пропусков в агрегированных данных:\\n\\\n",
    "{merge_df_agg.isna().sum()}')"
   ]
  },
  {
   "cell_type": "markdown",
   "id": "d154bbf2",
   "metadata": {},
   "source": [
    "Проведена проверка на пропуски, после созданиях агрегированных данных в merge_df_agg. Пропусков нет. "
   ]
  },
  {
   "cell_type": "markdown",
   "id": "b2ad7ecd",
   "metadata": {},
   "source": [
    "### Помесячная выручка по каждому пользователю"
   ]
  },
  {
   "cell_type": "code",
   "execution_count": 34,
   "id": "29db879c",
   "metadata": {},
   "outputs": [
    {
     "data": {
      "text/html": [
       "<div>\n",
       "<style scoped>\n",
       "    .dataframe tbody tr th:only-of-type {\n",
       "        vertical-align: middle;\n",
       "    }\n",
       "\n",
       "    .dataframe tbody tr th {\n",
       "        vertical-align: top;\n",
       "    }\n",
       "\n",
       "    .dataframe thead th {\n",
       "        text-align: right;\n",
       "    }\n",
       "</style>\n",
       "<table border=\"1\" class=\"dataframe\">\n",
       "  <thead>\n",
       "    <tr style=\"text-align: right;\">\n",
       "      <th></th>\n",
       "      <th>user_id</th>\n",
       "      <th>month</th>\n",
       "      <th>subscription_type</th>\n",
       "      <th>count_trip</th>\n",
       "      <th>distance</th>\n",
       "      <th>duration</th>\n",
       "      <th>minute_price</th>\n",
       "      <th>start_ride_price</th>\n",
       "      <th>subscription_fee</th>\n",
       "      <th>monthly_revenue</th>\n",
       "    </tr>\n",
       "  </thead>\n",
       "  <tbody>\n",
       "    <tr>\n",
       "      <th>0</th>\n",
       "      <td>1</td>\n",
       "      <td>1</td>\n",
       "      <td>ultra</td>\n",
       "      <td>2</td>\n",
       "      <td>7027.51</td>\n",
       "      <td>42</td>\n",
       "      <td>6</td>\n",
       "      <td>0</td>\n",
       "      <td>199</td>\n",
       "      <td>451</td>\n",
       "    </tr>\n",
       "    <tr>\n",
       "      <th>1</th>\n",
       "      <td>1</td>\n",
       "      <td>4</td>\n",
       "      <td>ultra</td>\n",
       "      <td>1</td>\n",
       "      <td>754.16</td>\n",
       "      <td>7</td>\n",
       "      <td>6</td>\n",
       "      <td>0</td>\n",
       "      <td>199</td>\n",
       "      <td>241</td>\n",
       "    </tr>\n",
       "    <tr>\n",
       "      <th>2</th>\n",
       "      <td>1</td>\n",
       "      <td>8</td>\n",
       "      <td>ultra</td>\n",
       "      <td>2</td>\n",
       "      <td>6723.47</td>\n",
       "      <td>46</td>\n",
       "      <td>6</td>\n",
       "      <td>0</td>\n",
       "      <td>199</td>\n",
       "      <td>475</td>\n",
       "    </tr>\n",
       "    <tr>\n",
       "      <th>3</th>\n",
       "      <td>1</td>\n",
       "      <td>10</td>\n",
       "      <td>ultra</td>\n",
       "      <td>2</td>\n",
       "      <td>5809.91</td>\n",
       "      <td>32</td>\n",
       "      <td>6</td>\n",
       "      <td>0</td>\n",
       "      <td>199</td>\n",
       "      <td>391</td>\n",
       "    </tr>\n",
       "    <tr>\n",
       "      <th>4</th>\n",
       "      <td>1</td>\n",
       "      <td>11</td>\n",
       "      <td>ultra</td>\n",
       "      <td>3</td>\n",
       "      <td>7003.50</td>\n",
       "      <td>56</td>\n",
       "      <td>6</td>\n",
       "      <td>0</td>\n",
       "      <td>199</td>\n",
       "      <td>535</td>\n",
       "    </tr>\n",
       "    <tr>\n",
       "      <th>...</th>\n",
       "      <td>...</td>\n",
       "      <td>...</td>\n",
       "      <td>...</td>\n",
       "      <td>...</td>\n",
       "      <td>...</td>\n",
       "      <td>...</td>\n",
       "      <td>...</td>\n",
       "      <td>...</td>\n",
       "      <td>...</td>\n",
       "      <td>...</td>\n",
       "    </tr>\n",
       "    <tr>\n",
       "      <th>11326</th>\n",
       "      <td>1534</td>\n",
       "      <td>6</td>\n",
       "      <td>free</td>\n",
       "      <td>2</td>\n",
       "      <td>3409.47</td>\n",
       "      <td>26</td>\n",
       "      <td>8</td>\n",
       "      <td>50</td>\n",
       "      <td>0</td>\n",
       "      <td>308</td>\n",
       "    </tr>\n",
       "    <tr>\n",
       "      <th>11327</th>\n",
       "      <td>1534</td>\n",
       "      <td>8</td>\n",
       "      <td>free</td>\n",
       "      <td>2</td>\n",
       "      <td>7622.45</td>\n",
       "      <td>48</td>\n",
       "      <td>8</td>\n",
       "      <td>50</td>\n",
       "      <td>0</td>\n",
       "      <td>484</td>\n",
       "    </tr>\n",
       "    <tr>\n",
       "      <th>11328</th>\n",
       "      <td>1534</td>\n",
       "      <td>9</td>\n",
       "      <td>free</td>\n",
       "      <td>1</td>\n",
       "      <td>4928.17</td>\n",
       "      <td>23</td>\n",
       "      <td>8</td>\n",
       "      <td>50</td>\n",
       "      <td>0</td>\n",
       "      <td>234</td>\n",
       "    </tr>\n",
       "    <tr>\n",
       "      <th>11329</th>\n",
       "      <td>1534</td>\n",
       "      <td>11</td>\n",
       "      <td>free</td>\n",
       "      <td>4</td>\n",
       "      <td>13350.02</td>\n",
       "      <td>78</td>\n",
       "      <td>8</td>\n",
       "      <td>50</td>\n",
       "      <td>0</td>\n",
       "      <td>824</td>\n",
       "    </tr>\n",
       "    <tr>\n",
       "      <th>11330</th>\n",
       "      <td>1534</td>\n",
       "      <td>12</td>\n",
       "      <td>free</td>\n",
       "      <td>1</td>\n",
       "      <td>2371.71</td>\n",
       "      <td>16</td>\n",
       "      <td>8</td>\n",
       "      <td>50</td>\n",
       "      <td>0</td>\n",
       "      <td>178</td>\n",
       "    </tr>\n",
       "  </tbody>\n",
       "</table>\n",
       "<p>11331 rows × 10 columns</p>\n",
       "</div>"
      ],
      "text/plain": [
       "       user_id  month subscription_type  count_trip  distance  duration  \\\n",
       "0            1      1             ultra           2   7027.51        42   \n",
       "1            1      4             ultra           1    754.16         7   \n",
       "2            1      8             ultra           2   6723.47        46   \n",
       "3            1     10             ultra           2   5809.91        32   \n",
       "4            1     11             ultra           3   7003.50        56   \n",
       "...        ...    ...               ...         ...       ...       ...   \n",
       "11326     1534      6              free           2   3409.47        26   \n",
       "11327     1534      8              free           2   7622.45        48   \n",
       "11328     1534      9              free           1   4928.17        23   \n",
       "11329     1534     11              free           4  13350.02        78   \n",
       "11330     1534     12              free           1   2371.71        16   \n",
       "\n",
       "       minute_price  start_ride_price  subscription_fee  monthly_revenue  \n",
       "0                 6                 0               199              451  \n",
       "1                 6                 0               199              241  \n",
       "2                 6                 0               199              475  \n",
       "3                 6                 0               199              391  \n",
       "4                 6                 0               199              535  \n",
       "...             ...               ...               ...              ...  \n",
       "11326             8                50                 0              308  \n",
       "11327             8                50                 0              484  \n",
       "11328             8                50                 0              234  \n",
       "11329             8                50                 0              824  \n",
       "11330             8                50                 0              178  \n",
       "\n",
       "[11331 rows x 10 columns]"
      ]
     },
     "execution_count": 34,
     "metadata": {},
     "output_type": "execute_result"
    }
   ],
   "source": [
    "def monthly_revenue(df):\n",
    "    return df['start_ride_price'] * df['count_trip'] + df['minute_price'] * df['duration'] + df['subscription_fee']\n",
    "\n",
    "\n",
    "merge_df_agg = merge_df_agg.merge(subscriptions_go, on='subscription_type',how='left')\n",
    "\n",
    "merge_df_agg['monthly_revenue'] = merge_df_agg.apply(monthly_revenue, axis=1)\n",
    "merge_df_agg"
   ]
  },
  {
   "cell_type": "markdown",
   "id": "89853fd1",
   "metadata": {},
   "source": [
    "### Промежуточные выводы по этапу"
   ]
  },
  {
   "cell_type": "markdown",
   "id": "aac009da",
   "metadata": {},
   "source": [
    "Подготовил датафрейм, который показывает по каждому пользователю его тип подписки, количество поездок, дистанцию и время за каждый месяц. На основании этих данных помесячно считается прибыль. Этот датафрейм пригодится для следующего этапа - проверки гипотез."
   ]
  },
  {
   "cell_type": "code",
   "execution_count": 35,
   "id": "8ef81f78",
   "metadata": {},
   "outputs": [
    {
     "data": {
      "text/plain": [
       "3878641"
      ]
     },
     "execution_count": 35,
     "metadata": {},
     "output_type": "execute_result"
    }
   ],
   "source": [
    "merge_df_agg['monthly_revenue'].sum()"
   ]
  },
  {
   "cell_type": "markdown",
   "id": "41545ac0",
   "metadata": {},
   "source": [
    "## Проверка гипотез"
   ]
  },
  {
   "cell_type": "markdown",
   "id": "fd7656b5",
   "metadata": {},
   "source": [
    "### Тратят ли пользователи с подпиской больше времени на поездки?"
   ]
  },
  {
   "cell_type": "code",
   "execution_count": 36,
   "id": "a15594fb",
   "metadata": {},
   "outputs": [
    {
     "name": "stdout",
     "output_type": "stream",
     "text": [
      "Средняя продолжительность поездки с подпиской: 18.54198516280583\n",
      "\n",
      "Средняя продолжительность поездки без подписки: 17.39090929866399\n"
     ]
    }
   ],
   "source": [
    "print('Средняя продолжительность поездки с подпиской:',with_subs['duration'].mean())\n",
    "print()\n",
    "print('Средняя продолжительность поездки без подписки:', free_subs['duration'].mean())"
   ]
  },
  {
   "cell_type": "markdown",
   "id": "3bf4a511",
   "metadata": {},
   "source": [
    "Проведу проверку гипотезы о равенстве средних двух генеральных совокупностей. Нулевая гипотеза (H0) звучит так: средняя продолжительность поездки пользователей с подпиской и без подписки равная. Альтернативная гипотеза (H1): Среднее время поездки у пользователей с подпиской больше."
   ]
  },
  {
   "cell_type": "code",
   "execution_count": 37,
   "id": "85d8fa26",
   "metadata": {},
   "outputs": [
    {
     "name": "stdout",
     "output_type": "stream",
     "text": [
      "p-значение: 1.2804098316645618e-34\n",
      "Отвергаем нулевую гипотезу\n"
     ]
    }
   ],
   "source": [
    "alpha = 0.05\n",
    "\n",
    "results = st.ttest_ind(with_subs['duration'],\n",
    "                        free_subs['duration'],\n",
    "                       alternative='greater')\n",
    "\n",
    "print('p-значение:', results.pvalue)\n",
    "\n",
    "if (results.pvalue < alpha):\n",
    "    print('Отвергаем нулевую гипотезу')\n",
    "else:\n",
    "    print('Не отвергаем нулевую гипотезу') "
   ]
  },
  {
   "cell_type": "markdown",
   "id": "cd9ee73b",
   "metadata": {},
   "source": [
    "На имеющихся данных, на уровне значимости 5% (уровне доверия 95%) есть основания отвергнуть нулевую гипотезу в пользу альтернативы.\n",
    "\n",
    "Вероятность того, что длительность поездки у пользователей с подпиской и без подписки равная - крайне маленькая.\n",
    "\n",
    "В результате теста, в ходе которого проверял равенство средних двух генеральных совокупностей, значение p-value = (1.2804098316645618e-34) оказалось много меньше уровня стат. значимости (0.05), что говорит о том, что вероятность получить равную среднюю продолжительность поездки с наличием и без подпски крайне мала.\n",
    "\n",
    "С точки зрения бизнеса, вероятно, пользователи с подпиской будут больше времени тратить на поездки."
   ]
  },
  {
   "cell_type": "code",
   "execution_count": 38,
   "id": "69938e49",
   "metadata": {},
   "outputs": [
    {
     "name": "stdout",
     "output_type": "stream",
     "text": [
      "p-значение: 0.1912450522572209\n",
      "Не получилось отвергнуть нулевую гипотезу\n"
     ]
    }
   ],
   "source": [
    "# Приведены два датасета: сумма покупок, совершённых за месяц посетителями ...\n",
    "\n",
    "sample_1 = [3071, 3636, 3454, 3151, 2185, 3259, 1727, 2263, 2015,\n",
    "2582, 4815, 633, 3186, 887, 2028, 3589, 2564, 1422, 1785,\n",
    "3180, 1770, 2716, 2546, 1848, 4644, 3134, 475, 2686,\n",
    "1838, 3352]\n",
    "sample_2 = [1211, 1228, 2157, 3699, 600, 1898, 1688, 1420, 5048, 3007,\n",
    "509, 3777, 5583, 3949, 121, 1674, 4300, 1338, 3066,\n",
    "3562, 1010, 2311, 462, 863, 2021, 528, 1849, 255,\n",
    "1740, 2596]\n",
    "alpha = .05 # критический уровень статистической значимости\n",
    "# если p-value окажется меньше него - отвергнем гипотезу\n",
    "results = st.ttest_ind(\n",
    "sample_1,\n",
    "sample_2)\n",
    "print('p-значение:', results.pvalue)\n",
    "if (results.pvalue < alpha):\n",
    "    print(\"Отвергаем нулевую гипотезу\")\n",
    "else:\n",
    "    print(\"Не получилось отвергнуть нулевую гипотезу\")"
   ]
  },
  {
   "cell_type": "markdown",
   "id": "9fe7c21c",
   "metadata": {},
   "source": [
    "### Превышает ли 3130 метров среднеее расстояние поездки юзера с подпиской?"
   ]
  },
  {
   "cell_type": "code",
   "execution_count": 39,
   "id": "211309d5",
   "metadata": {},
   "outputs": [
    {
     "name": "stdout",
     "output_type": "stream",
     "text": [
      "Среднее расстояние поездки с подпиской: 3115.445430769231\n"
     ]
    }
   ],
   "source": [
    "print('Среднее расстояние поездки с подпиской:', with_subs['distance'].mean())"
   ]
  },
  {
   "cell_type": "markdown",
   "id": "fbbafa79",
   "metadata": {},
   "source": [
    "Проверю односторонню гипозету относительно среднего расстояния поездки пользователей с подпиской.\n",
    "\n",
    "\n",
    "H0: средняя дистанция поездки с подпиской = 3130 метрам.\n",
    "\n",
    "\n",
    "H1: средняя дистанция поездки с подпиской > 3130 метров."
   ]
  },
  {
   "cell_type": "code",
   "execution_count": 40,
   "id": "7c3560fd",
   "metadata": {},
   "outputs": [
    {
     "name": "stdout",
     "output_type": "stream",
     "text": [
      "p-значение: 0.9195362605842414\n",
      "Не отвергаем нулевую гипотезу\n"
     ]
    }
   ],
   "source": [
    "mean_distance_sub = 3130\n",
    "\n",
    "alpha = 0.05\n",
    "\n",
    "results = st.ttest_1samp(\n",
    "    with_subs['distance'], \n",
    "    mean_distance_sub,\n",
    "      alternative='greater')\n",
    "\n",
    "print('p-значение:', results.pvalue)\n",
    "\n",
    "if (results.pvalue < alpha):\n",
    "    print('Отвергаем нулевую гипотезу')\n",
    "else:\n",
    "    print('Не отвергаем нулевую гипотезу') "
   ]
  },
  {
   "cell_type": "markdown",
   "id": "d3eb825f",
   "metadata": {},
   "source": [
    "На имеющихся данных, на уровне значимости 5% (уровне доверия 95%) нет оснований отвергнуть нулевую гипотезу в пользу альтернативы.\n",
    "\n",
    "В результате одностороннего теста, p-value (вероятность значения) составила ~ 92%, p-value – это «жизнеспособность» нулевой гипотезы, которую мы оцениваем по имеющимся данным. В контексте текущей проверки, на языке статистики p-значение:  0.9195362605842414 говорит о том, что нет оснований отвергать нулевую гипотезу.\n",
    "Следовательно, вероятные значения расстояния поездки пользователей с подпиской вероятно не будут превышать 3130 метров (оптимального расстояния с точки зрения износа самоката)\n",
    "\n",
    "С точки зрения бизнеса, вероятно пользователи с подпиской не будут проезжать расстояние больше 3130 метров, а следовательно у самокатов будет оптимальныый уровень износа.\n"
   ]
  },
  {
   "cell_type": "markdown",
   "id": "3de7c7db",
   "metadata": {},
   "source": [
    "### Будет ли помесячная выручка от пользователей с подпиской по месяцам выше, чем выручка от пользователей без подписки?"
   ]
  },
  {
   "cell_type": "code",
   "execution_count": 41,
   "id": "a1786efa",
   "metadata": {},
   "outputs": [
    {
     "name": "stdout",
     "output_type": "stream",
     "text": [
      "Средняя выручка по месяцам у пользователей с подпиской: 362.7921906022502\n",
      "\n",
      "Средняя выручка по месяцам у пользователей без подписки: 328.6413651073845\n"
     ]
    }
   ],
   "source": [
    "ultra_revenue_for_month = merge_df_agg[merge_df_agg['subscription_type'] == 'ultra']\n",
    "free_revenue_for_month = merge_df_agg[merge_df_agg['subscription_type'] == 'free']\n",
    "\n",
    "print('Средняя выручка по месяцам у пользователей с подпиской:', ultra_revenue_for_month['monthly_revenue'].mean())\n",
    "print('')\n",
    "print('Средняя выручка по месяцам у пользователей без подписки:', free_revenue_for_month['monthly_revenue'].mean())"
   ]
  },
  {
   "cell_type": "markdown",
   "id": "9ff3634f",
   "metadata": {},
   "source": [
    "Проверю одностороннюю гипотезу.\n",
    "\n",
    "H0: выручка по месяцам пользователей с подпиской и без подписки равная.\n",
    "\n",
    "H1: выручка пользователей по месяцам с подпиской выше, чем без подписки."
   ]
  },
  {
   "cell_type": "code",
   "execution_count": 42,
   "id": "60983318",
   "metadata": {},
   "outputs": [
    {
     "name": "stdout",
     "output_type": "stream",
     "text": [
      "p-значение: 1.8850394384715216e-31\n",
      "Отвергаем нулевую гипотезу\n"
     ]
    }
   ],
   "source": [
    "alhpa = 0.05\n",
    "\n",
    "results = st.ttest_ind(ultra_revenue_for_month['monthly_revenue'],\n",
    "                         free_revenue_for_month['monthly_revenue'],\n",
    "                      alternative='greater')\n",
    "                       \n",
    "\n",
    "print('p-значение:', results.pvalue)\n",
    "\n",
    "if (results.pvalue < alpha):\n",
    "    print('Отвергаем нулевую гипотезу')\n",
    "else:\n",
    "    print('Не отвергаем нулевую гипотезу') \n"
   ]
  },
  {
   "cell_type": "markdown",
   "id": "28e1962f",
   "metadata": {},
   "source": [
    "В результате теста, нулевая гипотеза отвернута в пользу альтернативной гипотезы - вероятно выручка пользователей по месяцам с подпиской будет выше, чем без подписки.\n",
    "\n",
    "На имеющихся данных, на уровне значимости 5% (уровне доверия 95%) есть основания отвергнуть нулевую гипотезу в пользу альтернативы.\n",
    "\n",
    "В результате одностороннего теста, p-value (вероятность значения) составила = 1.8850394384715216e-31, p-value – это «жизнеспособность» нулевой гипотезы, которую мы оцениваем по имеющимся данным. В контексте текущей проверки, на языке статистики p-значение: 1.8850394384715216e-31 говорит о том, что есть основания отвергать нулевую гипотезу.\n",
    "\n",
    "С точки зрения бизнеса это означает, что вероятно пользователи с подпиской приносят больше месячную вырочку, чем без неё."
   ]
  },
  {
   "cell_type": "markdown",
   "id": "f879321f",
   "metadata": {},
   "source": [
    "### Ответ на вопрос: какой тест выбрать, для проверки гипотез с количеством обращений в ТП до и после обновления?"
   ]
  },
  {
   "cell_type": "markdown",
   "id": "dabe1060",
   "metadata": {},
   "source": [
    "*Представьте такую ситуацию: техническая команда сервиса обновила сервера, с которыми взаимодействует мобильное приложение.\n",
    "Она надеется, что из-за этого количество обращений в техподдержку значимо снизилось.\n",
    "Некоторый файл содержит для каждого пользователя данные о количестве обращений до обновления и после него.\n",
    "Какой тест вам понадобился бы для проверки этой гипотезы?*\n",
    "\n",
    "В описанном выше случаи, правильно будет применять тест о равенстве средних для зависимых (парных) выборок.\n",
    "\n",
    "Метод scipy.stats.ttest_rel()\n",
    "\n",
    "Гипотезы будут сформулированы так:\n",
    "\n",
    "H0: mu1 = mu2, где mu1 и mu2 - средние значения до и после изменения/\n",
    "\n",
    "H1: mu1 != mu2, проверять буду одностронню гипотезу (левую) - стало ли обращений меньше, после обновлений.\n",
    "\n",
    "\n",
    "Таким образом смогу проверить гипотезу о изменении количества обращений в тех. поддержку до и после обновлений. То есть, обращения либо останутся на прежнем уровне, либо их стало меньше."
   ]
  },
  {
   "cell_type": "markdown",
   "id": "2e465cd4",
   "metadata": {},
   "source": [
    "### Промежуточный вывод по этапу"
   ]
  },
  {
   "cell_type": "markdown",
   "id": "4f25f30f",
   "metadata": {},
   "source": [
    "Были проверены поставленные гипотезы и сделаны следующие выводы:\n",
    "\n",
    "* Средняя продолжительность поездки у пользователей с подпиской выше, чем без подписки.\n",
    "\n",
    "* Вероятные значения расстояния поездки пользователей с подпиской не будут превышать 3130 метров (оптимального расстояния с точки зрения износа самоката)\n",
    "\n",
    "* Выручка пользователей по месяцам с подпиской будет выше, чем без подписки."
   ]
  },
  {
   "cell_type": "markdown",
   "id": "61213c5e",
   "metadata": {},
   "source": [
    "## Распределения"
   ]
  },
  {
   "cell_type": "markdown",
   "id": "51df40f9",
   "metadata": {},
   "source": [
    "### Какое минимальное кол-во промокодов разослать, чтобы вероятность не выполнить план была ~5%?"
   ]
  },
  {
   "cell_type": "markdown",
   "id": "442ee4c3",
   "metadata": {},
   "source": [
    " Отделу маркетинга GoFast поставили задачу: нужно провести акцию с раздачей промокодов на один бесплатный месяц подписки,\n",
    " в рамках которой как минимум 100 существующих клиентов должны продлить эту подписку. То есть по завершении периода действия\n",
    " подписки пользователь может либо отказаться от неё, либо продлить, совершив соответствующий платёж. \n",
    " Эта акция уже проводилась ранее и по итогу выяснилось, что после бесплатного пробного периода подписку продлевают 10 %\n",
    " пользователей. Выясните, какое минимальное количество промокодов нужно разослать, чтобы вероятность не выполнить план была\n",
    " примерно 5 %.\n",
    " Подберите параметры распределения, описывающего эту ситуацию, постройте график распределения\n",
    " и сформулируйте ответ на вопрос о количестве промокодов.\n",
    " \n",
    "**Параметры биномиального распределения:**\n",
    "\n",
    "**n:** количество экспериментов (разосланных промокодов)\n",
    "\n",
    "**p:** вероятность успеха (продления подписки)\n",
    "\n",
    "**k:** количество успехов (количество клиентов, продливших подписку)\n",
    "\n",
    "Нужно найти минимальное значение n, при котором вероятность не выполнить план (то есть количество клиентов, продливших подписку, будет меньше 100) составит примерно 5%.\n",
    "Это означает, что необходимо найти такое значение n, при котором P(k < 100) ≈ 0.05.\n",
    "Для решения этой задачи использую кумулятивную функцию распределения биномиального распределения, обозначаемую как F(k; n, p), которая дает вероятность того, что значение случайной величины X (количество клиентов,\n",
    "продливших подписку) будет меньше или равно k.\n",
    "\n",
    "*Кумулятивная функция распределения биномиального распределения позволяет нам вычислить вероятность получить не более определенного числа успехов в серии испытаний, учитывая вероятность успеха и общее количество испытаний.*"
   ]
  },
  {
   "cell_type": "code",
   "execution_count": 43,
   "id": "a0892b7c",
   "metadata": {
    "scrolled": false
   },
   "outputs": [
    {
     "name": "stdout",
     "output_type": "stream",
     "text": [
      "Минимальное количество промокодов, которое нужно разослать: 1172\n"
     ]
    },
    {
     "name": "stderr",
     "output_type": "stream",
     "text": [
      "/opt/conda/lib/python3.9/site-packages/scipy/stats/_discrete_distns.py:78: RuntimeWarning: divide by zero encountered in _binom_pdf\n",
      "  return _boost._binom_pdf(x, n, p)\n"
     ]
    },
    {
     "data": {
      "image/png": "[encoded data removed]",
      "text/plain": [
       "<Figure size 720x720 with 1 Axes>"
      ]
     },
     "metadata": {
      "needs_background": "light"
     },
     "output_type": "display_data"
    }
   ],
   "source": [
    "def find_minimum_promo_codes(p, target_probability):\n",
    "    n = 1\n",
    "    while True:\n",
    "        cumulative_probability = st.binom.cdf(100, n, p) # вероятность невыполнить план\n",
    "        if cumulative_probability <= target_probability: # Сравниваем полученную вероятность невыполнить план с целевой\n",
    "                                                        # если cumulative_probability <= target_probability, тогда n+=1\n",
    "            return n\n",
    "        else:\n",
    "            n += 1\n",
    "\n",
    "p = 0.1\n",
    "target_probability = 0.05\n",
    "minimum_promo_codes = find_minimum_promo_codes(p, target_probability)\n",
    "\n",
    "print(f\"Минимальное количество промокодов, которое нужно разослать: {minimum_promo_codes}\")\n",
    "\n",
    "n = minimum_promo_codes\n",
    "\n",
    "x = np.arange(0, n + 1) #Переменная x используется для создания массива значений по оси x (горизонтальной оси) на графике.\n",
    "#В данном случае, x содержит значения от 0 до n представляет возможные значения случайной величины в биномиальном распределении.\n",
    "\n",
    "\n",
    "pmf_values = st.binom.pmf(x, n, p) # x = np.arange(0, n + 1); n=minimum_promo_codes (1172) \n",
    "\n",
    "#Переменная pmf_values используется для хранения вероятностей массовой функции распределения (PMF)\n",
    "#для соответствующих значений из x. В данном контексте, она содержит вероятности для каждого значения случайной величины x\n",
    "#в биномиальном распределении с параметрами n и p.\n",
    "\n",
    "#по простому x - значения по оси абсцис (x), а pmf_values - значения вероятностей по y (оси ординат)\n",
    "\n",
    "cumulative_probability = st.binom.cdf(100, 1172, 0.1) # вероятность невыполнить план\n",
    "\n",
    "\n",
    "plt.figure(figsize=(10,10))\n",
    "# График биномиального распределения\n",
    "plt.bar(x, pmf_values, label=f'Биноминальное распределение (n={n}, p={p})', alpha=0.7)\n",
    "plt.xlabel('Количество успехов (k)')\n",
    "plt.ylabel('Вероятность')\n",
    "plt.title('Биномиальное распределение')\n",
    "\n",
    "# График кумулятивной функции распределения\n",
    "cumulative_values = st.binom.cdf(x, n, p)\n",
    "plt.step(x, cumulative_values, where='post', label='Кумулятивная функция распределения (cdf)', color='orange')\n",
    "\n",
    "# Помечу точку, соответствующую target_probability\n",
    "plt.axhline(y=target_probability, color='red', linestyle='-', label=f'Target Probability = {target_probability}')\n",
    "\n",
    "# Помечу по y линию, соответствующую cumulative_probability - то есть вероятности не выполнить план, разослав 1172 промокода\n",
    "plt.axhline(y=cumulative_probability, color='green', linestyle='--', label=f'cumulative_probability = {cumulative_probability}')\n",
    "plt.legend()\n",
    "plt.show()\n"
   ]
  },
  {
   "cell_type": "markdown",
   "id": "00544ce4",
   "metadata": {},
   "source": [
    "Необходимо разослать минимум 1172 промокодов, чтобы получить 100 успехов, а вероятность не выполнить план составляла ~5 %. На получившемся графике распределения вероятность не выполнить план 0.04954795210203071 ~ 4.95%"
   ]
  },
  {
   "cell_type": "markdown",
   "id": "57358bb1",
   "metadata": {},
   "source": [
    "### Вероятность того, что push откроют не более 399,5 тыс. пользователей."
   ]
  },
  {
   "cell_type": "markdown",
   "id": "69f7b694",
   "metadata": {},
   "source": [
    "Отдел маркетинга рассылает клиентам push-уведомления в мобильном приложении. Клиенты могут открыть его или не открывать. Известно, что уведомления открывают около 40 % получивших клиентов. Отдел планирует разослать 1 млн уведомлений. С помощью аппроксимации постройте примерный график распределения и оцените вероятность того, что уведомление откроют не более 399,5 тыс. пользователей."
   ]
  },
  {
   "cell_type": "code",
   "execution_count": 44,
   "id": "85ea3160",
   "metadata": {
    "scrolled": true
   },
   "outputs": [
    {
     "name": "stdout",
     "output_type": "stream",
     "text": [
      "Вероятность, что не более 399500 пользователей откроют уведомление: 15.4%\n"
     ]
    }
   ],
   "source": [
    "# Дано:\n",
    "n = 1000000  # Общее количество уведомлений\n",
    "p = 0.4  # Вероятность открытия уведомления\n",
    "x = 399500  # Пороговое значение\n",
    "\n",
    "# Создаем биномиальное распределение\n",
    "rv = binom(n, p)\n",
    "\n",
    "# Оценка вероятности того, что уведомление откроют не более 399,5 тыс. пользователей\n",
    "probability = rv.cdf(x)  # Функция распределения\n",
    "\n",
    "\n",
    "print(f\"Вероятность, что не более {x} пользователей откроют уведомление: {round((probability)*100,2)}%\")"
   ]
  },
  {
   "cell_type": "markdown",
   "id": "25f8b31a",
   "metadata": {},
   "source": [
    "## Общий вывод"
   ]
  },
  {
   "cell_type": "markdown",
   "id": "9c5bd74f",
   "metadata": {},
   "source": [
    "Исходя из представленных данных, можно сделать следующие наблюдения:\n",
    "\n",
    "Различие в доле присутствия городов небольшое, составляет ~ от 1 до 3.5%. Такую разницу можно считать несущественной.\n",
    "\n",
    "Доля пользователей без подписки составляет немного более 54%, в то время как доля пользователей с подпиской составляет 46%. Доля пользователей без подписки превышает долю пользователей с подпиской на 8%.\n",
    "\n",
    "<br>Большую возрастную категорию пользователей составляют люди в возрасте 25 лет (± 2.5 года).\n",
    "Стоит выставлять самокаты для аренды в местах скопления людей именно приведенного ранее возраста, это могут быть ТЦ, клубы, парки и т. п., здесь,конечно, стоит проводить дополнительное исследование, но установленнй ранее возраст уточняет критерии\n",
    "\n",
    "Люди часто передвигаются на дистанции 3200 метров (± 500 метров), а проводят время в пути 18 минут (± 4 минуты).\n",
    "Например, можно попробовать выставлять самокаты в такой локации, где люди захотят проехать расстояние в перделах выведенных дистанциях и времени поездки, к примеру, от универститетов, до ближайших ТЦ и т. п.\n",
    "\n",
    "У пользователей с попдиской более частый инетрвал дистанций \"у́же\" по своему распределению, чем у пользователей без попдиски, это от 2500 до 3500 метров (с подпиской) и от 2000 до 4500 метров соответственно без подписки.\n",
    "\n",
    "Наиболее часто встречается дистанция 3500 метров у пользователей с подпиской.\n",
    "\n",
    "Без подписки у пользователей чаще встречается 2500 метров.\n",
    "\n",
    "По результатам статистик и гистограмм можно сделать выводы о том, что пользователи с подпиской всегда немного больше времени берут в аренду самокат: минимальные значения с подпиской 4 минуты, против 2 минут без подписки (отбросив аномальные значения в 0.5 мин.), медианные значения минут в пути с подпиской 18, а без подписки 17 минут, и даже максимальное время в пути у пользователей с подпиской снова выше 40 минут, против 35 минут без подписки.\n",
    "\n",
    "С точки зрения бизнеса, вероятно, пользователи с подпиской будут больше времени тратить на поездки.\n",
    "\n",
    "С точки зрения бизнеса, вероятно пользователи с подпиской не будут проезжать расстояние больше 3130 метров, а следовательно у самокатов будет оптимальныый уровень износа.\n",
    "\n",
    "С точки зрения бизнеса это означает, что вероятно пользователи с подпиской приносят больше месячную вырочку, чем без неё.\n",
    "\n",
    "\n",
    "\n",
    "Предлагаемые действия: Рекомендуется разослать не менее 1172 промокода, чтобы убедить 100 активных пользователей продлить подписку, вероятность не выполнить план при этом ~5%. Чтобы убедить продлить подиску уже 130 пользователей, промокодов нужно 1494, вероятность не выполнить план останется прежней ~5%.\n",
    "\n",
    "Если разослать 1 млн. push-уведомлений, то вероятность, что не более 399500 пользователей откроют уведомление: 15.4%\n",
    "\n",
    "Анализ этих данных может быть полезным при принятии решений, связанных с продвижением и поощрением пользователей мобильного приложения."
   ]
  }
 ],
 "metadata": {
  "ExecuteTimeLog": [
   {
    "duration": 45,
    "start_time": "2023-10-23T19:27:18.278Z"
   },
   {
    "duration": 784,
    "start_time": "2023-10-23T19:27:26.398Z"
   },
   {
    "duration": 288,
    "start_time": "2023-10-23T19:27:27.184Z"
   },
   {
    "duration": 102,
    "start_time": "2023-10-23T20:21:54.630Z"
   },
   {
    "duration": 29,
    "start_time": "2023-10-23T20:22:01.731Z"
   },
   {
    "duration": 48,
    "start_time": "2023-10-23T20:22:07.334Z"
   },
   {
    "duration": 24,
    "start_time": "2023-10-23T20:22:11.256Z"
   },
   {
    "duration": 64,
    "start_time": "2023-10-23T20:22:20.855Z"
   },
   {
    "duration": 25,
    "start_time": "2023-10-23T20:22:25.006Z"
   },
   {
    "duration": 600,
    "start_time": "2023-10-23T20:22:40.519Z"
   },
   {
    "duration": 74,
    "start_time": "2023-10-23T20:22:41.121Z"
   },
   {
    "duration": 29,
    "start_time": "2023-10-23T20:22:41.196Z"
   },
   {
    "duration": 31,
    "start_time": "2023-10-23T20:22:41.227Z"
   },
   {
    "duration": 22,
    "start_time": "2023-10-23T20:22:41.260Z"
   },
   {
    "duration": 31,
    "start_time": "2023-10-23T20:23:28.023Z"
   },
   {
    "duration": 27,
    "start_time": "2023-10-23T20:23:38.976Z"
   },
   {
    "duration": 582,
    "start_time": "2023-10-23T20:23:42.854Z"
   },
   {
    "duration": 66,
    "start_time": "2023-10-23T20:23:43.438Z"
   },
   {
    "duration": 30,
    "start_time": "2023-10-23T20:23:43.505Z"
   },
   {
    "duration": 35,
    "start_time": "2023-10-23T20:23:43.536Z"
   },
   {
    "duration": 25,
    "start_time": "2023-10-23T20:23:43.573Z"
   },
   {
    "duration": 224,
    "start_time": "2023-10-23T20:25:14.685Z"
   },
   {
    "duration": 584,
    "start_time": "2023-10-23T20:25:19.499Z"
   },
   {
    "duration": 234,
    "start_time": "2023-10-23T20:25:20.085Z"
   },
   {
    "duration": 52,
    "start_time": "2023-10-23T20:25:20.320Z"
   },
   {
    "duration": 28,
    "start_time": "2023-10-23T20:25:20.374Z"
   },
   {
    "duration": 22,
    "start_time": "2023-10-23T20:25:20.404Z"
   },
   {
    "duration": 75,
    "start_time": "2023-10-23T20:25:46.118Z"
   },
   {
    "duration": 642,
    "start_time": "2023-10-23T20:25:50.128Z"
   },
   {
    "duration": 65,
    "start_time": "2023-10-23T20:25:50.772Z"
   },
   {
    "duration": 46,
    "start_time": "2023-10-23T20:25:50.838Z"
   },
   {
    "duration": 27,
    "start_time": "2023-10-23T20:25:50.885Z"
   },
   {
    "duration": 39,
    "start_time": "2023-10-23T20:25:50.913Z"
   },
   {
    "duration": 564,
    "start_time": "2023-10-23T20:26:21.512Z"
   },
   {
    "duration": 78,
    "start_time": "2023-10-23T20:26:22.078Z"
   },
   {
    "duration": 31,
    "start_time": "2023-10-23T20:26:22.157Z"
   },
   {
    "duration": 24,
    "start_time": "2023-10-23T20:26:22.190Z"
   },
   {
    "duration": 20,
    "start_time": "2023-10-23T20:26:22.215Z"
   },
   {
    "duration": 3,
    "start_time": "2023-10-23T20:26:49.126Z"
   },
   {
    "duration": 600,
    "start_time": "2023-10-23T20:26:53.464Z"
   },
   {
    "duration": 65,
    "start_time": "2023-10-23T20:26:54.065Z"
   },
   {
    "duration": 46,
    "start_time": "2023-10-23T20:26:54.131Z"
   },
   {
    "duration": 25,
    "start_time": "2023-10-23T20:26:54.179Z"
   },
   {
    "duration": 22,
    "start_time": "2023-10-23T20:26:54.205Z"
   },
   {
    "duration": 4,
    "start_time": "2023-10-23T20:27:16.775Z"
   },
   {
    "duration": 629,
    "start_time": "2023-10-23T20:27:21.039Z"
   },
   {
    "duration": 65,
    "start_time": "2023-10-23T20:27:21.670Z"
   },
   {
    "duration": 36,
    "start_time": "2023-10-23T20:27:21.737Z"
   },
   {
    "duration": 32,
    "start_time": "2023-10-23T20:27:21.774Z"
   },
   {
    "duration": 47,
    "start_time": "2023-10-23T20:27:21.808Z"
   },
   {
    "duration": 215,
    "start_time": "2023-10-23T20:28:19.415Z"
   },
   {
    "duration": 629,
    "start_time": "2023-10-23T20:28:23.144Z"
   },
   {
    "duration": 221,
    "start_time": "2023-10-23T20:28:23.775Z"
   },
   {
    "duration": 28,
    "start_time": "2023-10-23T20:28:23.997Z"
   },
   {
    "duration": 39,
    "start_time": "2023-10-23T20:28:24.026Z"
   },
   {
    "duration": 23,
    "start_time": "2023-10-23T20:28:24.067Z"
   },
   {
    "duration": 68,
    "start_time": "2023-10-23T20:29:33.953Z"
   },
   {
    "duration": 7,
    "start_time": "2023-10-23T20:29:36.413Z"
   },
   {
    "duration": 4,
    "start_time": "2023-10-23T20:30:10.718Z"
   },
   {
    "duration": 8,
    "start_time": "2023-10-23T20:30:15.661Z"
   },
   {
    "duration": 5,
    "start_time": "2023-10-23T20:30:20.554Z"
   },
   {
    "duration": 5,
    "start_time": "2023-10-23T20:30:44.878Z"
   },
   {
    "duration": 6,
    "start_time": "2023-10-23T20:32:44.790Z"
   },
   {
    "duration": 6,
    "start_time": "2023-10-23T20:33:42.246Z"
   },
   {
    "duration": 6,
    "start_time": "2023-10-23T20:34:30.277Z"
   },
   {
    "duration": 5,
    "start_time": "2023-10-23T20:34:36.821Z"
   },
   {
    "duration": 11,
    "start_time": "2023-10-23T20:35:01.517Z"
   },
   {
    "duration": 6,
    "start_time": "2023-10-23T20:35:12.396Z"
   },
   {
    "duration": 7,
    "start_time": "2023-10-23T20:35:45.932Z"
   },
   {
    "duration": 13,
    "start_time": "2023-10-23T20:38:04.892Z"
   },
   {
    "duration": 21,
    "start_time": "2023-10-23T20:39:12.476Z"
   },
   {
    "duration": 45,
    "start_time": "2023-10-23T20:39:36.317Z"
   },
   {
    "duration": 40,
    "start_time": "2023-10-23T20:41:35.965Z"
   },
   {
    "duration": 9,
    "start_time": "2023-10-23T20:42:35.845Z"
   },
   {
    "duration": 7,
    "start_time": "2023-10-23T20:42:47.690Z"
   },
   {
    "duration": 70,
    "start_time": "2023-10-23T20:44:46.363Z"
   },
   {
    "duration": 26,
    "start_time": "2023-10-23T20:45:40.987Z"
   },
   {
    "duration": 10,
    "start_time": "2023-10-23T20:45:45.563Z"
   },
   {
    "duration": 10,
    "start_time": "2023-10-23T20:45:59.876Z"
   },
   {
    "duration": 606,
    "start_time": "2023-10-23T20:46:09.268Z"
   },
   {
    "duration": 232,
    "start_time": "2023-10-23T20:46:09.876Z"
   },
   {
    "duration": 28,
    "start_time": "2023-10-23T20:46:10.109Z"
   },
   {
    "duration": 47,
    "start_time": "2023-10-23T20:46:10.138Z"
   },
   {
    "duration": 22,
    "start_time": "2023-10-23T20:46:10.187Z"
   },
   {
    "duration": 3,
    "start_time": "2023-10-23T20:46:10.211Z"
   },
   {
    "duration": 14,
    "start_time": "2023-10-23T20:46:10.215Z"
   },
   {
    "duration": 62,
    "start_time": "2023-10-23T20:46:10.230Z"
   },
   {
    "duration": 7,
    "start_time": "2023-10-23T20:46:10.293Z"
   },
   {
    "duration": 15,
    "start_time": "2023-10-23T20:46:10.301Z"
   },
   {
    "duration": 10,
    "start_time": "2023-10-23T20:52:45.777Z"
   },
   {
    "duration": 14,
    "start_time": "2023-10-23T20:53:00.857Z"
   },
   {
    "duration": 13,
    "start_time": "2023-10-23T20:53:28.481Z"
   },
   {
    "duration": 77,
    "start_time": "2023-10-23T20:53:48.802Z"
   },
   {
    "duration": 8,
    "start_time": "2023-10-23T20:53:53.497Z"
   },
   {
    "duration": 9,
    "start_time": "2023-10-23T20:55:23.263Z"
   },
   {
    "duration": 8,
    "start_time": "2023-10-23T20:56:34.601Z"
   },
   {
    "duration": 11,
    "start_time": "2023-10-23T20:56:40.178Z"
   },
   {
    "duration": 35,
    "start_time": "2023-10-23T20:56:51.033Z"
   },
   {
    "duration": 16,
    "start_time": "2023-10-23T20:56:56.880Z"
   },
   {
    "duration": 7,
    "start_time": "2023-10-23T20:57:36.377Z"
   },
   {
    "duration": 7,
    "start_time": "2023-10-23T20:57:39.265Z"
   },
   {
    "duration": 7,
    "start_time": "2023-10-23T20:57:47.905Z"
   },
   {
    "duration": 15,
    "start_time": "2023-10-23T20:58:53.049Z"
   },
   {
    "duration": 4,
    "start_time": "2023-10-23T20:59:44.092Z"
   },
   {
    "duration": 7,
    "start_time": "2023-10-23T20:59:50.616Z"
   },
   {
    "duration": 119,
    "start_time": "2023-10-23T21:09:32.907Z"
   },
   {
    "duration": 5,
    "start_time": "2023-10-23T21:09:46.404Z"
   },
   {
    "duration": 102,
    "start_time": "2023-10-23T21:10:30.271Z"
   },
   {
    "duration": 3,
    "start_time": "2023-10-23T21:10:41.391Z"
   },
   {
    "duration": 5,
    "start_time": "2023-10-23T21:10:45.504Z"
   },
   {
    "duration": 129,
    "start_time": "2023-10-23T21:13:19.557Z"
   },
   {
    "duration": 160,
    "start_time": "2023-10-23T21:13:25.064Z"
   },
   {
    "duration": 142,
    "start_time": "2023-10-23T21:13:34.216Z"
   },
   {
    "duration": 130,
    "start_time": "2023-10-23T21:13:46.850Z"
   },
   {
    "duration": 125,
    "start_time": "2023-10-23T21:14:37.600Z"
   },
   {
    "duration": 153,
    "start_time": "2023-10-23T21:15:07.214Z"
   },
   {
    "duration": 112,
    "start_time": "2023-10-23T21:15:27.561Z"
   },
   {
    "duration": 166,
    "start_time": "2023-10-23T21:15:32.872Z"
   },
   {
    "duration": 169,
    "start_time": "2023-10-23T21:15:54.502Z"
   },
   {
    "duration": 165,
    "start_time": "2023-10-23T21:16:52.030Z"
   },
   {
    "duration": 162,
    "start_time": "2023-10-23T21:17:02.206Z"
   },
   {
    "duration": 165,
    "start_time": "2023-10-23T21:17:06.638Z"
   },
   {
    "duration": 183,
    "start_time": "2023-10-23T21:17:54.518Z"
   },
   {
    "duration": 257,
    "start_time": "2023-10-23T21:20:10.412Z"
   },
   {
    "duration": 203,
    "start_time": "2023-10-23T21:20:36.083Z"
   },
   {
    "duration": 204,
    "start_time": "2023-10-23T21:20:51.386Z"
   },
   {
    "duration": 185,
    "start_time": "2023-10-23T21:20:56.609Z"
   },
   {
    "duration": 220,
    "start_time": "2023-10-23T21:21:02.570Z"
   },
   {
    "duration": 230,
    "start_time": "2023-10-23T21:21:09.761Z"
   },
   {
    "duration": 188,
    "start_time": "2023-10-23T21:21:29.705Z"
   },
   {
    "duration": 96,
    "start_time": "2023-10-23T21:24:31.650Z"
   },
   {
    "duration": 144,
    "start_time": "2023-10-23T21:24:38.481Z"
   },
   {
    "duration": 143,
    "start_time": "2023-10-23T21:24:55.665Z"
   },
   {
    "duration": 177,
    "start_time": "2023-10-23T21:25:03.849Z"
   },
   {
    "duration": 176,
    "start_time": "2023-10-23T21:28:07.059Z"
   },
   {
    "duration": 241,
    "start_time": "2023-10-23T21:28:29.531Z"
   },
   {
    "duration": 187,
    "start_time": "2023-10-23T21:29:17.562Z"
   },
   {
    "duration": 11,
    "start_time": "2023-10-23T21:36:03.234Z"
   },
   {
    "duration": 6,
    "start_time": "2023-10-23T21:37:09.722Z"
   },
   {
    "duration": 7,
    "start_time": "2023-10-23T21:37:12.849Z"
   },
   {
    "duration": 11,
    "start_time": "2023-10-23T21:37:19.698Z"
   },
   {
    "duration": 5,
    "start_time": "2023-10-23T21:37:40.994Z"
   },
   {
    "duration": 6,
    "start_time": "2023-10-23T21:37:52.441Z"
   },
   {
    "duration": 10,
    "start_time": "2023-10-23T21:38:08.177Z"
   },
   {
    "duration": 5,
    "start_time": "2023-10-23T21:38:10.681Z"
   },
   {
    "duration": 4,
    "start_time": "2023-10-23T21:38:44.769Z"
   },
   {
    "duration": 6,
    "start_time": "2023-10-23T21:39:16.888Z"
   },
   {
    "duration": 6,
    "start_time": "2023-10-23T21:39:19.376Z"
   },
   {
    "duration": 5,
    "start_time": "2023-10-23T21:39:39.800Z"
   },
   {
    "duration": 8,
    "start_time": "2023-10-23T21:39:42.599Z"
   },
   {
    "duration": 6,
    "start_time": "2023-10-23T21:39:51.119Z"
   },
   {
    "duration": 7,
    "start_time": "2023-10-23T21:40:06.185Z"
   },
   {
    "duration": 7,
    "start_time": "2023-10-23T21:40:08.575Z"
   },
   {
    "duration": 7,
    "start_time": "2023-10-23T21:40:12.319Z"
   },
   {
    "duration": 10,
    "start_time": "2023-10-23T21:40:55.759Z"
   },
   {
    "duration": 9,
    "start_time": "2023-10-23T21:41:04.142Z"
   },
   {
    "duration": 9,
    "start_time": "2023-10-23T21:41:57.063Z"
   },
   {
    "duration": 115,
    "start_time": "2023-10-23T21:44:09.109Z"
   },
   {
    "duration": 10,
    "start_time": "2023-10-23T21:44:21.341Z"
   },
   {
    "duration": 9,
    "start_time": "2023-10-23T21:46:16.091Z"
   },
   {
    "duration": 6,
    "start_time": "2023-10-23T21:47:14.891Z"
   },
   {
    "duration": 10,
    "start_time": "2023-10-23T21:47:19.184Z"
   },
   {
    "duration": 103,
    "start_time": "2023-10-23T21:47:31.946Z"
   },
   {
    "duration": 99,
    "start_time": "2023-10-23T21:47:39.010Z"
   },
   {
    "duration": 114,
    "start_time": "2023-10-23T21:47:49.018Z"
   },
   {
    "duration": 118,
    "start_time": "2023-10-23T21:48:04.954Z"
   },
   {
    "duration": 185,
    "start_time": "2023-10-23T21:48:08.386Z"
   },
   {
    "duration": 126,
    "start_time": "2023-10-23T21:48:25.477Z"
   },
   {
    "duration": 117,
    "start_time": "2023-10-23T21:49:07.234Z"
   },
   {
    "duration": 113,
    "start_time": "2023-10-23T21:49:18.689Z"
   },
   {
    "duration": 119,
    "start_time": "2023-10-23T21:49:25.017Z"
   },
   {
    "duration": 11,
    "start_time": "2023-10-23T21:49:45.649Z"
   },
   {
    "duration": 132,
    "start_time": "2023-10-23T21:49:51.574Z"
   },
   {
    "duration": 120,
    "start_time": "2023-10-23T21:50:58.952Z"
   },
   {
    "duration": 119,
    "start_time": "2023-10-23T21:51:07.401Z"
   },
   {
    "duration": 118,
    "start_time": "2023-10-23T21:51:17.360Z"
   },
   {
    "duration": 124,
    "start_time": "2023-10-23T21:52:05.624Z"
   },
   {
    "duration": 121,
    "start_time": "2023-10-23T21:52:22.752Z"
   },
   {
    "duration": 103,
    "start_time": "2023-10-23T21:52:33.223Z"
   },
   {
    "duration": 133,
    "start_time": "2023-10-23T21:52:49.120Z"
   },
   {
    "duration": 246,
    "start_time": "2023-10-23T21:53:07.631Z"
   },
   {
    "duration": 122,
    "start_time": "2023-10-23T21:53:53.790Z"
   },
   {
    "duration": 126,
    "start_time": "2023-10-23T21:53:57.777Z"
   },
   {
    "duration": 135,
    "start_time": "2023-10-23T21:54:28.448Z"
   },
   {
    "duration": 134,
    "start_time": "2023-10-23T21:54:50.474Z"
   },
   {
    "duration": 127,
    "start_time": "2023-10-23T21:55:03.656Z"
   },
   {
    "duration": 126,
    "start_time": "2023-10-23T21:55:13.208Z"
   },
   {
    "duration": 143,
    "start_time": "2023-10-23T21:55:18.880Z"
   },
   {
    "duration": 154,
    "start_time": "2023-10-23T21:55:35.297Z"
   },
   {
    "duration": 141,
    "start_time": "2023-10-23T21:55:38.976Z"
   },
   {
    "duration": 147,
    "start_time": "2023-10-23T21:57:10.575Z"
   },
   {
    "duration": 135,
    "start_time": "2023-10-23T21:57:14.099Z"
   },
   {
    "duration": 202,
    "start_time": "2023-10-23T21:57:21.880Z"
   },
   {
    "duration": 137,
    "start_time": "2023-10-23T21:57:43.953Z"
   },
   {
    "duration": 137,
    "start_time": "2023-10-23T21:57:51.801Z"
   },
   {
    "duration": 370,
    "start_time": "2023-10-23T22:02:56.354Z"
   },
   {
    "duration": 135,
    "start_time": "2023-10-23T22:03:04.498Z"
   },
   {
    "duration": 140,
    "start_time": "2023-10-23T22:04:26.155Z"
   },
   {
    "duration": 163,
    "start_time": "2023-10-23T22:04:54.036Z"
   },
   {
    "duration": 143,
    "start_time": "2023-10-23T22:06:44.273Z"
   },
   {
    "duration": 138,
    "start_time": "2023-10-23T22:07:37.018Z"
   },
   {
    "duration": 142,
    "start_time": "2023-10-23T22:07:45.514Z"
   },
   {
    "duration": 157,
    "start_time": "2023-10-23T22:08:21.706Z"
   },
   {
    "duration": 153,
    "start_time": "2023-10-23T22:08:31.313Z"
   },
   {
    "duration": 219,
    "start_time": "2023-10-23T22:09:01.858Z"
   },
   {
    "duration": 153,
    "start_time": "2023-10-23T22:09:13.409Z"
   },
   {
    "duration": 143,
    "start_time": "2023-10-23T22:09:18.080Z"
   },
   {
    "duration": 142,
    "start_time": "2023-10-23T22:09:29.089Z"
   },
   {
    "duration": 140,
    "start_time": "2023-10-23T22:09:48.425Z"
   },
   {
    "duration": 147,
    "start_time": "2023-10-23T22:10:28.084Z"
   },
   {
    "duration": 62,
    "start_time": "2023-10-24T18:57:05.274Z"
   },
   {
    "duration": 802,
    "start_time": "2023-10-24T18:57:12.453Z"
   },
   {
    "duration": 339,
    "start_time": "2023-10-24T18:57:13.259Z"
   },
   {
    "duration": 34,
    "start_time": "2023-10-24T18:57:13.600Z"
   },
   {
    "duration": 32,
    "start_time": "2023-10-24T18:57:13.636Z"
   },
   {
    "duration": 55,
    "start_time": "2023-10-24T18:57:13.670Z"
   },
   {
    "duration": 6,
    "start_time": "2023-10-24T18:57:13.726Z"
   },
   {
    "duration": 8,
    "start_time": "2023-10-24T18:57:13.733Z"
   },
   {
    "duration": 68,
    "start_time": "2023-10-24T18:57:13.742Z"
   },
   {
    "duration": 8,
    "start_time": "2023-10-24T18:57:13.812Z"
   },
   {
    "duration": 39,
    "start_time": "2023-10-24T18:57:13.823Z"
   },
   {
    "duration": 16,
    "start_time": "2023-10-24T18:57:13.864Z"
   },
   {
    "duration": 225,
    "start_time": "2023-10-24T18:57:13.882Z"
   },
   {
    "duration": 181,
    "start_time": "2023-10-24T18:57:14.109Z"
   },
   {
    "duration": 15,
    "start_time": "2023-10-24T18:57:14.292Z"
   },
   {
    "duration": 6,
    "start_time": "2023-10-24T18:57:25.014Z"
   },
   {
    "duration": 6,
    "start_time": "2023-10-24T18:57:36.077Z"
   },
   {
    "duration": 4,
    "start_time": "2023-10-24T18:58:09.605Z"
   },
   {
    "duration": 303,
    "start_time": "2023-10-24T18:58:25.754Z"
   },
   {
    "duration": 241,
    "start_time": "2023-10-24T18:58:38.397Z"
   },
   {
    "duration": 261,
    "start_time": "2023-10-24T18:58:51.301Z"
   },
   {
    "duration": 672,
    "start_time": "2023-10-24T18:59:47.084Z"
   },
   {
    "duration": 206,
    "start_time": "2023-10-24T18:59:47.758Z"
   },
   {
    "duration": 32,
    "start_time": "2023-10-24T18:59:47.966Z"
   },
   {
    "duration": 32,
    "start_time": "2023-10-24T18:59:47.999Z"
   },
   {
    "duration": 25,
    "start_time": "2023-10-24T18:59:48.033Z"
   },
   {
    "duration": 5,
    "start_time": "2023-10-24T18:59:48.059Z"
   },
   {
    "duration": 44,
    "start_time": "2023-10-24T18:59:48.066Z"
   },
   {
    "duration": 42,
    "start_time": "2023-10-24T18:59:48.112Z"
   },
   {
    "duration": 8,
    "start_time": "2023-10-24T18:59:48.156Z"
   },
   {
    "duration": 16,
    "start_time": "2023-10-24T18:59:48.166Z"
   },
   {
    "duration": 32,
    "start_time": "2023-10-24T18:59:48.183Z"
   },
   {
    "duration": 229,
    "start_time": "2023-10-24T18:59:48.217Z"
   },
   {
    "duration": 176,
    "start_time": "2023-10-24T18:59:48.448Z"
   },
   {
    "duration": 2,
    "start_time": "2023-10-24T18:59:48.627Z"
   },
   {
    "duration": 6,
    "start_time": "2023-10-24T19:00:06.228Z"
   },
   {
    "duration": 6,
    "start_time": "2023-10-24T19:00:15.508Z"
   },
   {
    "duration": 8,
    "start_time": "2023-10-24T19:00:34.109Z"
   },
   {
    "duration": 6,
    "start_time": "2023-10-24T19:01:43.877Z"
   },
   {
    "duration": 317,
    "start_time": "2023-10-24T19:02:00.953Z"
   },
   {
    "duration": 245,
    "start_time": "2023-10-24T19:02:06.483Z"
   },
   {
    "duration": 282,
    "start_time": "2023-10-24T19:02:24.104Z"
   },
   {
    "duration": 262,
    "start_time": "2023-10-24T19:04:33.952Z"
   },
   {
    "duration": 285,
    "start_time": "2023-10-24T19:04:58.459Z"
   },
   {
    "duration": 326,
    "start_time": "2023-10-24T19:11:16.730Z"
   },
   {
    "duration": 5,
    "start_time": "2023-10-24T19:12:43.574Z"
   },
   {
    "duration": 6,
    "start_time": "2023-10-24T19:13:31.113Z"
   },
   {
    "duration": 10,
    "start_time": "2023-10-24T19:14:30.305Z"
   },
   {
    "duration": 11,
    "start_time": "2023-10-24T19:14:38.329Z"
   },
   {
    "duration": 63,
    "start_time": "2023-10-24T19:23:29.859Z"
   },
   {
    "duration": 688,
    "start_time": "2023-10-24T19:23:35.735Z"
   },
   {
    "duration": 214,
    "start_time": "2023-10-24T19:23:36.425Z"
   },
   {
    "duration": 32,
    "start_time": "2023-10-24T19:23:36.641Z"
   },
   {
    "duration": 46,
    "start_time": "2023-10-24T19:23:36.675Z"
   },
   {
    "duration": 25,
    "start_time": "2023-10-24T19:23:36.723Z"
   },
   {
    "duration": 5,
    "start_time": "2023-10-24T19:23:36.750Z"
   },
   {
    "duration": 18,
    "start_time": "2023-10-24T19:23:36.756Z"
   },
   {
    "duration": 36,
    "start_time": "2023-10-24T19:23:36.775Z"
   },
   {
    "duration": 55,
    "start_time": "2023-10-24T19:23:36.814Z"
   },
   {
    "duration": 9,
    "start_time": "2023-10-24T19:23:36.872Z"
   },
   {
    "duration": 31,
    "start_time": "2023-10-24T19:23:36.883Z"
   },
   {
    "duration": 23,
    "start_time": "2023-10-24T19:23:36.916Z"
   },
   {
    "duration": 224,
    "start_time": "2023-10-24T19:23:36.941Z"
   },
   {
    "duration": 190,
    "start_time": "2023-10-24T19:23:37.168Z"
   },
   {
    "duration": 362,
    "start_time": "2023-10-24T19:23:37.360Z"
   },
   {
    "duration": 5,
    "start_time": "2023-10-24T19:23:37.723Z"
   },
   {
    "duration": 9,
    "start_time": "2023-10-24T19:24:11.038Z"
   },
   {
    "duration": 722,
    "start_time": "2023-10-24T19:24:26.612Z"
   },
   {
    "duration": 214,
    "start_time": "2023-10-24T19:24:27.336Z"
   },
   {
    "duration": 32,
    "start_time": "2023-10-24T19:24:27.551Z"
   },
   {
    "duration": 37,
    "start_time": "2023-10-24T19:24:27.585Z"
   },
   {
    "duration": 27,
    "start_time": "2023-10-24T19:24:27.625Z"
   },
   {
    "duration": 4,
    "start_time": "2023-10-24T19:24:27.654Z"
   },
   {
    "duration": 13,
    "start_time": "2023-10-24T19:24:27.659Z"
   },
   {
    "duration": 21,
    "start_time": "2023-10-24T19:24:27.674Z"
   },
   {
    "duration": 57,
    "start_time": "2023-10-24T19:24:27.697Z"
   },
   {
    "duration": 9,
    "start_time": "2023-10-24T19:24:27.756Z"
   },
   {
    "duration": 14,
    "start_time": "2023-10-24T19:24:27.766Z"
   },
   {
    "duration": 32,
    "start_time": "2023-10-24T19:24:27.782Z"
   },
   {
    "duration": 234,
    "start_time": "2023-10-24T19:24:27.816Z"
   },
   {
    "duration": 165,
    "start_time": "2023-10-24T19:24:28.053Z"
   },
   {
    "duration": 332,
    "start_time": "2023-10-24T19:24:28.220Z"
   },
   {
    "duration": 8,
    "start_time": "2023-10-24T19:24:28.554Z"
   },
   {
    "duration": 4,
    "start_time": "2023-10-24T19:24:51.334Z"
   },
   {
    "duration": 72,
    "start_time": "2023-10-24T19:24:58.014Z"
   },
   {
    "duration": 9,
    "start_time": "2023-10-24T19:25:05.566Z"
   },
   {
    "duration": 9,
    "start_time": "2023-10-24T19:25:20.494Z"
   },
   {
    "duration": 9,
    "start_time": "2023-10-24T19:26:37.302Z"
   },
   {
    "duration": 145,
    "start_time": "2023-10-24T19:28:01.374Z"
   },
   {
    "duration": 151,
    "start_time": "2023-10-24T19:28:26.661Z"
   },
   {
    "duration": 117,
    "start_time": "2023-10-24T19:28:48.159Z"
   },
   {
    "duration": 121,
    "start_time": "2023-10-24T19:28:57.277Z"
   },
   {
    "duration": 124,
    "start_time": "2023-10-24T19:29:40.773Z"
   },
   {
    "duration": 157,
    "start_time": "2023-10-24T19:29:50.533Z"
   },
   {
    "duration": 157,
    "start_time": "2023-10-24T19:30:13.333Z"
   },
   {
    "duration": 154,
    "start_time": "2023-10-24T19:30:17.397Z"
   },
   {
    "duration": 152,
    "start_time": "2023-10-24T19:30:21.124Z"
   },
   {
    "duration": 12,
    "start_time": "2023-10-24T19:30:31.333Z"
   },
   {
    "duration": 227,
    "start_time": "2023-10-24T19:30:53.709Z"
   },
   {
    "duration": 93,
    "start_time": "2023-10-24T19:31:25.828Z"
   },
   {
    "duration": 184,
    "start_time": "2023-10-24T19:31:37.358Z"
   },
   {
    "duration": 174,
    "start_time": "2023-10-24T19:32:01.165Z"
   },
   {
    "duration": 169,
    "start_time": "2023-10-24T19:32:12.260Z"
   },
   {
    "duration": 169,
    "start_time": "2023-10-24T19:32:17.796Z"
   },
   {
    "duration": 144,
    "start_time": "2023-10-24T19:33:41.572Z"
   },
   {
    "duration": 18,
    "start_time": "2023-10-24T19:33:56.717Z"
   },
   {
    "duration": 86,
    "start_time": "2023-10-24T19:34:09.971Z"
   },
   {
    "duration": 107,
    "start_time": "2023-10-24T19:34:21.545Z"
   },
   {
    "duration": 82,
    "start_time": "2023-10-24T19:34:24.658Z"
   },
   {
    "duration": 80,
    "start_time": "2023-10-24T19:34:32.028Z"
   },
   {
    "duration": 86,
    "start_time": "2023-10-24T19:34:40.412Z"
   },
   {
    "duration": 156,
    "start_time": "2023-10-24T19:34:41.947Z"
   },
   {
    "duration": 228,
    "start_time": "2023-10-24T19:35:16.003Z"
   },
   {
    "duration": 184,
    "start_time": "2023-10-24T19:35:44.501Z"
   },
   {
    "duration": 201,
    "start_time": "2023-10-24T19:35:59.067Z"
   },
   {
    "duration": 172,
    "start_time": "2023-10-24T19:36:57.548Z"
   },
   {
    "duration": 248,
    "start_time": "2023-10-24T19:37:36.339Z"
   },
   {
    "duration": 186,
    "start_time": "2023-10-24T19:37:47.062Z"
   },
   {
    "duration": 177,
    "start_time": "2023-10-24T19:39:29.859Z"
   },
   {
    "duration": 193,
    "start_time": "2023-10-24T19:39:47.778Z"
   },
   {
    "duration": 228,
    "start_time": "2023-10-24T19:40:05.859Z"
   },
   {
    "duration": 191,
    "start_time": "2023-10-24T19:40:40.369Z"
   },
   {
    "duration": 177,
    "start_time": "2023-10-24T19:41:10.121Z"
   },
   {
    "duration": 174,
    "start_time": "2023-10-24T19:43:30.433Z"
   },
   {
    "duration": 208,
    "start_time": "2023-10-24T19:43:39.970Z"
   },
   {
    "duration": 180,
    "start_time": "2023-10-24T19:43:47.562Z"
   },
   {
    "duration": 222,
    "start_time": "2023-10-24T19:47:02.729Z"
   },
   {
    "duration": 279,
    "start_time": "2023-10-24T19:47:31.664Z"
   },
   {
    "duration": 224,
    "start_time": "2023-10-24T19:48:37.288Z"
   },
   {
    "duration": 196,
    "start_time": "2023-10-24T19:48:42.311Z"
   },
   {
    "duration": 6,
    "start_time": "2023-10-24T19:49:19.135Z"
   },
   {
    "duration": 198,
    "start_time": "2023-10-24T19:49:38.832Z"
   },
   {
    "duration": 228,
    "start_time": "2023-10-24T19:52:46.223Z"
   },
   {
    "duration": 216,
    "start_time": "2023-10-24T19:52:52.063Z"
   },
   {
    "duration": 612,
    "start_time": "2023-10-24T19:53:54.519Z"
   },
   {
    "duration": 201,
    "start_time": "2023-10-24T19:56:52.857Z"
   },
   {
    "duration": 207,
    "start_time": "2023-10-24T19:57:03.173Z"
   },
   {
    "duration": 218,
    "start_time": "2023-10-24T19:57:20.064Z"
   },
   {
    "duration": 11,
    "start_time": "2023-10-24T19:58:08.221Z"
   },
   {
    "duration": 10,
    "start_time": "2023-10-24T19:59:19.926Z"
   },
   {
    "duration": 6,
    "start_time": "2023-10-24T19:59:31.957Z"
   },
   {
    "duration": 12,
    "start_time": "2023-10-24T19:59:34.549Z"
   },
   {
    "duration": 14,
    "start_time": "2023-10-24T19:59:48.259Z"
   },
   {
    "duration": 11,
    "start_time": "2023-10-24T20:00:36.757Z"
   },
   {
    "duration": 143,
    "start_time": "2023-10-24T20:00:56.589Z"
   },
   {
    "duration": 7,
    "start_time": "2023-10-24T20:01:16.414Z"
   },
   {
    "duration": 13,
    "start_time": "2023-10-24T20:01:20.541Z"
   },
   {
    "duration": 5,
    "start_time": "2023-10-24T20:02:29.437Z"
   },
   {
    "duration": 9,
    "start_time": "2023-10-24T20:03:54.293Z"
   },
   {
    "duration": 9,
    "start_time": "2023-10-24T20:04:00.251Z"
   },
   {
    "duration": 24,
    "start_time": "2023-10-24T20:04:31.428Z"
   },
   {
    "duration": 13,
    "start_time": "2023-10-24T20:05:56.891Z"
   },
   {
    "duration": 16,
    "start_time": "2023-10-24T20:06:00.395Z"
   },
   {
    "duration": 16,
    "start_time": "2023-10-24T20:06:20.300Z"
   },
   {
    "duration": 8,
    "start_time": "2023-10-24T20:08:01.508Z"
   },
   {
    "duration": 97,
    "start_time": "2023-10-24T20:08:04.330Z"
   },
   {
    "duration": 145,
    "start_time": "2023-10-24T20:08:16.681Z"
   },
   {
    "duration": 13,
    "start_time": "2023-10-24T20:08:42.826Z"
   },
   {
    "duration": 11,
    "start_time": "2023-10-24T20:08:46.242Z"
   },
   {
    "duration": 12,
    "start_time": "2023-10-24T20:09:03.690Z"
   },
   {
    "duration": 14,
    "start_time": "2023-10-24T20:09:40.555Z"
   },
   {
    "duration": 14,
    "start_time": "2023-10-24T20:10:30.883Z"
   },
   {
    "duration": 12,
    "start_time": "2023-10-24T20:10:37.634Z"
   },
   {
    "duration": 12,
    "start_time": "2023-10-24T20:10:45.146Z"
   },
   {
    "duration": 20,
    "start_time": "2023-10-24T20:11:29.737Z"
   },
   {
    "duration": 38,
    "start_time": "2023-10-24T20:12:28.145Z"
   },
   {
    "duration": 21,
    "start_time": "2023-10-24T20:12:36.929Z"
   },
   {
    "duration": 24,
    "start_time": "2023-10-24T20:12:51.361Z"
   },
   {
    "duration": 19,
    "start_time": "2023-10-24T20:12:57.577Z"
   },
   {
    "duration": 15,
    "start_time": "2023-10-24T20:13:30.241Z"
   },
   {
    "duration": 8,
    "start_time": "2023-10-24T20:18:47.608Z"
   },
   {
    "duration": 14,
    "start_time": "2023-10-24T20:27:05.991Z"
   },
   {
    "duration": 12,
    "start_time": "2023-10-24T20:27:42.790Z"
   },
   {
    "duration": 3,
    "start_time": "2023-10-24T20:28:19.765Z"
   },
   {
    "duration": 10,
    "start_time": "2023-10-24T20:28:23.780Z"
   },
   {
    "duration": 55,
    "start_time": "2023-10-24T20:28:50.741Z"
   },
   {
    "duration": 3,
    "start_time": "2023-10-24T20:29:02.077Z"
   },
   {
    "duration": 10,
    "start_time": "2023-10-24T20:29:05.812Z"
   },
   {
    "duration": 12,
    "start_time": "2023-10-24T20:30:07.908Z"
   },
   {
    "duration": 2,
    "start_time": "2023-10-24T20:30:14.445Z"
   },
   {
    "duration": 684,
    "start_time": "2023-10-24T20:30:22.182Z"
   },
   {
    "duration": 210,
    "start_time": "2023-10-24T20:30:22.868Z"
   },
   {
    "duration": 32,
    "start_time": "2023-10-24T20:30:23.079Z"
   },
   {
    "duration": 30,
    "start_time": "2023-10-24T20:30:23.113Z"
   },
   {
    "duration": 25,
    "start_time": "2023-10-24T20:30:23.145Z"
   },
   {
    "duration": 5,
    "start_time": "2023-10-24T20:30:23.172Z"
   },
   {
    "duration": 29,
    "start_time": "2023-10-24T20:30:23.178Z"
   },
   {
    "duration": 29,
    "start_time": "2023-10-24T20:30:23.209Z"
   },
   {
    "duration": 59,
    "start_time": "2023-10-24T20:30:23.240Z"
   },
   {
    "duration": 8,
    "start_time": "2023-10-24T20:30:23.301Z"
   },
   {
    "duration": 16,
    "start_time": "2023-10-24T20:30:23.311Z"
   },
   {
    "duration": 28,
    "start_time": "2023-10-24T20:30:23.329Z"
   },
   {
    "duration": 221,
    "start_time": "2023-10-24T20:30:23.358Z"
   },
   {
    "duration": 174,
    "start_time": "2023-10-24T20:30:23.582Z"
   },
   {
    "duration": 331,
    "start_time": "2023-10-24T20:30:23.758Z"
   },
   {
    "duration": 17,
    "start_time": "2023-10-24T20:30:24.091Z"
   },
   {
    "duration": 3,
    "start_time": "2023-10-24T20:30:24.109Z"
   },
   {
    "duration": 71,
    "start_time": "2023-10-24T20:35:22.644Z"
   },
   {
    "duration": 6,
    "start_time": "2023-10-24T20:35:32.938Z"
   },
   {
    "duration": 7,
    "start_time": "2023-10-24T20:36:39.619Z"
   },
   {
    "duration": 9,
    "start_time": "2023-10-24T20:36:47.617Z"
   },
   {
    "duration": 7,
    "start_time": "2023-10-24T20:40:36.544Z"
   },
   {
    "duration": 6,
    "start_time": "2023-10-24T20:40:56.627Z"
   },
   {
    "duration": 9,
    "start_time": "2023-10-24T20:40:59.608Z"
   },
   {
    "duration": 7,
    "start_time": "2023-10-24T20:41:01.976Z"
   },
   {
    "duration": 5,
    "start_time": "2023-10-24T20:41:10.527Z"
   },
   {
    "duration": 5,
    "start_time": "2023-10-24T20:41:13.543Z"
   },
   {
    "duration": 5,
    "start_time": "2023-10-24T20:52:08.561Z"
   },
   {
    "duration": 7,
    "start_time": "2023-10-24T20:52:11.100Z"
   },
   {
    "duration": 87,
    "start_time": "2023-10-24T20:52:45.116Z"
   },
   {
    "duration": 5,
    "start_time": "2023-10-24T20:53:09.499Z"
   },
   {
    "duration": 7,
    "start_time": "2023-10-24T20:53:13.692Z"
   },
   {
    "duration": 6,
    "start_time": "2023-10-24T20:53:34.436Z"
   },
   {
    "duration": 66,
    "start_time": "2023-10-24T20:53:49.020Z"
   },
   {
    "duration": 5,
    "start_time": "2023-10-24T20:54:26.587Z"
   },
   {
    "duration": 7,
    "start_time": "2023-10-24T20:54:29.675Z"
   },
   {
    "duration": 7,
    "start_time": "2023-10-24T20:54:53.643Z"
   },
   {
    "duration": 13,
    "start_time": "2023-10-24T20:54:58.314Z"
   },
   {
    "duration": 7,
    "start_time": "2023-10-24T20:55:15.651Z"
   },
   {
    "duration": 14,
    "start_time": "2023-10-24T20:55:18.218Z"
   },
   {
    "duration": 8,
    "start_time": "2023-10-24T20:57:06.587Z"
   },
   {
    "duration": 7,
    "start_time": "2023-10-24T20:57:10.842Z"
   },
   {
    "duration": 7,
    "start_time": "2023-10-24T20:57:13.163Z"
   },
   {
    "duration": 6,
    "start_time": "2023-10-24T20:57:17.690Z"
   },
   {
    "duration": 13,
    "start_time": "2023-10-24T20:57:19.963Z"
   },
   {
    "duration": 13,
    "start_time": "2023-10-24T20:57:30.803Z"
   },
   {
    "duration": 89,
    "start_time": "2023-10-24T20:59:43.025Z"
   },
   {
    "duration": 0,
    "start_time": "2023-10-24T21:00:22.210Z"
   },
   {
    "duration": 99,
    "start_time": "2023-10-24T21:00:31.065Z"
   },
   {
    "duration": 14,
    "start_time": "2023-10-24T21:00:52.329Z"
   },
   {
    "duration": 7,
    "start_time": "2023-10-24T21:01:19.970Z"
   },
   {
    "duration": 657,
    "start_time": "2023-10-24T21:01:25.466Z"
   },
   {
    "duration": 222,
    "start_time": "2023-10-24T21:01:26.126Z"
   },
   {
    "duration": 33,
    "start_time": "2023-10-24T21:01:26.350Z"
   },
   {
    "duration": 37,
    "start_time": "2023-10-24T21:01:26.385Z"
   },
   {
    "duration": 27,
    "start_time": "2023-10-24T21:01:26.424Z"
   },
   {
    "duration": 5,
    "start_time": "2023-10-24T21:01:26.452Z"
   },
   {
    "duration": 10,
    "start_time": "2023-10-24T21:01:26.458Z"
   },
   {
    "duration": 29,
    "start_time": "2023-10-24T21:01:26.469Z"
   },
   {
    "duration": 50,
    "start_time": "2023-10-24T21:01:26.506Z"
   },
   {
    "duration": 8,
    "start_time": "2023-10-24T21:01:26.560Z"
   },
   {
    "duration": 10,
    "start_time": "2023-10-24T21:01:26.570Z"
   },
   {
    "duration": 34,
    "start_time": "2023-10-24T21:01:26.582Z"
   },
   {
    "duration": 222,
    "start_time": "2023-10-24T21:01:26.618Z"
   },
   {
    "duration": 171,
    "start_time": "2023-10-24T21:01:26.842Z"
   },
   {
    "duration": 358,
    "start_time": "2023-10-24T21:01:27.014Z"
   },
   {
    "duration": 12,
    "start_time": "2023-10-24T21:01:27.373Z"
   },
   {
    "duration": 25,
    "start_time": "2023-10-24T21:01:27.386Z"
   },
   {
    "duration": 74,
    "start_time": "2023-10-24T21:01:36.721Z"
   },
   {
    "duration": 13,
    "start_time": "2023-10-24T21:02:02.354Z"
   },
   {
    "duration": 26,
    "start_time": "2023-10-24T21:02:24.994Z"
   },
   {
    "duration": 13,
    "start_time": "2023-10-24T21:04:18.009Z"
   },
   {
    "duration": 16,
    "start_time": "2023-10-24T21:04:23.161Z"
   },
   {
    "duration": 16,
    "start_time": "2023-10-24T21:04:45.338Z"
   },
   {
    "duration": 738,
    "start_time": "2023-10-24T21:04:56.568Z"
   },
   {
    "duration": 228,
    "start_time": "2023-10-24T21:04:57.308Z"
   },
   {
    "duration": 36,
    "start_time": "2023-10-24T21:04:57.538Z"
   },
   {
    "duration": 48,
    "start_time": "2023-10-24T21:04:57.575Z"
   },
   {
    "duration": 30,
    "start_time": "2023-10-24T21:04:57.626Z"
   },
   {
    "duration": 5,
    "start_time": "2023-10-24T21:04:57.658Z"
   },
   {
    "duration": 4,
    "start_time": "2023-10-24T21:04:57.664Z"
   },
   {
    "duration": 41,
    "start_time": "2023-10-24T21:04:57.669Z"
   },
   {
    "duration": 64,
    "start_time": "2023-10-24T21:04:57.712Z"
   },
   {
    "duration": 12,
    "start_time": "2023-10-24T21:04:57.779Z"
   },
   {
    "duration": 34,
    "start_time": "2023-10-24T21:04:57.793Z"
   },
   {
    "duration": 37,
    "start_time": "2023-10-24T21:04:57.829Z"
   },
   {
    "duration": 257,
    "start_time": "2023-10-24T21:04:57.868Z"
   },
   {
    "duration": 169,
    "start_time": "2023-10-24T21:04:58.127Z"
   },
   {
    "duration": 346,
    "start_time": "2023-10-24T21:04:58.297Z"
   },
   {
    "duration": 11,
    "start_time": "2023-10-24T21:04:58.645Z"
   },
   {
    "duration": 33,
    "start_time": "2023-10-24T21:04:58.657Z"
   },
   {
    "duration": 14,
    "start_time": "2023-10-24T21:07:06.438Z"
   },
   {
    "duration": 11,
    "start_time": "2023-10-24T21:07:17.952Z"
   },
   {
    "duration": 14,
    "start_time": "2023-10-24T21:07:22.199Z"
   },
   {
    "duration": 12,
    "start_time": "2023-10-24T21:07:57.504Z"
   },
   {
    "duration": 19,
    "start_time": "2023-10-24T21:08:45.008Z"
   },
   {
    "duration": 105,
    "start_time": "2023-10-24T21:12:25.208Z"
   },
   {
    "duration": 6,
    "start_time": "2023-10-24T21:12:30.230Z"
   },
   {
    "duration": 70,
    "start_time": "2023-10-24T21:12:54.230Z"
   },
   {
    "duration": 13,
    "start_time": "2023-10-24T21:12:57.735Z"
   },
   {
    "duration": 17,
    "start_time": "2023-10-24T21:13:04.261Z"
   },
   {
    "duration": 8,
    "start_time": "2023-10-24T21:15:41.653Z"
   },
   {
    "duration": 12,
    "start_time": "2023-10-24T21:15:46.133Z"
   },
   {
    "duration": 107,
    "start_time": "2023-10-24T21:15:53.325Z"
   },
   {
    "duration": 97,
    "start_time": "2023-10-24T21:17:18.765Z"
   },
   {
    "duration": 5,
    "start_time": "2023-10-24T21:17:22.159Z"
   },
   {
    "duration": 5,
    "start_time": "2023-10-24T21:17:24.389Z"
   },
   {
    "duration": 8,
    "start_time": "2023-10-24T21:18:03.452Z"
   },
   {
    "duration": 4,
    "start_time": "2023-10-24T21:18:09.108Z"
   },
   {
    "duration": 6,
    "start_time": "2023-10-24T21:18:14.530Z"
   },
   {
    "duration": 6,
    "start_time": "2023-10-24T21:18:33.588Z"
   },
   {
    "duration": 5,
    "start_time": "2023-10-24T21:18:49.485Z"
   },
   {
    "duration": 7,
    "start_time": "2023-10-24T21:18:54.540Z"
   },
   {
    "duration": 7,
    "start_time": "2023-10-24T21:20:48.899Z"
   },
   {
    "duration": 5,
    "start_time": "2023-10-24T21:32:20.193Z"
   },
   {
    "duration": 15,
    "start_time": "2023-10-24T21:32:30.295Z"
   },
   {
    "duration": 16,
    "start_time": "2023-10-24T21:32:32.607Z"
   },
   {
    "duration": 23,
    "start_time": "2023-10-24T21:32:44.591Z"
   },
   {
    "duration": 19,
    "start_time": "2023-10-24T21:32:55.496Z"
   },
   {
    "duration": 15,
    "start_time": "2023-10-24T21:33:07.033Z"
   },
   {
    "duration": 15,
    "start_time": "2023-10-24T21:33:43.895Z"
   },
   {
    "duration": 11,
    "start_time": "2023-10-24T21:35:06.780Z"
   },
   {
    "duration": 18,
    "start_time": "2023-10-24T21:35:27.910Z"
   },
   {
    "duration": 24,
    "start_time": "2023-10-24T21:35:36.367Z"
   },
   {
    "duration": 16,
    "start_time": "2023-10-24T21:35:40.366Z"
   },
   {
    "duration": 117,
    "start_time": "2023-10-24T21:40:02.885Z"
   },
   {
    "duration": 9,
    "start_time": "2023-10-24T21:40:11.965Z"
   },
   {
    "duration": 8,
    "start_time": "2023-10-24T21:40:25.022Z"
   },
   {
    "duration": 9,
    "start_time": "2023-10-24T21:41:39.309Z"
   },
   {
    "duration": 8,
    "start_time": "2023-10-24T21:41:52.652Z"
   },
   {
    "duration": 24,
    "start_time": "2023-10-24T21:43:46.117Z"
   },
   {
    "duration": 9,
    "start_time": "2023-10-24T21:44:05.764Z"
   },
   {
    "duration": 16,
    "start_time": "2023-10-24T21:44:22.773Z"
   },
   {
    "duration": 10,
    "start_time": "2023-10-24T21:45:17.989Z"
   },
   {
    "duration": 10,
    "start_time": "2023-10-24T21:45:25.587Z"
   },
   {
    "duration": 10,
    "start_time": "2023-10-24T21:47:28.351Z"
   },
   {
    "duration": 10,
    "start_time": "2023-10-24T21:47:44.282Z"
   },
   {
    "duration": 667,
    "start_time": "2023-10-24T21:48:47.623Z"
   },
   {
    "duration": 207,
    "start_time": "2023-10-24T21:48:48.293Z"
   },
   {
    "duration": 33,
    "start_time": "2023-10-24T21:48:48.501Z"
   },
   {
    "duration": 30,
    "start_time": "2023-10-24T21:48:48.536Z"
   },
   {
    "duration": 52,
    "start_time": "2023-10-24T21:48:48.568Z"
   },
   {
    "duration": 5,
    "start_time": "2023-10-24T21:48:48.621Z"
   },
   {
    "duration": 14,
    "start_time": "2023-10-24T21:48:48.627Z"
   },
   {
    "duration": 10,
    "start_time": "2023-10-24T21:48:48.642Z"
   },
   {
    "duration": 57,
    "start_time": "2023-10-24T21:48:48.653Z"
   },
   {
    "duration": 6,
    "start_time": "2023-10-24T21:48:48.712Z"
   },
   {
    "duration": 12,
    "start_time": "2023-10-24T21:48:48.720Z"
   },
   {
    "duration": 14,
    "start_time": "2023-10-24T21:48:48.734Z"
   },
   {
    "duration": 233,
    "start_time": "2023-10-24T21:48:48.750Z"
   },
   {
    "duration": 167,
    "start_time": "2023-10-24T21:48:48.986Z"
   },
   {
    "duration": 338,
    "start_time": "2023-10-24T21:48:49.155Z"
   },
   {
    "duration": 17,
    "start_time": "2023-10-24T21:48:49.494Z"
   },
   {
    "duration": 15,
    "start_time": "2023-10-24T21:48:49.513Z"
   },
   {
    "duration": 9,
    "start_time": "2023-10-24T21:49:13.193Z"
   },
   {
    "duration": 75,
    "start_time": "2023-10-24T21:50:03.554Z"
   },
   {
    "duration": 14,
    "start_time": "2023-10-24T21:50:52.297Z"
   },
   {
    "duration": 17,
    "start_time": "2023-10-24T21:52:30.066Z"
   },
   {
    "duration": 7,
    "start_time": "2023-10-24T21:52:39.898Z"
   },
   {
    "duration": 7,
    "start_time": "2023-10-24T21:52:44.953Z"
   },
   {
    "duration": 15,
    "start_time": "2023-10-24T21:52:55.953Z"
   },
   {
    "duration": 77,
    "start_time": "2023-10-24T21:54:58.000Z"
   },
   {
    "duration": 71,
    "start_time": "2023-10-24T21:55:24.024Z"
   },
   {
    "duration": 72,
    "start_time": "2023-10-24T21:55:59.001Z"
   },
   {
    "duration": 17,
    "start_time": "2023-10-24T21:57:12.087Z"
   },
   {
    "duration": 23,
    "start_time": "2023-10-24T21:57:16.166Z"
   },
   {
    "duration": 17,
    "start_time": "2023-10-24T21:58:39.487Z"
   },
   {
    "duration": 143,
    "start_time": "2023-10-24T21:58:52.369Z"
   },
   {
    "duration": 18,
    "start_time": "2023-10-24T21:59:02.840Z"
   },
   {
    "duration": 19,
    "start_time": "2023-10-24T21:59:47.166Z"
   },
   {
    "duration": 19,
    "start_time": "2023-10-24T21:59:57.999Z"
   },
   {
    "duration": 20,
    "start_time": "2023-10-24T22:00:29.069Z"
   },
   {
    "duration": 20,
    "start_time": "2023-10-24T22:00:40.110Z"
   },
   {
    "duration": 26,
    "start_time": "2023-10-24T22:00:51.518Z"
   },
   {
    "duration": 25,
    "start_time": "2023-10-24T22:00:58.866Z"
   },
   {
    "duration": 13,
    "start_time": "2023-10-24T22:01:01.799Z"
   },
   {
    "duration": 18,
    "start_time": "2023-10-24T22:01:05.065Z"
   },
   {
    "duration": 76,
    "start_time": "2023-10-24T22:02:13.679Z"
   },
   {
    "duration": 25,
    "start_time": "2023-10-24T22:02:17.294Z"
   },
   {
    "duration": 18,
    "start_time": "2023-10-24T22:02:20.798Z"
   },
   {
    "duration": 13,
    "start_time": "2023-10-24T22:04:23.272Z"
   },
   {
    "duration": 21,
    "start_time": "2023-10-24T22:04:54.438Z"
   },
   {
    "duration": 171,
    "start_time": "2023-10-24T22:05:20.069Z"
   },
   {
    "duration": 80,
    "start_time": "2023-10-24T22:05:32.673Z"
   },
   {
    "duration": 161,
    "start_time": "2023-10-24T22:05:42.109Z"
   },
   {
    "duration": 171,
    "start_time": "2023-10-24T22:05:48.573Z"
   },
   {
    "duration": 182,
    "start_time": "2023-10-24T22:06:20.342Z"
   },
   {
    "duration": 261,
    "start_time": "2023-10-24T22:06:53.188Z"
   },
   {
    "duration": 274,
    "start_time": "2023-10-24T22:07:03.045Z"
   },
   {
    "duration": 72,
    "start_time": "2023-10-24T22:07:38.766Z"
   },
   {
    "duration": 350,
    "start_time": "2023-10-24T22:07:53.378Z"
   },
   {
    "duration": 77,
    "start_time": "2023-10-24T22:07:55.572Z"
   },
   {
    "duration": 80,
    "start_time": "2023-10-24T22:08:01.413Z"
   },
   {
    "duration": 276,
    "start_time": "2023-10-24T22:08:23.331Z"
   },
   {
    "duration": 311,
    "start_time": "2023-10-24T22:08:38.404Z"
   },
   {
    "duration": 276,
    "start_time": "2023-10-24T22:08:47.339Z"
   },
   {
    "duration": 289,
    "start_time": "2023-10-24T22:08:50.278Z"
   },
   {
    "duration": 176,
    "start_time": "2023-10-24T22:10:12.620Z"
   },
   {
    "duration": 215,
    "start_time": "2023-10-24T22:10:24.732Z"
   },
   {
    "duration": 294,
    "start_time": "2023-10-24T22:10:39.280Z"
   },
   {
    "duration": 226,
    "start_time": "2023-10-24T22:10:53.471Z"
   },
   {
    "duration": 676,
    "start_time": "2023-10-24T22:22:32.010Z"
   },
   {
    "duration": 210,
    "start_time": "2023-10-24T22:22:32.688Z"
   },
   {
    "duration": 31,
    "start_time": "2023-10-24T22:22:32.899Z"
   },
   {
    "duration": 61,
    "start_time": "2023-10-24T22:22:32.932Z"
   },
   {
    "duration": 27,
    "start_time": "2023-10-24T22:22:32.995Z"
   },
   {
    "duration": 4,
    "start_time": "2023-10-24T22:22:33.024Z"
   },
   {
    "duration": 4,
    "start_time": "2023-10-24T22:22:33.030Z"
   },
   {
    "duration": 21,
    "start_time": "2023-10-24T22:22:33.036Z"
   },
   {
    "duration": 53,
    "start_time": "2023-10-24T22:22:33.058Z"
   },
   {
    "duration": 9,
    "start_time": "2023-10-24T22:22:33.113Z"
   },
   {
    "duration": 20,
    "start_time": "2023-10-24T22:22:33.124Z"
   },
   {
    "duration": 13,
    "start_time": "2023-10-24T22:22:33.146Z"
   },
   {
    "duration": 251,
    "start_time": "2023-10-24T22:22:33.161Z"
   },
   {
    "duration": 170,
    "start_time": "2023-10-24T22:22:33.415Z"
   },
   {
    "duration": 334,
    "start_time": "2023-10-24T22:22:33.587Z"
   },
   {
    "duration": 12,
    "start_time": "2023-10-24T22:22:33.923Z"
   },
   {
    "duration": 226,
    "start_time": "2023-10-24T22:22:33.937Z"
   },
   {
    "duration": 256,
    "start_time": "2023-10-24T22:23:25.882Z"
   },
   {
    "duration": 8,
    "start_time": "2023-10-24T22:24:04.730Z"
   },
   {
    "duration": 229,
    "start_time": "2023-10-24T22:25:37.291Z"
   },
   {
    "duration": 69,
    "start_time": "2023-10-24T22:30:54.406Z"
   },
   {
    "duration": 6,
    "start_time": "2023-10-24T22:31:51.438Z"
   },
   {
    "duration": 6,
    "start_time": "2023-10-24T22:31:53.079Z"
   },
   {
    "duration": 8,
    "start_time": "2023-10-24T22:31:57.893Z"
   },
   {
    "duration": 11,
    "start_time": "2023-10-24T22:32:21.422Z"
   },
   {
    "duration": 15,
    "start_time": "2023-10-24T22:33:35.421Z"
   },
   {
    "duration": 15,
    "start_time": "2023-10-24T22:33:38.318Z"
   },
   {
    "duration": 17,
    "start_time": "2023-10-24T22:33:49.245Z"
   },
   {
    "duration": 13,
    "start_time": "2023-10-24T22:34:39.131Z"
   },
   {
    "duration": 17,
    "start_time": "2023-10-24T22:36:35.078Z"
   },
   {
    "duration": 665,
    "start_time": "2023-10-24T22:36:40.879Z"
   },
   {
    "duration": 215,
    "start_time": "2023-10-24T22:36:41.545Z"
   },
   {
    "duration": 30,
    "start_time": "2023-10-24T22:36:41.762Z"
   },
   {
    "duration": 31,
    "start_time": "2023-10-24T22:36:41.793Z"
   },
   {
    "duration": 26,
    "start_time": "2023-10-24T22:36:41.825Z"
   },
   {
    "duration": 5,
    "start_time": "2023-10-24T22:36:41.852Z"
   },
   {
    "duration": 12,
    "start_time": "2023-10-24T22:36:41.858Z"
   },
   {
    "duration": 27,
    "start_time": "2023-10-24T22:36:41.871Z"
   },
   {
    "duration": 51,
    "start_time": "2023-10-24T22:36:41.900Z"
   },
   {
    "duration": 7,
    "start_time": "2023-10-24T22:36:41.953Z"
   },
   {
    "duration": 8,
    "start_time": "2023-10-24T22:36:41.962Z"
   },
   {
    "duration": 13,
    "start_time": "2023-10-24T22:36:41.972Z"
   },
   {
    "duration": 232,
    "start_time": "2023-10-24T22:36:41.987Z"
   },
   {
    "duration": 164,
    "start_time": "2023-10-24T22:36:42.221Z"
   },
   {
    "duration": 324,
    "start_time": "2023-10-24T22:36:42.387Z"
   },
   {
    "duration": 11,
    "start_time": "2023-10-24T22:36:42.712Z"
   },
   {
    "duration": 224,
    "start_time": "2023-10-24T22:36:42.724Z"
   },
   {
    "duration": 8,
    "start_time": "2023-10-24T22:36:42.949Z"
   },
   {
    "duration": 18,
    "start_time": "2023-10-24T22:36:42.958Z"
   },
   {
    "duration": 17,
    "start_time": "2023-10-24T22:36:53.723Z"
   },
   {
    "duration": 18,
    "start_time": "2023-10-24T22:36:55.828Z"
   },
   {
    "duration": 18,
    "start_time": "2023-10-24T22:37:14.277Z"
   },
   {
    "duration": 18,
    "start_time": "2023-10-24T22:37:19.682Z"
   },
   {
    "duration": 18,
    "start_time": "2023-10-24T22:37:24.969Z"
   },
   {
    "duration": 18,
    "start_time": "2023-10-24T22:37:33.350Z"
   },
   {
    "duration": 18,
    "start_time": "2023-10-24T22:37:43.731Z"
   },
   {
    "duration": 6,
    "start_time": "2023-10-24T22:37:51.300Z"
   },
   {
    "duration": 666,
    "start_time": "2023-10-24T22:37:59.283Z"
   },
   {
    "duration": 208,
    "start_time": "2023-10-24T22:37:59.951Z"
   },
   {
    "duration": 29,
    "start_time": "2023-10-24T22:38:00.161Z"
   },
   {
    "duration": 34,
    "start_time": "2023-10-24T22:38:00.191Z"
   },
   {
    "duration": 57,
    "start_time": "2023-10-24T22:38:00.227Z"
   },
   {
    "duration": 12,
    "start_time": "2023-10-24T22:38:00.286Z"
   },
   {
    "duration": 53,
    "start_time": "2023-10-24T22:38:00.300Z"
   },
   {
    "duration": 28,
    "start_time": "2023-10-24T22:38:00.354Z"
   },
   {
    "duration": 63,
    "start_time": "2023-10-24T22:38:00.384Z"
   },
   {
    "duration": 9,
    "start_time": "2023-10-24T22:38:00.449Z"
   },
   {
    "duration": 84,
    "start_time": "2023-10-24T22:38:00.460Z"
   },
   {
    "duration": 53,
    "start_time": "2023-10-24T22:38:00.546Z"
   },
   {
    "duration": 228,
    "start_time": "2023-10-24T22:38:00.601Z"
   },
   {
    "duration": 165,
    "start_time": "2023-10-24T22:38:00.833Z"
   },
   {
    "duration": 363,
    "start_time": "2023-10-24T22:38:01.000Z"
   },
   {
    "duration": 13,
    "start_time": "2023-10-24T22:38:01.365Z"
   },
   {
    "duration": 268,
    "start_time": "2023-10-24T22:38:01.380Z"
   },
   {
    "duration": 6,
    "start_time": "2023-10-24T22:38:01.650Z"
   },
   {
    "duration": 78,
    "start_time": "2023-10-24T22:38:01.658Z"
   },
   {
    "duration": 20,
    "start_time": "2023-10-24T22:38:05.740Z"
   },
   {
    "duration": 20,
    "start_time": "2023-10-24T22:38:21.429Z"
   },
   {
    "duration": 18,
    "start_time": "2023-10-24T22:38:27.686Z"
   },
   {
    "duration": 15,
    "start_time": "2023-10-24T22:39:31.580Z"
   },
   {
    "duration": 18,
    "start_time": "2023-10-24T22:39:34.765Z"
   },
   {
    "duration": 14,
    "start_time": "2023-10-24T22:39:52.238Z"
   },
   {
    "duration": 21,
    "start_time": "2023-10-24T22:40:20.061Z"
   },
   {
    "duration": 16,
    "start_time": "2023-10-24T22:40:41.715Z"
   },
   {
    "duration": 17,
    "start_time": "2023-10-24T22:40:50.763Z"
   },
   {
    "duration": 17,
    "start_time": "2023-10-24T22:40:55.331Z"
   },
   {
    "duration": 71,
    "start_time": "2023-10-24T22:41:32.765Z"
   },
   {
    "duration": 13,
    "start_time": "2023-10-24T22:41:55.563Z"
   },
   {
    "duration": 19,
    "start_time": "2023-10-24T22:42:03.107Z"
   },
   {
    "duration": 20,
    "start_time": "2023-10-24T22:43:04.179Z"
   },
   {
    "duration": 19,
    "start_time": "2023-10-24T22:43:21.019Z"
   },
   {
    "duration": 17,
    "start_time": "2023-10-24T22:43:31.565Z"
   },
   {
    "duration": 17,
    "start_time": "2023-10-24T22:43:38.667Z"
   },
   {
    "duration": 19,
    "start_time": "2023-10-24T22:43:45.683Z"
   },
   {
    "duration": 19,
    "start_time": "2023-10-24T22:43:49.963Z"
   },
   {
    "duration": 134,
    "start_time": "2023-10-24T22:44:33.395Z"
   },
   {
    "duration": 147,
    "start_time": "2023-10-24T22:44:48.463Z"
   },
   {
    "duration": 222,
    "start_time": "2023-10-24T22:46:18.995Z"
   },
   {
    "duration": 170,
    "start_time": "2023-10-24T22:47:32.850Z"
   },
   {
    "duration": 225,
    "start_time": "2023-10-24T22:47:56.594Z"
   },
   {
    "duration": 673,
    "start_time": "2023-10-24T22:48:06.787Z"
   },
   {
    "duration": 209,
    "start_time": "2023-10-24T22:48:07.462Z"
   },
   {
    "duration": 30,
    "start_time": "2023-10-24T22:48:07.673Z"
   },
   {
    "duration": 29,
    "start_time": "2023-10-24T22:48:07.705Z"
   },
   {
    "duration": 25,
    "start_time": "2023-10-24T22:48:07.736Z"
   },
   {
    "duration": 4,
    "start_time": "2023-10-24T22:48:07.763Z"
   },
   {
    "duration": 7,
    "start_time": "2023-10-24T22:48:07.769Z"
   },
   {
    "duration": 32,
    "start_time": "2023-10-24T22:48:07.778Z"
   },
   {
    "duration": 41,
    "start_time": "2023-10-24T22:48:07.811Z"
   },
   {
    "duration": 6,
    "start_time": "2023-10-24T22:48:07.854Z"
   },
   {
    "duration": 15,
    "start_time": "2023-10-24T22:48:07.862Z"
   },
   {
    "duration": 29,
    "start_time": "2023-10-24T22:48:07.879Z"
   },
   {
    "duration": 226,
    "start_time": "2023-10-24T22:48:07.910Z"
   },
   {
    "duration": 164,
    "start_time": "2023-10-24T22:48:08.138Z"
   },
   {
    "duration": 341,
    "start_time": "2023-10-24T22:48:08.307Z"
   },
   {
    "duration": 11,
    "start_time": "2023-10-24T22:48:08.651Z"
   },
   {
    "duration": 250,
    "start_time": "2023-10-24T22:48:08.663Z"
   },
   {
    "duration": 5,
    "start_time": "2023-10-24T22:48:08.915Z"
   },
   {
    "duration": 212,
    "start_time": "2023-10-24T22:48:08.922Z"
   },
   {
    "duration": 200,
    "start_time": "2023-10-24T23:05:41.142Z"
   },
   {
    "duration": 201,
    "start_time": "2023-10-24T23:05:51.141Z"
   },
   {
    "duration": 644,
    "start_time": "2023-10-24T23:05:55.028Z"
   },
   {
    "duration": 211,
    "start_time": "2023-10-24T23:05:55.674Z"
   },
   {
    "duration": 40,
    "start_time": "2023-10-24T23:05:55.886Z"
   },
   {
    "duration": 40,
    "start_time": "2023-10-24T23:05:55.928Z"
   },
   {
    "duration": 58,
    "start_time": "2023-10-24T23:05:55.971Z"
   },
   {
    "duration": 5,
    "start_time": "2023-10-24T23:05:56.032Z"
   },
   {
    "duration": 4,
    "start_time": "2023-10-24T23:05:56.039Z"
   },
   {
    "duration": 17,
    "start_time": "2023-10-24T23:05:56.044Z"
   },
   {
    "duration": 65,
    "start_time": "2023-10-24T23:05:56.062Z"
   },
   {
    "duration": 8,
    "start_time": "2023-10-24T23:05:56.129Z"
   },
   {
    "duration": 9,
    "start_time": "2023-10-24T23:05:56.139Z"
   },
   {
    "duration": 19,
    "start_time": "2023-10-24T23:05:56.149Z"
   },
   {
    "duration": 244,
    "start_time": "2023-10-24T23:05:56.169Z"
   },
   {
    "duration": 175,
    "start_time": "2023-10-24T23:05:56.416Z"
   },
   {
    "duration": 354,
    "start_time": "2023-10-24T23:05:56.593Z"
   },
   {
    "duration": 12,
    "start_time": "2023-10-24T23:05:56.949Z"
   },
   {
    "duration": 260,
    "start_time": "2023-10-24T23:05:56.962Z"
   },
   {
    "duration": 5,
    "start_time": "2023-10-24T23:05:57.223Z"
   },
   {
    "duration": 236,
    "start_time": "2023-10-24T23:05:57.230Z"
   },
   {
    "duration": 202,
    "start_time": "2023-10-24T23:07:28.054Z"
   },
   {
    "duration": 99,
    "start_time": "2023-10-24T23:07:41.597Z"
   },
   {
    "duration": 202,
    "start_time": "2023-10-24T23:08:30.666Z"
   },
   {
    "duration": 199,
    "start_time": "2023-10-24T23:08:45.516Z"
   },
   {
    "duration": 85,
    "start_time": "2023-10-24T23:09:13.844Z"
   },
   {
    "duration": 219,
    "start_time": "2023-10-24T23:10:00.908Z"
   },
   {
    "duration": 202,
    "start_time": "2023-10-24T23:10:07.390Z"
   },
   {
    "duration": 195,
    "start_time": "2023-10-24T23:10:20.228Z"
   },
   {
    "duration": 261,
    "start_time": "2023-10-24T23:10:31.691Z"
   },
   {
    "duration": 266,
    "start_time": "2023-10-24T23:10:36.387Z"
   },
   {
    "duration": 639,
    "start_time": "2023-10-24T23:24:29.503Z"
   },
   {
    "duration": 207,
    "start_time": "2023-10-24T23:24:30.144Z"
   },
   {
    "duration": 32,
    "start_time": "2023-10-24T23:24:30.353Z"
   },
   {
    "duration": 88,
    "start_time": "2023-10-24T23:24:30.386Z"
   },
   {
    "duration": 39,
    "start_time": "2023-10-24T23:24:30.477Z"
   },
   {
    "duration": 29,
    "start_time": "2023-10-24T23:24:30.518Z"
   },
   {
    "duration": 31,
    "start_time": "2023-10-24T23:24:30.549Z"
   },
   {
    "duration": 60,
    "start_time": "2023-10-24T23:24:30.582Z"
   },
   {
    "duration": 72,
    "start_time": "2023-10-24T23:24:30.644Z"
   },
   {
    "duration": 11,
    "start_time": "2023-10-24T23:24:30.718Z"
   },
   {
    "duration": 60,
    "start_time": "2023-10-24T23:24:30.731Z"
   },
   {
    "duration": 47,
    "start_time": "2023-10-24T23:24:30.793Z"
   },
   {
    "duration": 279,
    "start_time": "2023-10-24T23:24:30.842Z"
   },
   {
    "duration": 163,
    "start_time": "2023-10-24T23:24:31.124Z"
   },
   {
    "duration": 356,
    "start_time": "2023-10-24T23:24:31.289Z"
   },
   {
    "duration": 10,
    "start_time": "2023-10-24T23:24:31.647Z"
   },
   {
    "duration": 271,
    "start_time": "2023-10-24T23:24:31.658Z"
   },
   {
    "duration": 5,
    "start_time": "2023-10-24T23:24:31.930Z"
   },
   {
    "duration": 235,
    "start_time": "2023-10-24T23:24:31.936Z"
   },
   {
    "duration": 18,
    "start_time": "2023-10-24T23:33:18.501Z"
   },
   {
    "duration": 17,
    "start_time": "2023-10-24T23:33:30.404Z"
   },
   {
    "duration": 16,
    "start_time": "2023-10-24T23:33:33.797Z"
   },
   {
    "duration": 23,
    "start_time": "2023-10-24T23:33:41.564Z"
   },
   {
    "duration": 20,
    "start_time": "2023-10-24T23:34:03.917Z"
   },
   {
    "duration": 7,
    "start_time": "2023-10-24T23:34:45.053Z"
   },
   {
    "duration": 8,
    "start_time": "2023-10-24T23:34:53.941Z"
   },
   {
    "duration": 7,
    "start_time": "2023-10-24T23:34:58.404Z"
   },
   {
    "duration": 609,
    "start_time": "2023-10-24T23:35:20.536Z"
   },
   {
    "duration": 209,
    "start_time": "2023-10-24T23:35:21.147Z"
   },
   {
    "duration": 29,
    "start_time": "2023-10-24T23:35:21.358Z"
   },
   {
    "duration": 41,
    "start_time": "2023-10-24T23:35:21.389Z"
   },
   {
    "duration": 43,
    "start_time": "2023-10-24T23:35:21.431Z"
   },
   {
    "duration": 4,
    "start_time": "2023-10-24T23:35:21.476Z"
   },
   {
    "duration": 4,
    "start_time": "2023-10-24T23:35:21.482Z"
   },
   {
    "duration": 7,
    "start_time": "2023-10-24T23:35:21.487Z"
   },
   {
    "duration": 48,
    "start_time": "2023-10-24T23:35:21.495Z"
   },
   {
    "duration": 7,
    "start_time": "2023-10-24T23:35:21.545Z"
   },
   {
    "duration": 13,
    "start_time": "2023-10-24T23:35:21.554Z"
   },
   {
    "duration": 10,
    "start_time": "2023-10-24T23:35:21.568Z"
   },
   {
    "duration": 233,
    "start_time": "2023-10-24T23:35:21.579Z"
   },
   {
    "duration": 169,
    "start_time": "2023-10-24T23:35:21.814Z"
   },
   {
    "duration": 344,
    "start_time": "2023-10-24T23:35:21.985Z"
   },
   {
    "duration": 11,
    "start_time": "2023-10-24T23:35:22.331Z"
   },
   {
    "duration": 256,
    "start_time": "2023-10-24T23:35:22.344Z"
   },
   {
    "duration": 8,
    "start_time": "2023-10-24T23:35:22.602Z"
   },
   {
    "duration": 213,
    "start_time": "2023-10-24T23:35:22.611Z"
   },
   {
    "duration": 7,
    "start_time": "2023-10-24T23:35:22.825Z"
   },
   {
    "duration": 225,
    "start_time": "2023-10-24T23:35:40.020Z"
   },
   {
    "duration": 661,
    "start_time": "2023-10-24T23:35:49.880Z"
   },
   {
    "duration": 203,
    "start_time": "2023-10-24T23:35:50.543Z"
   },
   {
    "duration": 30,
    "start_time": "2023-10-24T23:35:50.748Z"
   },
   {
    "duration": 36,
    "start_time": "2023-10-24T23:35:50.780Z"
   },
   {
    "duration": 25,
    "start_time": "2023-10-24T23:35:50.818Z"
   },
   {
    "duration": 4,
    "start_time": "2023-10-24T23:35:50.845Z"
   },
   {
    "duration": 33,
    "start_time": "2023-10-24T23:35:50.850Z"
   },
   {
    "duration": 42,
    "start_time": "2023-10-24T23:35:50.885Z"
   },
   {
    "duration": 51,
    "start_time": "2023-10-24T23:35:50.929Z"
   },
   {
    "duration": 9,
    "start_time": "2023-10-24T23:35:50.983Z"
   },
   {
    "duration": 17,
    "start_time": "2023-10-24T23:35:50.993Z"
   },
   {
    "duration": 18,
    "start_time": "2023-10-24T23:35:51.011Z"
   },
   {
    "duration": 377,
    "start_time": "2023-10-24T23:35:51.031Z"
   },
   {
    "duration": 311,
    "start_time": "2023-10-24T23:35:51.410Z"
   },
   {
    "duration": 704,
    "start_time": "2023-10-24T23:35:51.723Z"
   },
   {
    "duration": 11,
    "start_time": "2023-10-24T23:35:52.429Z"
   },
   {
    "duration": 492,
    "start_time": "2023-10-24T23:35:52.441Z"
   },
   {
    "duration": 5,
    "start_time": "2023-10-24T23:35:52.934Z"
   },
   {
    "duration": 263,
    "start_time": "2023-10-24T23:35:52.941Z"
   },
   {
    "duration": 6,
    "start_time": "2023-10-24T23:35:53.206Z"
   },
   {
    "duration": 646,
    "start_time": "2023-10-24T23:36:10.279Z"
   },
   {
    "duration": 200,
    "start_time": "2023-10-24T23:36:10.927Z"
   },
   {
    "duration": 28,
    "start_time": "2023-10-24T23:36:11.129Z"
   },
   {
    "duration": 27,
    "start_time": "2023-10-24T23:36:11.159Z"
   },
   {
    "duration": 34,
    "start_time": "2023-10-24T23:36:11.188Z"
   },
   {
    "duration": 4,
    "start_time": "2023-10-24T23:36:11.224Z"
   },
   {
    "duration": 3,
    "start_time": "2023-10-24T23:36:11.229Z"
   },
   {
    "duration": 8,
    "start_time": "2023-10-24T23:36:11.233Z"
   },
   {
    "duration": 65,
    "start_time": "2023-10-24T23:36:11.243Z"
   },
   {
    "duration": 8,
    "start_time": "2023-10-24T23:36:11.310Z"
   },
   {
    "duration": 12,
    "start_time": "2023-10-24T23:36:11.319Z"
   },
   {
    "duration": 11,
    "start_time": "2023-10-24T23:36:11.333Z"
   },
   {
    "duration": 234,
    "start_time": "2023-10-24T23:36:11.345Z"
   },
   {
    "duration": 159,
    "start_time": "2023-10-24T23:36:11.581Z"
   },
   {
    "duration": 347,
    "start_time": "2023-10-24T23:36:11.742Z"
   },
   {
    "duration": 22,
    "start_time": "2023-10-24T23:36:12.090Z"
   },
   {
    "duration": 238,
    "start_time": "2023-10-24T23:36:12.114Z"
   },
   {
    "duration": 6,
    "start_time": "2023-10-24T23:36:12.353Z"
   },
   {
    "duration": 215,
    "start_time": "2023-10-24T23:36:12.361Z"
   },
   {
    "duration": 6,
    "start_time": "2023-10-24T23:36:12.578Z"
   },
   {
    "duration": 7,
    "start_time": "2023-10-24T23:36:40.974Z"
   },
   {
    "duration": 10,
    "start_time": "2023-10-24T23:37:19.036Z"
   },
   {
    "duration": 639,
    "start_time": "2023-10-24T23:37:24.983Z"
   },
   {
    "duration": 201,
    "start_time": "2023-10-24T23:37:25.624Z"
   },
   {
    "duration": 29,
    "start_time": "2023-10-24T23:37:25.827Z"
   },
   {
    "duration": 29,
    "start_time": "2023-10-24T23:37:25.857Z"
   },
   {
    "duration": 44,
    "start_time": "2023-10-24T23:37:25.890Z"
   },
   {
    "duration": 6,
    "start_time": "2023-10-24T23:37:25.937Z"
   },
   {
    "duration": 4,
    "start_time": "2023-10-24T23:37:25.945Z"
   },
   {
    "duration": 12,
    "start_time": "2023-10-24T23:37:25.951Z"
   },
   {
    "duration": 79,
    "start_time": "2023-10-24T23:37:25.965Z"
   },
   {
    "duration": 8,
    "start_time": "2023-10-24T23:37:26.045Z"
   },
   {
    "duration": 8,
    "start_time": "2023-10-24T23:37:26.054Z"
   },
   {
    "duration": 11,
    "start_time": "2023-10-24T23:37:26.064Z"
   },
   {
    "duration": 238,
    "start_time": "2023-10-24T23:37:26.076Z"
   },
   {
    "duration": 171,
    "start_time": "2023-10-24T23:37:26.317Z"
   },
   {
    "duration": 334,
    "start_time": "2023-10-24T23:37:26.490Z"
   },
   {
    "duration": 12,
    "start_time": "2023-10-24T23:37:26.826Z"
   },
   {
    "duration": 256,
    "start_time": "2023-10-24T23:37:26.839Z"
   },
   {
    "duration": 11,
    "start_time": "2023-10-24T23:37:27.097Z"
   },
   {
    "duration": 244,
    "start_time": "2023-10-24T23:37:27.110Z"
   },
   {
    "duration": 7,
    "start_time": "2023-10-24T23:37:27.407Z"
   },
   {
    "duration": 9,
    "start_time": "2023-10-24T23:37:59.499Z"
   },
   {
    "duration": 585,
    "start_time": "2023-10-24T23:38:03.948Z"
   },
   {
    "duration": 208,
    "start_time": "2023-10-24T23:38:04.535Z"
   },
   {
    "duration": 31,
    "start_time": "2023-10-24T23:38:04.745Z"
   },
   {
    "duration": 35,
    "start_time": "2023-10-24T23:38:04.777Z"
   },
   {
    "duration": 25,
    "start_time": "2023-10-24T23:38:04.814Z"
   },
   {
    "duration": 9,
    "start_time": "2023-10-24T23:38:04.840Z"
   },
   {
    "duration": 24,
    "start_time": "2023-10-24T23:38:04.851Z"
   },
   {
    "duration": 24,
    "start_time": "2023-10-24T23:38:04.877Z"
   },
   {
    "duration": 57,
    "start_time": "2023-10-24T23:38:04.902Z"
   },
   {
    "duration": 7,
    "start_time": "2023-10-24T23:38:04.961Z"
   },
   {
    "duration": 8,
    "start_time": "2023-10-24T23:38:04.970Z"
   },
   {
    "duration": 12,
    "start_time": "2023-10-24T23:38:04.979Z"
   },
   {
    "duration": 237,
    "start_time": "2023-10-24T23:38:04.993Z"
   },
   {
    "duration": 174,
    "start_time": "2023-10-24T23:38:05.234Z"
   },
   {
    "duration": 327,
    "start_time": "2023-10-24T23:38:05.410Z"
   },
   {
    "duration": 11,
    "start_time": "2023-10-24T23:38:05.738Z"
   },
   {
    "duration": 278,
    "start_time": "2023-10-24T23:38:05.751Z"
   },
   {
    "duration": 5,
    "start_time": "2023-10-24T23:38:06.030Z"
   },
   {
    "duration": 230,
    "start_time": "2023-10-24T23:38:06.037Z"
   },
   {
    "duration": 7,
    "start_time": "2023-10-24T23:38:06.268Z"
   },
   {
    "duration": 631,
    "start_time": "2023-10-24T23:38:24.601Z"
   },
   {
    "duration": 208,
    "start_time": "2023-10-24T23:38:25.234Z"
   },
   {
    "duration": 30,
    "start_time": "2023-10-24T23:38:25.444Z"
   },
   {
    "duration": 37,
    "start_time": "2023-10-24T23:38:25.475Z"
   },
   {
    "duration": 26,
    "start_time": "2023-10-24T23:38:25.515Z"
   },
   {
    "duration": 4,
    "start_time": "2023-10-24T23:38:25.542Z"
   },
   {
    "duration": 10,
    "start_time": "2023-10-24T23:38:25.548Z"
   },
   {
    "duration": 14,
    "start_time": "2023-10-24T23:38:25.560Z"
   },
   {
    "duration": 59,
    "start_time": "2023-10-24T23:38:25.575Z"
   },
   {
    "duration": 7,
    "start_time": "2023-10-24T23:38:25.635Z"
   },
   {
    "duration": 17,
    "start_time": "2023-10-24T23:38:25.644Z"
   },
   {
    "duration": 25,
    "start_time": "2023-10-24T23:38:25.663Z"
   },
   {
    "duration": 207,
    "start_time": "2023-10-24T23:38:25.690Z"
   },
   {
    "duration": 201,
    "start_time": "2023-10-24T23:38:25.900Z"
   },
   {
    "duration": 317,
    "start_time": "2023-10-24T23:38:26.103Z"
   },
   {
    "duration": 12,
    "start_time": "2023-10-24T23:38:26.421Z"
   },
   {
    "duration": 241,
    "start_time": "2023-10-24T23:38:26.434Z"
   },
   {
    "duration": 5,
    "start_time": "2023-10-24T23:38:26.677Z"
   },
   {
    "duration": 219,
    "start_time": "2023-10-24T23:38:26.684Z"
   },
   {
    "duration": 7,
    "start_time": "2023-10-24T23:38:26.907Z"
   },
   {
    "duration": 21,
    "start_time": "2023-10-24T23:39:04.595Z"
   },
   {
    "duration": 18,
    "start_time": "2023-10-24T23:39:20.028Z"
   },
   {
    "duration": 22,
    "start_time": "2023-10-24T23:39:22.403Z"
   },
   {
    "duration": 18,
    "start_time": "2023-10-24T23:40:12.644Z"
   },
   {
    "duration": 20,
    "start_time": "2023-10-24T23:40:18.971Z"
   },
   {
    "duration": 17,
    "start_time": "2023-10-24T23:40:33.948Z"
   },
   {
    "duration": 20,
    "start_time": "2023-10-24T23:40:46.786Z"
   },
   {
    "duration": 2,
    "start_time": "2023-10-24T23:41:59.251Z"
   },
   {
    "duration": 7,
    "start_time": "2023-10-24T23:43:13.339Z"
   },
   {
    "duration": 19,
    "start_time": "2023-10-24T23:43:16.914Z"
   },
   {
    "duration": 8,
    "start_time": "2023-10-24T23:44:03.818Z"
   },
   {
    "duration": 20,
    "start_time": "2023-10-24T23:44:07.202Z"
   },
   {
    "duration": 142,
    "start_time": "2023-10-24T23:44:39.642Z"
   },
   {
    "duration": 638,
    "start_time": "2023-10-24T23:44:55.301Z"
   },
   {
    "duration": 207,
    "start_time": "2023-10-24T23:44:55.942Z"
   },
   {
    "duration": 31,
    "start_time": "2023-10-24T23:44:56.150Z"
   },
   {
    "duration": 29,
    "start_time": "2023-10-24T23:44:56.182Z"
   },
   {
    "duration": 23,
    "start_time": "2023-10-24T23:44:56.213Z"
   },
   {
    "duration": 5,
    "start_time": "2023-10-24T23:44:56.237Z"
   },
   {
    "duration": 9,
    "start_time": "2023-10-24T23:44:56.243Z"
   },
   {
    "duration": 6,
    "start_time": "2023-10-24T23:44:56.253Z"
   },
   {
    "duration": 67,
    "start_time": "2023-10-24T23:44:56.261Z"
   },
   {
    "duration": 7,
    "start_time": "2023-10-24T23:44:56.330Z"
   },
   {
    "duration": 8,
    "start_time": "2023-10-24T23:44:56.339Z"
   },
   {
    "duration": 10,
    "start_time": "2023-10-24T23:44:56.349Z"
   },
   {
    "duration": 234,
    "start_time": "2023-10-24T23:44:56.361Z"
   },
   {
    "duration": 161,
    "start_time": "2023-10-24T23:44:56.598Z"
   },
   {
    "duration": 334,
    "start_time": "2023-10-24T23:44:56.761Z"
   },
   {
    "duration": 12,
    "start_time": "2023-10-24T23:44:57.096Z"
   },
   {
    "duration": 253,
    "start_time": "2023-10-24T23:44:57.110Z"
   },
   {
    "duration": 5,
    "start_time": "2023-10-24T23:44:57.365Z"
   },
   {
    "duration": 218,
    "start_time": "2023-10-24T23:44:57.371Z"
   },
   {
    "duration": 24,
    "start_time": "2023-10-24T23:44:57.590Z"
   },
   {
    "duration": 19,
    "start_time": "2023-10-24T23:44:57.616Z"
   },
   {
    "duration": 157,
    "start_time": "2023-10-24T23:45:37.370Z"
   },
   {
    "duration": 149,
    "start_time": "2023-10-24T23:45:40.706Z"
   },
   {
    "duration": 149,
    "start_time": "2023-10-24T23:45:43.010Z"
   },
   {
    "duration": 12,
    "start_time": "2023-10-24T23:47:26.337Z"
   },
   {
    "duration": 6,
    "start_time": "2023-10-24T23:47:38.585Z"
   },
   {
    "duration": 8,
    "start_time": "2023-10-24T23:47:41.201Z"
   },
   {
    "duration": 8,
    "start_time": "2023-10-24T23:48:17.746Z"
   },
   {
    "duration": 153,
    "start_time": "2023-10-24T23:49:47.065Z"
   },
   {
    "duration": 627,
    "start_time": "2023-10-24T23:49:51.470Z"
   },
   {
    "duration": 203,
    "start_time": "2023-10-24T23:49:52.099Z"
   },
   {
    "duration": 33,
    "start_time": "2023-10-24T23:49:52.305Z"
   },
   {
    "duration": 31,
    "start_time": "2023-10-24T23:49:52.341Z"
   },
   {
    "duration": 50,
    "start_time": "2023-10-24T23:49:52.374Z"
   },
   {
    "duration": 12,
    "start_time": "2023-10-24T23:49:52.425Z"
   },
   {
    "duration": 37,
    "start_time": "2023-10-24T23:49:52.438Z"
   },
   {
    "duration": 23,
    "start_time": "2023-10-24T23:49:52.476Z"
   },
   {
    "duration": 49,
    "start_time": "2023-10-24T23:49:52.500Z"
   },
   {
    "duration": 8,
    "start_time": "2023-10-24T23:49:52.550Z"
   },
   {
    "duration": 16,
    "start_time": "2023-10-24T23:49:52.559Z"
   },
   {
    "duration": 29,
    "start_time": "2023-10-24T23:49:52.576Z"
   },
   {
    "duration": 222,
    "start_time": "2023-10-24T23:49:52.608Z"
   },
   {
    "duration": 162,
    "start_time": "2023-10-24T23:49:52.832Z"
   },
   {
    "duration": 322,
    "start_time": "2023-10-24T23:49:52.996Z"
   },
   {
    "duration": 10,
    "start_time": "2023-10-24T23:49:53.320Z"
   },
   {
    "duration": 264,
    "start_time": "2023-10-24T23:49:53.332Z"
   },
   {
    "duration": 9,
    "start_time": "2023-10-24T23:49:53.598Z"
   },
   {
    "duration": 214,
    "start_time": "2023-10-24T23:49:53.609Z"
   },
   {
    "duration": 19,
    "start_time": "2023-10-24T23:49:53.825Z"
   },
   {
    "duration": 21,
    "start_time": "2023-10-24T23:49:53.846Z"
   },
   {
    "duration": 7,
    "start_time": "2023-10-24T23:52:17.418Z"
   },
   {
    "duration": 7,
    "start_time": "2023-10-24T23:52:18.832Z"
   },
   {
    "duration": 2,
    "start_time": "2023-10-24T23:53:33.872Z"
   },
   {
    "duration": 18,
    "start_time": "2023-10-24T23:54:46.063Z"
   },
   {
    "duration": 74,
    "start_time": "2023-10-24T23:55:19.399Z"
   },
   {
    "duration": 3,
    "start_time": "2023-10-24T23:55:41.663Z"
   },
   {
    "duration": 144,
    "start_time": "2023-10-24T23:56:45.511Z"
   },
   {
    "duration": 629,
    "start_time": "2023-10-24T23:57:12.305Z"
   },
   {
    "duration": 200,
    "start_time": "2023-10-24T23:57:12.936Z"
   },
   {
    "duration": 30,
    "start_time": "2023-10-24T23:57:13.137Z"
   },
   {
    "duration": 40,
    "start_time": "2023-10-24T23:57:13.169Z"
   },
   {
    "duration": 26,
    "start_time": "2023-10-24T23:57:13.212Z"
   },
   {
    "duration": 5,
    "start_time": "2023-10-24T23:57:13.240Z"
   },
   {
    "duration": 7,
    "start_time": "2023-10-24T23:57:13.246Z"
   },
   {
    "duration": 7,
    "start_time": "2023-10-24T23:57:13.254Z"
   },
   {
    "duration": 71,
    "start_time": "2023-10-24T23:57:13.262Z"
   },
   {
    "duration": 9,
    "start_time": "2023-10-24T23:57:13.335Z"
   },
   {
    "duration": 9,
    "start_time": "2023-10-24T23:57:13.346Z"
   },
   {
    "duration": 12,
    "start_time": "2023-10-24T23:57:13.356Z"
   },
   {
    "duration": 237,
    "start_time": "2023-10-24T23:57:13.370Z"
   },
   {
    "duration": 162,
    "start_time": "2023-10-24T23:57:13.611Z"
   },
   {
    "duration": 336,
    "start_time": "2023-10-24T23:57:13.775Z"
   },
   {
    "duration": 13,
    "start_time": "2023-10-24T23:57:14.113Z"
   },
   {
    "duration": 253,
    "start_time": "2023-10-24T23:57:14.128Z"
   },
   {
    "duration": 5,
    "start_time": "2023-10-24T23:57:14.383Z"
   },
   {
    "duration": 236,
    "start_time": "2023-10-24T23:57:14.390Z"
   },
   {
    "duration": 17,
    "start_time": "2023-10-24T23:57:14.628Z"
   },
   {
    "duration": 8,
    "start_time": "2023-10-24T23:57:14.646Z"
   },
   {
    "duration": 20,
    "start_time": "2023-10-24T23:57:14.655Z"
   },
   {
    "duration": 229,
    "start_time": "2023-10-25T00:06:29.653Z"
   },
   {
    "duration": 237,
    "start_time": "2023-10-25T00:06:50.973Z"
   },
   {
    "duration": 230,
    "start_time": "2023-10-25T00:10:14.815Z"
   },
   {
    "duration": 231,
    "start_time": "2023-10-25T00:12:30.700Z"
   },
   {
    "duration": 677,
    "start_time": "2023-10-25T00:12:58.387Z"
   },
   {
    "duration": 200,
    "start_time": "2023-10-25T00:12:59.066Z"
   },
   {
    "duration": 31,
    "start_time": "2023-10-25T00:12:59.267Z"
   },
   {
    "duration": 32,
    "start_time": "2023-10-25T00:12:59.300Z"
   },
   {
    "duration": 25,
    "start_time": "2023-10-25T00:12:59.333Z"
   },
   {
    "duration": 4,
    "start_time": "2023-10-25T00:12:59.360Z"
   },
   {
    "duration": 30,
    "start_time": "2023-10-25T00:12:59.366Z"
   },
   {
    "duration": 20,
    "start_time": "2023-10-25T00:12:59.398Z"
   },
   {
    "duration": 45,
    "start_time": "2023-10-25T00:12:59.419Z"
   },
   {
    "duration": 7,
    "start_time": "2023-10-25T00:12:59.466Z"
   },
   {
    "duration": 9,
    "start_time": "2023-10-25T00:12:59.474Z"
   },
   {
    "duration": 30,
    "start_time": "2023-10-25T00:12:59.484Z"
   },
   {
    "duration": 212,
    "start_time": "2023-10-25T00:12:59.515Z"
   },
   {
    "duration": 158,
    "start_time": "2023-10-25T00:12:59.728Z"
   },
   {
    "duration": 354,
    "start_time": "2023-10-25T00:12:59.887Z"
   },
   {
    "duration": 11,
    "start_time": "2023-10-25T00:13:00.243Z"
   },
   {
    "duration": 279,
    "start_time": "2023-10-25T00:13:00.255Z"
   },
   {
    "duration": 6,
    "start_time": "2023-10-25T00:13:00.535Z"
   },
   {
    "duration": 341,
    "start_time": "2023-10-25T00:13:00.542Z"
   },
   {
    "duration": 26,
    "start_time": "2023-10-25T00:13:00.885Z"
   },
   {
    "duration": 50,
    "start_time": "2023-10-25T00:13:00.912Z"
   },
   {
    "duration": 310,
    "start_time": "2023-10-25T00:13:00.964Z"
   },
   {
    "duration": 220,
    "start_time": "2023-10-25T00:13:01.276Z"
   },
   {
    "duration": 189,
    "start_time": "2023-10-25T00:16:43.569Z"
   },
   {
    "duration": 211,
    "start_time": "2023-10-25T00:19:05.017Z"
   },
   {
    "duration": 227,
    "start_time": "2023-10-25T00:19:13.544Z"
   },
   {
    "duration": 610,
    "start_time": "2023-10-25T00:19:19.456Z"
   },
   {
    "duration": 208,
    "start_time": "2023-10-25T00:19:20.068Z"
   },
   {
    "duration": 32,
    "start_time": "2023-10-25T00:19:20.277Z"
   },
   {
    "duration": 32,
    "start_time": "2023-10-25T00:19:20.310Z"
   },
   {
    "duration": 23,
    "start_time": "2023-10-25T00:19:20.344Z"
   },
   {
    "duration": 7,
    "start_time": "2023-10-25T00:19:20.368Z"
   },
   {
    "duration": 16,
    "start_time": "2023-10-25T00:19:20.376Z"
   },
   {
    "duration": 15,
    "start_time": "2023-10-25T00:19:20.394Z"
   },
   {
    "duration": 65,
    "start_time": "2023-10-25T00:19:20.411Z"
   },
   {
    "duration": 7,
    "start_time": "2023-10-25T00:19:20.477Z"
   },
   {
    "duration": 21,
    "start_time": "2023-10-25T00:19:20.486Z"
   },
   {
    "duration": 35,
    "start_time": "2023-10-25T00:19:20.508Z"
   },
   {
    "duration": 221,
    "start_time": "2023-10-25T00:19:20.544Z"
   },
   {
    "duration": 164,
    "start_time": "2023-10-25T00:19:20.768Z"
   },
   {
    "duration": 322,
    "start_time": "2023-10-25T00:19:20.934Z"
   },
   {
    "duration": 10,
    "start_time": "2023-10-25T00:19:21.258Z"
   },
   {
    "duration": 289,
    "start_time": "2023-10-25T00:19:21.270Z"
   },
   {
    "duration": 5,
    "start_time": "2023-10-25T00:19:21.561Z"
   },
   {
    "duration": 213,
    "start_time": "2023-10-25T00:19:21.567Z"
   },
   {
    "duration": 26,
    "start_time": "2023-10-25T00:19:21.782Z"
   },
   {
    "duration": 8,
    "start_time": "2023-10-25T00:19:21.809Z"
   },
   {
    "duration": 244,
    "start_time": "2023-10-25T00:19:21.818Z"
   },
   {
    "duration": 199,
    "start_time": "2023-10-25T00:19:22.064Z"
   },
   {
    "duration": 241,
    "start_time": "2023-10-25T00:21:42.295Z"
   },
   {
    "duration": 241,
    "start_time": "2023-10-25T00:22:02.160Z"
   },
   {
    "duration": 195,
    "start_time": "2023-10-25T00:22:20.576Z"
   },
   {
    "duration": 214,
    "start_time": "2023-10-25T00:25:22.055Z"
   },
   {
    "duration": 208,
    "start_time": "2023-10-25T00:25:32.513Z"
   },
   {
    "duration": 651,
    "start_time": "2023-10-25T00:25:42.606Z"
   },
   {
    "duration": 204,
    "start_time": "2023-10-25T00:25:43.259Z"
   },
   {
    "duration": 31,
    "start_time": "2023-10-25T00:25:43.464Z"
   },
   {
    "duration": 35,
    "start_time": "2023-10-25T00:25:43.497Z"
   },
   {
    "duration": 26,
    "start_time": "2023-10-25T00:25:43.534Z"
   },
   {
    "duration": 5,
    "start_time": "2023-10-25T00:25:43.561Z"
   },
   {
    "duration": 137,
    "start_time": "2023-10-25T00:25:43.567Z"
   },
   {
    "duration": 27,
    "start_time": "2023-10-25T00:25:43.706Z"
   },
   {
    "duration": 51,
    "start_time": "2023-10-25T00:25:43.735Z"
   },
   {
    "duration": 7,
    "start_time": "2023-10-25T00:25:43.788Z"
   },
   {
    "duration": 14,
    "start_time": "2023-10-25T00:25:43.796Z"
   },
   {
    "duration": 11,
    "start_time": "2023-10-25T00:25:43.812Z"
   },
   {
    "duration": 218,
    "start_time": "2023-10-25T00:25:43.825Z"
   },
   {
    "duration": 158,
    "start_time": "2023-10-25T00:25:44.046Z"
   },
   {
    "duration": 318,
    "start_time": "2023-10-25T00:25:44.207Z"
   },
   {
    "duration": 10,
    "start_time": "2023-10-25T00:25:44.527Z"
   },
   {
    "duration": 239,
    "start_time": "2023-10-25T00:25:44.539Z"
   },
   {
    "duration": 5,
    "start_time": "2023-10-25T00:25:44.780Z"
   },
   {
    "duration": 217,
    "start_time": "2023-10-25T00:25:44.786Z"
   },
   {
    "duration": 18,
    "start_time": "2023-10-25T00:25:45.004Z"
   },
   {
    "duration": 37,
    "start_time": "2023-10-25T00:25:45.024Z"
   },
   {
    "duration": 231,
    "start_time": "2023-10-25T00:25:45.063Z"
   },
   {
    "duration": 217,
    "start_time": "2023-10-25T00:25:45.296Z"
   },
   {
    "duration": 237,
    "start_time": "2023-10-25T00:25:45.514Z"
   },
   {
    "duration": 244,
    "start_time": "2023-10-25T00:25:45.753Z"
   },
   {
    "duration": 88,
    "start_time": "2023-10-25T00:33:01.780Z"
   },
   {
    "duration": 652,
    "start_time": "2023-10-25T00:40:31.612Z"
   },
   {
    "duration": 202,
    "start_time": "2023-10-25T00:40:32.266Z"
   },
   {
    "duration": 29,
    "start_time": "2023-10-25T00:40:32.469Z"
   },
   {
    "duration": 31,
    "start_time": "2023-10-25T00:40:32.500Z"
   },
   {
    "duration": 24,
    "start_time": "2023-10-25T00:40:32.533Z"
   },
   {
    "duration": 9,
    "start_time": "2023-10-25T00:40:32.558Z"
   },
   {
    "duration": 30,
    "start_time": "2023-10-25T00:40:32.568Z"
   },
   {
    "duration": 15,
    "start_time": "2023-10-25T00:40:32.599Z"
   },
   {
    "duration": 53,
    "start_time": "2023-10-25T00:40:32.615Z"
   },
   {
    "duration": 7,
    "start_time": "2023-10-25T00:40:32.669Z"
   },
   {
    "duration": 44,
    "start_time": "2023-10-25T00:40:32.678Z"
   },
   {
    "duration": 35,
    "start_time": "2023-10-25T00:40:32.723Z"
   },
   {
    "duration": 218,
    "start_time": "2023-10-25T00:40:32.760Z"
   },
   {
    "duration": 151,
    "start_time": "2023-10-25T00:40:32.980Z"
   },
   {
    "duration": 328,
    "start_time": "2023-10-25T00:40:33.132Z"
   },
   {
    "duration": 10,
    "start_time": "2023-10-25T00:40:33.462Z"
   },
   {
    "duration": 258,
    "start_time": "2023-10-25T00:40:33.473Z"
   },
   {
    "duration": 6,
    "start_time": "2023-10-25T00:40:33.732Z"
   },
   {
    "duration": 204,
    "start_time": "2023-10-25T00:40:33.739Z"
   },
   {
    "duration": 17,
    "start_time": "2023-10-25T00:40:33.945Z"
   },
   {
    "duration": 15,
    "start_time": "2023-10-25T00:40:33.964Z"
   },
   {
    "duration": 228,
    "start_time": "2023-10-25T00:40:33.981Z"
   },
   {
    "duration": 196,
    "start_time": "2023-10-25T00:40:34.211Z"
   },
   {
    "duration": 231,
    "start_time": "2023-10-25T00:40:34.409Z"
   },
   {
    "duration": 219,
    "start_time": "2023-10-25T00:40:34.641Z"
   },
   {
    "duration": 52,
    "start_time": "2023-10-25T21:26:24.497Z"
   },
   {
    "duration": 906,
    "start_time": "2023-10-25T21:26:30.854Z"
   },
   {
    "duration": 368,
    "start_time": "2023-10-25T21:26:31.763Z"
   },
   {
    "duration": 37,
    "start_time": "2023-10-25T21:26:32.133Z"
   },
   {
    "duration": 31,
    "start_time": "2023-10-25T21:26:32.173Z"
   },
   {
    "duration": 34,
    "start_time": "2023-10-25T21:26:32.207Z"
   },
   {
    "duration": 4,
    "start_time": "2023-10-25T21:26:32.243Z"
   },
   {
    "duration": 6,
    "start_time": "2023-10-25T21:26:32.249Z"
   },
   {
    "duration": 19,
    "start_time": "2023-10-25T21:26:32.256Z"
   },
   {
    "duration": 70,
    "start_time": "2023-10-25T21:26:32.277Z"
   },
   {
    "duration": 9,
    "start_time": "2023-10-25T21:26:32.350Z"
   },
   {
    "duration": 24,
    "start_time": "2023-10-25T21:26:32.360Z"
   },
   {
    "duration": 39,
    "start_time": "2023-10-25T21:26:32.385Z"
   },
   {
    "duration": 238,
    "start_time": "2023-10-25T21:26:32.426Z"
   },
   {
    "duration": 177,
    "start_time": "2023-10-25T21:26:32.666Z"
   },
   {
    "duration": 371,
    "start_time": "2023-10-25T21:26:32.844Z"
   },
   {
    "duration": 15,
    "start_time": "2023-10-25T21:26:33.218Z"
   },
   {
    "duration": 307,
    "start_time": "2023-10-25T21:26:33.235Z"
   },
   {
    "duration": 6,
    "start_time": "2023-10-25T21:26:33.543Z"
   },
   {
    "duration": 235,
    "start_time": "2023-10-25T21:26:33.550Z"
   },
   {
    "duration": 29,
    "start_time": "2023-10-25T21:26:33.787Z"
   },
   {
    "duration": 10,
    "start_time": "2023-10-25T21:26:33.818Z"
   },
   {
    "duration": 262,
    "start_time": "2023-10-25T21:26:33.829Z"
   },
   {
    "duration": 227,
    "start_time": "2023-10-25T21:26:34.093Z"
   },
   {
    "duration": 267,
    "start_time": "2023-10-25T21:26:34.323Z"
   },
   {
    "duration": 242,
    "start_time": "2023-10-25T21:26:34.592Z"
   },
   {
    "duration": 14,
    "start_time": "2023-10-25T21:26:34.836Z"
   },
   {
    "duration": 4,
    "start_time": "2023-10-25T21:43:38.900Z"
   },
   {
    "duration": 13,
    "start_time": "2023-10-25T21:43:45.827Z"
   },
   {
    "duration": 24,
    "start_time": "2023-10-25T21:46:45.319Z"
   },
   {
    "duration": 31,
    "start_time": "2023-10-25T21:46:48.946Z"
   },
   {
    "duration": 24,
    "start_time": "2023-10-25T21:47:32.120Z"
   },
   {
    "duration": 33,
    "start_time": "2023-10-25T21:47:35.635Z"
   },
   {
    "duration": 35,
    "start_time": "2023-10-25T21:52:12.720Z"
   },
   {
    "duration": 20,
    "start_time": "2023-10-25T21:53:45.697Z"
   },
   {
    "duration": 31,
    "start_time": "2023-10-25T21:53:54.601Z"
   },
   {
    "duration": 26,
    "start_time": "2023-10-25T21:54:14.127Z"
   },
   {
    "duration": 25,
    "start_time": "2023-10-25T21:54:40.544Z"
   },
   {
    "duration": 200,
    "start_time": "2023-10-25T21:54:56.187Z"
   },
   {
    "duration": 75,
    "start_time": "2023-10-25T21:55:07.377Z"
   },
   {
    "duration": 208,
    "start_time": "2023-10-25T21:55:13.415Z"
   },
   {
    "duration": 27,
    "start_time": "2023-10-25T21:55:23.152Z"
   },
   {
    "duration": 27,
    "start_time": "2023-10-25T21:55:54.784Z"
   },
   {
    "duration": 34,
    "start_time": "2023-10-25T21:56:17.024Z"
   },
   {
    "duration": 25,
    "start_time": "2023-10-25T21:57:00.911Z"
   },
   {
    "duration": 26,
    "start_time": "2023-10-25T21:57:03.519Z"
   },
   {
    "duration": 25,
    "start_time": "2023-10-25T21:57:19.504Z"
   },
   {
    "duration": 19,
    "start_time": "2023-10-25T22:00:51.246Z"
   },
   {
    "duration": 37,
    "start_time": "2023-10-25T22:00:54.719Z"
   },
   {
    "duration": 24,
    "start_time": "2023-10-25T22:02:01.655Z"
   },
   {
    "duration": 18,
    "start_time": "2023-10-25T22:02:06.534Z"
   },
   {
    "duration": 25,
    "start_time": "2023-10-25T22:02:09.678Z"
   },
   {
    "duration": 22,
    "start_time": "2023-10-25T22:02:16.178Z"
   },
   {
    "duration": 17,
    "start_time": "2023-10-25T22:02:19.038Z"
   },
   {
    "duration": 19,
    "start_time": "2023-10-25T22:03:07.333Z"
   },
   {
    "duration": 26,
    "start_time": "2023-10-25T22:03:11.590Z"
   },
   {
    "duration": 23,
    "start_time": "2023-10-25T22:04:36.230Z"
   },
   {
    "duration": 30,
    "start_time": "2023-10-25T22:08:44.490Z"
   },
   {
    "duration": 22,
    "start_time": "2023-10-25T22:15:08.798Z"
   },
   {
    "duration": 32,
    "start_time": "2023-10-25T22:17:00.690Z"
   },
   {
    "duration": 34,
    "start_time": "2023-10-25T22:17:35.492Z"
   },
   {
    "duration": 23,
    "start_time": "2023-10-25T22:18:27.706Z"
   },
   {
    "duration": 35,
    "start_time": "2023-10-25T22:18:31.106Z"
   },
   {
    "duration": 38,
    "start_time": "2023-10-25T22:18:57.033Z"
   },
   {
    "duration": 10,
    "start_time": "2023-10-25T22:19:11.530Z"
   },
   {
    "duration": 61,
    "start_time": "2023-10-25T22:19:27.295Z"
   },
   {
    "duration": 39,
    "start_time": "2023-10-25T22:19:33.973Z"
   },
   {
    "duration": 1572,
    "start_time": "2023-10-25T22:20:57.329Z"
   },
   {
    "duration": 81,
    "start_time": "2023-10-25T22:21:08.882Z"
   },
   {
    "duration": 38,
    "start_time": "2023-10-25T22:21:14.595Z"
   },
   {
    "duration": 1259,
    "start_time": "2023-10-25T22:21:52.978Z"
   },
   {
    "duration": 1226,
    "start_time": "2023-10-25T22:22:04.793Z"
   },
   {
    "duration": 38,
    "start_time": "2023-10-25T22:22:08.490Z"
   },
   {
    "duration": 30,
    "start_time": "2023-10-25T22:24:01.616Z"
   },
   {
    "duration": 46,
    "start_time": "2023-10-25T22:24:05.992Z"
   },
   {
    "duration": 34,
    "start_time": "2023-10-25T22:25:34.608Z"
   },
   {
    "duration": 38,
    "start_time": "2023-10-25T22:26:08.072Z"
   },
   {
    "duration": 53,
    "start_time": "2023-10-25T22:33:03.269Z"
   },
   {
    "duration": 159,
    "start_time": "2023-10-25T22:41:31.189Z"
   },
   {
    "duration": 41,
    "start_time": "2023-10-25T22:43:55.336Z"
   },
   {
    "duration": 50,
    "start_time": "2023-10-25T22:44:02.690Z"
   },
   {
    "duration": 43,
    "start_time": "2023-10-25T22:45:11.707Z"
   },
   {
    "duration": 34,
    "start_time": "2023-10-25T22:45:41.810Z"
   },
   {
    "duration": 42,
    "start_time": "2023-10-25T22:45:49.130Z"
   },
   {
    "duration": 42,
    "start_time": "2023-10-25T22:45:57.314Z"
   },
   {
    "duration": 60,
    "start_time": "2023-10-25T22:46:05.890Z"
   },
   {
    "duration": 27,
    "start_time": "2023-10-25T22:47:27.833Z"
   },
   {
    "duration": 21,
    "start_time": "2023-10-25T22:47:37.888Z"
   },
   {
    "duration": 661,
    "start_time": "2023-10-25T22:49:47.708Z"
   },
   {
    "duration": 209,
    "start_time": "2023-10-25T22:49:48.371Z"
   },
   {
    "duration": 32,
    "start_time": "2023-10-25T22:49:48.582Z"
   },
   {
    "duration": 33,
    "start_time": "2023-10-25T22:49:48.615Z"
   },
   {
    "duration": 27,
    "start_time": "2023-10-25T22:49:48.650Z"
   },
   {
    "duration": 29,
    "start_time": "2023-10-25T22:49:48.678Z"
   },
   {
    "duration": 4,
    "start_time": "2023-10-25T22:49:48.709Z"
   },
   {
    "duration": 14,
    "start_time": "2023-10-25T22:49:48.715Z"
   },
   {
    "duration": 67,
    "start_time": "2023-10-25T22:49:48.731Z"
   },
   {
    "duration": 8,
    "start_time": "2023-10-25T22:49:48.799Z"
   },
   {
    "duration": 42,
    "start_time": "2023-10-25T22:49:48.808Z"
   },
   {
    "duration": 12,
    "start_time": "2023-10-25T22:49:48.851Z"
   },
   {
    "duration": 217,
    "start_time": "2023-10-25T22:49:48.864Z"
   },
   {
    "duration": 171,
    "start_time": "2023-10-25T22:49:49.084Z"
   },
   {
    "duration": 352,
    "start_time": "2023-10-25T22:49:49.257Z"
   },
   {
    "duration": 16,
    "start_time": "2023-10-25T22:49:49.611Z"
   },
   {
    "duration": 258,
    "start_time": "2023-10-25T22:49:49.629Z"
   },
   {
    "duration": 6,
    "start_time": "2023-10-25T22:49:49.889Z"
   },
   {
    "duration": 232,
    "start_time": "2023-10-25T22:49:49.906Z"
   },
   {
    "duration": 20,
    "start_time": "2023-10-25T22:49:50.140Z"
   },
   {
    "duration": 9,
    "start_time": "2023-10-25T22:49:50.162Z"
   },
   {
    "duration": 259,
    "start_time": "2023-10-25T22:49:50.173Z"
   },
   {
    "duration": 210,
    "start_time": "2023-10-25T22:49:50.434Z"
   },
   {
    "duration": 253,
    "start_time": "2023-10-25T22:49:50.646Z"
   },
   {
    "duration": 224,
    "start_time": "2023-10-25T22:49:50.906Z"
   },
   {
    "duration": 42,
    "start_time": "2023-10-25T22:49:51.132Z"
   },
   {
    "duration": 42,
    "start_time": "2023-10-25T22:49:51.176Z"
   },
   {
    "duration": 29,
    "start_time": "2023-10-25T22:52:18.714Z"
   },
   {
    "duration": 36,
    "start_time": "2023-10-25T22:52:21.543Z"
   },
   {
    "duration": 21,
    "start_time": "2023-10-25T22:53:46.536Z"
   },
   {
    "duration": 4,
    "start_time": "2023-10-26T08:51:43.401Z"
   },
   {
    "duration": 858,
    "start_time": "2023-10-26T08:51:51.347Z"
   },
   {
    "duration": 341,
    "start_time": "2023-10-26T08:51:52.208Z"
   },
   {
    "duration": 31,
    "start_time": "2023-10-26T08:51:52.551Z"
   },
   {
    "duration": 75,
    "start_time": "2023-10-26T08:51:52.584Z"
   },
   {
    "duration": 78,
    "start_time": "2023-10-26T08:51:52.661Z"
   },
   {
    "duration": 30,
    "start_time": "2023-10-26T08:51:52.741Z"
   },
   {
    "duration": 23,
    "start_time": "2023-10-26T08:51:52.772Z"
   },
   {
    "duration": 51,
    "start_time": "2023-10-26T08:51:52.796Z"
   },
   {
    "duration": 113,
    "start_time": "2023-10-26T08:51:52.849Z"
   },
   {
    "duration": 9,
    "start_time": "2023-10-26T08:51:52.964Z"
   },
   {
    "duration": 32,
    "start_time": "2023-10-26T08:51:52.975Z"
   },
   {
    "duration": 35,
    "start_time": "2023-10-26T08:51:53.009Z"
   },
   {
    "duration": 255,
    "start_time": "2023-10-26T08:51:53.046Z"
   },
   {
    "duration": 208,
    "start_time": "2023-10-26T08:51:53.304Z"
   },
   {
    "duration": 387,
    "start_time": "2023-10-26T08:51:53.514Z"
   },
   {
    "duration": 12,
    "start_time": "2023-10-26T08:51:53.903Z"
   },
   {
    "duration": 252,
    "start_time": "2023-10-26T08:51:53.917Z"
   },
   {
    "duration": 8,
    "start_time": "2023-10-26T08:51:54.170Z"
   },
   {
    "duration": 239,
    "start_time": "2023-10-26T08:51:54.180Z"
   },
   {
    "duration": 37,
    "start_time": "2023-10-26T08:51:54.421Z"
   },
   {
    "duration": 12,
    "start_time": "2023-10-26T08:51:54.460Z"
   },
   {
    "duration": 297,
    "start_time": "2023-10-26T08:51:54.474Z"
   },
   {
    "duration": 216,
    "start_time": "2023-10-26T08:51:54.773Z"
   },
   {
    "duration": 280,
    "start_time": "2023-10-26T08:51:54.990Z"
   },
   {
    "duration": 229,
    "start_time": "2023-10-26T08:51:55.271Z"
   },
   {
    "duration": 29,
    "start_time": "2023-10-26T08:51:55.502Z"
   },
   {
    "duration": 31,
    "start_time": "2023-10-26T08:51:55.533Z"
   },
   {
    "duration": 2,
    "start_time": "2023-10-26T08:51:55.567Z"
   },
   {
    "duration": 490,
    "start_time": "2023-10-26T08:56:59.643Z"
   },
   {
    "duration": 1138,
    "start_time": "2023-10-26T08:57:04.968Z"
   },
   {
    "duration": 213,
    "start_time": "2023-10-26T08:57:06.108Z"
   },
   {
    "duration": 32,
    "start_time": "2023-10-26T08:57:06.323Z"
   },
   {
    "duration": 34,
    "start_time": "2023-10-26T08:57:06.357Z"
   },
   {
    "duration": 27,
    "start_time": "2023-10-26T08:57:06.393Z"
   },
   {
    "duration": 26,
    "start_time": "2023-10-26T08:57:06.421Z"
   },
   {
    "duration": 16,
    "start_time": "2023-10-26T08:57:06.449Z"
   },
   {
    "duration": 24,
    "start_time": "2023-10-26T08:57:06.466Z"
   },
   {
    "duration": 62,
    "start_time": "2023-10-26T08:57:06.491Z"
   },
   {
    "duration": 8,
    "start_time": "2023-10-26T08:57:06.554Z"
   },
   {
    "duration": 17,
    "start_time": "2023-10-26T08:57:06.563Z"
   },
   {
    "duration": 21,
    "start_time": "2023-10-26T08:57:06.581Z"
   },
   {
    "duration": 216,
    "start_time": "2023-10-26T08:57:06.603Z"
   },
   {
    "duration": 162,
    "start_time": "2023-10-26T08:57:06.822Z"
   },
   {
    "duration": 303,
    "start_time": "2023-10-26T08:57:06.986Z"
   },
   {
    "duration": 11,
    "start_time": "2023-10-26T08:57:07.290Z"
   },
   {
    "duration": 247,
    "start_time": "2023-10-26T08:57:07.303Z"
   },
   {
    "duration": 5,
    "start_time": "2023-10-26T08:57:07.552Z"
   },
   {
    "duration": 227,
    "start_time": "2023-10-26T08:57:07.558Z"
   },
   {
    "duration": 18,
    "start_time": "2023-10-26T08:57:07.787Z"
   },
   {
    "duration": 12,
    "start_time": "2023-10-26T08:57:07.807Z"
   },
   {
    "duration": 241,
    "start_time": "2023-10-26T08:57:07.820Z"
   },
   {
    "duration": 277,
    "start_time": "2023-10-26T08:57:08.063Z"
   },
   {
    "duration": 248,
    "start_time": "2023-10-26T08:57:08.344Z"
   },
   {
    "duration": 238,
    "start_time": "2023-10-26T08:57:08.594Z"
   },
   {
    "duration": 33,
    "start_time": "2023-10-26T08:57:08.834Z"
   },
   {
    "duration": 19,
    "start_time": "2023-10-26T08:57:08.869Z"
   },
   {
    "duration": 2,
    "start_time": "2023-10-26T08:57:08.890Z"
   },
   {
    "duration": 18,
    "start_time": "2023-10-26T09:02:02.574Z"
   },
   {
    "duration": 8,
    "start_time": "2023-10-26T09:02:17.565Z"
   },
   {
    "duration": 5,
    "start_time": "2023-10-26T09:02:31.569Z"
   },
   {
    "duration": 9,
    "start_time": "2023-10-26T09:02:34.232Z"
   },
   {
    "duration": 12,
    "start_time": "2023-10-26T09:03:29.393Z"
   },
   {
    "duration": 9,
    "start_time": "2023-10-26T09:04:19.129Z"
   },
   {
    "duration": 6,
    "start_time": "2023-10-26T09:04:24.023Z"
   },
   {
    "duration": 130,
    "start_time": "2023-10-26T09:04:46.592Z"
   },
   {
    "duration": 6,
    "start_time": "2023-10-26T09:05:19.276Z"
   },
   {
    "duration": 5,
    "start_time": "2023-10-26T09:05:48.409Z"
   },
   {
    "duration": 6,
    "start_time": "2023-10-26T09:05:56.351Z"
   },
   {
    "duration": 6,
    "start_time": "2023-10-26T09:06:57.735Z"
   },
   {
    "duration": 6,
    "start_time": "2023-10-26T09:08:30.416Z"
   },
   {
    "duration": 6,
    "start_time": "2023-10-26T09:08:34.294Z"
   },
   {
    "duration": 5,
    "start_time": "2023-10-26T09:11:58.246Z"
   },
   {
    "duration": 5,
    "start_time": "2023-10-26T09:12:47.814Z"
   },
   {
    "duration": 6,
    "start_time": "2023-10-26T09:12:53.837Z"
   },
   {
    "duration": 5,
    "start_time": "2023-10-26T09:19:41.404Z"
   },
   {
    "duration": 6,
    "start_time": "2023-10-26T09:19:58.772Z"
   },
   {
    "duration": 6,
    "start_time": "2023-10-26T09:25:12.580Z"
   },
   {
    "duration": 5,
    "start_time": "2023-10-26T09:33:14.896Z"
   },
   {
    "duration": 1228,
    "start_time": "2023-10-26T09:33:23.414Z"
   },
   {
    "duration": 218,
    "start_time": "2023-10-26T09:33:24.644Z"
   },
   {
    "duration": 35,
    "start_time": "2023-10-26T09:33:24.864Z"
   },
   {
    "duration": 48,
    "start_time": "2023-10-26T09:33:24.901Z"
   },
   {
    "duration": 28,
    "start_time": "2023-10-26T09:33:24.952Z"
   },
   {
    "duration": 4,
    "start_time": "2023-10-26T09:33:24.982Z"
   },
   {
    "duration": 17,
    "start_time": "2023-10-26T09:33:24.988Z"
   },
   {
    "duration": 20,
    "start_time": "2023-10-26T09:33:25.007Z"
   },
   {
    "duration": 64,
    "start_time": "2023-10-26T09:33:25.029Z"
   },
   {
    "duration": 12,
    "start_time": "2023-10-26T09:33:25.095Z"
   },
   {
    "duration": 19,
    "start_time": "2023-10-26T09:33:25.109Z"
   },
   {
    "duration": 30,
    "start_time": "2023-10-26T09:33:25.130Z"
   },
   {
    "duration": 230,
    "start_time": "2023-10-26T09:33:25.162Z"
   },
   {
    "duration": 198,
    "start_time": "2023-10-26T09:33:25.396Z"
   },
   {
    "duration": 324,
    "start_time": "2023-10-26T09:33:25.596Z"
   },
   {
    "duration": 10,
    "start_time": "2023-10-26T09:33:25.922Z"
   },
   {
    "duration": 264,
    "start_time": "2023-10-26T09:33:25.943Z"
   },
   {
    "duration": 5,
    "start_time": "2023-10-26T09:33:26.209Z"
   },
   {
    "duration": 232,
    "start_time": "2023-10-26T09:33:26.216Z"
   },
   {
    "duration": 19,
    "start_time": "2023-10-26T09:33:26.450Z"
   },
   {
    "duration": 15,
    "start_time": "2023-10-26T09:33:26.471Z"
   },
   {
    "duration": 255,
    "start_time": "2023-10-26T09:33:26.488Z"
   },
   {
    "duration": 291,
    "start_time": "2023-10-26T09:33:26.745Z"
   },
   {
    "duration": 261,
    "start_time": "2023-10-26T09:33:27.038Z"
   },
   {
    "duration": 238,
    "start_time": "2023-10-26T09:33:27.301Z"
   },
   {
    "duration": 28,
    "start_time": "2023-10-26T09:33:27.541Z"
   },
   {
    "duration": 23,
    "start_time": "2023-10-26T09:33:27.570Z"
   },
   {
    "duration": 10,
    "start_time": "2023-10-26T09:33:27.595Z"
   },
   {
    "duration": 39,
    "start_time": "2023-10-26T09:33:27.607Z"
   },
   {
    "duration": 4,
    "start_time": "2023-10-26T09:37:19.015Z"
   },
   {
    "duration": 7,
    "start_time": "2023-10-26T09:39:22.463Z"
   },
   {
    "duration": 6,
    "start_time": "2023-10-26T09:42:35.989Z"
   },
   {
    "duration": 5,
    "start_time": "2023-10-26T09:42:40.838Z"
   },
   {
    "duration": 5,
    "start_time": "2023-10-26T09:42:46.573Z"
   },
   {
    "duration": 5,
    "start_time": "2023-10-26T10:03:45.720Z"
   },
   {
    "duration": 5,
    "start_time": "2023-10-26T10:03:57.480Z"
   },
   {
    "duration": 16,
    "start_time": "2023-10-26T10:05:00.823Z"
   },
   {
    "duration": 5,
    "start_time": "2023-10-26T10:06:06.000Z"
   },
   {
    "duration": 18,
    "start_time": "2023-10-26T10:06:08.563Z"
   },
   {
    "duration": 6,
    "start_time": "2023-10-26T10:06:36.079Z"
   },
   {
    "duration": 10,
    "start_time": "2023-10-26T10:08:40.782Z"
   },
   {
    "duration": 6,
    "start_time": "2023-10-26T10:12:42.166Z"
   },
   {
    "duration": 107,
    "start_time": "2023-10-26T10:13:09.183Z"
   },
   {
    "duration": 6,
    "start_time": "2023-10-26T10:13:10.918Z"
   },
   {
    "duration": 6,
    "start_time": "2023-10-26T10:13:18.854Z"
   },
   {
    "duration": 1181,
    "start_time": "2023-10-26T10:15:19.260Z"
   },
   {
    "duration": 283,
    "start_time": "2023-10-26T10:15:20.444Z"
   },
   {
    "duration": 41,
    "start_time": "2023-10-26T10:15:20.729Z"
   },
   {
    "duration": 32,
    "start_time": "2023-10-26T10:15:20.773Z"
   },
   {
    "duration": 61,
    "start_time": "2023-10-26T10:15:20.806Z"
   },
   {
    "duration": 5,
    "start_time": "2023-10-26T10:15:20.868Z"
   },
   {
    "duration": 83,
    "start_time": "2023-10-26T10:15:20.874Z"
   },
   {
    "duration": 34,
    "start_time": "2023-10-26T10:15:20.960Z"
   },
   {
    "duration": 87,
    "start_time": "2023-10-26T10:15:20.996Z"
   },
   {
    "duration": 10,
    "start_time": "2023-10-26T10:15:21.086Z"
   },
   {
    "duration": 63,
    "start_time": "2023-10-26T10:15:21.097Z"
   },
   {
    "duration": 80,
    "start_time": "2023-10-26T10:15:21.162Z"
   },
   {
    "duration": 264,
    "start_time": "2023-10-26T10:15:21.244Z"
   },
   {
    "duration": 194,
    "start_time": "2023-10-26T10:15:21.510Z"
   },
   {
    "duration": 353,
    "start_time": "2023-10-26T10:15:21.706Z"
   },
   {
    "duration": 11,
    "start_time": "2023-10-26T10:15:22.062Z"
   },
   {
    "duration": 291,
    "start_time": "2023-10-26T10:15:22.074Z"
   },
   {
    "duration": 6,
    "start_time": "2023-10-26T10:15:22.367Z"
   },
   {
    "duration": 268,
    "start_time": "2023-10-26T10:15:22.374Z"
   },
   {
    "duration": 25,
    "start_time": "2023-10-26T10:15:22.643Z"
   },
   {
    "duration": 17,
    "start_time": "2023-10-26T10:15:22.670Z"
   },
   {
    "duration": 311,
    "start_time": "2023-10-26T10:15:22.689Z"
   },
   {
    "duration": 330,
    "start_time": "2023-10-26T10:15:23.002Z"
   },
   {
    "duration": 268,
    "start_time": "2023-10-26T10:15:23.334Z"
   },
   {
    "duration": 288,
    "start_time": "2023-10-26T10:15:23.605Z"
   },
   {
    "duration": 30,
    "start_time": "2023-10-26T10:15:23.895Z"
   },
   {
    "duration": 43,
    "start_time": "2023-10-26T10:15:23.926Z"
   },
   {
    "duration": 4,
    "start_time": "2023-10-26T10:15:23.972Z"
   },
   {
    "duration": 79,
    "start_time": "2023-10-26T10:15:23.978Z"
   },
   {
    "duration": 23,
    "start_time": "2023-10-26T10:15:24.060Z"
   },
   {
    "duration": 25,
    "start_time": "2023-10-26T10:15:24.085Z"
   },
   {
    "duration": 18,
    "start_time": "2023-10-26T10:15:24.112Z"
   },
   {
    "duration": 19,
    "start_time": "2023-10-26T10:15:24.131Z"
   },
   {
    "duration": 6,
    "start_time": "2023-10-26T10:24:54.957Z"
   },
   {
    "duration": 6,
    "start_time": "2023-10-26T10:26:05.877Z"
   },
   {
    "duration": 5,
    "start_time": "2023-10-26T10:27:50.960Z"
   },
   {
    "duration": 8,
    "start_time": "2023-10-26T10:29:28.894Z"
   },
   {
    "duration": 6,
    "start_time": "2023-10-26T10:29:34.372Z"
   },
   {
    "duration": 126,
    "start_time": "2023-10-26T10:31:29.078Z"
   },
   {
    "duration": 9,
    "start_time": "2023-10-26T10:31:47.892Z"
   },
   {
    "duration": 12,
    "start_time": "2023-10-26T10:31:53.044Z"
   },
   {
    "duration": 10,
    "start_time": "2023-10-26T10:32:00.627Z"
   },
   {
    "duration": 9,
    "start_time": "2023-10-26T10:32:02.572Z"
   },
   {
    "duration": 1142,
    "start_time": "2023-10-26T10:32:11.155Z"
   },
   {
    "duration": 219,
    "start_time": "2023-10-26T10:32:12.300Z"
   },
   {
    "duration": 31,
    "start_time": "2023-10-26T10:32:12.520Z"
   },
   {
    "duration": 35,
    "start_time": "2023-10-26T10:32:12.553Z"
   },
   {
    "duration": 28,
    "start_time": "2023-10-26T10:32:12.590Z"
   },
   {
    "duration": 5,
    "start_time": "2023-10-26T10:32:12.644Z"
   },
   {
    "duration": 30,
    "start_time": "2023-10-26T10:32:12.650Z"
   },
   {
    "duration": 39,
    "start_time": "2023-10-26T10:32:12.681Z"
   },
   {
    "duration": 48,
    "start_time": "2023-10-26T10:32:12.721Z"
   },
   {
    "duration": 7,
    "start_time": "2023-10-26T10:32:12.772Z"
   },
   {
    "duration": 16,
    "start_time": "2023-10-26T10:32:12.781Z"
   },
   {
    "duration": 13,
    "start_time": "2023-10-26T10:32:12.798Z"
   },
   {
    "duration": 237,
    "start_time": "2023-10-26T10:32:12.813Z"
   },
   {
    "duration": 179,
    "start_time": "2023-10-26T10:32:13.052Z"
   },
   {
    "duration": 292,
    "start_time": "2023-10-26T10:32:13.233Z"
   },
   {
    "duration": 21,
    "start_time": "2023-10-26T10:32:13.527Z"
   },
   {
    "duration": 279,
    "start_time": "2023-10-26T10:32:13.551Z"
   },
   {
    "duration": 5,
    "start_time": "2023-10-26T10:32:13.833Z"
   },
   {
    "duration": 215,
    "start_time": "2023-10-26T10:32:13.844Z"
   },
   {
    "duration": 19,
    "start_time": "2023-10-26T10:32:14.061Z"
   },
   {
    "duration": 16,
    "start_time": "2023-10-26T10:32:14.081Z"
   },
   {
    "duration": 240,
    "start_time": "2023-10-26T10:32:14.098Z"
   },
   {
    "duration": 361,
    "start_time": "2023-10-26T10:32:14.340Z"
   },
   {
    "duration": 250,
    "start_time": "2023-10-26T10:32:14.703Z"
   },
   {
    "duration": 245,
    "start_time": "2023-10-26T10:32:14.955Z"
   },
   {
    "duration": 42,
    "start_time": "2023-10-26T10:32:15.202Z"
   },
   {
    "duration": 39,
    "start_time": "2023-10-26T10:32:15.245Z"
   },
   {
    "duration": 13,
    "start_time": "2023-10-26T10:32:15.287Z"
   },
   {
    "duration": 53,
    "start_time": "2023-10-26T10:32:15.302Z"
   },
   {
    "duration": 37,
    "start_time": "2023-10-26T10:32:15.357Z"
   },
   {
    "duration": 23,
    "start_time": "2023-10-26T10:32:15.396Z"
   },
   {
    "duration": 112,
    "start_time": "2023-10-26T10:32:15.421Z"
   },
   {
    "duration": 0,
    "start_time": "2023-10-26T10:32:15.535Z"
   },
   {
    "duration": 7,
    "start_time": "2023-10-26T10:32:44.908Z"
   },
   {
    "duration": 8,
    "start_time": "2023-10-26T10:32:48.223Z"
   },
   {
    "duration": 19,
    "start_time": "2023-10-26T10:33:01.757Z"
   },
   {
    "duration": 20,
    "start_time": "2023-10-26T10:33:12.564Z"
   },
   {
    "duration": 8,
    "start_time": "2023-10-26T10:33:17.485Z"
   },
   {
    "duration": 9,
    "start_time": "2023-10-26T10:33:35.036Z"
   },
   {
    "duration": 9,
    "start_time": "2023-10-26T10:33:51.564Z"
   },
   {
    "duration": 6,
    "start_time": "2023-10-26T10:34:02.637Z"
   },
   {
    "duration": 5,
    "start_time": "2023-10-26T10:34:17.501Z"
   },
   {
    "duration": 81,
    "start_time": "2023-10-26T10:34:36.684Z"
   },
   {
    "duration": 10,
    "start_time": "2023-10-26T10:34:46.556Z"
   },
   {
    "duration": 10,
    "start_time": "2023-10-26T10:34:50.964Z"
   },
   {
    "duration": 17,
    "start_time": "2023-10-26T10:35:03.147Z"
   },
   {
    "duration": 20,
    "start_time": "2023-10-26T10:37:15.660Z"
   },
   {
    "duration": 18,
    "start_time": "2023-10-26T10:37:31.268Z"
   },
   {
    "duration": 7,
    "start_time": "2023-10-26T10:39:29.484Z"
   },
   {
    "duration": 10,
    "start_time": "2023-10-26T10:42:41.907Z"
   },
   {
    "duration": 6,
    "start_time": "2023-10-26T10:43:18.530Z"
   },
   {
    "duration": 5,
    "start_time": "2023-10-26T10:44:56.930Z"
   },
   {
    "duration": 5,
    "start_time": "2023-10-26T10:46:55.826Z"
   },
   {
    "duration": 6,
    "start_time": "2023-10-26T10:47:05.913Z"
   },
   {
    "duration": 19,
    "start_time": "2023-10-26T10:47:23.625Z"
   },
   {
    "duration": 6,
    "start_time": "2023-10-26T10:47:32.313Z"
   },
   {
    "duration": 5,
    "start_time": "2023-10-26T10:51:38.073Z"
   },
   {
    "duration": 3,
    "start_time": "2023-10-26T11:39:17.461Z"
   },
   {
    "duration": 1428,
    "start_time": "2023-10-26T14:17:38.714Z"
   },
   {
    "duration": 390,
    "start_time": "2023-10-26T14:17:40.146Z"
   },
   {
    "duration": 38,
    "start_time": "2023-10-26T14:17:40.537Z"
   },
   {
    "duration": 43,
    "start_time": "2023-10-26T14:17:40.577Z"
   },
   {
    "duration": 44,
    "start_time": "2023-10-26T14:17:40.622Z"
   },
   {
    "duration": 6,
    "start_time": "2023-10-26T14:17:40.667Z"
   },
   {
    "duration": 19,
    "start_time": "2023-10-26T14:17:40.674Z"
   },
   {
    "duration": 50,
    "start_time": "2023-10-26T14:17:40.695Z"
   },
   {
    "duration": 59,
    "start_time": "2023-10-26T14:17:40.747Z"
   },
   {
    "duration": 9,
    "start_time": "2023-10-26T14:17:40.810Z"
   },
   {
    "duration": 74,
    "start_time": "2023-10-26T14:17:40.820Z"
   },
   {
    "duration": 13,
    "start_time": "2023-10-26T14:17:40.896Z"
   },
   {
    "duration": 253,
    "start_time": "2023-10-26T14:17:40.911Z"
   },
   {
    "duration": 195,
    "start_time": "2023-10-26T14:17:41.166Z"
   },
   {
    "duration": 329,
    "start_time": "2023-10-26T14:17:41.362Z"
   },
   {
    "duration": 12,
    "start_time": "2023-10-26T14:17:41.693Z"
   },
   {
    "duration": 301,
    "start_time": "2023-10-26T14:17:41.706Z"
   },
   {
    "duration": 6,
    "start_time": "2023-10-26T14:17:42.009Z"
   },
   {
    "duration": 277,
    "start_time": "2023-10-26T14:17:42.017Z"
   },
   {
    "duration": 21,
    "start_time": "2023-10-26T14:17:42.296Z"
   },
   {
    "duration": 9,
    "start_time": "2023-10-26T14:17:42.318Z"
   },
   {
    "duration": 277,
    "start_time": "2023-10-26T14:17:42.346Z"
   },
   {
    "duration": 318,
    "start_time": "2023-10-26T14:17:42.625Z"
   },
   {
    "duration": 287,
    "start_time": "2023-10-26T14:17:42.953Z"
   },
   {
    "duration": 267,
    "start_time": "2023-10-26T14:17:43.243Z"
   },
   {
    "duration": 49,
    "start_time": "2023-10-26T14:17:43.512Z"
   },
   {
    "duration": 24,
    "start_time": "2023-10-26T14:17:43.563Z"
   },
   {
    "duration": 5,
    "start_time": "2023-10-26T14:17:43.590Z"
   },
   {
    "duration": 34,
    "start_time": "2023-10-26T14:17:43.596Z"
   },
   {
    "duration": 8,
    "start_time": "2023-10-26T14:17:43.632Z"
   },
   {
    "duration": 37,
    "start_time": "2023-10-26T14:17:43.642Z"
   },
   {
    "duration": 13,
    "start_time": "2023-10-26T14:17:43.681Z"
   },
   {
    "duration": 20,
    "start_time": "2023-10-26T14:17:43.696Z"
   },
   {
    "duration": 10,
    "start_time": "2023-10-26T14:17:43.718Z"
   },
   {
    "duration": 1278,
    "start_time": "2023-10-26T14:18:04.858Z"
   },
   {
    "duration": 9,
    "start_time": "2023-10-26T14:18:42.889Z"
   },
   {
    "duration": 15,
    "start_time": "2023-10-26T14:22:24.271Z"
   },
   {
    "duration": 19,
    "start_time": "2023-10-26T14:22:31.639Z"
   },
   {
    "duration": 14,
    "start_time": "2023-10-26T14:22:49.839Z"
   },
   {
    "duration": 3,
    "start_time": "2023-10-26T14:38:49.475Z"
   },
   {
    "duration": 1228,
    "start_time": "2023-10-26T14:39:01.904Z"
   },
   {
    "duration": 239,
    "start_time": "2023-10-26T14:39:03.134Z"
   },
   {
    "duration": 36,
    "start_time": "2023-10-26T14:39:03.375Z"
   },
   {
    "duration": 46,
    "start_time": "2023-10-26T14:39:03.413Z"
   },
   {
    "duration": 27,
    "start_time": "2023-10-26T14:39:03.462Z"
   },
   {
    "duration": 34,
    "start_time": "2023-10-26T14:39:03.491Z"
   },
   {
    "duration": 61,
    "start_time": "2023-10-26T14:39:03.526Z"
   },
   {
    "duration": 42,
    "start_time": "2023-10-26T14:39:03.589Z"
   },
   {
    "duration": 97,
    "start_time": "2023-10-26T14:39:03.633Z"
   },
   {
    "duration": 48,
    "start_time": "2023-10-26T14:39:03.732Z"
   },
   {
    "duration": 71,
    "start_time": "2023-10-26T14:39:03.782Z"
   },
   {
    "duration": 29,
    "start_time": "2023-10-26T14:39:03.854Z"
   },
   {
    "duration": 283,
    "start_time": "2023-10-26T14:39:03.884Z"
   },
   {
    "duration": 190,
    "start_time": "2023-10-26T14:39:04.170Z"
   },
   {
    "duration": 329,
    "start_time": "2023-10-26T14:39:04.362Z"
   },
   {
    "duration": 12,
    "start_time": "2023-10-26T14:39:04.693Z"
   },
   {
    "duration": 288,
    "start_time": "2023-10-26T14:39:04.706Z"
   },
   {
    "duration": 6,
    "start_time": "2023-10-26T14:39:04.996Z"
   },
   {
    "duration": 266,
    "start_time": "2023-10-26T14:39:05.004Z"
   },
   {
    "duration": 24,
    "start_time": "2023-10-26T14:39:05.273Z"
   },
   {
    "duration": 22,
    "start_time": "2023-10-26T14:39:05.300Z"
   },
   {
    "duration": 305,
    "start_time": "2023-10-26T14:39:05.325Z"
   },
   {
    "duration": 308,
    "start_time": "2023-10-26T14:39:05.632Z"
   },
   {
    "duration": 276,
    "start_time": "2023-10-26T14:39:05.941Z"
   },
   {
    "duration": 246,
    "start_time": "2023-10-26T14:39:06.219Z"
   },
   {
    "duration": 31,
    "start_time": "2023-10-26T14:39:06.467Z"
   },
   {
    "duration": 4,
    "start_time": "2023-10-26T14:39:06.499Z"
   },
   {
    "duration": 21,
    "start_time": "2023-10-26T14:39:06.504Z"
   },
   {
    "duration": 28,
    "start_time": "2023-10-26T14:39:06.527Z"
   },
   {
    "duration": 21,
    "start_time": "2023-10-26T14:39:06.557Z"
   },
   {
    "duration": 14,
    "start_time": "2023-10-26T14:39:06.580Z"
   },
   {
    "duration": 1544,
    "start_time": "2023-10-26T14:39:06.596Z"
   },
   {
    "duration": 0,
    "start_time": "2023-10-26T14:39:08.142Z"
   },
   {
    "duration": 0,
    "start_time": "2023-10-26T14:39:08.143Z"
   },
   {
    "duration": 11,
    "start_time": "2023-10-26T14:40:09.265Z"
   },
   {
    "duration": 20,
    "start_time": "2023-10-26T14:42:07.202Z"
   },
   {
    "duration": 24,
    "start_time": "2023-10-26T14:43:58.874Z"
   },
   {
    "duration": 11,
    "start_time": "2023-10-26T14:44:17.096Z"
   },
   {
    "duration": 11,
    "start_time": "2023-10-26T14:44:25.128Z"
   },
   {
    "duration": 13,
    "start_time": "2023-10-26T14:47:00.748Z"
   },
   {
    "duration": 13,
    "start_time": "2023-10-26T14:47:02.308Z"
   },
   {
    "duration": 12,
    "start_time": "2023-10-26T14:47:35.048Z"
   },
   {
    "duration": 12,
    "start_time": "2023-10-26T14:47:39.233Z"
   },
   {
    "duration": 12,
    "start_time": "2023-10-26T14:47:48.256Z"
   },
   {
    "duration": 14,
    "start_time": "2023-10-26T14:47:51.287Z"
   },
   {
    "duration": 12,
    "start_time": "2023-10-26T14:47:55.000Z"
   },
   {
    "duration": 12,
    "start_time": "2023-10-26T14:47:58.824Z"
   },
   {
    "duration": 23,
    "start_time": "2023-10-26T14:48:36.257Z"
   },
   {
    "duration": 31,
    "start_time": "2023-10-26T14:48:49.674Z"
   },
   {
    "duration": 39,
    "start_time": "2023-10-26T14:49:20.290Z"
   },
   {
    "duration": 31,
    "start_time": "2023-10-26T14:49:29.928Z"
   },
   {
    "duration": 24,
    "start_time": "2023-10-26T14:50:01.936Z"
   },
   {
    "duration": 23,
    "start_time": "2023-10-26T14:51:12.848Z"
   },
   {
    "duration": 7,
    "start_time": "2023-10-26T14:51:27.424Z"
   },
   {
    "duration": 24,
    "start_time": "2023-10-26T14:51:40.487Z"
   },
   {
    "duration": 7,
    "start_time": "2023-10-26T14:52:37.656Z"
   },
   {
    "duration": 19,
    "start_time": "2023-10-26T14:52:41.480Z"
   },
   {
    "duration": 10,
    "start_time": "2023-10-26T14:52:52.031Z"
   },
   {
    "duration": 7,
    "start_time": "2023-10-26T14:53:00.367Z"
   },
   {
    "duration": 9,
    "start_time": "2023-10-26T14:53:26.368Z"
   },
   {
    "duration": 12,
    "start_time": "2023-10-26T14:53:38.031Z"
   },
   {
    "duration": 14,
    "start_time": "2023-10-26T14:53:46.478Z"
   },
   {
    "duration": 11,
    "start_time": "2023-10-26T14:54:08.919Z"
   },
   {
    "duration": 6,
    "start_time": "2023-10-26T14:54:12.295Z"
   },
   {
    "duration": 8,
    "start_time": "2023-10-26T14:54:22.607Z"
   },
   {
    "duration": 5,
    "start_time": "2023-10-26T14:54:36.152Z"
   },
   {
    "duration": 10,
    "start_time": "2023-10-26T14:55:21.207Z"
   },
   {
    "duration": 10,
    "start_time": "2023-10-26T14:55:26.931Z"
   },
   {
    "duration": 10,
    "start_time": "2023-10-26T14:55:35.207Z"
   },
   {
    "duration": 8,
    "start_time": "2023-10-26T14:55:57.839Z"
   },
   {
    "duration": 8,
    "start_time": "2023-10-26T14:56:00.111Z"
   },
   {
    "duration": 19,
    "start_time": "2023-10-26T14:56:17.190Z"
   },
   {
    "duration": 1189,
    "start_time": "2023-10-26T14:56:28.434Z"
   },
   {
    "duration": 227,
    "start_time": "2023-10-26T14:56:29.625Z"
   },
   {
    "duration": 36,
    "start_time": "2023-10-26T14:56:29.854Z"
   },
   {
    "duration": 33,
    "start_time": "2023-10-26T14:56:29.891Z"
   },
   {
    "duration": 47,
    "start_time": "2023-10-26T14:56:29.926Z"
   },
   {
    "duration": 6,
    "start_time": "2023-10-26T14:56:29.976Z"
   },
   {
    "duration": 7,
    "start_time": "2023-10-26T14:56:29.983Z"
   },
   {
    "duration": 9,
    "start_time": "2023-10-26T14:56:29.992Z"
   },
   {
    "duration": 106,
    "start_time": "2023-10-26T14:56:30.003Z"
   },
   {
    "duration": 9,
    "start_time": "2023-10-26T14:56:30.111Z"
   },
   {
    "duration": 39,
    "start_time": "2023-10-26T14:56:30.121Z"
   },
   {
    "duration": 38,
    "start_time": "2023-10-26T14:56:30.162Z"
   },
   {
    "duration": 271,
    "start_time": "2023-10-26T14:56:30.202Z"
   },
   {
    "duration": 189,
    "start_time": "2023-10-26T14:56:30.476Z"
   },
   {
    "duration": 334,
    "start_time": "2023-10-26T14:56:30.667Z"
   },
   {
    "duration": 12,
    "start_time": "2023-10-26T14:56:31.003Z"
   },
   {
    "duration": 395,
    "start_time": "2023-10-26T14:56:31.017Z"
   },
   {
    "duration": 5,
    "start_time": "2023-10-26T14:56:31.414Z"
   },
   {
    "duration": 261,
    "start_time": "2023-10-26T14:56:31.421Z"
   },
   {
    "duration": 22,
    "start_time": "2023-10-26T14:56:31.684Z"
   },
   {
    "duration": 47,
    "start_time": "2023-10-26T14:56:31.709Z"
   },
   {
    "duration": 318,
    "start_time": "2023-10-26T14:56:31.758Z"
   },
   {
    "duration": 314,
    "start_time": "2023-10-26T14:56:32.078Z"
   },
   {
    "duration": 308,
    "start_time": "2023-10-26T14:56:32.394Z"
   },
   {
    "duration": 259,
    "start_time": "2023-10-26T14:56:32.704Z"
   },
   {
    "duration": 31,
    "start_time": "2023-10-26T14:56:32.965Z"
   },
   {
    "duration": 46,
    "start_time": "2023-10-26T14:56:32.997Z"
   },
   {
    "duration": 36,
    "start_time": "2023-10-26T14:56:33.045Z"
   },
   {
    "duration": 45,
    "start_time": "2023-10-26T14:56:33.083Z"
   },
   {
    "duration": 14,
    "start_time": "2023-10-26T14:56:33.130Z"
   },
   {
    "duration": 17,
    "start_time": "2023-10-26T14:56:33.146Z"
   },
   {
    "duration": 1306,
    "start_time": "2023-10-26T14:56:33.165Z"
   },
   {
    "duration": 0,
    "start_time": "2023-10-26T14:56:34.472Z"
   },
   {
    "duration": 0,
    "start_time": "2023-10-26T14:56:34.474Z"
   },
   {
    "duration": 11,
    "start_time": "2023-10-26T14:57:35.599Z"
   },
   {
    "duration": 15,
    "start_time": "2023-10-26T14:57:53.223Z"
   },
   {
    "duration": 9,
    "start_time": "2023-10-26T14:58:43.479Z"
   },
   {
    "duration": 12,
    "start_time": "2023-10-26T14:58:46.798Z"
   },
   {
    "duration": 6,
    "start_time": "2023-10-26T14:59:12.727Z"
   },
   {
    "duration": 12,
    "start_time": "2023-10-26T14:59:26.709Z"
   },
   {
    "duration": 6,
    "start_time": "2023-10-26T14:59:36.574Z"
   },
   {
    "duration": 6,
    "start_time": "2023-10-26T14:59:41.021Z"
   },
   {
    "duration": 1207,
    "start_time": "2023-10-26T14:59:51.031Z"
   },
   {
    "duration": 245,
    "start_time": "2023-10-26T14:59:52.240Z"
   },
   {
    "duration": 35,
    "start_time": "2023-10-26T14:59:52.487Z"
   },
   {
    "duration": 49,
    "start_time": "2023-10-26T14:59:52.523Z"
   },
   {
    "duration": 31,
    "start_time": "2023-10-26T14:59:52.575Z"
   },
   {
    "duration": 8,
    "start_time": "2023-10-26T14:59:52.607Z"
   },
   {
    "duration": 29,
    "start_time": "2023-10-26T14:59:52.617Z"
   },
   {
    "duration": 16,
    "start_time": "2023-10-26T14:59:52.648Z"
   },
   {
    "duration": 84,
    "start_time": "2023-10-26T14:59:52.666Z"
   },
   {
    "duration": 8,
    "start_time": "2023-10-26T14:59:52.752Z"
   },
   {
    "duration": 39,
    "start_time": "2023-10-26T14:59:52.762Z"
   },
   {
    "duration": 42,
    "start_time": "2023-10-26T14:59:52.803Z"
   },
   {
    "duration": 250,
    "start_time": "2023-10-26T14:59:52.847Z"
   },
   {
    "duration": 198,
    "start_time": "2023-10-26T14:59:53.100Z"
   },
   {
    "duration": 333,
    "start_time": "2023-10-26T14:59:53.300Z"
   },
   {
    "duration": 19,
    "start_time": "2023-10-26T14:59:53.634Z"
   },
   {
    "duration": 479,
    "start_time": "2023-10-26T14:59:53.655Z"
   },
   {
    "duration": 15,
    "start_time": "2023-10-26T14:59:54.135Z"
   },
   {
    "duration": 324,
    "start_time": "2023-10-26T14:59:54.152Z"
   },
   {
    "duration": 21,
    "start_time": "2023-10-26T14:59:54.478Z"
   },
   {
    "duration": 10,
    "start_time": "2023-10-26T14:59:54.501Z"
   },
   {
    "duration": 299,
    "start_time": "2023-10-26T14:59:54.512Z"
   },
   {
    "duration": 315,
    "start_time": "2023-10-26T14:59:54.813Z"
   },
   {
    "duration": 341,
    "start_time": "2023-10-26T14:59:55.130Z"
   },
   {
    "duration": 264,
    "start_time": "2023-10-26T14:59:55.473Z"
   },
   {
    "duration": 35,
    "start_time": "2023-10-26T14:59:55.739Z"
   },
   {
    "duration": 46,
    "start_time": "2023-10-26T14:59:55.776Z"
   },
   {
    "duration": 52,
    "start_time": "2023-10-26T14:59:55.824Z"
   },
   {
    "duration": 136,
    "start_time": "2023-10-26T14:59:55.878Z"
   },
   {
    "duration": 63,
    "start_time": "2023-10-26T14:59:56.016Z"
   },
   {
    "duration": 49,
    "start_time": "2023-10-26T14:59:56.081Z"
   },
   {
    "duration": 1634,
    "start_time": "2023-10-26T14:59:56.133Z"
   },
   {
    "duration": 0,
    "start_time": "2023-10-26T14:59:57.769Z"
   },
   {
    "duration": 0,
    "start_time": "2023-10-26T14:59:57.770Z"
   },
   {
    "duration": 21,
    "start_time": "2023-10-26T15:00:45.023Z"
   },
   {
    "duration": 6,
    "start_time": "2023-10-26T15:01:17.526Z"
   },
   {
    "duration": 22,
    "start_time": "2023-10-26T15:01:48.478Z"
   },
   {
    "duration": 15,
    "start_time": "2023-10-26T15:01:55.566Z"
   },
   {
    "duration": 10,
    "start_time": "2023-10-26T15:02:50.396Z"
   },
   {
    "duration": 21,
    "start_time": "2023-10-26T15:02:57.798Z"
   },
   {
    "duration": 4,
    "start_time": "2023-10-26T15:03:21.021Z"
   },
   {
    "duration": 5,
    "start_time": "2023-10-26T15:03:23.980Z"
   },
   {
    "duration": 8,
    "start_time": "2023-10-26T15:03:26.428Z"
   },
   {
    "duration": 18,
    "start_time": "2023-10-26T15:03:35.420Z"
   },
   {
    "duration": 1272,
    "start_time": "2023-10-26T15:05:28.464Z"
   },
   {
    "duration": 230,
    "start_time": "2023-10-26T15:05:29.738Z"
   },
   {
    "duration": 36,
    "start_time": "2023-10-26T15:05:29.969Z"
   },
   {
    "duration": 100,
    "start_time": "2023-10-26T15:05:30.007Z"
   },
   {
    "duration": 77,
    "start_time": "2023-10-26T15:05:30.109Z"
   },
   {
    "duration": 6,
    "start_time": "2023-10-26T15:05:30.188Z"
   },
   {
    "duration": 41,
    "start_time": "2023-10-26T15:05:30.196Z"
   },
   {
    "duration": 29,
    "start_time": "2023-10-26T15:05:30.239Z"
   },
   {
    "duration": 73,
    "start_time": "2023-10-26T15:05:30.270Z"
   },
   {
    "duration": 8,
    "start_time": "2023-10-26T15:05:30.346Z"
   },
   {
    "duration": 59,
    "start_time": "2023-10-26T15:05:30.355Z"
   },
   {
    "duration": 64,
    "start_time": "2023-10-26T15:05:30.415Z"
   },
   {
    "duration": 360,
    "start_time": "2023-10-26T15:05:30.480Z"
   },
   {
    "duration": 187,
    "start_time": "2023-10-26T15:05:30.842Z"
   },
   {
    "duration": 321,
    "start_time": "2023-10-26T15:05:31.032Z"
   },
   {
    "duration": 13,
    "start_time": "2023-10-26T15:05:31.355Z"
   },
   {
    "duration": 371,
    "start_time": "2023-10-26T15:05:31.371Z"
   },
   {
    "duration": 7,
    "start_time": "2023-10-26T15:05:31.744Z"
   },
   {
    "duration": 269,
    "start_time": "2023-10-26T15:05:31.753Z"
   },
   {
    "duration": 27,
    "start_time": "2023-10-26T15:05:32.024Z"
   },
   {
    "duration": 28,
    "start_time": "2023-10-26T15:05:32.053Z"
   },
   {
    "duration": 279,
    "start_time": "2023-10-26T15:05:32.083Z"
   },
   {
    "duration": 299,
    "start_time": "2023-10-26T15:05:32.364Z"
   },
   {
    "duration": 271,
    "start_time": "2023-10-26T15:05:32.664Z"
   },
   {
    "duration": 250,
    "start_time": "2023-10-26T15:05:32.937Z"
   },
   {
    "duration": 29,
    "start_time": "2023-10-26T15:05:33.189Z"
   },
   {
    "duration": 2954,
    "start_time": "2023-10-26T15:05:33.220Z"
   },
   {
    "duration": 0,
    "start_time": "2023-10-26T15:05:36.176Z"
   },
   {
    "duration": 0,
    "start_time": "2023-10-26T15:05:36.178Z"
   },
   {
    "duration": 0,
    "start_time": "2023-10-26T15:05:36.179Z"
   },
   {
    "duration": 0,
    "start_time": "2023-10-26T15:05:36.180Z"
   },
   {
    "duration": 1,
    "start_time": "2023-10-26T15:05:36.181Z"
   },
   {
    "duration": 0,
    "start_time": "2023-10-26T15:05:36.182Z"
   },
   {
    "duration": 0,
    "start_time": "2023-10-26T15:05:36.184Z"
   },
   {
    "duration": 14,
    "start_time": "2023-10-26T15:05:47.748Z"
   },
   {
    "duration": 1171,
    "start_time": "2023-10-26T15:06:11.173Z"
   },
   {
    "duration": 233,
    "start_time": "2023-10-26T15:06:12.346Z"
   },
   {
    "duration": 33,
    "start_time": "2023-10-26T15:06:12.580Z"
   },
   {
    "duration": 37,
    "start_time": "2023-10-26T15:06:12.616Z"
   },
   {
    "duration": 29,
    "start_time": "2023-10-26T15:06:12.654Z"
   },
   {
    "duration": 7,
    "start_time": "2023-10-26T15:06:12.685Z"
   },
   {
    "duration": 7,
    "start_time": "2023-10-26T15:06:12.694Z"
   },
   {
    "duration": 7,
    "start_time": "2023-10-26T15:06:12.702Z"
   },
   {
    "duration": 77,
    "start_time": "2023-10-26T15:06:12.711Z"
   },
   {
    "duration": 7,
    "start_time": "2023-10-26T15:06:12.791Z"
   },
   {
    "duration": 14,
    "start_time": "2023-10-26T15:06:12.799Z"
   },
   {
    "duration": 21,
    "start_time": "2023-10-26T15:06:12.814Z"
   },
   {
    "duration": 249,
    "start_time": "2023-10-26T15:06:12.847Z"
   },
   {
    "duration": 187,
    "start_time": "2023-10-26T15:06:13.099Z"
   },
   {
    "duration": 335,
    "start_time": "2023-10-26T15:06:13.288Z"
   },
   {
    "duration": 21,
    "start_time": "2023-10-26T15:06:13.625Z"
   },
   {
    "duration": 278,
    "start_time": "2023-10-26T15:06:13.648Z"
   },
   {
    "duration": 6,
    "start_time": "2023-10-26T15:06:13.929Z"
   },
   {
    "duration": 261,
    "start_time": "2023-10-26T15:06:13.937Z"
   },
   {
    "duration": 21,
    "start_time": "2023-10-26T15:06:14.200Z"
   },
   {
    "duration": 27,
    "start_time": "2023-10-26T15:06:14.223Z"
   },
   {
    "duration": 278,
    "start_time": "2023-10-26T15:06:14.252Z"
   },
   {
    "duration": 310,
    "start_time": "2023-10-26T15:06:14.532Z"
   },
   {
    "duration": 290,
    "start_time": "2023-10-26T15:06:14.845Z"
   },
   {
    "duration": 297,
    "start_time": "2023-10-26T15:06:15.137Z"
   },
   {
    "duration": 160,
    "start_time": "2023-10-26T15:06:15.436Z"
   },
   {
    "duration": 0,
    "start_time": "2023-10-26T15:06:15.599Z"
   },
   {
    "duration": 0,
    "start_time": "2023-10-26T15:06:15.600Z"
   },
   {
    "duration": 0,
    "start_time": "2023-10-26T15:06:15.601Z"
   },
   {
    "duration": 0,
    "start_time": "2023-10-26T15:06:15.602Z"
   },
   {
    "duration": 0,
    "start_time": "2023-10-26T15:06:15.604Z"
   },
   {
    "duration": 0,
    "start_time": "2023-10-26T15:06:15.605Z"
   },
   {
    "duration": 0,
    "start_time": "2023-10-26T15:06:15.606Z"
   },
   {
    "duration": 0,
    "start_time": "2023-10-26T15:06:15.607Z"
   },
   {
    "duration": 19,
    "start_time": "2023-10-26T15:06:37.371Z"
   },
   {
    "duration": 108,
    "start_time": "2023-10-26T15:08:30.554Z"
   },
   {
    "duration": 3,
    "start_time": "2023-10-26T15:08:43.395Z"
   },
   {
    "duration": 1128,
    "start_time": "2023-10-26T15:08:47.498Z"
   },
   {
    "duration": 226,
    "start_time": "2023-10-26T15:08:48.628Z"
   },
   {
    "duration": 34,
    "start_time": "2023-10-26T15:08:48.856Z"
   },
   {
    "duration": 33,
    "start_time": "2023-10-26T15:08:48.892Z"
   },
   {
    "duration": 30,
    "start_time": "2023-10-26T15:08:48.947Z"
   },
   {
    "duration": 6,
    "start_time": "2023-10-26T15:08:48.979Z"
   },
   {
    "duration": 29,
    "start_time": "2023-10-26T15:08:48.987Z"
   },
   {
    "duration": 33,
    "start_time": "2023-10-26T15:08:49.018Z"
   },
   {
    "duration": 57,
    "start_time": "2023-10-26T15:08:49.053Z"
   },
   {
    "duration": 10,
    "start_time": "2023-10-26T15:08:49.111Z"
   },
   {
    "duration": 32,
    "start_time": "2023-10-26T15:08:49.122Z"
   },
   {
    "duration": 18,
    "start_time": "2023-10-26T15:08:49.156Z"
   },
   {
    "duration": 255,
    "start_time": "2023-10-26T15:08:49.177Z"
   },
   {
    "duration": 197,
    "start_time": "2023-10-26T15:08:49.435Z"
   },
   {
    "duration": 348,
    "start_time": "2023-10-26T15:08:49.634Z"
   },
   {
    "duration": 13,
    "start_time": "2023-10-26T15:08:49.985Z"
   },
   {
    "duration": 330,
    "start_time": "2023-10-26T15:08:50.000Z"
   },
   {
    "duration": 7,
    "start_time": "2023-10-26T15:08:50.331Z"
   },
   {
    "duration": 262,
    "start_time": "2023-10-26T15:08:50.339Z"
   },
   {
    "duration": 21,
    "start_time": "2023-10-26T15:08:50.603Z"
   },
   {
    "duration": 24,
    "start_time": "2023-10-26T15:08:50.625Z"
   },
   {
    "duration": 294,
    "start_time": "2023-10-26T15:08:50.650Z"
   },
   {
    "duration": 313,
    "start_time": "2023-10-26T15:08:50.945Z"
   },
   {
    "duration": 277,
    "start_time": "2023-10-26T15:08:51.260Z"
   },
   {
    "duration": 256,
    "start_time": "2023-10-26T15:08:51.539Z"
   },
   {
    "duration": 128,
    "start_time": "2023-10-26T15:08:51.796Z"
   },
   {
    "duration": 0,
    "start_time": "2023-10-26T15:08:51.926Z"
   },
   {
    "duration": 0,
    "start_time": "2023-10-26T15:08:51.927Z"
   },
   {
    "duration": 0,
    "start_time": "2023-10-26T15:08:51.929Z"
   },
   {
    "duration": 0,
    "start_time": "2023-10-26T15:08:51.930Z"
   },
   {
    "duration": 0,
    "start_time": "2023-10-26T15:08:51.931Z"
   },
   {
    "duration": 0,
    "start_time": "2023-10-26T15:08:51.932Z"
   },
   {
    "duration": 0,
    "start_time": "2023-10-26T15:08:51.933Z"
   },
   {
    "duration": 0,
    "start_time": "2023-10-26T15:08:51.935Z"
   },
   {
    "duration": 1197,
    "start_time": "2023-10-26T15:09:23.730Z"
   },
   {
    "duration": 229,
    "start_time": "2023-10-26T15:09:24.929Z"
   },
   {
    "duration": 33,
    "start_time": "2023-10-26T15:09:25.160Z"
   },
   {
    "duration": 35,
    "start_time": "2023-10-26T15:09:25.195Z"
   },
   {
    "duration": 60,
    "start_time": "2023-10-26T15:09:25.233Z"
   },
   {
    "duration": 7,
    "start_time": "2023-10-26T15:09:25.295Z"
   },
   {
    "duration": 27,
    "start_time": "2023-10-26T15:09:25.304Z"
   },
   {
    "duration": 43,
    "start_time": "2023-10-26T15:09:25.336Z"
   },
   {
    "duration": 100,
    "start_time": "2023-10-26T15:09:25.381Z"
   },
   {
    "duration": 12,
    "start_time": "2023-10-26T15:09:25.483Z"
   },
   {
    "duration": 93,
    "start_time": "2023-10-26T15:09:25.496Z"
   },
   {
    "duration": 133,
    "start_time": "2023-10-26T15:09:25.590Z"
   },
   {
    "duration": 258,
    "start_time": "2023-10-26T15:09:25.725Z"
   },
   {
    "duration": 202,
    "start_time": "2023-10-26T15:09:25.986Z"
   },
   {
    "duration": 342,
    "start_time": "2023-10-26T15:09:26.190Z"
   },
   {
    "duration": 20,
    "start_time": "2023-10-26T15:09:26.534Z"
   },
   {
    "duration": 294,
    "start_time": "2023-10-26T15:09:26.556Z"
   },
   {
    "duration": 6,
    "start_time": "2023-10-26T15:09:26.852Z"
   },
   {
    "duration": 256,
    "start_time": "2023-10-26T15:09:26.860Z"
   },
   {
    "duration": 21,
    "start_time": "2023-10-26T15:09:27.117Z"
   },
   {
    "duration": 9,
    "start_time": "2023-10-26T15:09:27.147Z"
   },
   {
    "duration": 285,
    "start_time": "2023-10-26T15:09:27.157Z"
   },
   {
    "duration": 305,
    "start_time": "2023-10-26T15:09:27.444Z"
   },
   {
    "duration": 280,
    "start_time": "2023-10-26T15:09:27.751Z"
   },
   {
    "duration": 266,
    "start_time": "2023-10-26T15:09:28.032Z"
   },
   {
    "duration": 31,
    "start_time": "2023-10-26T15:09:28.299Z"
   },
   {
    "duration": 15,
    "start_time": "2023-10-26T15:09:28.332Z"
   },
   {
    "duration": 11,
    "start_time": "2023-10-26T15:09:28.349Z"
   },
   {
    "duration": 10,
    "start_time": "2023-10-26T15:09:28.361Z"
   },
   {
    "duration": 8,
    "start_time": "2023-10-26T15:09:28.372Z"
   },
   {
    "duration": 9,
    "start_time": "2023-10-26T15:09:28.381Z"
   },
   {
    "duration": 2533,
    "start_time": "2023-10-26T15:09:28.392Z"
   },
   {
    "duration": 0,
    "start_time": "2023-10-26T15:09:30.927Z"
   },
   {
    "duration": 0,
    "start_time": "2023-10-26T15:09:30.928Z"
   },
   {
    "duration": 15,
    "start_time": "2023-10-26T15:09:53.579Z"
   },
   {
    "duration": 28,
    "start_time": "2023-10-26T15:10:53.631Z"
   },
   {
    "duration": 20,
    "start_time": "2023-10-26T15:10:54.506Z"
   },
   {
    "duration": 33,
    "start_time": "2023-10-26T15:12:50.186Z"
   },
   {
    "duration": 17,
    "start_time": "2023-10-26T15:12:52.234Z"
   },
   {
    "duration": 21,
    "start_time": "2023-10-26T15:18:28.512Z"
   },
   {
    "duration": 24,
    "start_time": "2023-10-26T15:20:36.466Z"
   },
   {
    "duration": 26,
    "start_time": "2023-10-26T15:20:44.831Z"
   },
   {
    "duration": 32,
    "start_time": "2023-10-26T15:22:25.191Z"
   },
   {
    "duration": 15,
    "start_time": "2023-10-26T15:22:47.743Z"
   },
   {
    "duration": 1180,
    "start_time": "2023-10-26T15:24:37.757Z"
   },
   {
    "duration": 238,
    "start_time": "2023-10-26T15:24:38.939Z"
   },
   {
    "duration": 33,
    "start_time": "2023-10-26T15:24:39.179Z"
   },
   {
    "duration": 44,
    "start_time": "2023-10-26T15:24:39.214Z"
   },
   {
    "duration": 28,
    "start_time": "2023-10-26T15:24:39.260Z"
   },
   {
    "duration": 5,
    "start_time": "2023-10-26T15:24:39.290Z"
   },
   {
    "duration": 20,
    "start_time": "2023-10-26T15:24:39.297Z"
   },
   {
    "duration": 27,
    "start_time": "2023-10-26T15:24:39.319Z"
   },
   {
    "duration": 65,
    "start_time": "2023-10-26T15:24:39.348Z"
   },
   {
    "duration": 8,
    "start_time": "2023-10-26T15:24:39.415Z"
   },
   {
    "duration": 28,
    "start_time": "2023-10-26T15:24:39.424Z"
   },
   {
    "duration": 12,
    "start_time": "2023-10-26T15:24:39.453Z"
   },
   {
    "duration": 260,
    "start_time": "2023-10-26T15:24:39.466Z"
   },
   {
    "duration": 181,
    "start_time": "2023-10-26T15:24:39.729Z"
   },
   {
    "duration": 325,
    "start_time": "2023-10-26T15:24:39.912Z"
   },
   {
    "duration": 17,
    "start_time": "2023-10-26T15:24:40.239Z"
   },
   {
    "duration": 322,
    "start_time": "2023-10-26T15:24:40.257Z"
   },
   {
    "duration": 5,
    "start_time": "2023-10-26T15:24:40.581Z"
   },
   {
    "duration": 244,
    "start_time": "2023-10-26T15:24:40.588Z"
   },
   {
    "duration": 27,
    "start_time": "2023-10-26T15:24:40.833Z"
   },
   {
    "duration": 28,
    "start_time": "2023-10-26T15:24:40.862Z"
   },
   {
    "duration": 272,
    "start_time": "2023-10-26T15:24:40.892Z"
   },
   {
    "duration": 307,
    "start_time": "2023-10-26T15:24:41.165Z"
   },
   {
    "duration": 272,
    "start_time": "2023-10-26T15:24:41.474Z"
   },
   {
    "duration": 242,
    "start_time": "2023-10-26T15:24:41.748Z"
   },
   {
    "duration": 30,
    "start_time": "2023-10-26T15:24:41.992Z"
   },
   {
    "duration": 30,
    "start_time": "2023-10-26T15:24:42.024Z"
   },
   {
    "duration": 14,
    "start_time": "2023-10-26T15:24:42.055Z"
   },
   {
    "duration": 11,
    "start_time": "2023-10-26T15:24:42.071Z"
   },
   {
    "duration": 4,
    "start_time": "2023-10-26T15:24:42.084Z"
   },
   {
    "duration": 9,
    "start_time": "2023-10-26T15:24:42.091Z"
   },
   {
    "duration": 1353,
    "start_time": "2023-10-26T15:24:42.102Z"
   },
   {
    "duration": 0,
    "start_time": "2023-10-26T15:24:43.458Z"
   },
   {
    "duration": 0,
    "start_time": "2023-10-26T15:24:43.459Z"
   },
   {
    "duration": 21,
    "start_time": "2023-10-26T15:26:26.550Z"
   },
   {
    "duration": 33,
    "start_time": "2023-10-26T15:26:29.428Z"
   },
   {
    "duration": 50,
    "start_time": "2023-10-26T15:27:51.173Z"
   },
   {
    "duration": 67,
    "start_time": "2023-10-26T15:28:03.341Z"
   },
   {
    "duration": 15,
    "start_time": "2023-10-26T15:30:12.157Z"
   },
   {
    "duration": 13,
    "start_time": "2023-10-26T15:30:29.388Z"
   },
   {
    "duration": 17,
    "start_time": "2023-10-26T15:30:47.532Z"
   },
   {
    "duration": 11,
    "start_time": "2023-10-26T15:34:10.765Z"
   },
   {
    "duration": 11,
    "start_time": "2023-10-26T15:34:21.115Z"
   },
   {
    "duration": 6,
    "start_time": "2023-10-26T15:34:23.716Z"
   },
   {
    "duration": 26,
    "start_time": "2023-10-26T15:36:39.100Z"
   },
   {
    "duration": 1206,
    "start_time": "2023-10-26T15:37:14.174Z"
   },
   {
    "duration": 278,
    "start_time": "2023-10-26T15:37:15.383Z"
   },
   {
    "duration": 36,
    "start_time": "2023-10-26T15:37:15.662Z"
   },
   {
    "duration": 33,
    "start_time": "2023-10-26T15:37:15.699Z"
   },
   {
    "duration": 35,
    "start_time": "2023-10-26T15:37:15.748Z"
   },
   {
    "duration": 7,
    "start_time": "2023-10-26T15:37:15.785Z"
   },
   {
    "duration": 12,
    "start_time": "2023-10-26T15:37:15.794Z"
   },
   {
    "duration": 24,
    "start_time": "2023-10-26T15:37:15.809Z"
   },
   {
    "duration": 80,
    "start_time": "2023-10-26T15:37:15.835Z"
   },
   {
    "duration": 9,
    "start_time": "2023-10-26T15:37:15.917Z"
   },
   {
    "duration": 13,
    "start_time": "2023-10-26T15:37:15.947Z"
   },
   {
    "duration": 25,
    "start_time": "2023-10-26T15:37:15.961Z"
   },
   {
    "duration": 277,
    "start_time": "2023-10-26T15:37:15.988Z"
   },
   {
    "duration": 197,
    "start_time": "2023-10-26T15:37:16.268Z"
   },
   {
    "duration": 334,
    "start_time": "2023-10-26T15:37:16.466Z"
   },
   {
    "duration": 14,
    "start_time": "2023-10-26T15:37:16.802Z"
   },
   {
    "duration": 287,
    "start_time": "2023-10-26T15:37:16.818Z"
   },
   {
    "duration": 7,
    "start_time": "2023-10-26T15:37:17.107Z"
   },
   {
    "duration": 263,
    "start_time": "2023-10-26T15:37:17.115Z"
   },
   {
    "duration": 21,
    "start_time": "2023-10-26T15:37:17.380Z"
   },
   {
    "duration": 9,
    "start_time": "2023-10-26T15:37:17.403Z"
   },
   {
    "duration": 288,
    "start_time": "2023-10-26T15:37:17.414Z"
   },
   {
    "duration": 337,
    "start_time": "2023-10-26T15:37:17.704Z"
   },
   {
    "duration": 296,
    "start_time": "2023-10-26T15:37:18.043Z"
   },
   {
    "duration": 252,
    "start_time": "2023-10-26T15:37:18.347Z"
   },
   {
    "duration": 32,
    "start_time": "2023-10-26T15:37:18.601Z"
   },
   {
    "duration": 37,
    "start_time": "2023-10-26T15:37:18.634Z"
   },
   {
    "duration": 5,
    "start_time": "2023-10-26T15:37:18.673Z"
   },
   {
    "duration": 8,
    "start_time": "2023-10-26T15:37:18.679Z"
   },
   {
    "duration": 8,
    "start_time": "2023-10-26T15:37:18.689Z"
   },
   {
    "duration": 6,
    "start_time": "2023-10-26T15:37:18.698Z"
   },
   {
    "duration": 2005,
    "start_time": "2023-10-26T15:37:18.706Z"
   },
   {
    "duration": 0,
    "start_time": "2023-10-26T15:37:20.713Z"
   },
   {
    "duration": 0,
    "start_time": "2023-10-26T15:37:20.714Z"
   },
   {
    "duration": 8,
    "start_time": "2023-10-26T15:37:30.075Z"
   },
   {
    "duration": 15,
    "start_time": "2023-10-26T15:37:43.051Z"
   },
   {
    "duration": 15,
    "start_time": "2023-10-26T15:37:48.212Z"
   },
   {
    "duration": 36,
    "start_time": "2023-10-26T15:38:14.268Z"
   },
   {
    "duration": 31,
    "start_time": "2023-10-26T15:38:33.813Z"
   },
   {
    "duration": 31,
    "start_time": "2023-10-26T15:39:33.307Z"
   },
   {
    "duration": 33,
    "start_time": "2023-10-26T15:41:42.939Z"
   },
   {
    "duration": 28,
    "start_time": "2023-10-26T15:41:56.348Z"
   },
   {
    "duration": 30,
    "start_time": "2023-10-26T15:42:16.379Z"
   },
   {
    "duration": 28,
    "start_time": "2023-10-26T15:42:46.107Z"
   },
   {
    "duration": 31,
    "start_time": "2023-10-26T15:43:07.995Z"
   },
   {
    "duration": 27,
    "start_time": "2023-10-26T15:43:15.387Z"
   },
   {
    "duration": 24,
    "start_time": "2023-10-26T15:43:43.067Z"
   },
   {
    "duration": 22,
    "start_time": "2023-10-26T15:44:03.483Z"
   },
   {
    "duration": 33,
    "start_time": "2023-10-26T15:44:07.738Z"
   },
   {
    "duration": 25,
    "start_time": "2023-10-26T15:44:51.667Z"
   },
   {
    "duration": 36,
    "start_time": "2023-10-26T15:44:54.826Z"
   },
   {
    "duration": 29,
    "start_time": "2023-10-26T15:46:06.879Z"
   },
   {
    "duration": 1561,
    "start_time": "2023-10-26T15:46:39.868Z"
   },
   {
    "duration": 28,
    "start_time": "2023-10-26T15:46:43.891Z"
   },
   {
    "duration": 6,
    "start_time": "2023-10-26T15:47:32.035Z"
   },
   {
    "duration": 15,
    "start_time": "2023-10-26T15:47:43.930Z"
   },
   {
    "duration": 6,
    "start_time": "2023-10-26T15:49:01.490Z"
   },
   {
    "duration": 15,
    "start_time": "2023-10-26T15:49:19.322Z"
   },
   {
    "duration": 17,
    "start_time": "2023-10-26T15:50:06.314Z"
   },
   {
    "duration": 14,
    "start_time": "2023-10-26T15:50:11.027Z"
   },
   {
    "duration": 25,
    "start_time": "2023-10-26T15:50:15.249Z"
   },
   {
    "duration": 22,
    "start_time": "2023-10-26T15:50:21.291Z"
   },
   {
    "duration": 15,
    "start_time": "2023-10-26T15:50:45.003Z"
   },
   {
    "duration": 7,
    "start_time": "2023-10-26T15:51:00.290Z"
   },
   {
    "duration": 16,
    "start_time": "2023-10-26T15:51:06.450Z"
   },
   {
    "duration": 6,
    "start_time": "2023-10-26T15:51:27.027Z"
   },
   {
    "duration": 15,
    "start_time": "2023-10-26T15:51:43.297Z"
   },
   {
    "duration": 6,
    "start_time": "2023-10-26T15:52:56.714Z"
   },
   {
    "duration": 11,
    "start_time": "2023-10-26T15:53:00.297Z"
   },
   {
    "duration": 16,
    "start_time": "2023-10-26T15:53:49.860Z"
   },
   {
    "duration": 26,
    "start_time": "2023-10-26T15:54:55.409Z"
   },
   {
    "duration": 43,
    "start_time": "2023-10-26T15:55:42.344Z"
   },
   {
    "duration": 26,
    "start_time": "2023-10-26T15:56:00.673Z"
   },
   {
    "duration": 130,
    "start_time": "2023-10-26T15:56:49.113Z"
   },
   {
    "duration": 156,
    "start_time": "2023-10-26T15:57:24.841Z"
   },
   {
    "duration": 118,
    "start_time": "2023-10-26T15:57:35.864Z"
   },
   {
    "duration": 37,
    "start_time": "2023-10-26T15:57:39.529Z"
   },
   {
    "duration": 49,
    "start_time": "2023-10-26T15:57:42.999Z"
   },
   {
    "duration": 60,
    "start_time": "2023-10-26T15:58:26.616Z"
   },
   {
    "duration": 4,
    "start_time": "2023-10-26T15:59:20.104Z"
   },
   {
    "duration": 31,
    "start_time": "2023-10-26T16:01:10.208Z"
   },
   {
    "duration": 1132,
    "start_time": "2023-10-26T16:01:17.304Z"
   },
   {
    "duration": 230,
    "start_time": "2023-10-26T16:01:18.438Z"
   },
   {
    "duration": 37,
    "start_time": "2023-10-26T16:01:18.670Z"
   },
   {
    "duration": 41,
    "start_time": "2023-10-26T16:01:18.709Z"
   },
   {
    "duration": 29,
    "start_time": "2023-10-26T16:01:18.752Z"
   },
   {
    "duration": 10,
    "start_time": "2023-10-26T16:01:18.782Z"
   },
   {
    "duration": 17,
    "start_time": "2023-10-26T16:01:18.794Z"
   },
   {
    "duration": 15,
    "start_time": "2023-10-26T16:01:18.813Z"
   },
   {
    "duration": 67,
    "start_time": "2023-10-26T16:01:18.830Z"
   },
   {
    "duration": 8,
    "start_time": "2023-10-26T16:01:18.899Z"
   },
   {
    "duration": 11,
    "start_time": "2023-10-26T16:01:18.909Z"
   },
   {
    "duration": 29,
    "start_time": "2023-10-26T16:01:18.922Z"
   },
   {
    "duration": 265,
    "start_time": "2023-10-26T16:01:18.952Z"
   },
   {
    "duration": 192,
    "start_time": "2023-10-26T16:01:19.220Z"
   },
   {
    "duration": 332,
    "start_time": "2023-10-26T16:01:19.413Z"
   },
   {
    "duration": 12,
    "start_time": "2023-10-26T16:01:19.747Z"
   },
   {
    "duration": 289,
    "start_time": "2023-10-26T16:01:19.760Z"
   },
   {
    "duration": 7,
    "start_time": "2023-10-26T16:01:20.051Z"
   },
   {
    "duration": 265,
    "start_time": "2023-10-26T16:01:20.060Z"
   },
   {
    "duration": 34,
    "start_time": "2023-10-26T16:01:20.327Z"
   },
   {
    "duration": 64,
    "start_time": "2023-10-26T16:01:20.363Z"
   },
   {
    "duration": 315,
    "start_time": "2023-10-26T16:01:20.430Z"
   },
   {
    "duration": 322,
    "start_time": "2023-10-26T16:01:20.748Z"
   },
   {
    "duration": 290,
    "start_time": "2023-10-26T16:01:21.071Z"
   },
   {
    "duration": 249,
    "start_time": "2023-10-26T16:01:21.363Z"
   },
   {
    "duration": 43,
    "start_time": "2023-10-26T16:01:21.614Z"
   },
   {
    "duration": 31,
    "start_time": "2023-10-26T16:01:21.659Z"
   },
   {
    "duration": 5,
    "start_time": "2023-10-26T16:01:21.692Z"
   },
   {
    "duration": 14,
    "start_time": "2023-10-26T16:01:21.699Z"
   },
   {
    "duration": 7,
    "start_time": "2023-10-26T16:01:21.716Z"
   },
   {
    "duration": 6,
    "start_time": "2023-10-26T16:01:21.747Z"
   },
   {
    "duration": 11,
    "start_time": "2023-10-26T16:01:21.754Z"
   },
   {
    "duration": 15,
    "start_time": "2023-10-26T16:01:21.767Z"
   },
   {
    "duration": 8,
    "start_time": "2023-10-26T16:01:21.784Z"
   },
   {
    "duration": 30,
    "start_time": "2023-10-26T16:05:25.432Z"
   },
   {
    "duration": 36,
    "start_time": "2023-10-26T16:05:41.680Z"
   },
   {
    "duration": 1179,
    "start_time": "2023-10-26T16:05:48.971Z"
   },
   {
    "duration": 242,
    "start_time": "2023-10-26T16:05:50.152Z"
   },
   {
    "duration": 37,
    "start_time": "2023-10-26T16:05:50.399Z"
   },
   {
    "duration": 35,
    "start_time": "2023-10-26T16:05:50.437Z"
   },
   {
    "duration": 49,
    "start_time": "2023-10-26T16:05:50.475Z"
   },
   {
    "duration": 6,
    "start_time": "2023-10-26T16:05:50.526Z"
   },
   {
    "duration": 19,
    "start_time": "2023-10-26T16:05:50.534Z"
   },
   {
    "duration": 32,
    "start_time": "2023-10-26T16:05:50.554Z"
   },
   {
    "duration": 70,
    "start_time": "2023-10-26T16:05:50.588Z"
   },
   {
    "duration": 8,
    "start_time": "2023-10-26T16:05:50.660Z"
   },
   {
    "duration": 15,
    "start_time": "2023-10-26T16:05:50.670Z"
   },
   {
    "duration": 22,
    "start_time": "2023-10-26T16:05:50.687Z"
   },
   {
    "duration": 266,
    "start_time": "2023-10-26T16:05:50.711Z"
   },
   {
    "duration": 195,
    "start_time": "2023-10-26T16:05:50.981Z"
   },
   {
    "duration": 341,
    "start_time": "2023-10-26T16:05:51.178Z"
   },
   {
    "duration": 13,
    "start_time": "2023-10-26T16:05:51.520Z"
   },
   {
    "duration": 282,
    "start_time": "2023-10-26T16:05:51.534Z"
   },
   {
    "duration": 6,
    "start_time": "2023-10-26T16:05:51.818Z"
   },
   {
    "duration": 242,
    "start_time": "2023-10-26T16:05:51.825Z"
   },
   {
    "duration": 20,
    "start_time": "2023-10-26T16:05:52.069Z"
   },
   {
    "duration": 11,
    "start_time": "2023-10-26T16:05:52.091Z"
   },
   {
    "duration": 284,
    "start_time": "2023-10-26T16:05:52.103Z"
   },
   {
    "duration": 320,
    "start_time": "2023-10-26T16:05:52.389Z"
   },
   {
    "duration": 284,
    "start_time": "2023-10-26T16:05:52.711Z"
   },
   {
    "duration": 251,
    "start_time": "2023-10-26T16:05:52.997Z"
   },
   {
    "duration": 31,
    "start_time": "2023-10-26T16:05:53.250Z"
   },
   {
    "duration": 29,
    "start_time": "2023-10-26T16:05:53.282Z"
   },
   {
    "duration": 5,
    "start_time": "2023-10-26T16:05:53.312Z"
   },
   {
    "duration": 32,
    "start_time": "2023-10-26T16:05:53.318Z"
   },
   {
    "duration": 20,
    "start_time": "2023-10-26T16:05:53.351Z"
   },
   {
    "duration": 31,
    "start_time": "2023-10-26T16:05:53.373Z"
   },
   {
    "duration": 21,
    "start_time": "2023-10-26T16:05:53.406Z"
   },
   {
    "duration": 15,
    "start_time": "2023-10-26T16:05:53.428Z"
   },
   {
    "duration": 6,
    "start_time": "2023-10-26T16:05:53.445Z"
   },
   {
    "duration": 22,
    "start_time": "2023-10-26T16:14:51.963Z"
   },
   {
    "duration": 4,
    "start_time": "2023-10-26T16:15:59.578Z"
   },
   {
    "duration": 4,
    "start_time": "2023-10-26T16:16:01.218Z"
   },
   {
    "duration": 18,
    "start_time": "2023-10-26T16:16:05.978Z"
   },
   {
    "duration": 1217,
    "start_time": "2023-10-26T16:18:18.620Z"
   },
   {
    "duration": 230,
    "start_time": "2023-10-26T16:18:19.839Z"
   },
   {
    "duration": 39,
    "start_time": "2023-10-26T16:18:20.071Z"
   },
   {
    "duration": 44,
    "start_time": "2023-10-26T16:18:20.112Z"
   },
   {
    "duration": 46,
    "start_time": "2023-10-26T16:18:20.158Z"
   },
   {
    "duration": 203,
    "start_time": "2023-10-26T16:18:20.206Z"
   },
   {
    "duration": 9,
    "start_time": "2023-10-26T16:18:20.410Z"
   },
   {
    "duration": 15,
    "start_time": "2023-10-26T16:18:20.421Z"
   },
   {
    "duration": 95,
    "start_time": "2023-10-26T16:18:20.438Z"
   },
   {
    "duration": 8,
    "start_time": "2023-10-26T16:18:20.536Z"
   },
   {
    "duration": 10,
    "start_time": "2023-10-26T16:18:20.545Z"
   },
   {
    "duration": 12,
    "start_time": "2023-10-26T16:18:20.557Z"
   },
   {
    "duration": 263,
    "start_time": "2023-10-26T16:18:20.571Z"
   },
   {
    "duration": 190,
    "start_time": "2023-10-26T16:18:20.835Z"
   },
   {
    "duration": 335,
    "start_time": "2023-10-26T16:18:21.027Z"
   },
   {
    "duration": 13,
    "start_time": "2023-10-26T16:18:21.364Z"
   },
   {
    "duration": 279,
    "start_time": "2023-10-26T16:18:21.379Z"
   },
   {
    "duration": 6,
    "start_time": "2023-10-26T16:18:21.660Z"
   },
   {
    "duration": 238,
    "start_time": "2023-10-26T16:18:21.667Z"
   },
   {
    "duration": 22,
    "start_time": "2023-10-26T16:18:21.907Z"
   },
   {
    "duration": 201,
    "start_time": "2023-10-26T16:18:21.931Z"
   },
   {
    "duration": 270,
    "start_time": "2023-10-26T16:18:22.134Z"
   },
   {
    "duration": 311,
    "start_time": "2023-10-26T16:18:22.405Z"
   },
   {
    "duration": 268,
    "start_time": "2023-10-26T16:18:22.718Z"
   },
   {
    "duration": 247,
    "start_time": "2023-10-26T16:18:22.988Z"
   },
   {
    "duration": 38,
    "start_time": "2023-10-26T16:18:23.237Z"
   },
   {
    "duration": 15,
    "start_time": "2023-10-26T16:18:23.277Z"
   },
   {
    "duration": 5,
    "start_time": "2023-10-26T16:18:23.295Z"
   },
   {
    "duration": 10,
    "start_time": "2023-10-26T16:18:23.301Z"
   },
   {
    "duration": 35,
    "start_time": "2023-10-26T16:18:23.313Z"
   },
   {
    "duration": 15,
    "start_time": "2023-10-26T16:18:23.350Z"
   },
   {
    "duration": 1522,
    "start_time": "2023-10-26T16:18:23.367Z"
   },
   {
    "duration": 0,
    "start_time": "2023-10-26T16:18:24.891Z"
   },
   {
    "duration": 0,
    "start_time": "2023-10-26T16:18:24.892Z"
   },
   {
    "duration": 6,
    "start_time": "2023-10-26T16:24:51.520Z"
   },
   {
    "duration": 18,
    "start_time": "2023-10-26T16:24:54.496Z"
   },
   {
    "duration": 18,
    "start_time": "2023-10-26T16:25:51.568Z"
   },
   {
    "duration": 9,
    "start_time": "2023-10-26T16:26:33.287Z"
   },
   {
    "duration": 19,
    "start_time": "2023-10-26T16:26:36.256Z"
   },
   {
    "duration": 8,
    "start_time": "2023-10-26T16:27:46.879Z"
   },
   {
    "duration": 25,
    "start_time": "2023-10-26T16:27:51.494Z"
   },
   {
    "duration": 10,
    "start_time": "2023-10-26T16:28:25.102Z"
   },
   {
    "duration": 21,
    "start_time": "2023-10-26T16:28:26.734Z"
   },
   {
    "duration": 13,
    "start_time": "2023-10-26T16:29:16.270Z"
   },
   {
    "duration": 26,
    "start_time": "2023-10-26T16:29:21.174Z"
   },
   {
    "duration": 17,
    "start_time": "2023-10-26T16:30:44.891Z"
   },
   {
    "duration": 16,
    "start_time": "2023-10-26T16:30:51.104Z"
   },
   {
    "duration": 231,
    "start_time": "2023-10-26T16:30:56.351Z"
   },
   {
    "duration": 224,
    "start_time": "2023-10-26T16:30:59.750Z"
   },
   {
    "duration": 1143,
    "start_time": "2023-10-26T16:31:13.683Z"
   },
   {
    "duration": 230,
    "start_time": "2023-10-26T16:31:14.828Z"
   },
   {
    "duration": 35,
    "start_time": "2023-10-26T16:31:15.059Z"
   },
   {
    "duration": 34,
    "start_time": "2023-10-26T16:31:15.096Z"
   },
   {
    "duration": 39,
    "start_time": "2023-10-26T16:31:15.131Z"
   },
   {
    "duration": 6,
    "start_time": "2023-10-26T16:31:15.171Z"
   },
   {
    "duration": 20,
    "start_time": "2023-10-26T16:31:15.179Z"
   },
   {
    "duration": 13,
    "start_time": "2023-10-26T16:31:15.201Z"
   },
   {
    "duration": 78,
    "start_time": "2023-10-26T16:31:15.216Z"
   },
   {
    "duration": 11,
    "start_time": "2023-10-26T16:31:15.297Z"
   },
   {
    "duration": 20,
    "start_time": "2023-10-26T16:31:15.312Z"
   },
   {
    "duration": 28,
    "start_time": "2023-10-26T16:31:15.333Z"
   },
   {
    "duration": 278,
    "start_time": "2023-10-26T16:31:15.362Z"
   },
   {
    "duration": 181,
    "start_time": "2023-10-26T16:31:15.647Z"
   },
   {
    "duration": 367,
    "start_time": "2023-10-26T16:31:15.830Z"
   },
   {
    "duration": 12,
    "start_time": "2023-10-26T16:31:16.199Z"
   },
   {
    "duration": 295,
    "start_time": "2023-10-26T16:31:16.214Z"
   },
   {
    "duration": 6,
    "start_time": "2023-10-26T16:31:16.511Z"
   },
   {
    "duration": 255,
    "start_time": "2023-10-26T16:31:16.519Z"
   },
   {
    "duration": 22,
    "start_time": "2023-10-26T16:31:16.775Z"
   },
   {
    "duration": 8,
    "start_time": "2023-10-26T16:31:16.799Z"
   },
   {
    "duration": 305,
    "start_time": "2023-10-26T16:31:16.809Z"
   },
   {
    "duration": 313,
    "start_time": "2023-10-26T16:31:17.115Z"
   },
   {
    "duration": 282,
    "start_time": "2023-10-26T16:31:17.430Z"
   },
   {
    "duration": 261,
    "start_time": "2023-10-26T16:31:17.713Z"
   },
   {
    "duration": 34,
    "start_time": "2023-10-26T16:31:17.976Z"
   },
   {
    "duration": 253,
    "start_time": "2023-10-26T16:31:18.012Z"
   },
   {
    "duration": 5,
    "start_time": "2023-10-26T16:31:18.268Z"
   },
   {
    "duration": 8,
    "start_time": "2023-10-26T16:31:18.276Z"
   },
   {
    "duration": 15,
    "start_time": "2023-10-26T16:31:18.286Z"
   },
   {
    "duration": 14,
    "start_time": "2023-10-26T16:31:18.303Z"
   },
   {
    "duration": 18,
    "start_time": "2023-10-26T16:31:18.318Z"
   },
   {
    "duration": 21,
    "start_time": "2023-10-26T16:31:18.338Z"
   },
   {
    "duration": 4,
    "start_time": "2023-10-26T16:31:18.361Z"
   },
   {
    "duration": 229,
    "start_time": "2023-10-26T16:31:37.102Z"
   },
   {
    "duration": 1131,
    "start_time": "2023-10-26T16:34:39.302Z"
   },
   {
    "duration": 228,
    "start_time": "2023-10-26T16:34:40.435Z"
   },
   {
    "duration": 35,
    "start_time": "2023-10-26T16:34:40.664Z"
   },
   {
    "duration": 33,
    "start_time": "2023-10-26T16:34:40.701Z"
   },
   {
    "duration": 27,
    "start_time": "2023-10-26T16:34:40.748Z"
   },
   {
    "duration": 5,
    "start_time": "2023-10-26T16:34:40.777Z"
   },
   {
    "duration": 26,
    "start_time": "2023-10-26T16:34:40.783Z"
   },
   {
    "duration": 12,
    "start_time": "2023-10-26T16:34:40.810Z"
   },
   {
    "duration": 53,
    "start_time": "2023-10-26T16:34:40.824Z"
   },
   {
    "duration": 9,
    "start_time": "2023-10-26T16:34:40.879Z"
   },
   {
    "duration": 22,
    "start_time": "2023-10-26T16:34:40.889Z"
   },
   {
    "duration": 14,
    "start_time": "2023-10-26T16:34:40.912Z"
   },
   {
    "duration": 260,
    "start_time": "2023-10-26T16:34:40.927Z"
   },
   {
    "duration": 188,
    "start_time": "2023-10-26T16:34:41.191Z"
   },
   {
    "duration": 324,
    "start_time": "2023-10-26T16:34:41.381Z"
   },
   {
    "duration": 14,
    "start_time": "2023-10-26T16:34:41.707Z"
   },
   {
    "duration": 279,
    "start_time": "2023-10-26T16:34:41.723Z"
   },
   {
    "duration": 6,
    "start_time": "2023-10-26T16:34:42.004Z"
   },
   {
    "duration": 253,
    "start_time": "2023-10-26T16:34:42.012Z"
   },
   {
    "duration": 21,
    "start_time": "2023-10-26T16:34:42.267Z"
   },
   {
    "duration": 9,
    "start_time": "2023-10-26T16:34:42.290Z"
   },
   {
    "duration": 287,
    "start_time": "2023-10-26T16:34:42.300Z"
   },
   {
    "duration": 310,
    "start_time": "2023-10-26T16:34:42.588Z"
   },
   {
    "duration": 278,
    "start_time": "2023-10-26T16:34:42.900Z"
   },
   {
    "duration": 254,
    "start_time": "2023-10-26T16:34:43.180Z"
   },
   {
    "duration": 35,
    "start_time": "2023-10-26T16:34:43.436Z"
   },
   {
    "duration": 232,
    "start_time": "2023-10-26T16:34:43.473Z"
   },
   {
    "duration": 5,
    "start_time": "2023-10-26T16:34:43.706Z"
   },
   {
    "duration": 48,
    "start_time": "2023-10-26T16:34:43.713Z"
   },
   {
    "duration": 42,
    "start_time": "2023-10-26T16:34:43.763Z"
   },
   {
    "duration": 44,
    "start_time": "2023-10-26T16:34:43.807Z"
   },
   {
    "duration": 34,
    "start_time": "2023-10-26T16:34:43.853Z"
   },
   {
    "duration": 67,
    "start_time": "2023-10-26T16:34:43.889Z"
   },
   {
    "duration": 47,
    "start_time": "2023-10-26T16:34:43.958Z"
   },
   {
    "duration": 1217,
    "start_time": "2023-10-26T16:35:05.619Z"
   },
   {
    "duration": 227,
    "start_time": "2023-10-26T16:35:06.839Z"
   },
   {
    "duration": 35,
    "start_time": "2023-10-26T16:35:07.067Z"
   },
   {
    "duration": 43,
    "start_time": "2023-10-26T16:35:07.104Z"
   },
   {
    "duration": 29,
    "start_time": "2023-10-26T16:35:07.150Z"
   },
   {
    "duration": 5,
    "start_time": "2023-10-26T16:35:07.181Z"
   },
   {
    "duration": 21,
    "start_time": "2023-10-26T16:35:07.187Z"
   },
   {
    "duration": 27,
    "start_time": "2023-10-26T16:35:07.209Z"
   },
   {
    "duration": 57,
    "start_time": "2023-10-26T16:35:07.238Z"
   },
   {
    "duration": 8,
    "start_time": "2023-10-26T16:35:07.297Z"
   },
   {
    "duration": 15,
    "start_time": "2023-10-26T16:35:07.307Z"
   },
   {
    "duration": 41,
    "start_time": "2023-10-26T16:35:07.323Z"
   },
   {
    "duration": 253,
    "start_time": "2023-10-26T16:35:07.367Z"
   },
   {
    "duration": 194,
    "start_time": "2023-10-26T16:35:07.623Z"
   },
   {
    "duration": 335,
    "start_time": "2023-10-26T16:35:07.818Z"
   },
   {
    "duration": 12,
    "start_time": "2023-10-26T16:35:08.155Z"
   },
   {
    "duration": 286,
    "start_time": "2023-10-26T16:35:08.168Z"
   },
   {
    "duration": 6,
    "start_time": "2023-10-26T16:35:08.456Z"
   },
   {
    "duration": 251,
    "start_time": "2023-10-26T16:35:08.463Z"
   },
   {
    "duration": 31,
    "start_time": "2023-10-26T16:35:08.716Z"
   },
   {
    "duration": 9,
    "start_time": "2023-10-26T16:35:08.749Z"
   },
   {
    "duration": 288,
    "start_time": "2023-10-26T16:35:08.760Z"
   },
   {
    "duration": 324,
    "start_time": "2023-10-26T16:35:09.050Z"
   },
   {
    "duration": 284,
    "start_time": "2023-10-26T16:35:09.376Z"
   },
   {
    "duration": 265,
    "start_time": "2023-10-26T16:35:09.662Z"
   },
   {
    "duration": 34,
    "start_time": "2023-10-26T16:35:09.928Z"
   },
   {
    "duration": 286,
    "start_time": "2023-10-26T16:35:09.964Z"
   },
   {
    "duration": 5,
    "start_time": "2023-10-26T16:35:10.252Z"
   },
   {
    "duration": 44,
    "start_time": "2023-10-26T16:35:10.258Z"
   },
   {
    "duration": 29,
    "start_time": "2023-10-26T16:35:10.304Z"
   },
   {
    "duration": 38,
    "start_time": "2023-10-26T16:35:10.335Z"
   },
   {
    "duration": 17,
    "start_time": "2023-10-26T16:35:10.375Z"
   },
   {
    "duration": 30,
    "start_time": "2023-10-26T16:35:10.395Z"
   },
   {
    "duration": 36,
    "start_time": "2023-10-26T16:35:10.427Z"
   },
   {
    "duration": 10,
    "start_time": "2023-10-26T16:35:55.693Z"
   },
   {
    "duration": 6,
    "start_time": "2023-10-26T16:47:43.462Z"
   },
   {
    "duration": 1155,
    "start_time": "2023-10-26T16:47:47.077Z"
   },
   {
    "duration": 237,
    "start_time": "2023-10-26T16:47:48.234Z"
   },
   {
    "duration": 34,
    "start_time": "2023-10-26T16:47:48.474Z"
   },
   {
    "duration": 39,
    "start_time": "2023-10-26T16:47:48.510Z"
   },
   {
    "duration": 28,
    "start_time": "2023-10-26T16:47:48.551Z"
   },
   {
    "duration": 5,
    "start_time": "2023-10-26T16:47:48.580Z"
   },
   {
    "duration": 8,
    "start_time": "2023-10-26T16:47:48.587Z"
   },
   {
    "duration": 24,
    "start_time": "2023-10-26T16:47:48.596Z"
   },
   {
    "duration": 72,
    "start_time": "2023-10-26T16:47:48.622Z"
   },
   {
    "duration": 8,
    "start_time": "2023-10-26T16:47:48.697Z"
   },
   {
    "duration": 15,
    "start_time": "2023-10-26T16:47:48.706Z"
   },
   {
    "duration": 47,
    "start_time": "2023-10-26T16:47:48.723Z"
   },
   {
    "duration": 259,
    "start_time": "2023-10-26T16:47:48.772Z"
   },
   {
    "duration": 205,
    "start_time": "2023-10-26T16:47:49.032Z"
   },
   {
    "duration": 327,
    "start_time": "2023-10-26T16:47:49.239Z"
   },
   {
    "duration": 12,
    "start_time": "2023-10-26T16:47:49.567Z"
   },
   {
    "duration": 293,
    "start_time": "2023-10-26T16:47:49.581Z"
   },
   {
    "duration": 6,
    "start_time": "2023-10-26T16:47:49.875Z"
   },
   {
    "duration": 264,
    "start_time": "2023-10-26T16:47:49.883Z"
   },
   {
    "duration": 21,
    "start_time": "2023-10-26T16:47:50.149Z"
   },
   {
    "duration": 20,
    "start_time": "2023-10-26T16:47:50.171Z"
   },
   {
    "duration": 323,
    "start_time": "2023-10-26T16:47:50.193Z"
   },
   {
    "duration": 321,
    "start_time": "2023-10-26T16:47:50.518Z"
   },
   {
    "duration": 294,
    "start_time": "2023-10-26T16:47:50.847Z"
   },
   {
    "duration": 261,
    "start_time": "2023-10-26T16:47:51.143Z"
   },
   {
    "duration": 47,
    "start_time": "2023-10-26T16:47:51.406Z"
   },
   {
    "duration": 228,
    "start_time": "2023-10-26T16:47:51.454Z"
   },
   {
    "duration": 4,
    "start_time": "2023-10-26T16:47:51.686Z"
   },
   {
    "duration": 63,
    "start_time": "2023-10-26T16:47:51.693Z"
   },
   {
    "duration": 80,
    "start_time": "2023-10-26T16:47:51.758Z"
   },
   {
    "duration": 29,
    "start_time": "2023-10-26T16:47:51.839Z"
   },
   {
    "duration": 34,
    "start_time": "2023-10-26T16:47:51.870Z"
   },
   {
    "duration": 40,
    "start_time": "2023-10-26T16:47:51.905Z"
   },
   {
    "duration": 30,
    "start_time": "2023-10-26T16:47:51.946Z"
   },
   {
    "duration": 112,
    "start_time": "2023-10-26T17:01:06.170Z"
   },
   {
    "duration": 4,
    "start_time": "2023-10-26T17:01:11.490Z"
   },
   {
    "duration": 6,
    "start_time": "2023-10-26T17:01:15.235Z"
   },
   {
    "duration": 5,
    "start_time": "2023-10-26T17:01:28.899Z"
   },
   {
    "duration": 6,
    "start_time": "2023-10-26T17:01:32.618Z"
   },
   {
    "duration": 4,
    "start_time": "2023-10-26T17:02:07.177Z"
   },
   {
    "duration": 6,
    "start_time": "2023-10-26T17:02:11.305Z"
   },
   {
    "duration": 6,
    "start_time": "2023-10-26T17:02:12.377Z"
   },
   {
    "duration": 6,
    "start_time": "2023-10-26T17:03:43.842Z"
   },
   {
    "duration": 5,
    "start_time": "2023-10-26T17:04:13.642Z"
   },
   {
    "duration": 5,
    "start_time": "2023-10-26T17:04:21.298Z"
   },
   {
    "duration": 5,
    "start_time": "2023-10-26T17:04:27.306Z"
   },
   {
    "duration": 7,
    "start_time": "2023-10-26T17:04:30.921Z"
   },
   {
    "duration": 6,
    "start_time": "2023-10-26T17:04:35.769Z"
   },
   {
    "duration": 5,
    "start_time": "2023-10-26T17:04:39.297Z"
   },
   {
    "duration": 5,
    "start_time": "2023-10-26T17:04:42.661Z"
   },
   {
    "duration": 5,
    "start_time": "2023-10-26T17:04:46.657Z"
   },
   {
    "duration": 7,
    "start_time": "2023-10-26T17:04:55.281Z"
   },
   {
    "duration": 6,
    "start_time": "2023-10-26T17:05:01.250Z"
   },
   {
    "duration": 6,
    "start_time": "2023-10-26T17:05:06.633Z"
   },
   {
    "duration": 6,
    "start_time": "2023-10-26T17:05:13.337Z"
   },
   {
    "duration": 6,
    "start_time": "2023-10-26T17:05:16.736Z"
   },
   {
    "duration": 5,
    "start_time": "2023-10-26T17:05:22.065Z"
   },
   {
    "duration": 6,
    "start_time": "2023-10-26T17:05:30.857Z"
   },
   {
    "duration": 5,
    "start_time": "2023-10-26T17:05:36.481Z"
   },
   {
    "duration": 6,
    "start_time": "2023-10-26T17:05:40.288Z"
   },
   {
    "duration": 6,
    "start_time": "2023-10-26T17:05:43.672Z"
   },
   {
    "duration": 6,
    "start_time": "2023-10-26T17:05:48.456Z"
   },
   {
    "duration": 5,
    "start_time": "2023-10-26T17:05:53.297Z"
   },
   {
    "duration": 1679,
    "start_time": "2023-10-26T17:09:09.120Z"
   },
   {
    "duration": 17699,
    "start_time": "2023-10-26T17:16:46.348Z"
   },
   {
    "duration": 18727,
    "start_time": "2023-10-26T17:17:29.012Z"
   },
   {
    "duration": 1218,
    "start_time": "2023-10-26T17:18:02.325Z"
   },
   {
    "duration": 106,
    "start_time": "2023-10-26T17:19:51.748Z"
   },
   {
    "duration": 7,
    "start_time": "2023-10-26T17:19:54.732Z"
   },
   {
    "duration": 5,
    "start_time": "2023-10-26T17:20:04.157Z"
   },
   {
    "duration": 7,
    "start_time": "2023-10-26T17:20:15.451Z"
   },
   {
    "duration": 5,
    "start_time": "2023-10-26T17:20:38.075Z"
   },
   {
    "duration": 5,
    "start_time": "2023-10-26T17:20:49.436Z"
   },
   {
    "duration": 7,
    "start_time": "2023-10-26T17:21:20.899Z"
   },
   {
    "duration": 5,
    "start_time": "2023-10-26T17:21:30.427Z"
   },
   {
    "duration": 83,
    "start_time": "2023-10-26T17:21:34.211Z"
   },
   {
    "duration": 6,
    "start_time": "2023-10-26T17:21:42.540Z"
   },
   {
    "duration": 84,
    "start_time": "2023-10-26T17:21:46.650Z"
   },
   {
    "duration": 317,
    "start_time": "2023-10-26T17:21:56.419Z"
   },
   {
    "duration": 7,
    "start_time": "2023-10-26T17:22:02.290Z"
   },
   {
    "duration": 6,
    "start_time": "2023-10-26T17:22:23.890Z"
   },
   {
    "duration": 5,
    "start_time": "2023-10-26T17:22:39.475Z"
   },
   {
    "duration": 6,
    "start_time": "2023-10-26T17:22:43.195Z"
   },
   {
    "duration": 5,
    "start_time": "2023-10-26T17:22:49.387Z"
   },
   {
    "duration": 6,
    "start_time": "2023-10-26T17:23:07.899Z"
   },
   {
    "duration": 1184,
    "start_time": "2023-10-26T17:23:14.194Z"
   },
   {
    "duration": 243,
    "start_time": "2023-10-26T17:23:15.381Z"
   },
   {
    "duration": 36,
    "start_time": "2023-10-26T17:23:15.626Z"
   },
   {
    "duration": 39,
    "start_time": "2023-10-26T17:23:15.664Z"
   },
   {
    "duration": 52,
    "start_time": "2023-10-26T17:23:15.706Z"
   },
   {
    "duration": 20,
    "start_time": "2023-10-26T17:23:15.760Z"
   },
   {
    "duration": 40,
    "start_time": "2023-10-26T17:23:15.782Z"
   },
   {
    "duration": 9,
    "start_time": "2023-10-26T17:23:15.824Z"
   },
   {
    "duration": 76,
    "start_time": "2023-10-26T17:23:15.834Z"
   },
   {
    "duration": 10,
    "start_time": "2023-10-26T17:23:15.913Z"
   },
   {
    "duration": 10,
    "start_time": "2023-10-26T17:23:15.924Z"
   },
   {
    "duration": 21,
    "start_time": "2023-10-26T17:23:15.947Z"
   },
   {
    "duration": 291,
    "start_time": "2023-10-26T17:23:15.970Z"
   },
   {
    "duration": 208,
    "start_time": "2023-10-26T17:23:16.266Z"
   },
   {
    "duration": 335,
    "start_time": "2023-10-26T17:23:16.477Z"
   },
   {
    "duration": 13,
    "start_time": "2023-10-26T17:23:16.814Z"
   },
   {
    "duration": 281,
    "start_time": "2023-10-26T17:23:16.829Z"
   },
   {
    "duration": 5,
    "start_time": "2023-10-26T17:23:17.112Z"
   },
   {
    "duration": 252,
    "start_time": "2023-10-26T17:23:17.119Z"
   },
   {
    "duration": 20,
    "start_time": "2023-10-26T17:23:17.373Z"
   },
   {
    "duration": 8,
    "start_time": "2023-10-26T17:23:17.395Z"
   },
   {
    "duration": 288,
    "start_time": "2023-10-26T17:23:17.405Z"
   },
   {
    "duration": 310,
    "start_time": "2023-10-26T17:23:17.695Z"
   },
   {
    "duration": 291,
    "start_time": "2023-10-26T17:23:18.007Z"
   },
   {
    "duration": 254,
    "start_time": "2023-10-26T17:23:18.300Z"
   },
   {
    "duration": 32,
    "start_time": "2023-10-26T17:23:18.555Z"
   },
   {
    "duration": 236,
    "start_time": "2023-10-26T17:23:18.589Z"
   },
   {
    "duration": 4,
    "start_time": "2023-10-26T17:23:18.827Z"
   },
   {
    "duration": 37,
    "start_time": "2023-10-26T17:23:18.832Z"
   },
   {
    "duration": 40,
    "start_time": "2023-10-26T17:23:18.871Z"
   },
   {
    "duration": 30,
    "start_time": "2023-10-26T17:23:18.913Z"
   },
   {
    "duration": 32,
    "start_time": "2023-10-26T17:23:18.945Z"
   },
   {
    "duration": 26,
    "start_time": "2023-10-26T17:23:18.979Z"
   },
   {
    "duration": 148,
    "start_time": "2023-10-26T17:23:19.008Z"
   },
   {
    "duration": 5,
    "start_time": "2023-10-26T17:23:39.154Z"
   },
   {
    "duration": 6,
    "start_time": "2023-10-26T17:23:44.970Z"
   },
   {
    "duration": 6,
    "start_time": "2023-10-26T17:23:49.090Z"
   },
   {
    "duration": 6,
    "start_time": "2023-10-26T17:23:53.794Z"
   },
   {
    "duration": 6,
    "start_time": "2023-10-26T17:23:56.994Z"
   },
   {
    "duration": 6,
    "start_time": "2023-10-26T17:24:02.770Z"
   },
   {
    "duration": 6,
    "start_time": "2023-10-26T17:24:49.826Z"
   },
   {
    "duration": 13,
    "start_time": "2023-10-26T17:25:01.337Z"
   },
   {
    "duration": 5,
    "start_time": "2023-10-26T17:25:07.138Z"
   },
   {
    "duration": 5,
    "start_time": "2023-10-26T17:25:19.946Z"
   },
   {
    "duration": 5,
    "start_time": "2023-10-26T17:25:25.849Z"
   },
   {
    "duration": 6,
    "start_time": "2023-10-26T17:25:33.161Z"
   },
   {
    "duration": 6,
    "start_time": "2023-10-26T17:25:38.713Z"
   },
   {
    "duration": 6,
    "start_time": "2023-10-26T17:25:42.105Z"
   },
   {
    "duration": 6,
    "start_time": "2023-10-26T17:25:46.001Z"
   },
   {
    "duration": 5,
    "start_time": "2023-10-26T17:27:45.561Z"
   },
   {
    "duration": 6,
    "start_time": "2023-10-26T17:28:19.529Z"
   },
   {
    "duration": 5,
    "start_time": "2023-10-26T17:28:24.769Z"
   },
   {
    "duration": 6,
    "start_time": "2023-10-26T17:28:28.760Z"
   },
   {
    "duration": 4,
    "start_time": "2023-10-26T17:31:51.365Z"
   },
   {
    "duration": 1600,
    "start_time": "2023-10-26T17:32:49.328Z"
   },
   {
    "duration": 1189,
    "start_time": "2023-10-26T17:33:13.251Z"
   },
   {
    "duration": 244,
    "start_time": "2023-10-26T17:33:14.443Z"
   },
   {
    "duration": 34,
    "start_time": "2023-10-26T17:33:14.689Z"
   },
   {
    "duration": 41,
    "start_time": "2023-10-26T17:33:14.726Z"
   },
   {
    "duration": 30,
    "start_time": "2023-10-26T17:33:14.771Z"
   },
   {
    "duration": 10,
    "start_time": "2023-10-26T17:33:14.803Z"
   },
   {
    "duration": 56,
    "start_time": "2023-10-26T17:33:14.814Z"
   },
   {
    "duration": 42,
    "start_time": "2023-10-26T17:33:14.872Z"
   },
   {
    "duration": 100,
    "start_time": "2023-10-26T17:33:14.915Z"
   },
   {
    "duration": 9,
    "start_time": "2023-10-26T17:33:15.017Z"
   },
   {
    "duration": 45,
    "start_time": "2023-10-26T17:33:15.028Z"
   },
   {
    "duration": 43,
    "start_time": "2023-10-26T17:33:15.075Z"
   },
   {
    "duration": 337,
    "start_time": "2023-10-26T17:33:15.120Z"
   },
   {
    "duration": 187,
    "start_time": "2023-10-26T17:33:15.460Z"
   },
   {
    "duration": 327,
    "start_time": "2023-10-26T17:33:15.648Z"
   },
   {
    "duration": 12,
    "start_time": "2023-10-26T17:33:15.977Z"
   },
   {
    "duration": 308,
    "start_time": "2023-10-26T17:33:15.990Z"
   },
   {
    "duration": 6,
    "start_time": "2023-10-26T17:33:16.300Z"
   },
   {
    "duration": 269,
    "start_time": "2023-10-26T17:33:16.308Z"
   },
   {
    "duration": 21,
    "start_time": "2023-10-26T17:33:16.579Z"
   },
   {
    "duration": 9,
    "start_time": "2023-10-26T17:33:16.602Z"
   },
   {
    "duration": 286,
    "start_time": "2023-10-26T17:33:16.613Z"
   },
   {
    "duration": 311,
    "start_time": "2023-10-26T17:33:16.901Z"
   },
   {
    "duration": 279,
    "start_time": "2023-10-26T17:33:17.214Z"
   },
   {
    "duration": 253,
    "start_time": "2023-10-26T17:33:17.495Z"
   },
   {
    "duration": 31,
    "start_time": "2023-10-26T17:33:17.750Z"
   },
   {
    "duration": 235,
    "start_time": "2023-10-26T17:33:17.782Z"
   },
   {
    "duration": 5,
    "start_time": "2023-10-26T17:33:18.018Z"
   },
   {
    "duration": 53,
    "start_time": "2023-10-26T17:33:18.025Z"
   },
   {
    "duration": 45,
    "start_time": "2023-10-26T17:33:18.079Z"
   },
   {
    "duration": 31,
    "start_time": "2023-10-26T17:33:18.126Z"
   },
   {
    "duration": 46,
    "start_time": "2023-10-26T17:33:18.158Z"
   },
   {
    "duration": 43,
    "start_time": "2023-10-26T17:33:18.206Z"
   },
   {
    "duration": 1604,
    "start_time": "2023-10-26T17:33:18.251Z"
   },
   {
    "duration": 816,
    "start_time": "2023-10-26T17:34:02.647Z"
   },
   {
    "duration": 1619,
    "start_time": "2023-10-26T17:34:09.391Z"
   },
   {
    "duration": 258,
    "start_time": "2023-10-26T17:34:24.007Z"
   },
   {
    "duration": 164,
    "start_time": "2023-10-26T17:35:30.337Z"
   },
   {
    "duration": 114,
    "start_time": "2023-10-26T17:35:43.511Z"
   },
   {
    "duration": 196,
    "start_time": "2023-10-26T17:36:45.023Z"
   },
   {
    "duration": 245,
    "start_time": "2023-10-26T17:37:28.374Z"
   },
   {
    "duration": 8013,
    "start_time": "2023-10-26T17:39:06.110Z"
   },
   {
    "duration": 1292,
    "start_time": "2023-10-26T17:39:53.669Z"
   },
   {
    "duration": 8525,
    "start_time": "2023-10-26T17:40:01.270Z"
   },
   {
    "duration": 834,
    "start_time": "2023-10-26T17:42:40.052Z"
   },
   {
    "duration": 3,
    "start_time": "2023-10-26T17:42:49.972Z"
   },
   {
    "duration": 5,
    "start_time": "2023-10-26T17:44:44.421Z"
   },
   {
    "duration": 19,
    "start_time": "2023-10-26T17:45:16.404Z"
   },
   {
    "duration": 11,
    "start_time": "2023-10-26T17:45:22.443Z"
   },
   {
    "duration": 3,
    "start_time": "2023-10-26T17:45:29.516Z"
   },
   {
    "duration": 13,
    "start_time": "2023-10-26T17:56:36.670Z"
   },
   {
    "duration": 140,
    "start_time": "2023-10-26T17:56:45.894Z"
   },
   {
    "duration": 6,
    "start_time": "2023-10-26T17:58:45.175Z"
   },
   {
    "duration": 1198,
    "start_time": "2023-10-26T17:59:18.532Z"
   },
   {
    "duration": 234,
    "start_time": "2023-10-26T17:59:19.732Z"
   },
   {
    "duration": 36,
    "start_time": "2023-10-26T17:59:19.967Z"
   },
   {
    "duration": 49,
    "start_time": "2023-10-26T17:59:20.005Z"
   },
   {
    "duration": 30,
    "start_time": "2023-10-26T17:59:20.055Z"
   },
   {
    "duration": 6,
    "start_time": "2023-10-26T17:59:20.087Z"
   },
   {
    "duration": 16,
    "start_time": "2023-10-26T17:59:20.095Z"
   },
   {
    "duration": 30,
    "start_time": "2023-10-26T17:59:20.113Z"
   },
   {
    "duration": 55,
    "start_time": "2023-10-26T17:59:20.147Z"
   },
   {
    "duration": 8,
    "start_time": "2023-10-26T17:59:20.205Z"
   },
   {
    "duration": 26,
    "start_time": "2023-10-26T17:59:20.215Z"
   },
   {
    "duration": 13,
    "start_time": "2023-10-26T17:59:20.246Z"
   },
   {
    "duration": 266,
    "start_time": "2023-10-26T17:59:20.261Z"
   },
   {
    "duration": 187,
    "start_time": "2023-10-26T17:59:20.529Z"
   },
   {
    "duration": 326,
    "start_time": "2023-10-26T17:59:20.718Z"
   },
   {
    "duration": 12,
    "start_time": "2023-10-26T17:59:21.046Z"
   },
   {
    "duration": 287,
    "start_time": "2023-10-26T17:59:21.060Z"
   },
   {
    "duration": 6,
    "start_time": "2023-10-26T17:59:21.349Z"
   },
   {
    "duration": 244,
    "start_time": "2023-10-26T17:59:21.356Z"
   },
   {
    "duration": 21,
    "start_time": "2023-10-26T17:59:21.601Z"
   },
   {
    "duration": 24,
    "start_time": "2023-10-26T17:59:21.623Z"
   },
   {
    "duration": 273,
    "start_time": "2023-10-26T17:59:21.649Z"
   },
   {
    "duration": 311,
    "start_time": "2023-10-26T17:59:21.924Z"
   },
   {
    "duration": 272,
    "start_time": "2023-10-26T17:59:22.237Z"
   },
   {
    "duration": 259,
    "start_time": "2023-10-26T17:59:22.511Z"
   },
   {
    "duration": 30,
    "start_time": "2023-10-26T17:59:22.772Z"
   },
   {
    "duration": 235,
    "start_time": "2023-10-26T17:59:22.804Z"
   },
   {
    "duration": 5,
    "start_time": "2023-10-26T17:59:23.048Z"
   },
   {
    "duration": 29,
    "start_time": "2023-10-26T17:59:23.055Z"
   },
   {
    "duration": 5,
    "start_time": "2023-10-26T17:59:23.086Z"
   },
   {
    "duration": 16,
    "start_time": "2023-10-26T17:59:23.093Z"
   },
   {
    "duration": 33,
    "start_time": "2023-10-26T17:59:23.111Z"
   },
   {
    "duration": 20,
    "start_time": "2023-10-26T17:59:23.145Z"
   },
   {
    "duration": 13,
    "start_time": "2023-10-26T17:59:23.166Z"
   },
   {
    "duration": 78,
    "start_time": "2023-10-26T18:05:54.370Z"
   },
   {
    "duration": 98,
    "start_time": "2023-10-26T18:06:02.091Z"
   },
   {
    "duration": 84,
    "start_time": "2023-10-26T18:06:20.995Z"
   },
   {
    "duration": 16,
    "start_time": "2023-10-26T18:07:07.849Z"
   },
   {
    "duration": 18,
    "start_time": "2023-10-26T18:07:12.985Z"
   },
   {
    "duration": 21,
    "start_time": "2023-10-26T18:07:16.922Z"
   },
   {
    "duration": 18,
    "start_time": "2023-10-26T18:07:43.618Z"
   },
   {
    "duration": 14,
    "start_time": "2023-10-26T18:07:51.785Z"
   },
   {
    "duration": 260,
    "start_time": "2023-10-26T18:10:52.592Z"
   },
   {
    "duration": 1140,
    "start_time": "2023-10-26T18:11:11.380Z"
   },
   {
    "duration": 241,
    "start_time": "2023-10-26T18:11:12.523Z"
   },
   {
    "duration": 51,
    "start_time": "2023-10-26T18:11:12.766Z"
   },
   {
    "duration": 51,
    "start_time": "2023-10-26T18:11:12.819Z"
   },
   {
    "duration": 42,
    "start_time": "2023-10-26T18:11:12.872Z"
   },
   {
    "duration": 31,
    "start_time": "2023-10-26T18:11:12.916Z"
   },
   {
    "duration": 5,
    "start_time": "2023-10-26T18:11:12.949Z"
   },
   {
    "duration": 10,
    "start_time": "2023-10-26T18:11:12.957Z"
   },
   {
    "duration": 86,
    "start_time": "2023-10-26T18:11:12.969Z"
   },
   {
    "duration": 9,
    "start_time": "2023-10-26T18:11:13.057Z"
   },
   {
    "duration": 23,
    "start_time": "2023-10-26T18:11:13.068Z"
   },
   {
    "duration": 12,
    "start_time": "2023-10-26T18:11:13.093Z"
   },
   {
    "duration": 293,
    "start_time": "2023-10-26T18:11:13.106Z"
   },
   {
    "duration": 239,
    "start_time": "2023-10-26T18:11:13.403Z"
   },
   {
    "duration": 359,
    "start_time": "2023-10-26T18:11:13.644Z"
   },
   {
    "duration": 13,
    "start_time": "2023-10-26T18:11:14.005Z"
   },
   {
    "duration": 311,
    "start_time": "2023-10-26T18:11:14.020Z"
   },
   {
    "duration": 14,
    "start_time": "2023-10-26T18:11:14.333Z"
   },
   {
    "duration": 248,
    "start_time": "2023-10-26T18:11:14.349Z"
   },
   {
    "duration": 20,
    "start_time": "2023-10-26T18:11:14.599Z"
   },
   {
    "duration": 11,
    "start_time": "2023-10-26T18:11:14.620Z"
   },
   {
    "duration": 274,
    "start_time": "2023-10-26T18:11:14.647Z"
   },
   {
    "duration": 322,
    "start_time": "2023-10-26T18:11:14.923Z"
   },
   {
    "duration": 279,
    "start_time": "2023-10-26T18:11:15.247Z"
   },
   {
    "duration": 257,
    "start_time": "2023-10-26T18:11:15.527Z"
   },
   {
    "duration": 32,
    "start_time": "2023-10-26T18:11:15.786Z"
   },
   {
    "duration": 325,
    "start_time": "2023-10-26T18:11:15.819Z"
   },
   {
    "duration": 6,
    "start_time": "2023-10-26T18:11:16.147Z"
   },
   {
    "duration": 21,
    "start_time": "2023-10-26T18:11:16.155Z"
   },
   {
    "duration": 5,
    "start_time": "2023-10-26T18:11:16.178Z"
   },
   {
    "duration": 8,
    "start_time": "2023-10-26T18:11:16.185Z"
   },
   {
    "duration": 14,
    "start_time": "2023-10-26T18:11:16.196Z"
   },
   {
    "duration": 39,
    "start_time": "2023-10-26T18:11:16.212Z"
   },
   {
    "duration": 255,
    "start_time": "2023-10-26T18:11:16.253Z"
   },
   {
    "duration": 150,
    "start_time": "2023-10-26T18:13:24.472Z"
   },
   {
    "duration": 147,
    "start_time": "2023-10-26T18:15:41.511Z"
   },
   {
    "duration": 142,
    "start_time": "2023-10-26T18:15:45.358Z"
   },
   {
    "duration": 192,
    "start_time": "2023-10-26T18:19:55.205Z"
   },
   {
    "duration": 144,
    "start_time": "2023-10-26T18:20:06.071Z"
   },
   {
    "duration": 247,
    "start_time": "2023-10-26T18:35:45.300Z"
   },
   {
    "duration": 2040,
    "start_time": "2023-10-26T18:35:52.740Z"
   },
   {
    "duration": 139,
    "start_time": "2023-10-26T18:38:25.780Z"
   },
   {
    "duration": 3,
    "start_time": "2023-10-26T18:39:36.067Z"
   },
   {
    "duration": 2091,
    "start_time": "2023-10-26T18:39:39.491Z"
   },
   {
    "duration": 2317,
    "start_time": "2023-10-26T18:41:42.754Z"
   },
   {
    "duration": 2334,
    "start_time": "2023-10-26T18:42:48.427Z"
   },
   {
    "duration": 2324,
    "start_time": "2023-10-26T18:44:21.090Z"
   },
   {
    "duration": 2322,
    "start_time": "2023-10-26T18:44:43.362Z"
   },
   {
    "duration": 2378,
    "start_time": "2023-10-26T18:44:53.723Z"
   },
   {
    "duration": 2367,
    "start_time": "2023-10-26T18:45:03.218Z"
   },
   {
    "duration": 2338,
    "start_time": "2023-10-26T18:45:39.315Z"
   },
   {
    "duration": 2313,
    "start_time": "2023-10-26T18:46:09.491Z"
   },
   {
    "duration": 2383,
    "start_time": "2023-10-26T18:46:35.266Z"
   },
   {
    "duration": 3,
    "start_time": "2023-10-26T18:48:35.128Z"
   },
   {
    "duration": 2443,
    "start_time": "2023-10-26T18:49:34.169Z"
   },
   {
    "duration": 2418,
    "start_time": "2023-10-26T18:49:39.913Z"
   },
   {
    "duration": 2326,
    "start_time": "2023-10-26T18:50:29.024Z"
   },
   {
    "duration": 4,
    "start_time": "2023-10-26T18:53:18.847Z"
   },
   {
    "duration": 4,
    "start_time": "2023-10-26T18:53:23.454Z"
   },
   {
    "duration": 15,
    "start_time": "2023-10-26T18:55:46.807Z"
   },
   {
    "duration": 5,
    "start_time": "2023-10-26T18:56:40.182Z"
   },
   {
    "duration": 96056,
    "start_time": "2023-10-26T18:56:46.575Z"
   },
   {
    "duration": 15,
    "start_time": "2023-10-26T19:08:59.187Z"
   },
   {
    "duration": 5,
    "start_time": "2023-10-26T19:09:16.152Z"
   },
   {
    "duration": 6,
    "start_time": "2023-10-26T19:09:21.587Z"
   },
   {
    "duration": 1216,
    "start_time": "2023-10-26T19:27:35.622Z"
   },
   {
    "duration": 227,
    "start_time": "2023-10-26T19:27:36.840Z"
   },
   {
    "duration": 33,
    "start_time": "2023-10-26T19:27:37.069Z"
   },
   {
    "duration": 49,
    "start_time": "2023-10-26T19:27:37.104Z"
   },
   {
    "duration": 28,
    "start_time": "2023-10-26T19:27:37.155Z"
   },
   {
    "duration": 5,
    "start_time": "2023-10-26T19:27:37.184Z"
   },
   {
    "duration": 16,
    "start_time": "2023-10-26T19:27:37.191Z"
   },
   {
    "duration": 33,
    "start_time": "2023-10-26T19:27:37.209Z"
   },
   {
    "duration": 70,
    "start_time": "2023-10-26T19:27:37.243Z"
   },
   {
    "duration": 8,
    "start_time": "2023-10-26T19:27:37.315Z"
   },
   {
    "duration": 12,
    "start_time": "2023-10-26T19:27:37.325Z"
   },
   {
    "duration": 20,
    "start_time": "2023-10-26T19:27:37.339Z"
   },
   {
    "duration": 261,
    "start_time": "2023-10-26T19:27:37.360Z"
   },
   {
    "duration": 190,
    "start_time": "2023-10-26T19:27:37.625Z"
   },
   {
    "duration": 359,
    "start_time": "2023-10-26T19:27:37.817Z"
   },
   {
    "duration": 13,
    "start_time": "2023-10-26T19:27:38.178Z"
   },
   {
    "duration": 323,
    "start_time": "2023-10-26T19:27:38.194Z"
   },
   {
    "duration": 7,
    "start_time": "2023-10-26T19:27:38.519Z"
   },
   {
    "duration": 254,
    "start_time": "2023-10-26T19:27:38.528Z"
   },
   {
    "duration": 21,
    "start_time": "2023-10-26T19:27:38.784Z"
   },
   {
    "duration": 16,
    "start_time": "2023-10-26T19:27:38.806Z"
   },
   {
    "duration": 298,
    "start_time": "2023-10-26T19:27:38.824Z"
   },
   {
    "duration": 312,
    "start_time": "2023-10-26T19:27:39.124Z"
   },
   {
    "duration": 277,
    "start_time": "2023-10-26T19:27:39.438Z"
   },
   {
    "duration": 260,
    "start_time": "2023-10-26T19:27:39.717Z"
   },
   {
    "duration": 31,
    "start_time": "2023-10-26T19:27:39.979Z"
   },
   {
    "duration": 267,
    "start_time": "2023-10-26T19:27:40.012Z"
   },
   {
    "duration": 6,
    "start_time": "2023-10-26T19:27:40.281Z"
   },
   {
    "duration": 11,
    "start_time": "2023-10-26T19:27:40.289Z"
   },
   {
    "duration": 5,
    "start_time": "2023-10-26T19:27:40.303Z"
   },
   {
    "duration": 28,
    "start_time": "2023-10-26T19:27:40.311Z"
   },
   {
    "duration": 21,
    "start_time": "2023-10-26T19:27:40.347Z"
   },
   {
    "duration": 59,
    "start_time": "2023-10-26T19:27:40.370Z"
   },
   {
    "duration": 2199,
    "start_time": "2023-10-26T19:27:40.431Z"
   },
   {
    "duration": 2,
    "start_time": "2023-10-26T19:27:42.632Z"
   },
   {
    "duration": 99275,
    "start_time": "2023-10-26T19:27:42.646Z"
   },
   {
    "duration": 6,
    "start_time": "2023-10-26T19:29:21.922Z"
   },
   {
    "duration": 47,
    "start_time": "2023-10-26T22:18:36.876Z"
   },
   {
    "duration": 1278,
    "start_time": "2023-10-26T22:18:42.694Z"
   },
   {
    "duration": 217,
    "start_time": "2023-10-26T22:18:43.974Z"
   },
   {
    "duration": 31,
    "start_time": "2023-10-26T22:18:44.193Z"
   },
   {
    "duration": 38,
    "start_time": "2023-10-26T22:18:44.226Z"
   },
   {
    "duration": 25,
    "start_time": "2023-10-26T22:18:44.266Z"
   },
   {
    "duration": 6,
    "start_time": "2023-10-26T22:18:44.293Z"
   },
   {
    "duration": 21,
    "start_time": "2023-10-26T22:18:44.300Z"
   },
   {
    "duration": 24,
    "start_time": "2023-10-26T22:18:44.322Z"
   },
   {
    "duration": 56,
    "start_time": "2023-10-26T22:18:44.348Z"
   },
   {
    "duration": 10,
    "start_time": "2023-10-26T22:18:44.408Z"
   },
   {
    "duration": 34,
    "start_time": "2023-10-26T22:18:44.420Z"
   },
   {
    "duration": 15,
    "start_time": "2023-10-26T22:18:44.457Z"
   },
   {
    "duration": 256,
    "start_time": "2023-10-26T22:18:44.474Z"
   },
   {
    "duration": 172,
    "start_time": "2023-10-26T22:18:44.731Z"
   },
   {
    "duration": 314,
    "start_time": "2023-10-26T22:18:44.904Z"
   },
   {
    "duration": 12,
    "start_time": "2023-10-26T22:18:45.219Z"
   },
   {
    "duration": 257,
    "start_time": "2023-10-26T22:18:45.232Z"
   },
   {
    "duration": 6,
    "start_time": "2023-10-26T22:18:45.490Z"
   },
   {
    "duration": 234,
    "start_time": "2023-10-26T22:18:45.498Z"
   },
   {
    "duration": 24,
    "start_time": "2023-10-26T22:18:45.735Z"
   },
   {
    "duration": 8,
    "start_time": "2023-10-26T22:18:45.761Z"
   },
   {
    "duration": 247,
    "start_time": "2023-10-26T22:18:45.771Z"
   },
   {
    "duration": 279,
    "start_time": "2023-10-26T22:18:46.020Z"
   },
   {
    "duration": 267,
    "start_time": "2023-10-26T22:18:46.301Z"
   },
   {
    "duration": 226,
    "start_time": "2023-10-26T22:18:46.569Z"
   },
   {
    "duration": 30,
    "start_time": "2023-10-26T22:18:46.796Z"
   },
   {
    "duration": 229,
    "start_time": "2023-10-26T22:18:46.827Z"
   },
   {
    "duration": 5,
    "start_time": "2023-10-26T22:18:47.061Z"
   },
   {
    "duration": 5,
    "start_time": "2023-10-26T22:18:47.068Z"
   },
   {
    "duration": 12,
    "start_time": "2023-10-26T22:18:47.075Z"
   },
   {
    "duration": 19,
    "start_time": "2023-10-26T22:18:47.088Z"
   },
   {
    "duration": 29,
    "start_time": "2023-10-26T22:18:47.108Z"
   },
   {
    "duration": 14,
    "start_time": "2023-10-26T22:18:47.139Z"
   },
   {
    "duration": 22,
    "start_time": "2023-10-26T22:18:47.155Z"
   },
   {
    "duration": 1950,
    "start_time": "2023-10-26T22:18:47.179Z"
   },
   {
    "duration": 3,
    "start_time": "2023-10-26T22:18:49.131Z"
   },
   {
    "duration": 83013,
    "start_time": "2023-10-26T22:18:49.143Z"
   },
   {
    "duration": 6,
    "start_time": "2023-10-26T22:20:12.157Z"
   },
   {
    "duration": 15,
    "start_time": "2023-10-26T22:21:32.454Z"
   },
   {
    "duration": 1297,
    "start_time": "2023-10-26T22:32:16.761Z"
   },
   {
    "duration": 216,
    "start_time": "2023-10-26T22:32:18.060Z"
   },
   {
    "duration": 30,
    "start_time": "2023-10-26T22:32:18.278Z"
   },
   {
    "duration": 38,
    "start_time": "2023-10-26T22:32:18.310Z"
   },
   {
    "duration": 26,
    "start_time": "2023-10-26T22:32:18.350Z"
   },
   {
    "duration": 5,
    "start_time": "2023-10-26T22:32:18.377Z"
   },
   {
    "duration": 21,
    "start_time": "2023-10-26T22:32:18.384Z"
   },
   {
    "duration": 11,
    "start_time": "2023-10-26T22:32:18.407Z"
   },
   {
    "duration": 59,
    "start_time": "2023-10-26T22:32:18.420Z"
   },
   {
    "duration": 8,
    "start_time": "2023-10-26T22:32:18.481Z"
   },
   {
    "duration": 9,
    "start_time": "2023-10-26T22:32:18.490Z"
   },
   {
    "duration": 35,
    "start_time": "2023-10-26T22:32:18.501Z"
   },
   {
    "duration": 229,
    "start_time": "2023-10-26T22:32:18.538Z"
   },
   {
    "duration": 177,
    "start_time": "2023-10-26T22:32:18.770Z"
   },
   {
    "duration": 285,
    "start_time": "2023-10-26T22:32:18.948Z"
   },
   {
    "duration": 11,
    "start_time": "2023-10-26T22:32:19.243Z"
   },
   {
    "duration": 253,
    "start_time": "2023-10-26T22:32:19.256Z"
   },
   {
    "duration": 6,
    "start_time": "2023-10-26T22:32:19.511Z"
   },
   {
    "duration": 215,
    "start_time": "2023-10-26T22:32:19.519Z"
   },
   {
    "duration": 25,
    "start_time": "2023-10-26T22:32:19.736Z"
   },
   {
    "duration": 8,
    "start_time": "2023-10-26T22:32:19.762Z"
   },
   {
    "duration": 251,
    "start_time": "2023-10-26T22:32:19.772Z"
   },
   {
    "duration": 276,
    "start_time": "2023-10-26T22:32:20.025Z"
   },
   {
    "duration": 252,
    "start_time": "2023-10-26T22:32:20.303Z"
   },
   {
    "duration": 228,
    "start_time": "2023-10-26T22:32:20.557Z"
   },
   {
    "duration": 28,
    "start_time": "2023-10-26T22:32:20.787Z"
   },
   {
    "duration": 204,
    "start_time": "2023-10-26T22:32:20.817Z"
   },
   {
    "duration": 4,
    "start_time": "2023-10-26T22:32:21.022Z"
   },
   {
    "duration": 31,
    "start_time": "2023-10-26T22:32:21.028Z"
   },
   {
    "duration": 30,
    "start_time": "2023-10-26T22:32:21.061Z"
   },
   {
    "duration": 12,
    "start_time": "2023-10-26T22:32:21.092Z"
   },
   {
    "duration": 13,
    "start_time": "2023-10-26T22:32:21.105Z"
   },
   {
    "duration": 21,
    "start_time": "2023-10-26T22:32:21.120Z"
   },
   {
    "duration": 24,
    "start_time": "2023-10-26T22:32:21.143Z"
   },
   {
    "duration": 1832,
    "start_time": "2023-10-26T22:32:21.168Z"
   },
   {
    "duration": 3,
    "start_time": "2023-10-26T22:32:23.001Z"
   },
   {
    "duration": 83247,
    "start_time": "2023-10-26T22:32:23.005Z"
   },
   {
    "duration": 5,
    "start_time": "2023-10-26T22:33:46.254Z"
   },
   {
    "duration": 22,
    "start_time": "2023-10-26T22:33:46.261Z"
   },
   {
    "duration": 1199,
    "start_time": "2023-10-27T07:52:25.988Z"
   },
   {
    "duration": 356,
    "start_time": "2023-10-27T07:52:27.189Z"
   },
   {
    "duration": 41,
    "start_time": "2023-10-27T07:52:27.549Z"
   },
   {
    "duration": 35,
    "start_time": "2023-10-27T07:52:27.592Z"
   },
   {
    "duration": 34,
    "start_time": "2023-10-27T07:52:27.644Z"
   },
   {
    "duration": 5,
    "start_time": "2023-10-27T07:52:27.679Z"
   },
   {
    "duration": 11,
    "start_time": "2023-10-27T07:52:27.685Z"
   },
   {
    "duration": 18,
    "start_time": "2023-10-27T07:52:27.697Z"
   },
   {
    "duration": 51,
    "start_time": "2023-10-27T07:52:27.716Z"
   },
   {
    "duration": 6,
    "start_time": "2023-10-27T07:52:27.771Z"
   },
   {
    "duration": 11,
    "start_time": "2023-10-27T07:52:27.779Z"
   },
   {
    "duration": 25,
    "start_time": "2023-10-27T07:52:27.791Z"
   },
   {
    "duration": 212,
    "start_time": "2023-10-27T07:52:27.820Z"
   },
   {
    "duration": 202,
    "start_time": "2023-10-27T07:52:28.034Z"
   },
   {
    "duration": 265,
    "start_time": "2023-10-27T07:52:28.239Z"
   },
   {
    "duration": 11,
    "start_time": "2023-10-27T07:52:28.505Z"
   },
   {
    "duration": 234,
    "start_time": "2023-10-27T07:52:28.517Z"
   },
   {
    "duration": 6,
    "start_time": "2023-10-27T07:52:28.753Z"
   },
   {
    "duration": 238,
    "start_time": "2023-10-27T07:52:28.761Z"
   },
   {
    "duration": 16,
    "start_time": "2023-10-27T07:52:29.001Z"
   },
   {
    "duration": 21,
    "start_time": "2023-10-27T07:52:29.018Z"
   },
   {
    "duration": 234,
    "start_time": "2023-10-27T07:52:29.041Z"
   },
   {
    "duration": 246,
    "start_time": "2023-10-27T07:52:29.277Z"
   },
   {
    "duration": 246,
    "start_time": "2023-10-27T07:52:29.524Z"
   },
   {
    "duration": 212,
    "start_time": "2023-10-27T07:52:29.772Z"
   },
   {
    "duration": 25,
    "start_time": "2023-10-27T07:52:29.985Z"
   },
   {
    "duration": 280,
    "start_time": "2023-10-27T07:52:30.011Z"
   },
   {
    "duration": 4,
    "start_time": "2023-10-27T07:52:30.293Z"
   },
   {
    "duration": 28,
    "start_time": "2023-10-27T07:52:30.298Z"
   },
   {
    "duration": 36,
    "start_time": "2023-10-27T07:52:30.327Z"
   },
   {
    "duration": 23,
    "start_time": "2023-10-27T07:52:30.365Z"
   },
   {
    "duration": 27,
    "start_time": "2023-10-27T07:52:30.389Z"
   },
   {
    "duration": 37,
    "start_time": "2023-10-27T07:52:30.417Z"
   },
   {
    "duration": 16,
    "start_time": "2023-10-27T07:52:30.456Z"
   },
   {
    "duration": 1762,
    "start_time": "2023-10-27T07:52:30.474Z"
   },
   {
    "duration": 2,
    "start_time": "2023-10-27T07:52:32.239Z"
   },
   {
    "duration": 84697,
    "start_time": "2023-10-27T07:52:32.243Z"
   },
   {
    "duration": 6,
    "start_time": "2023-10-27T07:53:56.942Z"
   },
   {
    "duration": 10,
    "start_time": "2023-10-27T07:53:56.949Z"
   },
   {
    "duration": 2099,
    "start_time": "2023-10-27T07:55:42.203Z"
   },
   {
    "duration": 11,
    "start_time": "2023-10-27T07:55:49.754Z"
   },
   {
    "duration": 15,
    "start_time": "2023-10-27T07:55:53.581Z"
   },
   {
    "duration": 13,
    "start_time": "2023-10-27T07:56:09.886Z"
   },
   {
    "duration": 17,
    "start_time": "2023-10-27T07:56:17.939Z"
   },
   {
    "duration": 22,
    "start_time": "2023-10-27T07:56:27.647Z"
   },
   {
    "duration": 29,
    "start_time": "2023-10-27T07:56:33.235Z"
   },
   {
    "duration": 10,
    "start_time": "2023-10-27T07:56:55.786Z"
   },
   {
    "duration": 20,
    "start_time": "2023-10-27T07:57:03.038Z"
   },
   {
    "duration": 12,
    "start_time": "2023-10-27T07:57:15.391Z"
   },
   {
    "duration": 8,
    "start_time": "2023-10-27T07:58:12.508Z"
   },
   {
    "duration": 4,
    "start_time": "2023-10-27T08:25:22.428Z"
   },
   {
    "duration": 5,
    "start_time": "2023-10-27T08:25:31.781Z"
   },
   {
    "duration": 5,
    "start_time": "2023-10-27T08:25:36.082Z"
   },
   {
    "duration": 5,
    "start_time": "2023-10-27T08:25:41.884Z"
   },
   {
    "duration": 4,
    "start_time": "2023-10-27T08:25:59.428Z"
   },
   {
    "duration": 4,
    "start_time": "2023-10-27T08:26:37.181Z"
   },
   {
    "duration": 7,
    "start_time": "2023-10-27T08:27:00.076Z"
   },
   {
    "duration": 6,
    "start_time": "2023-10-27T08:27:26.315Z"
   },
   {
    "duration": 5,
    "start_time": "2023-10-27T08:27:37.114Z"
   },
   {
    "duration": 3,
    "start_time": "2023-10-27T08:28:28.026Z"
   },
   {
    "duration": 5,
    "start_time": "2023-10-27T08:28:55.627Z"
   },
   {
    "duration": 14,
    "start_time": "2023-10-27T08:29:32.977Z"
   },
   {
    "duration": 5,
    "start_time": "2023-10-27T08:29:38.018Z"
   },
   {
    "duration": 4,
    "start_time": "2023-10-27T08:32:46.305Z"
   },
   {
    "duration": 5,
    "start_time": "2023-10-27T08:32:50.913Z"
   },
   {
    "duration": 126,
    "start_time": "2023-10-27T08:33:02.404Z"
   },
   {
    "duration": 231,
    "start_time": "2023-10-27T08:33:12.465Z"
   },
   {
    "duration": 5,
    "start_time": "2023-10-27T08:33:27.488Z"
   },
   {
    "duration": 5,
    "start_time": "2023-10-27T08:33:40.969Z"
   },
   {
    "duration": 106,
    "start_time": "2023-10-27T08:33:53.569Z"
   },
   {
    "duration": 16,
    "start_time": "2023-10-27T08:33:58.537Z"
   },
   {
    "duration": 5,
    "start_time": "2023-10-27T08:34:05.966Z"
   },
   {
    "duration": 3010,
    "start_time": "2023-10-27T08:36:01.275Z"
   },
   {
    "duration": 5,
    "start_time": "2023-10-27T08:36:25.781Z"
   },
   {
    "duration": 17,
    "start_time": "2023-10-27T08:36:30.174Z"
   },
   {
    "duration": 5,
    "start_time": "2023-10-27T08:36:44.073Z"
   },
   {
    "duration": 4,
    "start_time": "2023-10-27T08:36:53.920Z"
   },
   {
    "duration": 4,
    "start_time": "2023-10-27T08:37:03.877Z"
   },
   {
    "duration": 25,
    "start_time": "2023-10-27T08:37:13.639Z"
   },
   {
    "duration": 4,
    "start_time": "2023-10-27T08:37:18.877Z"
   },
   {
    "duration": 4,
    "start_time": "2023-10-27T08:39:19.578Z"
   },
   {
    "duration": 223,
    "start_time": "2023-10-27T08:44:22.581Z"
   },
   {
    "duration": 200,
    "start_time": "2023-10-27T08:44:34.775Z"
   },
   {
    "duration": 29,
    "start_time": "2023-10-27T08:47:04.646Z"
   },
   {
    "duration": 164,
    "start_time": "2023-10-27T08:47:24.514Z"
   },
   {
    "duration": 221,
    "start_time": "2023-10-27T08:48:31.653Z"
   },
   {
    "duration": 419,
    "start_time": "2023-10-27T08:48:49.994Z"
   },
   {
    "duration": 198,
    "start_time": "2023-10-27T08:49:02.805Z"
   },
   {
    "duration": 137,
    "start_time": "2023-10-27T08:49:29.043Z"
   },
   {
    "duration": 249,
    "start_time": "2023-10-27T08:49:52.106Z"
   },
   {
    "duration": 225,
    "start_time": "2023-10-27T08:50:44.180Z"
   },
   {
    "duration": 137,
    "start_time": "2023-10-27T08:50:48.785Z"
   },
   {
    "duration": 6,
    "start_time": "2023-10-27T08:56:17.800Z"
   },
   {
    "duration": 12,
    "start_time": "2023-10-27T08:56:45.319Z"
   },
   {
    "duration": 111,
    "start_time": "2023-10-27T08:57:37.111Z"
   },
   {
    "duration": 112,
    "start_time": "2023-10-27T08:58:32.407Z"
   },
   {
    "duration": 106,
    "start_time": "2023-10-27T08:58:38.865Z"
   },
   {
    "duration": 131,
    "start_time": "2023-10-27T09:00:14.260Z"
   },
   {
    "duration": 32,
    "start_time": "2023-10-27T09:00:26.286Z"
   },
   {
    "duration": 121,
    "start_time": "2023-10-27T09:02:17.382Z"
   },
   {
    "duration": 254,
    "start_time": "2023-10-27T09:02:26.461Z"
   },
   {
    "duration": 132,
    "start_time": "2023-10-27T09:02:54.390Z"
   },
   {
    "duration": 111,
    "start_time": "2023-10-27T09:03:29.997Z"
   },
   {
    "duration": 118,
    "start_time": "2023-10-27T09:04:29.085Z"
   },
   {
    "duration": 220,
    "start_time": "2023-10-27T09:05:16.269Z"
   },
   {
    "duration": 8,
    "start_time": "2023-10-27T09:05:21.158Z"
   },
   {
    "duration": 12,
    "start_time": "2023-10-27T09:06:38.484Z"
   },
   {
    "duration": 107,
    "start_time": "2023-10-27T09:06:48.811Z"
   },
   {
    "duration": 120,
    "start_time": "2023-10-27T09:07:44.771Z"
   },
   {
    "duration": 58,
    "start_time": "2023-10-27T09:08:06.675Z"
   },
   {
    "duration": 63,
    "start_time": "2023-10-27T09:08:14.359Z"
   },
   {
    "duration": 70,
    "start_time": "2023-10-27T09:08:42.227Z"
   },
   {
    "duration": 87,
    "start_time": "2023-10-27T09:09:04.219Z"
   },
   {
    "duration": 181,
    "start_time": "2023-10-27T09:09:33.779Z"
   },
   {
    "duration": 60,
    "start_time": "2023-10-27T09:09:38.210Z"
   },
   {
    "duration": 66,
    "start_time": "2023-10-27T09:09:41.003Z"
   },
   {
    "duration": 60,
    "start_time": "2023-10-27T09:10:20.313Z"
   },
   {
    "duration": 119,
    "start_time": "2023-10-27T09:10:30.298Z"
   },
   {
    "duration": 110,
    "start_time": "2023-10-27T09:10:47.506Z"
   },
   {
    "duration": 73,
    "start_time": "2023-10-27T09:10:51.595Z"
   },
   {
    "duration": 54,
    "start_time": "2023-10-27T09:10:54.865Z"
   },
   {
    "duration": 60,
    "start_time": "2023-10-27T09:11:01.938Z"
   },
   {
    "duration": 59,
    "start_time": "2023-10-27T09:11:05.906Z"
   },
   {
    "duration": 66,
    "start_time": "2023-10-27T09:11:11.698Z"
   },
   {
    "duration": 62,
    "start_time": "2023-10-27T09:11:15.506Z"
   },
   {
    "duration": 72,
    "start_time": "2023-10-27T09:11:19.090Z"
   },
   {
    "duration": 65,
    "start_time": "2023-10-27T09:11:39.009Z"
   },
   {
    "duration": 109,
    "start_time": "2023-10-27T09:11:44.970Z"
   },
   {
    "duration": 74,
    "start_time": "2023-10-27T09:11:50.481Z"
   },
   {
    "duration": 64,
    "start_time": "2023-10-27T09:11:57.873Z"
   },
   {
    "duration": 162,
    "start_time": "2023-10-27T09:12:42.234Z"
   },
   {
    "duration": 71,
    "start_time": "2023-10-27T09:12:49.273Z"
   },
   {
    "duration": 130,
    "start_time": "2023-10-27T09:13:04.193Z"
   },
   {
    "duration": 91,
    "start_time": "2023-10-27T09:13:14.714Z"
   },
   {
    "duration": 71,
    "start_time": "2023-10-27T09:15:40.363Z"
   },
   {
    "duration": 125,
    "start_time": "2023-10-27T09:15:46.445Z"
   },
   {
    "duration": 72,
    "start_time": "2023-10-27T09:15:48.653Z"
   },
   {
    "duration": 78,
    "start_time": "2023-10-27T09:16:01.447Z"
   },
   {
    "duration": 82,
    "start_time": "2023-10-27T09:16:37.833Z"
   },
   {
    "duration": 119,
    "start_time": "2023-10-27T09:16:43.261Z"
   },
   {
    "duration": 113,
    "start_time": "2023-10-27T09:16:46.565Z"
   },
   {
    "duration": 77,
    "start_time": "2023-10-27T09:16:49.425Z"
   },
   {
    "duration": 80,
    "start_time": "2023-10-27T09:16:54.473Z"
   },
   {
    "duration": 84,
    "start_time": "2023-10-27T09:16:57.496Z"
   },
   {
    "duration": 80,
    "start_time": "2023-10-27T09:17:02.028Z"
   },
   {
    "duration": 161,
    "start_time": "2023-10-27T09:17:04.761Z"
   },
   {
    "duration": 137,
    "start_time": "2023-10-27T09:17:09.032Z"
   },
   {
    "duration": 104,
    "start_time": "2023-10-27T09:17:10.984Z"
   },
   {
    "duration": 121,
    "start_time": "2023-10-27T09:17:13.313Z"
   },
   {
    "duration": 85,
    "start_time": "2023-10-27T09:17:16.689Z"
   },
   {
    "duration": 84,
    "start_time": "2023-10-27T09:17:23.001Z"
   },
   {
    "duration": 118,
    "start_time": "2023-10-27T09:17:25.569Z"
   },
   {
    "duration": 88,
    "start_time": "2023-10-27T09:17:29.371Z"
   },
   {
    "duration": 79,
    "start_time": "2023-10-27T09:17:34.400Z"
   },
   {
    "duration": 119,
    "start_time": "2023-10-27T09:17:38.247Z"
   },
   {
    "duration": 118,
    "start_time": "2023-10-27T09:17:43.447Z"
   },
   {
    "duration": 80,
    "start_time": "2023-10-27T09:17:45.232Z"
   },
   {
    "duration": 97,
    "start_time": "2023-10-27T09:18:14.072Z"
   },
   {
    "duration": 73,
    "start_time": "2023-10-27T09:18:39.665Z"
   },
   {
    "duration": 110,
    "start_time": "2023-10-27T09:18:45.920Z"
   },
   {
    "duration": 232,
    "start_time": "2023-10-27T09:19:09.729Z"
   },
   {
    "duration": 83,
    "start_time": "2023-10-27T09:19:22.261Z"
   },
   {
    "duration": 164,
    "start_time": "2023-10-27T09:19:46.357Z"
   },
   {
    "duration": 139,
    "start_time": "2023-10-27T09:19:52.025Z"
   },
   {
    "duration": 93,
    "start_time": "2023-10-27T09:19:56.032Z"
   },
   {
    "duration": 80,
    "start_time": "2023-10-27T09:19:59.070Z"
   },
   {
    "duration": 131,
    "start_time": "2023-10-27T09:20:28.645Z"
   },
   {
    "duration": 123,
    "start_time": "2023-10-27T09:20:31.173Z"
   },
   {
    "duration": 111,
    "start_time": "2023-10-27T09:20:44.281Z"
   },
   {
    "duration": 131,
    "start_time": "2023-10-27T09:21:07.937Z"
   },
   {
    "duration": 103,
    "start_time": "2023-10-27T09:21:25.282Z"
   },
   {
    "duration": 96,
    "start_time": "2023-10-27T09:21:31.416Z"
   },
   {
    "duration": 85,
    "start_time": "2023-10-27T09:21:36.513Z"
   },
   {
    "duration": 79,
    "start_time": "2023-10-27T09:21:45.241Z"
   },
   {
    "duration": 82,
    "start_time": "2023-10-27T09:21:49.955Z"
   },
   {
    "duration": 164,
    "start_time": "2023-10-27T09:21:53.384Z"
   },
   {
    "duration": 86,
    "start_time": "2023-10-27T09:22:47.386Z"
   },
   {
    "duration": 103,
    "start_time": "2023-10-27T09:22:53.120Z"
   },
   {
    "duration": 131,
    "start_time": "2023-10-27T09:24:49.938Z"
   },
   {
    "duration": 140,
    "start_time": "2023-10-27T09:25:06.832Z"
   },
   {
    "duration": 104,
    "start_time": "2023-10-27T09:25:13.496Z"
   },
   {
    "duration": 97,
    "start_time": "2023-10-27T09:25:31.401Z"
   },
   {
    "duration": 145,
    "start_time": "2023-10-27T09:27:22.736Z"
   },
   {
    "duration": 112,
    "start_time": "2023-10-27T09:27:27.909Z"
   },
   {
    "duration": 120,
    "start_time": "2023-10-27T09:27:36.367Z"
   },
   {
    "duration": 107,
    "start_time": "2023-10-27T09:29:47.223Z"
   },
   {
    "duration": 173,
    "start_time": "2023-10-27T09:30:08.112Z"
   },
   {
    "duration": 162,
    "start_time": "2023-10-27T09:30:20.384Z"
   },
   {
    "duration": 111,
    "start_time": "2023-10-27T09:30:27.257Z"
   },
   {
    "duration": 133,
    "start_time": "2023-10-27T09:32:33.726Z"
   },
   {
    "duration": 255,
    "start_time": "2023-10-27T09:32:41.575Z"
   },
   {
    "duration": 140,
    "start_time": "2023-10-27T09:32:48.963Z"
   },
   {
    "duration": 116,
    "start_time": "2023-10-27T09:33:24.821Z"
   },
   {
    "duration": 114,
    "start_time": "2023-10-27T09:34:11.184Z"
   },
   {
    "duration": 123,
    "start_time": "2023-10-27T09:34:15.349Z"
   },
   {
    "duration": 114,
    "start_time": "2023-10-27T09:34:39.734Z"
   },
   {
    "duration": 87,
    "start_time": "2023-10-27T09:34:55.981Z"
   },
   {
    "duration": 147,
    "start_time": "2023-10-27T09:34:59.630Z"
   },
   {
    "duration": 120,
    "start_time": "2023-10-27T09:35:13.801Z"
   },
   {
    "duration": 152,
    "start_time": "2023-10-27T09:35:20.280Z"
   },
   {
    "duration": 99,
    "start_time": "2023-10-27T09:35:46.709Z"
   },
   {
    "duration": 167,
    "start_time": "2023-10-27T09:35:59.629Z"
   },
   {
    "duration": 128,
    "start_time": "2023-10-27T09:36:05.924Z"
   },
   {
    "duration": 90,
    "start_time": "2023-10-27T09:36:53.368Z"
   },
   {
    "duration": 93,
    "start_time": "2023-10-27T09:36:57.726Z"
   },
   {
    "duration": 111,
    "start_time": "2023-10-27T09:37:09.349Z"
   },
   {
    "duration": 110,
    "start_time": "2023-10-27T09:37:35.509Z"
   },
   {
    "duration": 123,
    "start_time": "2023-10-27T09:37:42.182Z"
   },
   {
    "duration": 239,
    "start_time": "2023-10-27T09:37:49.556Z"
   },
   {
    "duration": 107,
    "start_time": "2023-10-27T09:37:58.973Z"
   },
   {
    "duration": 123,
    "start_time": "2023-10-27T09:38:21.847Z"
   },
   {
    "duration": 143,
    "start_time": "2023-10-27T09:38:33.517Z"
   },
   {
    "duration": 125,
    "start_time": "2023-10-27T09:38:35.725Z"
   },
   {
    "duration": 126,
    "start_time": "2023-10-27T09:38:38.325Z"
   },
   {
    "duration": 168,
    "start_time": "2023-10-27T09:38:42.267Z"
   },
   {
    "duration": 142,
    "start_time": "2023-10-27T09:38:51.630Z"
   },
   {
    "duration": 126,
    "start_time": "2023-10-27T09:40:30.390Z"
   },
   {
    "duration": 134,
    "start_time": "2023-10-27T09:40:41.654Z"
   },
   {
    "duration": 109,
    "start_time": "2023-10-27T09:40:45.827Z"
   },
   {
    "duration": 123,
    "start_time": "2023-10-27T09:40:50.315Z"
   },
   {
    "duration": 133,
    "start_time": "2023-10-27T09:40:55.724Z"
   },
   {
    "duration": 115,
    "start_time": "2023-10-27T09:40:58.877Z"
   },
   {
    "duration": 150,
    "start_time": "2023-10-27T09:41:02.777Z"
   },
   {
    "duration": 211,
    "start_time": "2023-10-27T09:41:19.765Z"
   },
   {
    "duration": 100,
    "start_time": "2023-10-27T09:41:30.556Z"
   },
   {
    "duration": 180,
    "start_time": "2023-10-27T09:43:10.788Z"
   },
   {
    "duration": 130,
    "start_time": "2023-10-27T09:43:40.442Z"
   },
   {
    "duration": 169,
    "start_time": "2023-10-27T09:43:55.499Z"
   },
   {
    "duration": 130,
    "start_time": "2023-10-27T09:45:20.204Z"
   },
   {
    "duration": 130,
    "start_time": "2023-10-27T09:45:43.138Z"
   },
   {
    "duration": 120,
    "start_time": "2023-10-27T09:46:04.787Z"
   },
   {
    "duration": 115,
    "start_time": "2023-10-27T09:46:45.164Z"
   },
   {
    "duration": 183,
    "start_time": "2023-10-27T09:47:01.041Z"
   },
   {
    "duration": 176,
    "start_time": "2023-10-27T09:47:10.435Z"
   },
   {
    "duration": 135,
    "start_time": "2023-10-27T09:47:31.382Z"
   },
   {
    "duration": 169,
    "start_time": "2023-10-27T09:52:35.501Z"
   },
   {
    "duration": 191,
    "start_time": "2023-10-27T09:52:42.729Z"
   },
   {
    "duration": 124,
    "start_time": "2023-10-27T09:52:47.803Z"
   },
   {
    "duration": 224,
    "start_time": "2023-10-27T09:53:28.906Z"
   },
   {
    "duration": 178,
    "start_time": "2023-10-27T09:53:33.002Z"
   },
   {
    "duration": 202,
    "start_time": "2023-10-27T09:54:49.426Z"
   },
   {
    "duration": 153,
    "start_time": "2023-10-27T09:56:20.573Z"
   },
   {
    "duration": 27,
    "start_time": "2023-10-27T09:56:33.121Z"
   },
   {
    "duration": 9,
    "start_time": "2023-10-27T09:56:58.683Z"
   },
   {
    "duration": 24,
    "start_time": "2023-10-27T09:57:09.011Z"
   },
   {
    "duration": 145,
    "start_time": "2023-10-27T09:57:39.705Z"
   },
   {
    "duration": 142,
    "start_time": "2023-10-27T09:58:24.964Z"
   },
   {
    "duration": 173,
    "start_time": "2023-10-27T09:58:52.128Z"
   },
   {
    "duration": 5,
    "start_time": "2023-10-27T09:58:59.793Z"
   },
   {
    "duration": 199,
    "start_time": "2023-10-27T10:01:12.065Z"
   },
   {
    "duration": 363,
    "start_time": "2023-10-27T10:03:24.297Z"
   },
   {
    "duration": 359,
    "start_time": "2023-10-27T10:04:01.041Z"
   },
   {
    "duration": 247,
    "start_time": "2023-10-27T10:05:01.789Z"
   },
   {
    "duration": 406,
    "start_time": "2023-10-27T10:05:11.300Z"
   },
   {
    "duration": 24,
    "start_time": "2023-10-27T10:07:24.186Z"
   },
   {
    "duration": 423,
    "start_time": "2023-10-27T10:07:49.695Z"
   },
   {
    "duration": 308,
    "start_time": "2023-10-27T10:10:16.894Z"
   },
   {
    "duration": 23,
    "start_time": "2023-10-27T10:11:49.302Z"
   },
   {
    "duration": 348,
    "start_time": "2023-10-27T10:11:54.813Z"
   },
   {
    "duration": 8,
    "start_time": "2023-10-27T10:12:01.614Z"
   },
   {
    "duration": 6,
    "start_time": "2023-10-27T10:12:29.782Z"
   },
   {
    "duration": 3,
    "start_time": "2023-10-27T10:12:46.173Z"
   },
   {
    "duration": 303,
    "start_time": "2023-10-27T10:34:28.481Z"
   },
   {
    "duration": 291,
    "start_time": "2023-10-27T10:34:43.089Z"
   },
   {
    "duration": 234,
    "start_time": "2023-10-27T10:34:46.358Z"
   },
   {
    "duration": 346,
    "start_time": "2023-10-27T10:34:50.918Z"
   },
   {
    "duration": 344,
    "start_time": "2023-10-27T10:34:55.020Z"
   },
   {
    "duration": 323,
    "start_time": "2023-10-27T10:35:16.710Z"
   },
   {
    "duration": 284,
    "start_time": "2023-10-27T10:36:05.880Z"
   },
   {
    "duration": 272,
    "start_time": "2023-10-27T10:36:16.084Z"
   },
   {
    "duration": 273,
    "start_time": "2023-10-27T10:36:21.471Z"
   },
   {
    "duration": 395,
    "start_time": "2023-10-27T10:36:24.785Z"
   },
   {
    "duration": 282,
    "start_time": "2023-10-27T10:36:30.636Z"
   },
   {
    "duration": 316,
    "start_time": "2023-10-27T10:36:40.789Z"
   },
   {
    "duration": 293,
    "start_time": "2023-10-27T10:36:47.167Z"
   },
   {
    "duration": 8,
    "start_time": "2023-10-27T10:37:05.198Z"
   },
   {
    "duration": 279,
    "start_time": "2023-10-27T10:37:18.651Z"
   },
   {
    "duration": 453,
    "start_time": "2023-10-27T10:37:22.851Z"
   },
   {
    "duration": 300,
    "start_time": "2023-10-27T10:37:43.508Z"
   },
   {
    "duration": 88,
    "start_time": "2023-10-27T10:37:54.765Z"
   },
   {
    "duration": 100,
    "start_time": "2023-10-27T10:38:00.177Z"
   },
   {
    "duration": 301,
    "start_time": "2023-10-27T10:38:06.099Z"
   },
   {
    "duration": 269,
    "start_time": "2023-10-27T10:38:28.456Z"
   },
   {
    "duration": 326,
    "start_time": "2023-10-27T10:38:53.789Z"
   },
   {
    "duration": 514,
    "start_time": "2023-10-27T10:39:15.292Z"
   },
   {
    "duration": 329,
    "start_time": "2023-10-27T10:39:24.635Z"
   },
   {
    "duration": 308,
    "start_time": "2023-10-27T10:39:27.176Z"
   },
   {
    "duration": 329,
    "start_time": "2023-10-27T10:40:57.203Z"
   },
   {
    "duration": 284,
    "start_time": "2023-10-27T10:51:08.495Z"
   },
   {
    "duration": 292,
    "start_time": "2023-10-27T10:55:08.911Z"
   },
   {
    "duration": 425,
    "start_time": "2023-10-27T10:55:27.313Z"
   },
   {
    "duration": 3,
    "start_time": "2023-10-27T10:56:16.726Z"
   },
   {
    "duration": 7,
    "start_time": "2023-10-27T11:00:20.174Z"
   },
   {
    "duration": 285,
    "start_time": "2023-10-27T11:00:44.796Z"
   },
   {
    "duration": 316,
    "start_time": "2023-10-27T11:00:59.342Z"
   },
   {
    "duration": 210,
    "start_time": "2023-10-27T11:19:29.022Z"
   },
   {
    "duration": 1599,
    "start_time": "2023-10-27T11:19:56.222Z"
   },
   {
    "duration": 11,
    "start_time": "2023-10-27T11:20:04.807Z"
   },
   {
    "duration": 378,
    "start_time": "2023-10-27T11:20:11.984Z"
   },
   {
    "duration": 110,
    "start_time": "2023-10-27T11:22:52.662Z"
   },
   {
    "duration": 108,
    "start_time": "2023-10-27T11:23:47.622Z"
   },
   {
    "duration": 113,
    "start_time": "2023-10-27T11:24:25.988Z"
   },
   {
    "duration": 162,
    "start_time": "2023-10-27T11:24:34.102Z"
   },
   {
    "duration": 174,
    "start_time": "2023-10-27T11:25:26.821Z"
   },
   {
    "duration": 110,
    "start_time": "2023-10-27T11:25:33.597Z"
   },
   {
    "duration": 150,
    "start_time": "2023-10-27T11:25:37.171Z"
   },
   {
    "duration": 119,
    "start_time": "2023-10-27T11:26:07.678Z"
   },
   {
    "duration": 168,
    "start_time": "2023-10-27T11:26:49.396Z"
   },
   {
    "duration": 319,
    "start_time": "2023-10-27T11:29:07.220Z"
   },
   {
    "duration": 156,
    "start_time": "2023-10-27T11:29:44.732Z"
   },
   {
    "duration": 287,
    "start_time": "2023-10-27T11:29:53.796Z"
   },
   {
    "duration": 346,
    "start_time": "2023-10-27T11:30:16.650Z"
   },
   {
    "duration": 491,
    "start_time": "2023-10-27T11:30:42.716Z"
   },
   {
    "duration": 375,
    "start_time": "2023-10-27T11:30:59.899Z"
   },
   {
    "duration": 301,
    "start_time": "2023-10-27T11:32:57.627Z"
   },
   {
    "duration": 299,
    "start_time": "2023-10-27T11:33:06.093Z"
   },
   {
    "duration": 318,
    "start_time": "2023-10-27T11:33:22.404Z"
   },
   {
    "duration": 303,
    "start_time": "2023-10-27T11:34:35.349Z"
   },
   {
    "duration": 322,
    "start_time": "2023-10-27T11:34:50.382Z"
   },
   {
    "duration": 310,
    "start_time": "2023-10-27T11:35:23.088Z"
   },
   {
    "duration": 412,
    "start_time": "2023-10-27T11:35:32.802Z"
   },
   {
    "duration": 538,
    "start_time": "2023-10-27T11:37:02.242Z"
   },
   {
    "duration": 383,
    "start_time": "2023-10-27T11:38:25.601Z"
   },
   {
    "duration": 391,
    "start_time": "2023-10-27T11:41:24.090Z"
   },
   {
    "duration": 339,
    "start_time": "2023-10-27T11:41:42.685Z"
   },
   {
    "duration": 410,
    "start_time": "2023-10-27T11:41:51.514Z"
   },
   {
    "duration": 275,
    "start_time": "2023-10-27T11:42:49.561Z"
   },
   {
    "duration": 296,
    "start_time": "2023-10-27T11:43:06.129Z"
   },
   {
    "duration": 298,
    "start_time": "2023-10-27T11:43:39.112Z"
   },
   {
    "duration": 315,
    "start_time": "2023-10-27T11:43:47.669Z"
   },
   {
    "duration": 790,
    "start_time": "2023-10-27T11:44:02.274Z"
   },
   {
    "duration": 536,
    "start_time": "2023-10-27T11:44:09.344Z"
   },
   {
    "duration": 292,
    "start_time": "2023-10-27T11:45:13.361Z"
   },
   {
    "duration": 308,
    "start_time": "2023-10-27T11:45:25.589Z"
   },
   {
    "duration": 281,
    "start_time": "2023-10-27T11:45:35.312Z"
   },
   {
    "duration": 347,
    "start_time": "2023-10-27T11:45:45.445Z"
   },
   {
    "duration": 322,
    "start_time": "2023-10-27T11:45:53.289Z"
   },
   {
    "duration": 621,
    "start_time": "2023-10-27T11:45:56.608Z"
   },
   {
    "duration": 332,
    "start_time": "2023-10-27T11:46:00.252Z"
   },
   {
    "duration": 569,
    "start_time": "2023-10-27T11:47:07.007Z"
   },
   {
    "duration": 1107,
    "start_time": "2023-10-27T11:48:22.931Z"
   },
   {
    "duration": 249,
    "start_time": "2023-10-27T11:48:24.045Z"
   },
   {
    "duration": 38,
    "start_time": "2023-10-27T11:48:24.295Z"
   },
   {
    "duration": 62,
    "start_time": "2023-10-27T11:48:24.335Z"
   },
   {
    "duration": 32,
    "start_time": "2023-10-27T11:48:24.399Z"
   },
   {
    "duration": 4,
    "start_time": "2023-10-27T11:48:24.433Z"
   },
   {
    "duration": 37,
    "start_time": "2023-10-27T11:48:24.439Z"
   },
   {
    "duration": 6,
    "start_time": "2023-10-27T11:48:24.485Z"
   },
   {
    "duration": 38,
    "start_time": "2023-10-27T11:48:24.493Z"
   },
   {
    "duration": 47,
    "start_time": "2023-10-27T11:48:24.533Z"
   },
   {
    "duration": 9,
    "start_time": "2023-10-27T11:48:24.582Z"
   },
   {
    "duration": 11,
    "start_time": "2023-10-27T11:48:24.592Z"
   },
   {
    "duration": 220,
    "start_time": "2023-10-27T11:48:24.605Z"
   },
   {
    "duration": 18,
    "start_time": "2023-10-27T11:48:24.828Z"
   },
   {
    "duration": 117,
    "start_time": "2023-10-27T11:48:24.847Z"
   },
   {
    "duration": 272,
    "start_time": "2023-10-27T11:48:24.965Z"
   },
   {
    "duration": 13,
    "start_time": "2023-10-27T11:48:25.239Z"
   },
   {
    "duration": 15,
    "start_time": "2023-10-27T11:48:25.253Z"
   },
   {
    "duration": 15,
    "start_time": "2023-10-27T11:48:25.269Z"
   },
   {
    "duration": 306,
    "start_time": "2023-10-27T11:48:25.285Z"
   },
   {
    "duration": 6,
    "start_time": "2023-10-27T11:48:25.593Z"
   },
   {
    "duration": 14,
    "start_time": "2023-10-27T11:48:25.601Z"
   },
   {
    "duration": 372,
    "start_time": "2023-10-27T11:48:25.617Z"
   },
   {
    "duration": 300,
    "start_time": "2023-10-27T11:48:25.991Z"
   },
   {
    "duration": 502,
    "start_time": "2023-10-27T11:48:26.296Z"
   },
   {
    "duration": 25,
    "start_time": "2023-10-27T11:48:26.800Z"
   },
   {
    "duration": 35,
    "start_time": "2023-10-27T11:48:26.827Z"
   },
   {
    "duration": 263,
    "start_time": "2023-10-27T11:48:26.872Z"
   },
   {
    "duration": 244,
    "start_time": "2023-10-27T11:48:27.141Z"
   },
   {
    "duration": 301,
    "start_time": "2023-10-27T11:48:27.387Z"
   },
   {
    "duration": 614,
    "start_time": "2023-10-27T11:48:27.689Z"
   },
   {
    "duration": 39,
    "start_time": "2023-10-27T11:48:28.348Z"
   },
   {
    "duration": 510,
    "start_time": "2023-10-27T11:48:28.393Z"
   },
   {
    "duration": 4,
    "start_time": "2023-10-27T11:48:28.939Z"
   },
   {
    "duration": 10,
    "start_time": "2023-10-27T11:48:28.944Z"
   },
   {
    "duration": 12,
    "start_time": "2023-10-27T11:48:28.955Z"
   },
   {
    "duration": 30,
    "start_time": "2023-10-27T11:48:28.969Z"
   },
   {
    "duration": 15,
    "start_time": "2023-10-27T11:48:29.001Z"
   },
   {
    "duration": 46,
    "start_time": "2023-10-27T11:48:29.018Z"
   },
   {
    "duration": 32,
    "start_time": "2023-10-27T11:48:29.066Z"
   },
   {
    "duration": 2150,
    "start_time": "2023-10-27T11:48:29.102Z"
   },
   {
    "duration": 2,
    "start_time": "2023-10-27T11:48:31.253Z"
   },
   {
    "duration": 1110,
    "start_time": "2023-10-27T11:48:58.764Z"
   },
   {
    "duration": 336,
    "start_time": "2023-10-27T11:48:59.875Z"
   },
   {
    "duration": 48,
    "start_time": "2023-10-27T11:49:00.213Z"
   },
   {
    "duration": 38,
    "start_time": "2023-10-27T11:49:00.269Z"
   },
   {
    "duration": 63,
    "start_time": "2023-10-27T11:49:00.309Z"
   },
   {
    "duration": 5,
    "start_time": "2023-10-27T11:49:00.374Z"
   },
   {
    "duration": 46,
    "start_time": "2023-10-27T11:49:00.381Z"
   },
   {
    "duration": 47,
    "start_time": "2023-10-27T11:49:00.428Z"
   },
   {
    "duration": 82,
    "start_time": "2023-10-27T11:49:00.476Z"
   },
   {
    "duration": 12,
    "start_time": "2023-10-27T11:49:00.559Z"
   },
   {
    "duration": 31,
    "start_time": "2023-10-27T11:49:00.572Z"
   },
   {
    "duration": 73,
    "start_time": "2023-10-27T11:49:00.605Z"
   },
   {
    "duration": 389,
    "start_time": "2023-10-27T11:49:00.679Z"
   },
   {
    "duration": 5,
    "start_time": "2023-10-27T11:49:01.072Z"
   },
   {
    "duration": 147,
    "start_time": "2023-10-27T11:49:01.079Z"
   },
   {
    "duration": 278,
    "start_time": "2023-10-27T11:49:01.228Z"
   },
   {
    "duration": 2,
    "start_time": "2023-10-27T11:49:01.508Z"
   },
   {
    "duration": 56,
    "start_time": "2023-10-27T11:49:01.512Z"
   },
   {
    "duration": 49,
    "start_time": "2023-10-27T11:49:01.570Z"
   },
   {
    "duration": 391,
    "start_time": "2023-10-27T11:49:01.621Z"
   },
   {
    "duration": 5,
    "start_time": "2023-10-27T11:49:02.013Z"
   },
   {
    "duration": 61,
    "start_time": "2023-10-27T11:49:02.020Z"
   },
   {
    "duration": 344,
    "start_time": "2023-10-27T11:49:02.082Z"
   },
   {
    "duration": 327,
    "start_time": "2023-10-27T11:49:02.428Z"
   },
   {
    "duration": 349,
    "start_time": "2023-10-27T11:49:02.757Z"
   },
   {
    "duration": 19,
    "start_time": "2023-10-27T11:49:03.107Z"
   },
   {
    "duration": 40,
    "start_time": "2023-10-27T11:49:03.127Z"
   },
   {
    "duration": 240,
    "start_time": "2023-10-27T11:49:03.170Z"
   },
   {
    "duration": 442,
    "start_time": "2023-10-27T11:49:03.412Z"
   },
   {
    "duration": 518,
    "start_time": "2023-10-27T11:49:03.857Z"
   },
   {
    "duration": 499,
    "start_time": "2023-10-27T11:49:04.377Z"
   },
   {
    "duration": 103,
    "start_time": "2023-10-27T11:49:04.877Z"
   },
   {
    "duration": 419,
    "start_time": "2023-10-27T11:49:04.982Z"
   },
   {
    "duration": 4,
    "start_time": "2023-10-27T11:49:05.403Z"
   },
   {
    "duration": 11,
    "start_time": "2023-10-27T11:49:05.409Z"
   },
   {
    "duration": 14,
    "start_time": "2023-10-27T11:49:05.421Z"
   },
   {
    "duration": 12,
    "start_time": "2023-10-27T11:49:05.457Z"
   },
   {
    "duration": 15,
    "start_time": "2023-10-27T11:49:05.470Z"
   },
   {
    "duration": 22,
    "start_time": "2023-10-27T11:49:05.486Z"
   },
   {
    "duration": 23,
    "start_time": "2023-10-27T11:49:05.509Z"
   },
   {
    "duration": 1816,
    "start_time": "2023-10-27T11:49:05.536Z"
   },
   {
    "duration": 7,
    "start_time": "2023-10-27T11:49:07.353Z"
   },
   {
    "duration": 84352,
    "start_time": "2023-10-27T11:49:07.361Z"
   },
   {
    "duration": 5,
    "start_time": "2023-10-27T11:50:31.714Z"
   },
   {
    "duration": 39,
    "start_time": "2023-10-27T11:50:31.721Z"
   },
   {
    "duration": 452,
    "start_time": "2023-10-27T11:50:41.575Z"
   },
   {
    "duration": 351,
    "start_time": "2023-10-27T11:50:49.953Z"
   },
   {
    "duration": 421,
    "start_time": "2023-10-27T11:50:57.302Z"
   },
   {
    "duration": 472,
    "start_time": "2023-10-27T11:51:14.493Z"
   },
   {
    "duration": 663,
    "start_time": "2023-10-27T11:51:35.053Z"
   },
   {
    "duration": 469,
    "start_time": "2023-10-27T11:51:48.746Z"
   },
   {
    "duration": 39,
    "start_time": "2023-10-27T12:47:58.843Z"
   },
   {
    "duration": 43,
    "start_time": "2023-10-27T12:48:07.019Z"
   },
   {
    "duration": 35,
    "start_time": "2023-10-27T12:48:10.875Z"
   },
   {
    "duration": 39,
    "start_time": "2023-10-27T12:48:22.732Z"
   },
   {
    "duration": 77,
    "start_time": "2023-10-27T12:50:12.219Z"
   },
   {
    "duration": 29,
    "start_time": "2023-10-27T12:50:20.898Z"
   },
   {
    "duration": 21,
    "start_time": "2023-10-27T12:50:25.954Z"
   },
   {
    "duration": 95,
    "start_time": "2023-10-27T12:50:54.723Z"
   },
   {
    "duration": 255,
    "start_time": "2023-10-27T12:50:58.058Z"
   },
   {
    "duration": 83,
    "start_time": "2023-10-27T12:51:08.130Z"
   },
   {
    "duration": 39,
    "start_time": "2023-10-27T12:51:38.434Z"
   },
   {
    "duration": 35,
    "start_time": "2023-10-27T12:52:12.538Z"
   },
   {
    "duration": 19,
    "start_time": "2023-10-27T12:52:25.306Z"
   },
   {
    "duration": 21,
    "start_time": "2023-10-27T12:52:33.106Z"
   },
   {
    "duration": 21,
    "start_time": "2023-10-27T12:52:43.874Z"
   },
   {
    "duration": 24,
    "start_time": "2023-10-27T12:56:02.263Z"
   },
   {
    "duration": 44,
    "start_time": "2023-10-27T12:56:34.249Z"
   },
   {
    "duration": 90,
    "start_time": "2023-10-27T12:57:15.777Z"
   },
   {
    "duration": 5,
    "start_time": "2023-10-27T12:57:21.392Z"
   },
   {
    "duration": 5,
    "start_time": "2023-10-27T12:57:26.880Z"
   },
   {
    "duration": 8,
    "start_time": "2023-10-27T12:57:38.560Z"
   },
   {
    "duration": 4,
    "start_time": "2023-10-27T12:58:03.072Z"
   },
   {
    "duration": 4,
    "start_time": "2023-10-27T12:58:07.817Z"
   },
   {
    "duration": 7,
    "start_time": "2023-10-27T12:59:23.175Z"
   },
   {
    "duration": 15,
    "start_time": "2023-10-27T13:00:42.392Z"
   },
   {
    "duration": 11,
    "start_time": "2023-10-27T13:00:56.025Z"
   },
   {
    "duration": 82,
    "start_time": "2023-10-27T13:06:11.229Z"
   },
   {
    "duration": 83,
    "start_time": "2023-10-27T13:06:32.711Z"
   },
   {
    "duration": 9,
    "start_time": "2023-10-27T13:06:42.893Z"
   },
   {
    "duration": 9,
    "start_time": "2023-10-27T13:07:01.403Z"
   },
   {
    "duration": 11,
    "start_time": "2023-10-27T13:07:13.382Z"
   },
   {
    "duration": 23,
    "start_time": "2023-10-27T13:10:09.061Z"
   },
   {
    "duration": 11,
    "start_time": "2023-10-27T13:10:31.804Z"
   },
   {
    "duration": 23,
    "start_time": "2023-10-27T13:10:43.863Z"
   },
   {
    "duration": 15,
    "start_time": "2023-10-27T13:15:21.198Z"
   },
   {
    "duration": 111,
    "start_time": "2023-10-27T13:16:05.593Z"
   },
   {
    "duration": 73,
    "start_time": "2023-10-27T13:16:18.629Z"
   },
   {
    "duration": 17,
    "start_time": "2023-10-27T13:16:32.302Z"
   },
   {
    "duration": 14,
    "start_time": "2023-10-27T13:16:40.300Z"
   },
   {
    "duration": 45,
    "start_time": "2023-10-27T13:17:24.858Z"
   },
   {
    "duration": 24,
    "start_time": "2023-10-27T13:17:54.473Z"
   },
   {
    "duration": 17,
    "start_time": "2023-10-27T13:18:06.200Z"
   },
   {
    "duration": 105,
    "start_time": "2023-10-27T13:18:31.160Z"
   },
   {
    "duration": 26,
    "start_time": "2023-10-27T13:18:47.266Z"
   },
   {
    "duration": 175,
    "start_time": "2023-10-27T13:20:05.685Z"
   },
   {
    "duration": 13,
    "start_time": "2023-10-27T13:20:16.710Z"
   },
   {
    "duration": 13,
    "start_time": "2023-10-27T13:21:06.998Z"
   },
   {
    "duration": 18,
    "start_time": "2023-10-27T13:21:12.289Z"
   },
   {
    "duration": 33,
    "start_time": "2023-10-27T13:21:18.669Z"
   },
   {
    "duration": 207,
    "start_time": "2023-10-27T13:27:49.757Z"
   },
   {
    "duration": 200,
    "start_time": "2023-10-27T13:28:07.856Z"
   },
   {
    "duration": 249,
    "start_time": "2023-10-27T13:32:21.939Z"
   },
   {
    "duration": 174,
    "start_time": "2023-10-27T13:32:26.497Z"
   },
   {
    "duration": 177,
    "start_time": "2023-10-27T13:32:29.099Z"
   },
   {
    "duration": 184,
    "start_time": "2023-10-27T13:34:04.907Z"
   },
   {
    "duration": 339,
    "start_time": "2023-10-27T13:34:13.286Z"
   },
   {
    "duration": 619,
    "start_time": "2023-10-27T13:36:50.757Z"
   },
   {
    "duration": 420,
    "start_time": "2023-10-27T13:37:15.891Z"
   },
   {
    "duration": 402,
    "start_time": "2023-10-27T13:38:20.246Z"
   },
   {
    "duration": 515,
    "start_time": "2023-10-27T13:39:27.969Z"
   },
   {
    "duration": 610,
    "start_time": "2023-10-27T13:39:52.898Z"
   },
   {
    "duration": 572,
    "start_time": "2023-10-27T13:40:08.714Z"
   },
   {
    "duration": 585,
    "start_time": "2023-10-27T13:40:20.122Z"
   },
   {
    "duration": 654,
    "start_time": "2023-10-27T13:41:45.138Z"
   },
   {
    "duration": 229,
    "start_time": "2023-10-27T13:42:48.297Z"
   },
   {
    "duration": 103,
    "start_time": "2023-10-27T13:42:59.397Z"
   },
   {
    "duration": 82,
    "start_time": "2023-10-27T13:43:08.130Z"
   },
   {
    "duration": 552,
    "start_time": "2023-10-27T13:43:21.604Z"
   },
   {
    "duration": 549,
    "start_time": "2023-10-27T13:43:27.609Z"
   },
   {
    "duration": 156,
    "start_time": "2023-10-27T13:43:36.853Z"
   },
   {
    "duration": 532,
    "start_time": "2023-10-27T13:43:41.601Z"
   },
   {
    "duration": 746,
    "start_time": "2023-10-27T13:43:51.081Z"
   },
   {
    "duration": 539,
    "start_time": "2023-10-27T13:44:06.853Z"
   },
   {
    "duration": 569,
    "start_time": "2023-10-27T13:44:14.017Z"
   },
   {
    "duration": 2,
    "start_time": "2023-10-27T13:52:07.520Z"
   },
   {
    "duration": 625,
    "start_time": "2023-10-27T13:55:38.559Z"
   },
   {
    "duration": 526,
    "start_time": "2023-10-27T13:55:49.385Z"
   },
   {
    "duration": 506,
    "start_time": "2023-10-27T13:58:51.055Z"
   },
   {
    "duration": 565,
    "start_time": "2023-10-27T13:59:11.265Z"
   },
   {
    "duration": 517,
    "start_time": "2023-10-27T14:00:56.968Z"
   },
   {
    "duration": 503,
    "start_time": "2023-10-27T14:01:20.398Z"
   },
   {
    "duration": 596,
    "start_time": "2023-10-27T14:01:28.806Z"
   },
   {
    "duration": 6,
    "start_time": "2023-10-27T14:02:52.919Z"
   },
   {
    "duration": 6,
    "start_time": "2023-10-27T14:03:02.294Z"
   },
   {
    "duration": 525,
    "start_time": "2023-10-27T14:03:12.554Z"
   },
   {
    "duration": 480,
    "start_time": "2023-10-27T14:03:23.823Z"
   },
   {
    "duration": 590,
    "start_time": "2023-10-27T14:03:30.911Z"
   },
   {
    "duration": 505,
    "start_time": "2023-10-27T14:03:41.255Z"
   },
   {
    "duration": 571,
    "start_time": "2023-10-27T14:15:27.805Z"
   },
   {
    "duration": 652,
    "start_time": "2023-10-27T14:15:42.892Z"
   },
   {
    "duration": 614,
    "start_time": "2023-10-27T14:15:59.092Z"
   },
   {
    "duration": 4,
    "start_time": "2023-10-27T14:54:02.824Z"
   },
   {
    "duration": 5,
    "start_time": "2023-10-27T14:54:25.630Z"
   },
   {
    "duration": 4,
    "start_time": "2023-10-27T14:54:31.088Z"
   },
   {
    "duration": 38,
    "start_time": "2023-10-27T14:58:05.461Z"
   },
   {
    "duration": 30,
    "start_time": "2023-10-27T15:00:35.902Z"
   },
   {
    "duration": 28,
    "start_time": "2023-10-27T15:00:51.686Z"
   },
   {
    "duration": 51,
    "start_time": "2023-10-27T15:02:02.929Z"
   },
   {
    "duration": 50,
    "start_time": "2023-10-27T15:03:12.814Z"
   },
   {
    "duration": 49,
    "start_time": "2023-10-27T15:03:24.014Z"
   },
   {
    "duration": 28,
    "start_time": "2023-10-27T15:03:34.197Z"
   },
   {
    "duration": 25,
    "start_time": "2023-10-27T15:03:43.405Z"
   },
   {
    "duration": 44,
    "start_time": "2023-10-27T15:03:51.660Z"
   },
   {
    "duration": 7,
    "start_time": "2023-10-27T15:05:32.598Z"
   },
   {
    "duration": 8,
    "start_time": "2023-10-27T15:05:39.573Z"
   },
   {
    "duration": 16,
    "start_time": "2023-10-27T15:05:47.544Z"
   },
   {
    "duration": 5,
    "start_time": "2023-10-27T15:05:50.989Z"
   },
   {
    "duration": 11,
    "start_time": "2023-10-27T15:05:53.949Z"
   },
   {
    "duration": 326,
    "start_time": "2023-10-27T15:13:20.038Z"
   },
   {
    "duration": 25,
    "start_time": "2023-10-27T15:16:00.334Z"
   },
   {
    "duration": 9,
    "start_time": "2023-10-27T15:17:07.673Z"
   },
   {
    "duration": 26,
    "start_time": "2023-10-27T15:17:11.669Z"
   },
   {
    "duration": 4,
    "start_time": "2023-10-27T15:17:28.027Z"
   },
   {
    "duration": 1132,
    "start_time": "2023-10-27T15:17:49.692Z"
   },
   {
    "duration": 262,
    "start_time": "2023-10-27T15:17:50.825Z"
   },
   {
    "duration": 28,
    "start_time": "2023-10-27T15:17:51.089Z"
   },
   {
    "duration": 57,
    "start_time": "2023-10-27T15:17:51.120Z"
   },
   {
    "duration": 25,
    "start_time": "2023-10-27T15:17:51.178Z"
   },
   {
    "duration": 3,
    "start_time": "2023-10-27T15:17:51.204Z"
   },
   {
    "duration": 7,
    "start_time": "2023-10-27T15:17:51.209Z"
   },
   {
    "duration": 5,
    "start_time": "2023-10-27T15:17:51.217Z"
   },
   {
    "duration": 69,
    "start_time": "2023-10-27T15:17:51.224Z"
   },
   {
    "duration": 6,
    "start_time": "2023-10-27T15:17:51.296Z"
   },
   {
    "duration": 13,
    "start_time": "2023-10-27T15:17:51.304Z"
   },
   {
    "duration": 12,
    "start_time": "2023-10-27T15:17:51.318Z"
   },
   {
    "duration": 236,
    "start_time": "2023-10-27T15:17:51.331Z"
   },
   {
    "duration": 12,
    "start_time": "2023-10-27T15:17:51.577Z"
   },
   {
    "duration": 161,
    "start_time": "2023-10-27T15:17:51.590Z"
   },
   {
    "duration": 311,
    "start_time": "2023-10-27T15:17:51.759Z"
   },
   {
    "duration": 2,
    "start_time": "2023-10-27T15:17:52.079Z"
   },
   {
    "duration": 7,
    "start_time": "2023-10-27T15:17:52.083Z"
   },
   {
    "duration": 9,
    "start_time": "2023-10-27T15:17:52.091Z"
   },
   {
    "duration": 290,
    "start_time": "2023-10-27T15:17:52.101Z"
   },
   {
    "duration": 7,
    "start_time": "2023-10-27T15:17:52.393Z"
   },
   {
    "duration": 14,
    "start_time": "2023-10-27T15:17:52.402Z"
   },
   {
    "duration": 389,
    "start_time": "2023-10-27T15:17:52.417Z"
   },
   {
    "duration": 291,
    "start_time": "2023-10-27T15:17:52.808Z"
   },
   {
    "duration": 490,
    "start_time": "2023-10-27T15:17:53.101Z"
   },
   {
    "duration": 24,
    "start_time": "2023-10-27T15:17:53.592Z"
   },
   {
    "duration": 38,
    "start_time": "2023-10-27T15:17:53.618Z"
   },
   {
    "duration": 15,
    "start_time": "2023-10-27T15:17:53.671Z"
   },
   {
    "duration": 289,
    "start_time": "2023-10-27T15:17:53.687Z"
   },
   {
    "duration": 219,
    "start_time": "2023-10-27T15:17:53.981Z"
   },
   {
    "duration": 256,
    "start_time": "2023-10-27T15:17:54.201Z"
   },
   {
    "duration": 228,
    "start_time": "2023-10-27T15:17:54.471Z"
   },
   {
    "duration": 563,
    "start_time": "2023-10-27T15:17:54.701Z"
   },
   {
    "duration": 488,
    "start_time": "2023-10-27T15:17:55.273Z"
   },
   {
    "duration": 53,
    "start_time": "2023-10-27T15:17:55.762Z"
   },
   {
    "duration": 5,
    "start_time": "2023-10-27T15:17:55.816Z"
   },
   {
    "duration": 48,
    "start_time": "2023-10-27T15:17:55.822Z"
   },
   {
    "duration": 1501,
    "start_time": "2023-10-27T15:17:55.877Z"
   },
   {
    "duration": 0,
    "start_time": "2023-10-27T15:17:57.380Z"
   },
   {
    "duration": 0,
    "start_time": "2023-10-27T15:17:57.381Z"
   },
   {
    "duration": 0,
    "start_time": "2023-10-27T15:17:57.382Z"
   },
   {
    "duration": 0,
    "start_time": "2023-10-27T15:17:57.383Z"
   },
   {
    "duration": 1,
    "start_time": "2023-10-27T15:17:57.383Z"
   },
   {
    "duration": 0,
    "start_time": "2023-10-27T15:17:57.385Z"
   },
   {
    "duration": 0,
    "start_time": "2023-10-27T15:17:57.386Z"
   },
   {
    "duration": 0,
    "start_time": "2023-10-27T15:17:57.386Z"
   },
   {
    "duration": 0,
    "start_time": "2023-10-27T15:17:57.387Z"
   },
   {
    "duration": 0,
    "start_time": "2023-10-27T15:17:57.388Z"
   },
   {
    "duration": 0,
    "start_time": "2023-10-27T15:17:57.389Z"
   },
   {
    "duration": 86,
    "start_time": "2023-10-27T15:19:14.160Z"
   },
   {
    "duration": 1405,
    "start_time": "2023-10-27T15:19:19.106Z"
   },
   {
    "duration": 9,
    "start_time": "2023-10-27T15:19:38.196Z"
   },
   {
    "duration": 22,
    "start_time": "2023-10-27T15:19:40.611Z"
   },
   {
    "duration": 1066,
    "start_time": "2023-10-27T15:19:57.508Z"
   },
   {
    "duration": 308,
    "start_time": "2023-10-27T15:19:58.576Z"
   },
   {
    "duration": 27,
    "start_time": "2023-10-27T15:19:58.886Z"
   },
   {
    "duration": 42,
    "start_time": "2023-10-27T15:19:58.914Z"
   },
   {
    "duration": 29,
    "start_time": "2023-10-27T15:19:58.969Z"
   },
   {
    "duration": 3,
    "start_time": "2023-10-27T15:19:59.000Z"
   },
   {
    "duration": 5,
    "start_time": "2023-10-27T15:19:59.005Z"
   },
   {
    "duration": 5,
    "start_time": "2023-10-27T15:19:59.011Z"
   },
   {
    "duration": 58,
    "start_time": "2023-10-27T15:19:59.018Z"
   },
   {
    "duration": 7,
    "start_time": "2023-10-27T15:19:59.078Z"
   },
   {
    "duration": 7,
    "start_time": "2023-10-27T15:19:59.086Z"
   },
   {
    "duration": 10,
    "start_time": "2023-10-27T15:19:59.094Z"
   },
   {
    "duration": 214,
    "start_time": "2023-10-27T15:19:59.105Z"
   },
   {
    "duration": 5,
    "start_time": "2023-10-27T15:19:59.322Z"
   },
   {
    "duration": 127,
    "start_time": "2023-10-27T15:19:59.329Z"
   },
   {
    "duration": 282,
    "start_time": "2023-10-27T15:19:59.457Z"
   },
   {
    "duration": 2,
    "start_time": "2023-10-27T15:19:59.741Z"
   },
   {
    "duration": 4,
    "start_time": "2023-10-27T15:19:59.744Z"
   },
   {
    "duration": 27,
    "start_time": "2023-10-27T15:19:59.749Z"
   },
   {
    "duration": 287,
    "start_time": "2023-10-27T15:19:59.777Z"
   },
   {
    "duration": 9,
    "start_time": "2023-10-27T15:20:00.065Z"
   },
   {
    "duration": 35,
    "start_time": "2023-10-27T15:20:00.075Z"
   },
   {
    "duration": 330,
    "start_time": "2023-10-27T15:20:00.111Z"
   },
   {
    "duration": 286,
    "start_time": "2023-10-27T15:20:00.443Z"
   },
   {
    "duration": 499,
    "start_time": "2023-10-27T15:20:00.731Z"
   },
   {
    "duration": 49,
    "start_time": "2023-10-27T15:20:01.232Z"
   },
   {
    "duration": 65,
    "start_time": "2023-10-27T15:20:01.283Z"
   },
   {
    "duration": 42,
    "start_time": "2023-10-27T15:20:01.349Z"
   },
   {
    "duration": 317,
    "start_time": "2023-10-27T15:20:01.392Z"
   },
   {
    "duration": 213,
    "start_time": "2023-10-27T15:20:01.711Z"
   },
   {
    "duration": 256,
    "start_time": "2023-10-27T15:20:01.926Z"
   },
   {
    "duration": 241,
    "start_time": "2023-10-27T15:20:02.184Z"
   },
   {
    "duration": 601,
    "start_time": "2023-10-27T15:20:02.427Z"
   },
   {
    "duration": 495,
    "start_time": "2023-10-27T15:20:03.030Z"
   },
   {
    "duration": 60,
    "start_time": "2023-10-27T15:20:03.527Z"
   },
   {
    "duration": 5,
    "start_time": "2023-10-27T15:20:03.589Z"
   },
   {
    "duration": 35,
    "start_time": "2023-10-27T15:20:03.596Z"
   },
   {
    "duration": 2851,
    "start_time": "2023-10-27T15:20:03.633Z"
   },
   {
    "duration": 0,
    "start_time": "2023-10-27T15:20:06.486Z"
   },
   {
    "duration": 0,
    "start_time": "2023-10-27T15:20:06.487Z"
   },
   {
    "duration": 0,
    "start_time": "2023-10-27T15:20:06.488Z"
   },
   {
    "duration": 0,
    "start_time": "2023-10-27T15:20:06.489Z"
   },
   {
    "duration": 0,
    "start_time": "2023-10-27T15:20:06.490Z"
   },
   {
    "duration": 0,
    "start_time": "2023-10-27T15:20:06.491Z"
   },
   {
    "duration": 0,
    "start_time": "2023-10-27T15:20:06.492Z"
   },
   {
    "duration": 0,
    "start_time": "2023-10-27T15:20:06.493Z"
   },
   {
    "duration": 0,
    "start_time": "2023-10-27T15:20:06.494Z"
   },
   {
    "duration": 0,
    "start_time": "2023-10-27T15:20:06.495Z"
   },
   {
    "duration": 0,
    "start_time": "2023-10-27T15:20:06.496Z"
   },
   {
    "duration": 1486,
    "start_time": "2023-10-27T15:21:26.612Z"
   },
   {
    "duration": 258,
    "start_time": "2023-10-27T15:45:01.735Z"
   },
   {
    "duration": 1097,
    "start_time": "2023-10-27T15:45:19.251Z"
   },
   {
    "duration": 251,
    "start_time": "2023-10-27T15:45:20.349Z"
   },
   {
    "duration": 29,
    "start_time": "2023-10-27T15:45:20.601Z"
   },
   {
    "duration": 29,
    "start_time": "2023-10-27T15:45:20.632Z"
   },
   {
    "duration": 29,
    "start_time": "2023-10-27T15:45:20.662Z"
   },
   {
    "duration": 5,
    "start_time": "2023-10-27T15:45:20.693Z"
   },
   {
    "duration": 7,
    "start_time": "2023-10-27T15:45:20.699Z"
   },
   {
    "duration": 5,
    "start_time": "2023-10-27T15:45:20.707Z"
   },
   {
    "duration": 52,
    "start_time": "2023-10-27T15:45:20.741Z"
   },
   {
    "duration": 7,
    "start_time": "2023-10-27T15:45:20.795Z"
   },
   {
    "duration": 10,
    "start_time": "2023-10-27T15:45:20.804Z"
   },
   {
    "duration": 28,
    "start_time": "2023-10-27T15:45:20.816Z"
   },
   {
    "duration": 244,
    "start_time": "2023-10-27T15:45:20.845Z"
   },
   {
    "duration": 4,
    "start_time": "2023-10-27T15:45:21.091Z"
   },
   {
    "duration": 134,
    "start_time": "2023-10-27T15:45:21.096Z"
   },
   {
    "duration": 287,
    "start_time": "2023-10-27T15:45:21.231Z"
   },
   {
    "duration": 2,
    "start_time": "2023-10-27T15:45:21.519Z"
   },
   {
    "duration": 3,
    "start_time": "2023-10-27T15:45:21.523Z"
   },
   {
    "duration": 36,
    "start_time": "2023-10-27T15:45:21.528Z"
   },
   {
    "duration": 303,
    "start_time": "2023-10-27T15:45:21.570Z"
   },
   {
    "duration": 8,
    "start_time": "2023-10-27T15:45:21.874Z"
   },
   {
    "duration": 5,
    "start_time": "2023-10-27T15:45:21.883Z"
   },
   {
    "duration": 359,
    "start_time": "2023-10-27T15:45:21.890Z"
   },
   {
    "duration": 305,
    "start_time": "2023-10-27T15:45:22.250Z"
   },
   {
    "duration": 540,
    "start_time": "2023-10-27T15:45:22.557Z"
   },
   {
    "duration": 21,
    "start_time": "2023-10-27T15:45:23.099Z"
   },
   {
    "duration": 22,
    "start_time": "2023-10-27T15:45:23.122Z"
   },
   {
    "duration": 22,
    "start_time": "2023-10-27T15:45:23.149Z"
   },
   {
    "duration": 255,
    "start_time": "2023-10-27T15:45:23.172Z"
   },
   {
    "duration": 227,
    "start_time": "2023-10-27T15:45:23.429Z"
   },
   {
    "duration": 261,
    "start_time": "2023-10-27T15:45:23.657Z"
   },
   {
    "duration": 248,
    "start_time": "2023-10-27T15:45:23.920Z"
   },
   {
    "duration": 560,
    "start_time": "2023-10-27T15:45:24.169Z"
   },
   {
    "duration": 521,
    "start_time": "2023-10-27T15:45:24.730Z"
   },
   {
    "duration": 43,
    "start_time": "2023-10-27T15:45:25.263Z"
   },
   {
    "duration": 5,
    "start_time": "2023-10-27T15:45:25.307Z"
   },
   {
    "duration": 250,
    "start_time": "2023-10-27T15:45:25.314Z"
   },
   {
    "duration": 9,
    "start_time": "2023-10-27T15:45:25.575Z"
   },
   {
    "duration": 4,
    "start_time": "2023-10-27T15:45:25.586Z"
   },
   {
    "duration": 5,
    "start_time": "2023-10-27T15:45:25.592Z"
   },
   {
    "duration": 3,
    "start_time": "2023-10-27T15:45:25.599Z"
   },
   {
    "duration": 19,
    "start_time": "2023-10-27T15:45:25.603Z"
   },
   {
    "duration": 18,
    "start_time": "2023-10-27T15:45:25.623Z"
   },
   {
    "duration": 15,
    "start_time": "2023-10-27T15:45:25.649Z"
   },
   {
    "duration": 2026,
    "start_time": "2023-10-27T15:45:25.665Z"
   },
   {
    "duration": 2,
    "start_time": "2023-10-27T15:45:27.693Z"
   },
   {
    "duration": 91513,
    "start_time": "2023-10-27T15:45:27.697Z"
   },
   {
    "duration": 4,
    "start_time": "2023-10-27T15:46:59.211Z"
   },
   {
    "duration": 6,
    "start_time": "2023-10-27T15:46:59.217Z"
   },
   {
    "duration": 1444,
    "start_time": "2023-10-27T15:47:35.019Z"
   },
   {
    "duration": 1179,
    "start_time": "2023-10-27T15:47:56.977Z"
   },
   {
    "duration": 261,
    "start_time": "2023-10-27T15:47:58.167Z"
   },
   {
    "duration": 58,
    "start_time": "2023-10-27T15:47:58.429Z"
   },
   {
    "duration": 26,
    "start_time": "2023-10-27T15:47:58.489Z"
   },
   {
    "duration": 34,
    "start_time": "2023-10-27T15:47:58.518Z"
   },
   {
    "duration": 16,
    "start_time": "2023-10-27T15:47:58.560Z"
   },
   {
    "duration": 7,
    "start_time": "2023-10-27T15:47:58.586Z"
   },
   {
    "duration": 5,
    "start_time": "2023-10-27T15:47:58.595Z"
   },
   {
    "duration": 74,
    "start_time": "2023-10-27T15:47:58.601Z"
   },
   {
    "duration": 10,
    "start_time": "2023-10-27T15:47:58.683Z"
   },
   {
    "duration": 11,
    "start_time": "2023-10-27T15:47:58.694Z"
   },
   {
    "duration": 10,
    "start_time": "2023-10-27T15:47:58.706Z"
   },
   {
    "duration": 224,
    "start_time": "2023-10-27T15:47:58.718Z"
   },
   {
    "duration": 5,
    "start_time": "2023-10-27T15:47:58.945Z"
   },
   {
    "duration": 124,
    "start_time": "2023-10-27T15:47:58.951Z"
   },
   {
    "duration": 292,
    "start_time": "2023-10-27T15:47:59.076Z"
   },
   {
    "duration": 11,
    "start_time": "2023-10-27T15:47:59.369Z"
   },
   {
    "duration": 9,
    "start_time": "2023-10-27T15:47:59.381Z"
   },
   {
    "duration": 6,
    "start_time": "2023-10-27T15:47:59.391Z"
   },
   {
    "duration": 315,
    "start_time": "2023-10-27T15:47:59.399Z"
   },
   {
    "duration": 5,
    "start_time": "2023-10-27T15:47:59.716Z"
   },
   {
    "duration": 42,
    "start_time": "2023-10-27T15:47:59.722Z"
   },
   {
    "duration": 327,
    "start_time": "2023-10-27T15:47:59.773Z"
   },
   {
    "duration": 311,
    "start_time": "2023-10-27T15:48:00.102Z"
   },
   {
    "duration": 519,
    "start_time": "2023-10-27T15:48:00.414Z"
   },
   {
    "duration": 48,
    "start_time": "2023-10-27T15:48:00.935Z"
   },
   {
    "duration": 13,
    "start_time": "2023-10-27T15:48:00.984Z"
   },
   {
    "duration": 57,
    "start_time": "2023-10-27T15:48:00.998Z"
   },
   {
    "duration": 269,
    "start_time": "2023-10-27T15:48:01.057Z"
   },
   {
    "duration": 231,
    "start_time": "2023-10-27T15:48:01.328Z"
   },
   {
    "duration": 268,
    "start_time": "2023-10-27T15:48:01.560Z"
   },
   {
    "duration": 265,
    "start_time": "2023-10-27T15:48:01.830Z"
   },
   {
    "duration": 630,
    "start_time": "2023-10-27T15:48:02.097Z"
   },
   {
    "duration": 564,
    "start_time": "2023-10-27T15:48:02.730Z"
   },
   {
    "duration": 57,
    "start_time": "2023-10-27T15:48:03.296Z"
   },
   {
    "duration": 18,
    "start_time": "2023-10-27T15:48:03.354Z"
   },
   {
    "duration": 254,
    "start_time": "2023-10-27T15:48:03.373Z"
   },
   {
    "duration": 4,
    "start_time": "2023-10-27T15:48:03.629Z"
   },
   {
    "duration": 23,
    "start_time": "2023-10-27T15:48:03.634Z"
   },
   {
    "duration": 26,
    "start_time": "2023-10-27T15:48:03.658Z"
   },
   {
    "duration": 25,
    "start_time": "2023-10-27T15:48:03.687Z"
   },
   {
    "duration": 62,
    "start_time": "2023-10-27T15:48:03.713Z"
   },
   {
    "duration": 33,
    "start_time": "2023-10-27T15:48:03.776Z"
   },
   {
    "duration": 62,
    "start_time": "2023-10-27T15:48:03.810Z"
   },
   {
    "duration": 2425,
    "start_time": "2023-10-27T15:48:03.875Z"
   },
   {
    "duration": 42,
    "start_time": "2023-10-27T15:48:06.302Z"
   },
   {
    "duration": 93945,
    "start_time": "2023-10-27T15:48:06.346Z"
   },
   {
    "duration": 5,
    "start_time": "2023-10-27T15:49:40.292Z"
   },
   {
    "duration": 9,
    "start_time": "2023-10-27T15:49:40.298Z"
   },
   {
    "duration": 7,
    "start_time": "2023-10-27T16:27:24.892Z"
   },
   {
    "duration": 5,
    "start_time": "2023-10-27T16:27:31.915Z"
   },
   {
    "duration": 1718,
    "start_time": "2023-10-27T17:14:47.241Z"
   },
   {
    "duration": 2083,
    "start_time": "2023-10-27T17:14:58.785Z"
   },
   {
    "duration": 302,
    "start_time": "2023-10-27T17:20:51.057Z"
   },
   {
    "duration": 270,
    "start_time": "2023-10-27T17:20:56.811Z"
   },
   {
    "duration": 337,
    "start_time": "2023-10-27T17:22:20.490Z"
   },
   {
    "duration": 2290,
    "start_time": "2023-10-27T17:26:02.906Z"
   },
   {
    "duration": 2407,
    "start_time": "2023-10-27T17:28:04.834Z"
   },
   {
    "duration": 2308,
    "start_time": "2023-10-27T17:29:30.374Z"
   },
   {
    "duration": 2354,
    "start_time": "2023-10-27T17:33:05.152Z"
   },
   {
    "duration": 2260,
    "start_time": "2023-10-27T17:34:06.808Z"
   },
   {
    "duration": 2194,
    "start_time": "2023-10-27T17:34:52.248Z"
   },
   {
    "duration": 2227,
    "start_time": "2023-10-27T17:48:42.949Z"
   },
   {
    "duration": 2713,
    "start_time": "2023-10-27T17:49:17.357Z"
   },
   {
    "duration": 2271,
    "start_time": "2023-10-27T17:49:51.229Z"
   },
   {
    "duration": 2342,
    "start_time": "2023-10-27T17:51:49.301Z"
   },
   {
    "duration": 2231,
    "start_time": "2023-10-27T17:53:08.923Z"
   },
   {
    "duration": 2268,
    "start_time": "2023-10-27T17:53:58.334Z"
   },
   {
    "duration": 2620,
    "start_time": "2023-10-27T17:56:59.501Z"
   },
   {
    "duration": 1681,
    "start_time": "2023-10-27T17:57:16.710Z"
   },
   {
    "duration": 1869,
    "start_time": "2023-10-27T17:57:22.862Z"
   },
   {
    "duration": 2324,
    "start_time": "2023-10-27T17:57:27.486Z"
   },
   {
    "duration": 2355,
    "start_time": "2023-10-27T17:58:24.181Z"
   },
   {
    "duration": 2165,
    "start_time": "2023-10-27T18:02:29.444Z"
   },
   {
    "duration": 2454,
    "start_time": "2023-10-27T18:02:41.494Z"
   },
   {
    "duration": 2886,
    "start_time": "2023-10-27T18:06:19.869Z"
   },
   {
    "duration": 2308,
    "start_time": "2023-10-27T18:06:36.548Z"
   },
   {
    "duration": 2138,
    "start_time": "2023-10-27T18:12:38.399Z"
   },
   {
    "duration": 2319,
    "start_time": "2023-10-27T18:12:44.507Z"
   },
   {
    "duration": 2163,
    "start_time": "2023-10-27T18:16:20.339Z"
   },
   {
    "duration": 2224,
    "start_time": "2023-10-27T18:16:28.162Z"
   },
   {
    "duration": 2151,
    "start_time": "2023-10-27T18:16:38.634Z"
   },
   {
    "duration": 2,
    "start_time": "2023-10-27T18:31:35.129Z"
   },
   {
    "duration": 5,
    "start_time": "2023-10-27T18:31:45.729Z"
   },
   {
    "duration": 5,
    "start_time": "2023-10-27T18:32:27.433Z"
   },
   {
    "duration": 3,
    "start_time": "2023-10-27T18:32:56.129Z"
   },
   {
    "duration": 5,
    "start_time": "2023-10-27T18:33:08.681Z"
   },
   {
    "duration": 5,
    "start_time": "2023-10-27T18:33:19.313Z"
   },
   {
    "duration": 5,
    "start_time": "2023-10-27T18:33:23.045Z"
   },
   {
    "duration": 5,
    "start_time": "2023-10-27T18:33:25.865Z"
   },
   {
    "duration": 4,
    "start_time": "2023-10-27T18:33:30.257Z"
   },
   {
    "duration": 9,
    "start_time": "2023-10-27T18:35:13.697Z"
   },
   {
    "duration": 5,
    "start_time": "2023-10-27T18:35:28.425Z"
   },
   {
    "duration": 3,
    "start_time": "2023-10-27T18:38:32.155Z"
   },
   {
    "duration": 11,
    "start_time": "2023-10-27T18:39:04.969Z"
   },
   {
    "duration": 4,
    "start_time": "2023-10-27T18:39:24.321Z"
   },
   {
    "duration": 2715,
    "start_time": "2023-10-27T18:39:28.521Z"
   },
   {
    "duration": 4,
    "start_time": "2023-10-27T18:40:51.377Z"
   },
   {
    "duration": 346,
    "start_time": "2023-10-27T18:41:09.401Z"
   },
   {
    "duration": 77301,
    "start_time": "2023-10-27T18:41:22.245Z"
   },
   {
    "duration": 6,
    "start_time": "2023-10-27T18:52:30.103Z"
   },
   {
    "duration": 6,
    "start_time": "2023-10-27T18:52:34.958Z"
   },
   {
    "duration": 5,
    "start_time": "2023-10-27T18:59:09.963Z"
   },
   {
    "duration": 4,
    "start_time": "2023-10-27T19:12:12.199Z"
   },
   {
    "duration": 5,
    "start_time": "2023-10-27T19:12:31.710Z"
   },
   {
    "duration": 5,
    "start_time": "2023-10-27T19:12:37.080Z"
   },
   {
    "duration": 7,
    "start_time": "2023-10-27T19:12:42.543Z"
   },
   {
    "duration": 4,
    "start_time": "2023-10-27T19:12:48.694Z"
   },
   {
    "duration": 6,
    "start_time": "2023-10-27T19:12:52.990Z"
   },
   {
    "duration": 4,
    "start_time": "2023-10-27T19:12:55.726Z"
   },
   {
    "duration": 87,
    "start_time": "2023-10-27T19:13:30.206Z"
   },
   {
    "duration": 1152,
    "start_time": "2023-10-27T19:13:55.170Z"
   },
   {
    "duration": 224,
    "start_time": "2023-10-27T19:13:56.325Z"
   },
   {
    "duration": 30,
    "start_time": "2023-10-27T19:13:56.551Z"
   },
   {
    "duration": 29,
    "start_time": "2023-10-27T19:13:56.582Z"
   },
   {
    "duration": 41,
    "start_time": "2023-10-27T19:13:56.612Z"
   },
   {
    "duration": 3,
    "start_time": "2023-10-27T19:13:56.654Z"
   },
   {
    "duration": 31,
    "start_time": "2023-10-27T19:13:56.658Z"
   },
   {
    "duration": 24,
    "start_time": "2023-10-27T19:13:56.690Z"
   },
   {
    "duration": 41,
    "start_time": "2023-10-27T19:13:56.716Z"
   },
   {
    "duration": 7,
    "start_time": "2023-10-27T19:13:56.759Z"
   },
   {
    "duration": 12,
    "start_time": "2023-10-27T19:13:56.767Z"
   },
   {
    "duration": 20,
    "start_time": "2023-10-27T19:13:56.781Z"
   },
   {
    "duration": 216,
    "start_time": "2023-10-27T19:13:56.802Z"
   },
   {
    "duration": 5,
    "start_time": "2023-10-27T19:13:57.019Z"
   },
   {
    "duration": 109,
    "start_time": "2023-10-27T19:13:57.025Z"
   },
   {
    "duration": 263,
    "start_time": "2023-10-27T19:13:57.135Z"
   },
   {
    "duration": 2,
    "start_time": "2023-10-27T19:13:57.400Z"
   },
   {
    "duration": 5,
    "start_time": "2023-10-27T19:13:57.404Z"
   },
   {
    "duration": 5,
    "start_time": "2023-10-27T19:13:57.410Z"
   },
   {
    "duration": 268,
    "start_time": "2023-10-27T19:13:57.417Z"
   },
   {
    "duration": 6,
    "start_time": "2023-10-27T19:13:57.686Z"
   },
   {
    "duration": 3,
    "start_time": "2023-10-27T19:13:57.694Z"
   },
   {
    "duration": 312,
    "start_time": "2023-10-27T19:13:57.699Z"
   },
   {
    "duration": 279,
    "start_time": "2023-10-27T19:13:58.012Z"
   },
   {
    "duration": 454,
    "start_time": "2023-10-27T19:13:58.292Z"
   },
   {
    "duration": 22,
    "start_time": "2023-10-27T19:13:58.747Z"
   },
   {
    "duration": 7,
    "start_time": "2023-10-27T19:13:58.770Z"
   },
   {
    "duration": 13,
    "start_time": "2023-10-27T19:13:58.780Z"
   },
   {
    "duration": 249,
    "start_time": "2023-10-27T19:13:58.794Z"
   },
   {
    "duration": 196,
    "start_time": "2023-10-27T19:13:59.044Z"
   },
   {
    "duration": 234,
    "start_time": "2023-10-27T19:13:59.241Z"
   },
   {
    "duration": 218,
    "start_time": "2023-10-27T19:13:59.477Z"
   },
   {
    "duration": 522,
    "start_time": "2023-10-27T19:13:59.697Z"
   },
   {
    "duration": 468,
    "start_time": "2023-10-27T19:14:00.222Z"
   },
   {
    "duration": 61,
    "start_time": "2023-10-27T19:14:00.692Z"
   },
   {
    "duration": 16,
    "start_time": "2023-10-27T19:14:00.755Z"
   },
   {
    "duration": 231,
    "start_time": "2023-10-27T19:14:00.772Z"
   },
   {
    "duration": 4,
    "start_time": "2023-10-27T19:14:01.005Z"
   },
   {
    "duration": 44,
    "start_time": "2023-10-27T19:14:01.010Z"
   },
   {
    "duration": 35,
    "start_time": "2023-10-27T19:14:01.055Z"
   },
   {
    "duration": 30,
    "start_time": "2023-10-27T19:14:01.092Z"
   },
   {
    "duration": 95,
    "start_time": "2023-10-27T19:14:01.124Z"
   },
   {
    "duration": 59,
    "start_time": "2023-10-27T19:14:01.221Z"
   },
   {
    "duration": 28,
    "start_time": "2023-10-27T19:14:01.282Z"
   },
   {
    "duration": 2295,
    "start_time": "2023-10-27T19:14:01.312Z"
   },
   {
    "duration": 82555,
    "start_time": "2023-10-27T19:14:03.609Z"
   },
   {
    "duration": 5,
    "start_time": "2023-10-27T19:15:26.165Z"
   },
   {
    "duration": 1244,
    "start_time": "2023-10-28T12:37:14.537Z"
   },
   {
    "duration": 294,
    "start_time": "2023-10-28T12:37:15.783Z"
   },
   {
    "duration": 40,
    "start_time": "2023-10-28T12:37:16.079Z"
   },
   {
    "duration": 39,
    "start_time": "2023-10-28T12:37:16.122Z"
   },
   {
    "duration": 59,
    "start_time": "2023-10-28T12:37:16.163Z"
   },
   {
    "duration": 6,
    "start_time": "2023-10-28T12:37:16.224Z"
   },
   {
    "duration": 12,
    "start_time": "2023-10-28T12:37:16.232Z"
   },
   {
    "duration": 10,
    "start_time": "2023-10-28T12:37:16.246Z"
   },
   {
    "duration": 77,
    "start_time": "2023-10-28T12:37:16.259Z"
   },
   {
    "duration": 11,
    "start_time": "2023-10-28T12:37:16.340Z"
   },
   {
    "duration": 11,
    "start_time": "2023-10-28T12:37:16.354Z"
   },
   {
    "duration": 40,
    "start_time": "2023-10-28T12:37:16.368Z"
   },
   {
    "duration": 232,
    "start_time": "2023-10-28T12:37:16.409Z"
   },
   {
    "duration": 7,
    "start_time": "2023-10-28T12:37:16.643Z"
   },
   {
    "duration": 136,
    "start_time": "2023-10-28T12:37:16.652Z"
   },
   {
    "duration": 325,
    "start_time": "2023-10-28T12:37:16.791Z"
   },
   {
    "duration": 2,
    "start_time": "2023-10-28T12:37:17.118Z"
   },
   {
    "duration": 46,
    "start_time": "2023-10-28T12:37:17.122Z"
   },
   {
    "duration": 35,
    "start_time": "2023-10-28T12:37:17.171Z"
   },
   {
    "duration": 393,
    "start_time": "2023-10-28T12:37:17.208Z"
   },
   {
    "duration": 8,
    "start_time": "2023-10-28T12:37:17.606Z"
   },
   {
    "duration": 9,
    "start_time": "2023-10-28T12:37:17.616Z"
   },
   {
    "duration": 451,
    "start_time": "2023-10-28T12:37:17.627Z"
   },
   {
    "duration": 325,
    "start_time": "2023-10-28T12:37:18.080Z"
   },
   {
    "duration": 561,
    "start_time": "2023-10-28T12:37:18.407Z"
   },
   {
    "duration": 40,
    "start_time": "2023-10-28T12:37:18.969Z"
   },
   {
    "duration": 13,
    "start_time": "2023-10-28T12:37:19.011Z"
   },
   {
    "duration": 32,
    "start_time": "2023-10-28T12:37:19.029Z"
   },
   {
    "duration": 301,
    "start_time": "2023-10-28T12:37:19.063Z"
   },
   {
    "duration": 288,
    "start_time": "2023-10-28T12:37:19.366Z"
   },
   {
    "duration": 278,
    "start_time": "2023-10-28T12:37:19.656Z"
   },
   {
    "duration": 269,
    "start_time": "2023-10-28T12:37:19.937Z"
   },
   {
    "duration": 604,
    "start_time": "2023-10-28T12:37:20.208Z"
   },
   {
    "duration": 593,
    "start_time": "2023-10-28T12:37:20.814Z"
   },
   {
    "duration": 51,
    "start_time": "2023-10-28T12:37:21.409Z"
   },
   {
    "duration": 8,
    "start_time": "2023-10-28T12:37:21.462Z"
   },
   {
    "duration": 388,
    "start_time": "2023-10-28T12:37:21.471Z"
   },
   {
    "duration": 8,
    "start_time": "2023-10-28T12:37:21.862Z"
   },
   {
    "duration": 35,
    "start_time": "2023-10-28T12:37:21.871Z"
   },
   {
    "duration": 40,
    "start_time": "2023-10-28T12:37:21.908Z"
   },
   {
    "duration": 31,
    "start_time": "2023-10-28T12:37:21.950Z"
   },
   {
    "duration": 32,
    "start_time": "2023-10-28T12:37:21.983Z"
   },
   {
    "duration": 23,
    "start_time": "2023-10-28T12:37:22.018Z"
   },
   {
    "duration": 18,
    "start_time": "2023-10-28T12:37:22.043Z"
   },
   {
    "duration": 6283,
    "start_time": "2023-10-28T12:37:22.063Z"
   },
   {
    "duration": 96054,
    "start_time": "2023-10-28T12:37:28.348Z"
   },
   {
    "duration": 8,
    "start_time": "2023-10-28T12:39:04.408Z"
   },
   {
    "duration": 595,
    "start_time": "2023-10-28T12:42:53.358Z"
   },
   {
    "duration": 534,
    "start_time": "2023-10-28T12:43:08.036Z"
   },
   {
    "duration": 770,
    "start_time": "2023-10-28T12:43:21.709Z"
   },
   {
    "duration": 617,
    "start_time": "2023-10-28T12:43:37.837Z"
   },
   {
    "duration": 97,
    "start_time": "2023-10-28T12:44:04.549Z"
   },
   {
    "duration": 305,
    "start_time": "2023-10-28T12:44:07.423Z"
   },
   {
    "duration": 119,
    "start_time": "2023-10-28T12:44:17.566Z"
   },
   {
    "duration": 126,
    "start_time": "2023-10-28T12:45:00.182Z"
   },
   {
    "duration": 117,
    "start_time": "2023-10-28T12:45:24.032Z"
   },
   {
    "duration": 527,
    "start_time": "2023-10-28T12:45:52.033Z"
   },
   {
    "duration": 430,
    "start_time": "2023-10-28T12:46:00.494Z"
   },
   {
    "duration": 398,
    "start_time": "2023-10-28T12:46:24.011Z"
   },
   {
    "duration": 9,
    "start_time": "2023-10-28T12:48:06.493Z"
   },
   {
    "duration": 1298,
    "start_time": "2023-10-28T12:54:27.174Z"
   },
   {
    "duration": 227,
    "start_time": "2023-10-28T12:54:28.474Z"
   },
   {
    "duration": 35,
    "start_time": "2023-10-28T12:54:28.703Z"
   },
   {
    "duration": 34,
    "start_time": "2023-10-28T12:54:28.739Z"
   },
   {
    "duration": 55,
    "start_time": "2023-10-28T12:54:28.776Z"
   },
   {
    "duration": 15,
    "start_time": "2023-10-28T12:54:28.833Z"
   },
   {
    "duration": 16,
    "start_time": "2023-10-28T12:54:28.850Z"
   },
   {
    "duration": 16,
    "start_time": "2023-10-28T12:54:28.868Z"
   },
   {
    "duration": 61,
    "start_time": "2023-10-28T12:54:28.885Z"
   },
   {
    "duration": 9,
    "start_time": "2023-10-28T12:54:28.947Z"
   },
   {
    "duration": 10,
    "start_time": "2023-10-28T12:54:28.957Z"
   },
   {
    "duration": 12,
    "start_time": "2023-10-28T12:54:28.968Z"
   },
   {
    "duration": 258,
    "start_time": "2023-10-28T12:54:29.008Z"
   },
   {
    "duration": 17,
    "start_time": "2023-10-28T12:54:29.270Z"
   },
   {
    "duration": 157,
    "start_time": "2023-10-28T12:54:29.289Z"
   },
   {
    "duration": 387,
    "start_time": "2023-10-28T12:54:29.449Z"
   },
   {
    "duration": 3,
    "start_time": "2023-10-28T12:54:29.838Z"
   },
   {
    "duration": 77,
    "start_time": "2023-10-28T12:54:29.842Z"
   },
   {
    "duration": 14,
    "start_time": "2023-10-28T12:54:29.921Z"
   },
   {
    "duration": 330,
    "start_time": "2023-10-28T12:54:29.937Z"
   },
   {
    "duration": 6,
    "start_time": "2023-10-28T12:54:30.269Z"
   },
   {
    "duration": 67,
    "start_time": "2023-10-28T12:54:30.276Z"
   },
   {
    "duration": 470,
    "start_time": "2023-10-28T12:54:30.345Z"
   },
   {
    "duration": 319,
    "start_time": "2023-10-28T12:54:30.817Z"
   },
   {
    "duration": 593,
    "start_time": "2023-10-28T12:54:31.138Z"
   },
   {
    "duration": 26,
    "start_time": "2023-10-28T12:54:31.733Z"
   },
   {
    "duration": 69,
    "start_time": "2023-10-28T12:54:31.762Z"
   },
   {
    "duration": 84,
    "start_time": "2023-10-28T12:54:31.833Z"
   },
   {
    "duration": 359,
    "start_time": "2023-10-28T12:54:31.919Z"
   },
   {
    "duration": 227,
    "start_time": "2023-10-28T12:54:32.280Z"
   },
   {
    "duration": 285,
    "start_time": "2023-10-28T12:54:32.509Z"
   },
   {
    "duration": 230,
    "start_time": "2023-10-28T12:54:32.796Z"
   },
   {
    "duration": 649,
    "start_time": "2023-10-28T12:54:33.028Z"
   },
   {
    "duration": 420,
    "start_time": "2023-10-28T12:54:33.679Z"
   },
   {
    "duration": 528,
    "start_time": "2023-10-28T12:54:34.107Z"
   },
   {
    "duration": 38,
    "start_time": "2023-10-28T12:54:34.637Z"
   },
   {
    "duration": 32,
    "start_time": "2023-10-28T12:54:34.677Z"
   },
   {
    "duration": 212,
    "start_time": "2023-10-28T12:54:34.711Z"
   },
   {
    "duration": 4,
    "start_time": "2023-10-28T12:54:34.925Z"
   },
   {
    "duration": 24,
    "start_time": "2023-10-28T12:54:34.931Z"
   },
   {
    "duration": 12,
    "start_time": "2023-10-28T12:54:34.960Z"
   },
   {
    "duration": 8,
    "start_time": "2023-10-28T12:54:34.974Z"
   },
   {
    "duration": 34,
    "start_time": "2023-10-28T12:54:34.983Z"
   },
   {
    "duration": 13,
    "start_time": "2023-10-28T12:54:35.018Z"
   },
   {
    "duration": 35,
    "start_time": "2023-10-28T12:54:35.033Z"
   },
   {
    "duration": 37,
    "start_time": "2023-10-28T12:54:35.070Z"
   },
   {
    "duration": 2757,
    "start_time": "2023-10-28T12:54:35.109Z"
   },
   {
    "duration": 79776,
    "start_time": "2023-10-28T12:54:37.869Z"
   },
   {
    "duration": 0,
    "start_time": "2023-10-28T12:55:57.648Z"
   },
   {
    "duration": 0,
    "start_time": "2023-10-28T12:55:57.649Z"
   },
   {
    "duration": 0,
    "start_time": "2023-10-28T12:55:57.651Z"
   },
   {
    "duration": 0,
    "start_time": "2023-10-28T12:55:57.653Z"
   },
   {
    "duration": 0,
    "start_time": "2023-10-28T12:55:57.655Z"
   },
   {
    "duration": 0,
    "start_time": "2023-10-28T12:55:57.657Z"
   },
   {
    "duration": 5,
    "start_time": "2023-10-28T12:56:01.066Z"
   },
   {
    "duration": 7,
    "start_time": "2023-10-28T12:56:02.728Z"
   },
   {
    "duration": 6,
    "start_time": "2023-10-28T12:56:05.682Z"
   },
   {
    "duration": 22,
    "start_time": "2023-10-28T12:56:06.174Z"
   },
   {
    "duration": 20,
    "start_time": "2023-10-28T12:56:06.401Z"
   },
   {
    "duration": 18,
    "start_time": "2023-10-28T12:56:06.616Z"
   },
   {
    "duration": 19,
    "start_time": "2023-10-28T12:56:06.961Z"
   },
   {
    "duration": 1143,
    "start_time": "2024-01-24T12:39:04.061Z"
   },
   {
    "duration": 443,
    "start_time": "2024-01-24T12:39:05.206Z"
   },
   {
    "duration": 30,
    "start_time": "2024-01-24T12:39:05.650Z"
   },
   {
    "duration": 30,
    "start_time": "2024-01-24T12:39:05.682Z"
   },
   {
    "duration": 25,
    "start_time": "2024-01-24T12:39:05.713Z"
   },
   {
    "duration": 4,
    "start_time": "2024-01-24T12:39:05.740Z"
   },
   {
    "duration": 7,
    "start_time": "2024-01-24T12:39:05.746Z"
   },
   {
    "duration": 23,
    "start_time": "2024-01-24T12:39:05.755Z"
   },
   {
    "duration": 60,
    "start_time": "2024-01-24T12:39:05.779Z"
   },
   {
    "duration": 8,
    "start_time": "2024-01-24T12:39:05.841Z"
   },
   {
    "duration": 20,
    "start_time": "2024-01-24T12:39:05.850Z"
   },
   {
    "duration": 14,
    "start_time": "2024-01-24T12:39:05.871Z"
   },
   {
    "duration": 217,
    "start_time": "2024-01-24T12:39:05.886Z"
   },
   {
    "duration": 5,
    "start_time": "2024-01-24T12:39:06.105Z"
   },
   {
    "duration": 106,
    "start_time": "2024-01-24T12:39:06.111Z"
   },
   {
    "duration": 295,
    "start_time": "2024-01-24T12:39:06.218Z"
   },
   {
    "duration": 2,
    "start_time": "2024-01-24T12:39:06.515Z"
   },
   {
    "duration": 51,
    "start_time": "2024-01-24T12:39:06.519Z"
   },
   {
    "duration": 25,
    "start_time": "2024-01-24T12:39:06.572Z"
   },
   {
    "duration": 277,
    "start_time": "2024-01-24T12:39:06.598Z"
   },
   {
    "duration": 5,
    "start_time": "2024-01-24T12:39:06.877Z"
   },
   {
    "duration": 17,
    "start_time": "2024-01-24T12:39:06.884Z"
   },
   {
    "duration": 345,
    "start_time": "2024-01-24T12:39:06.902Z"
   },
   {
    "duration": 278,
    "start_time": "2024-01-24T12:39:07.248Z"
   },
   {
    "duration": 521,
    "start_time": "2024-01-24T12:39:07.528Z"
   },
   {
    "duration": 23,
    "start_time": "2024-01-24T12:39:08.051Z"
   },
   {
    "duration": 50,
    "start_time": "2024-01-24T12:39:08.076Z"
   },
   {
    "duration": 38,
    "start_time": "2024-01-24T12:39:08.131Z"
   },
   {
    "duration": 254,
    "start_time": "2024-01-24T12:39:08.171Z"
   },
   {
    "duration": 208,
    "start_time": "2024-01-24T12:39:08.427Z"
   },
   {
    "duration": 244,
    "start_time": "2024-01-24T12:39:08.636Z"
   },
   {
    "duration": 235,
    "start_time": "2024-01-24T12:39:08.881Z"
   },
   {
    "duration": 552,
    "start_time": "2024-01-24T12:39:09.118Z"
   },
   {
    "duration": 404,
    "start_time": "2024-01-24T12:39:09.671Z"
   },
   {
    "duration": 479,
    "start_time": "2024-01-24T12:39:10.076Z"
   },
   {
    "duration": 45,
    "start_time": "2024-01-24T12:39:10.557Z"
   },
   {
    "duration": 5,
    "start_time": "2024-01-24T12:39:10.604Z"
   },
   {
    "duration": 212,
    "start_time": "2024-01-24T12:39:10.610Z"
   },
   {
    "duration": 4,
    "start_time": "2024-01-24T12:39:10.823Z"
   },
   {
    "duration": 8,
    "start_time": "2024-01-24T12:39:10.828Z"
   },
   {
    "duration": 8,
    "start_time": "2024-01-24T12:39:10.838Z"
   },
   {
    "duration": 38,
    "start_time": "2024-01-24T12:39:10.848Z"
   },
   {
    "duration": 17,
    "start_time": "2024-01-24T12:39:10.887Z"
   },
   {
    "duration": 26,
    "start_time": "2024-01-24T12:39:10.905Z"
   },
   {
    "duration": 19,
    "start_time": "2024-01-24T12:39:10.933Z"
   },
   {
    "duration": 5,
    "start_time": "2024-01-24T12:39:10.953Z"
   },
   {
    "duration": 2488,
    "start_time": "2024-01-24T12:39:10.959Z"
   },
   {
    "duration": 3,
    "start_time": "2024-01-24T12:39:13.449Z"
   },
   {
    "duration": 51,
    "start_time": "2024-01-24T12:39:13.454Z"
   },
   {
    "duration": 49,
    "start_time": "2024-01-24T12:39:13.507Z"
   },
   {
    "duration": 39,
    "start_time": "2024-01-24T12:39:13.558Z"
   },
   {
    "duration": 32,
    "start_time": "2024-01-24T12:39:13.599Z"
   },
   {
    "duration": 40,
    "start_time": "2024-01-24T12:39:13.633Z"
   },
   {
    "duration": 35,
    "start_time": "2024-01-24T12:39:13.674Z"
   },
   {
    "duration": 1181,
    "start_time": "2024-01-24T12:42:52.366Z"
   },
   {
    "duration": 249,
    "start_time": "2024-01-24T12:42:53.548Z"
   },
   {
    "duration": 30,
    "start_time": "2024-01-24T12:42:53.798Z"
   },
   {
    "duration": 41,
    "start_time": "2024-01-24T12:42:53.830Z"
   },
   {
    "duration": 50,
    "start_time": "2024-01-24T12:42:53.873Z"
   },
   {
    "duration": 5,
    "start_time": "2024-01-24T12:42:53.925Z"
   },
   {
    "duration": 19,
    "start_time": "2024-01-24T12:42:53.931Z"
   },
   {
    "duration": 31,
    "start_time": "2024-01-24T12:42:53.952Z"
   },
   {
    "duration": 71,
    "start_time": "2024-01-24T12:42:53.984Z"
   },
   {
    "duration": 8,
    "start_time": "2024-01-24T12:42:54.057Z"
   },
   {
    "duration": 21,
    "start_time": "2024-01-24T12:42:54.066Z"
   },
   {
    "duration": 31,
    "start_time": "2024-01-24T12:42:54.088Z"
   },
   {
    "duration": 223,
    "start_time": "2024-01-24T12:42:54.120Z"
   },
   {
    "duration": 6,
    "start_time": "2024-01-24T12:42:54.344Z"
   },
   {
    "duration": 125,
    "start_time": "2024-01-24T12:42:54.351Z"
   },
   {
    "duration": 304,
    "start_time": "2024-01-24T12:42:54.478Z"
   },
   {
    "duration": 285,
    "start_time": "2024-01-24T12:42:54.784Z"
   },
   {
    "duration": 5,
    "start_time": "2024-01-24T12:42:55.071Z"
   },
   {
    "duration": 18,
    "start_time": "2024-01-24T12:42:55.077Z"
   },
   {
    "duration": 346,
    "start_time": "2024-01-24T12:42:55.096Z"
   },
   {
    "duration": 277,
    "start_time": "2024-01-24T12:42:55.443Z"
   },
   {
    "duration": 531,
    "start_time": "2024-01-24T12:42:55.721Z"
   },
   {
    "duration": 24,
    "start_time": "2024-01-24T12:42:56.253Z"
   },
   {
    "duration": 77,
    "start_time": "2024-01-24T12:42:56.279Z"
   },
   {
    "duration": 39,
    "start_time": "2024-01-24T12:42:56.358Z"
   },
   {
    "duration": 266,
    "start_time": "2024-01-24T12:42:56.398Z"
   },
   {
    "duration": 259,
    "start_time": "2024-01-24T12:42:56.666Z"
   },
   {
    "duration": 252,
    "start_time": "2024-01-24T12:42:56.928Z"
   },
   {
    "duration": 249,
    "start_time": "2024-01-24T12:42:57.182Z"
   },
   {
    "duration": 689,
    "start_time": "2024-01-24T12:42:57.433Z"
   },
   {
    "duration": 393,
    "start_time": "2024-01-24T12:42:58.123Z"
   },
   {
    "duration": 511,
    "start_time": "2024-01-24T12:42:58.518Z"
   },
   {
    "duration": 43,
    "start_time": "2024-01-24T12:42:59.030Z"
   },
   {
    "duration": 6,
    "start_time": "2024-01-24T12:42:59.074Z"
   },
   {
    "duration": 224,
    "start_time": "2024-01-24T12:42:59.094Z"
   },
   {
    "duration": 5,
    "start_time": "2024-01-24T12:42:59.320Z"
   },
   {
    "duration": 10,
    "start_time": "2024-01-24T12:42:59.326Z"
   },
   {
    "duration": 6,
    "start_time": "2024-01-24T12:42:59.337Z"
   },
   {
    "duration": 8,
    "start_time": "2024-01-24T12:42:59.345Z"
   },
   {
    "duration": 8,
    "start_time": "2024-01-24T12:42:59.355Z"
   },
   {
    "duration": 29,
    "start_time": "2024-01-24T12:42:59.365Z"
   },
   {
    "duration": 11,
    "start_time": "2024-01-24T12:42:59.396Z"
   },
   {
    "duration": 6,
    "start_time": "2024-01-24T12:42:59.409Z"
   },
   {
    "duration": 2563,
    "start_time": "2024-01-24T12:42:59.416Z"
   },
   {
    "duration": 5,
    "start_time": "2024-01-24T12:43:01.981Z"
   },
   {
    "duration": 1154,
    "start_time": "2024-01-24T12:50:34.459Z"
   },
   {
    "duration": 264,
    "start_time": "2024-01-24T12:50:35.615Z"
   },
   {
    "duration": 47,
    "start_time": "2024-01-24T12:50:35.886Z"
   },
   {
    "duration": 39,
    "start_time": "2024-01-24T12:50:35.935Z"
   },
   {
    "duration": 44,
    "start_time": "2024-01-24T12:50:35.976Z"
   },
   {
    "duration": 38,
    "start_time": "2024-01-24T12:50:36.022Z"
   },
   {
    "duration": 50,
    "start_time": "2024-01-24T12:50:36.061Z"
   },
   {
    "duration": 94,
    "start_time": "2024-01-24T12:50:36.113Z"
   },
   {
    "duration": 77,
    "start_time": "2024-01-24T12:50:36.210Z"
   },
   {
    "duration": 11,
    "start_time": "2024-01-24T12:50:36.289Z"
   },
   {
    "duration": 19,
    "start_time": "2024-01-24T12:50:36.302Z"
   },
   {
    "duration": 31,
    "start_time": "2024-01-24T12:50:36.322Z"
   },
   {
    "duration": 236,
    "start_time": "2024-01-24T12:50:36.355Z"
   },
   {
    "duration": 9,
    "start_time": "2024-01-24T12:50:36.593Z"
   },
   {
    "duration": 123,
    "start_time": "2024-01-24T12:50:36.604Z"
   },
   {
    "duration": 343,
    "start_time": "2024-01-24T12:50:36.729Z"
   },
   {
    "duration": 316,
    "start_time": "2024-01-24T12:50:37.073Z"
   },
   {
    "duration": 8,
    "start_time": "2024-01-24T12:50:37.393Z"
   },
   {
    "duration": 385,
    "start_time": "2024-01-24T12:50:37.404Z"
   },
   {
    "duration": 310,
    "start_time": "2024-01-24T12:50:37.794Z"
   },
   {
    "duration": 578,
    "start_time": "2024-01-24T12:50:38.106Z"
   },
   {
    "duration": 36,
    "start_time": "2024-01-24T12:50:38.686Z"
   },
   {
    "duration": 16,
    "start_time": "2024-01-24T12:50:38.724Z"
   },
   {
    "duration": 23,
    "start_time": "2024-01-24T12:50:38.742Z"
   },
   {
    "duration": 284,
    "start_time": "2024-01-24T12:50:38.766Z"
   },
   {
    "duration": 227,
    "start_time": "2024-01-24T12:50:39.052Z"
   },
   {
    "duration": 279,
    "start_time": "2024-01-24T12:50:39.282Z"
   },
   {
    "duration": 251,
    "start_time": "2024-01-24T12:50:39.563Z"
   },
   {
    "duration": 617,
    "start_time": "2024-01-24T12:50:39.815Z"
   },
   {
    "duration": 438,
    "start_time": "2024-01-24T12:50:40.433Z"
   },
   {
    "duration": 575,
    "start_time": "2024-01-24T12:50:40.873Z"
   },
   {
    "duration": 49,
    "start_time": "2024-01-24T12:50:41.450Z"
   },
   {
    "duration": 8,
    "start_time": "2024-01-24T12:50:41.501Z"
   },
   {
    "duration": 237,
    "start_time": "2024-01-24T12:50:41.511Z"
   },
   {
    "duration": 4,
    "start_time": "2024-01-24T12:50:41.750Z"
   },
   {
    "duration": 18,
    "start_time": "2024-01-24T12:50:41.755Z"
   },
   {
    "duration": 18,
    "start_time": "2024-01-24T12:50:41.774Z"
   },
   {
    "duration": 18,
    "start_time": "2024-01-24T12:50:41.793Z"
   },
   {
    "duration": 19,
    "start_time": "2024-01-24T12:50:41.813Z"
   },
   {
    "duration": 9,
    "start_time": "2024-01-24T12:50:41.833Z"
   },
   {
    "duration": 11,
    "start_time": "2024-01-24T12:50:41.844Z"
   },
   {
    "duration": 5,
    "start_time": "2024-01-24T12:50:41.856Z"
   },
   {
    "duration": 2577,
    "start_time": "2024-01-24T12:50:41.863Z"
   },
   {
    "duration": 5,
    "start_time": "2024-01-24T12:50:44.441Z"
   }
  ],
  "kernelspec": {
   "display_name": "Python 3 (ipykernel)",
   "language": "python",
   "name": "python3"
  },
  "language_info": {
   "codemirror_mode": {
    "name": "ipython",
    "version": 3
   },
   "file_extension": ".py",
   "mimetype": "text/x-python",
   "name": "python",
   "nbconvert_exporter": "python",
   "pygments_lexer": "ipython3",
   "version": "3.9.5"
  },
  "toc": {
   "base_numbering": 1,
   "nav_menu": {
    "height": "237px",
    "width": "273px"
   },
   "number_sections": true,
   "sideBar": true,
   "skip_h1_title": true,
   "title_cell": "Содержание",
   "title_sidebar": "Contents",
   "toc_cell": true,
   "toc_position": {
    "height": "calc(100% - 180px)",
    "left": "10px",
    "top": "150px",
    "width": "371px"
   },
   "toc_section_display": true,
   "toc_window_display": true
  }
 },
 "nbformat": 4,
 "nbformat_minor": 5
}
